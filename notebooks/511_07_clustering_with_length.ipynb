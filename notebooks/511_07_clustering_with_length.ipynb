{
 "cells": [
  {
   "cell_type": "markdown",
   "metadata": {},
   "source": [
    "# 511 Clustering Analysis with dataset having Length\n",
    "\n",
    "### This notebook contains the clustering model and performance testing on the dataset of 511 work zone events. Data and features used in this clustering model can be created by running notebooks 511_00 through 511_04. "
   ]
  },
  {
   "cell_type": "code",
   "execution_count": 1,
   "metadata": {},
   "outputs": [
    {
     "name": "stderr",
     "output_type": "stream",
     "text": [
      "C:\\Users\\ps336\\Anaconda3\\envs\\Python37\\lib\\site-packages\\statsmodels\\tools\\_testing.py:19: FutureWarning: pandas.util.testing is deprecated. Use the functions in the public API at pandas.testing instead.\n",
      "  import pandas.util.testing as tm\n"
     ]
    }
   ],
   "source": [
    "import pandas as pd\n",
    "import geopandas as gpd\n",
    "import numpy as np\n",
    "import matplotlib.pyplot as plt\n",
    "import seaborn as sns\n",
    "# from tabulate import tabulate\n",
    "import matplotlib.pyplot as plt\n",
    "import matplotlib.cm as cm\n",
    "%matplotlib inline\n",
    "from sklearn.cluster import KMeans\n",
    "from sklearn.metrics import silhouette_samples, silhouette_score\n",
    "import seaborn as sns\n",
    "sns.set()\n",
    "from sklearn.preprocessing import MinMaxScaler\n",
    "min_max_scaler = MinMaxScaler()\n",
    "from sklearn.model_selection import train_test_split\n",
    "from sklearn.metrics import mean_absolute_error\n",
    "\n",
    "\n",
    "# import dataset\n",
    "df_511 = pd.read_csv('../data/cleaned_data/511_crash_lion_processed_0630.csv')\n",
    "df_511 = df_511.dropna()\n",
    "df_511['crash_binary_900ft'] =  df_511['crash_count_900ft'].apply(lambda x: 1 if x>0 else 0)\n",
    "df_511['crash_binary_1800ft'] = df_511['crash_count_1800ft'].apply(lambda x: 1 if x>0 else 0)\n",
    "df_511['crash_binary_2700ft'] = df_511['crash_count_2700ft'].apply(lambda x: 1 if x>0 else 0)\n",
    "df_511['crash_binary_3600ft'] = df_511['crash_count_3600ft'].apply(lambda x: 1 if x>0 else 0)\n",
    "df_511['create_time'] = pd.to_datetime(df_511['create_time'])\n",
    "df_511 = df_511.sort_values(by='create_time')\n",
    "df_511_target = df_511[['event_id',\n",
    "                        'season',\n",
    "                        'roadway_type',\n",
    "                        'create_time_weekend',\n",
    "                        'street_width',\n",
    "                        'posted_speed',\n",
    "                        'daylight_ratio',\n",
    "                        'peak_ratio',\n",
    "                        'crash_binary_900ft',\n",
    "                        'crash_binary_1800ft',\n",
    "                        'crash_binary_2700ft',\n",
    "                        'crash_binary_3600ft',\n",
    "                        'geometry'\n",
    "                         ]]"
   ]
  },
  {
   "cell_type": "code",
   "execution_count": 2,
   "metadata": {},
   "outputs": [],
   "source": [
    "def split_train_test_setbaseLineScore(df):\n",
    "    from sklearn.model_selection import train_test_split\n",
    "    train, test = train_test_split(df, test_size=0.33, random_state = 10)\n",
    "    train = train.drop(['geometry'],axis=1)\n",
    "    test = test.drop(['geometry'],axis=1)\n",
    "    \n",
    "    prob_by_rwtype = train[['roadway_type',\n",
    "                        'crash_binary_900ft',\n",
    "                        'crash_binary_1800ft',\n",
    "                        'crash_binary_2700ft',\n",
    "                        'crash_binary_3600ft']].groupby('roadway_type').mean()\n",
    "    print(prob_by_rwtype.to_markdown())\n",
    "    test_df = test.copy()\n",
    "    test_df['y_pred'] = test_df['roadway_type'].apply(lambda x:prob_by_rwtype.loc[x,'crash_binary_900ft'])\n",
    "    \n",
    "    # calculating actual value in test data\n",
    "    prob_by_rwtype_test = test_df[['roadway_type',\n",
    "                            'crash_binary_900ft',\n",
    "                            'crash_binary_1800ft',\n",
    "                            'crash_binary_2700ft',\n",
    "                            'crash_binary_3600ft']].groupby('roadway_type').mean()\n",
    "    test_df['y_actual'] = test_df['roadway_type'].apply(lambda x:prob_by_rwtype_test.loc[x,'crash_binary_900ft'])\n",
    "    \n",
    "    # this code is from https://stackoverflow.com/questions/51439892/how-to-find-symmetric-mean-absolute-error-in-python\n",
    "    # smape: https://en.wikipedia.org/wiki/Symmetric_mean_absolute_percentage_error\n",
    "    def smape(A, F):\n",
    "        return 100/len(A) * np.sum(2 * np.abs(F - A) / (np.abs(A) + np.abs(F)))\n",
    "    \n",
    "    smape_score = smape(test_df['y_pred'],test_df['y_actual'])\n",
    "    mae_score = mean_absolute_error(test_df['y_pred'],test_df['y_actual'])\n",
    "    print('900ft')\n",
    "    print('SMAPE score: {}'.format(smape(test_df['y_pred'],test_df['y_actual'])))\n",
    "    print('MAE score: {}'.format(mean_absolute_error(test_df['y_pred'],test_df['y_actual']))) \n",
    "    \n",
    "    return train, test, smape_score, mae_score"
   ]
  },
  {
   "cell_type": "code",
   "execution_count": 3,
   "metadata": {},
   "outputs": [],
   "source": [
    "def cluster_analysis_measure_performance(train_with_all_features, numerical_features, categorical_features, index):\n",
    "    \n",
    "    X_train = train_with_all_features.drop(['crash_binary_900ft',\n",
    "                      'crash_binary_1800ft',\n",
    "                      'crash_binary_2700ft',\n",
    "                      'crash_binary_3600ft'], axis=1)\n",
    "    y_train = train_with_all_features.loc[:, ['crash_binary_900ft',\n",
    "                      'crash_binary_1800ft',\n",
    "                      'crash_binary_2700ft',\n",
    "                      'crash_binary_3600ft']]\n",
    "    # only using the train dataset for cluster Analysis\n",
    "    if index:\n",
    "        X_train = X_train.set_index(index)\n",
    "    \n",
    "    train = X_train[numerical_features + categorical_features]\n",
    "    \n",
    "    # normalizing the train dataset\n",
    "    train_norm = train.copy()\n",
    "    \n",
    "    # normalizing Numeric data\n",
    "    column_names_to_normalize = numerical_features\n",
    "    x = train_norm[column_names_to_normalize].values\n",
    "    x_scaled = min_max_scaler.fit_transform(x)\n",
    "    df_temp = pd.DataFrame(x_scaled, columns=column_names_to_normalize, index = train_norm.index)\n",
    "    train_norm[column_names_to_normalize] = df_temp\n",
    "    \n",
    "    #creating dummies for Categorical Variable\n",
    "    train_norm = pd.get_dummies(data=train_norm, columns=categorical_features)\n",
    "    \n",
    "    # K-means Clustering functions\n",
    "    def performKmeansClustering(df):\n",
    "        X = df.copy()\n",
    "        range_n_clusters = [2,3,4,5,6,7]\n",
    "        # algo_name = 'KMeans'\n",
    "        clustering_algo = ['KMeans']\n",
    "        for algo_name in clustering_algo:\n",
    "            plt.figure(figsize=(20,15))\n",
    "            print(\"\\n\")\n",
    "            for i, n_clusters in enumerate(range_n_clusters):\n",
    "\n",
    "                ax = plt.subplot(230 + i +1)\n",
    "\n",
    "                ax.set_xlim([-0.1, 1])\n",
    "                ax.set_ylim([0, len(X) + (n_clusters + 1) * 10])\n",
    "\n",
    "                if algo_name == 'KMeans':\n",
    "                    model = KMeans(n_clusters=n_clusters, random_state=10)\n",
    "\n",
    "                clusterer = model\n",
    "                cluster_labels = clusterer.fit_predict(X)\n",
    "\n",
    "                silhouette_avg = silhouette_score(X, cluster_labels)\n",
    "                print(\"For \" + algo_name + \" n_clusters =\", n_clusters,\n",
    "                      \"The average silhouette_score is :\", silhouette_avg)\n",
    "\n",
    "                sample_silhouette_values = silhouette_samples(X, cluster_labels)\n",
    "\n",
    "                y_lower = 10\n",
    "                for i in range(n_clusters):\n",
    "\n",
    "                    ith_cluster_silhouette_values = \\\n",
    "                        sample_silhouette_values[cluster_labels == i]\n",
    "\n",
    "                    ith_cluster_silhouette_values.sort()\n",
    "\n",
    "                    size_cluster_i = ith_cluster_silhouette_values.shape[0]\n",
    "                    y_upper = y_lower + size_cluster_i\n",
    "\n",
    "                    color = cm.nipy_spectral(float(i) / n_clusters)\n",
    "                    ax.fill_betweenx(np.arange(y_lower, y_upper),\n",
    "                                      0, ith_cluster_silhouette_values,\n",
    "                                      facecolor=color, edgecolor=color, alpha=0.7)\n",
    "\n",
    "                    ax.text(-0.05, y_lower + 0.5 * size_cluster_i, str(i))\n",
    "\n",
    "                    y_lower = y_upper + 10  \n",
    "\n",
    "                ax.set_title((algo_name +  \" clustering \"\n",
    "                              \"with n_clusters = %d\" % n_clusters),\n",
    "                             fontsize=14)\n",
    "                ax.set_xlabel(\"The silhouette coefficient values\")\n",
    "                ax.set_ylabel(\"Cluster label\")\n",
    "\n",
    "                ax.axvline(x=silhouette_avg, color=\"red\", linestyle=\"--\")\n",
    "\n",
    "                ax.set_yticks([])  # Clear the yaxis labels / ticks\n",
    "                ax.set_xticks([-0.1, 0, 0.2, 0.4, 0.6, 0.8, 1])\n",
    "\n",
    "            plt.show()\n",
    "            \n",
    "    performKmeansClustering(train_norm)\n"
   ]
  },
  {
   "cell_type": "code",
   "execution_count": 14,
   "metadata": {},
   "outputs": [],
   "source": [
    "def perform_Clustering_Visualization_Performance_Measurement(train_with_all_features, test, numerical_features, categorical_features, index, no_cluster):\n",
    "    \n",
    "    X_train = train_with_all_features.drop(['crash_binary_900ft',\n",
    "                      'crash_binary_1800ft',\n",
    "                      'crash_binary_2700ft',\n",
    "                      'crash_binary_3600ft'], axis=1)\n",
    "    y_train_norm = train_with_all_features.loc[:, ['crash_binary_900ft',\n",
    "                      'crash_binary_1800ft',\n",
    "                      'crash_binary_2700ft',\n",
    "                      'crash_binary_3600ft']]\n",
    "    \n",
    "    # only using the train dataset for cluster Analysis\n",
    "    if index:\n",
    "        X_train = X_train.set_index(index)\n",
    "    \n",
    "    train = X_train[numerical_features + categorical_features]\n",
    "    \n",
    "    # normalizing the train dataset\n",
    "    train_norm = train.copy()\n",
    "    \n",
    "    # normalizing Numeric data\n",
    "    column_names_to_normalize = numerical_features\n",
    "    x = train_norm[column_names_to_normalize].values\n",
    "    x_scaled = min_max_scaler.fit_transform(x)\n",
    "    df_temp = pd.DataFrame(x_scaled, columns=column_names_to_normalize, index = train_norm.index)\n",
    "    train_norm[column_names_to_normalize] = df_temp\n",
    "    \n",
    "    #creating dummies for Categorical Variable\n",
    "    train_norm = pd.get_dummies(data=train_norm, columns=categorical_features)\n",
    "    \n",
    "    # Trying with Number of Cluster= 6 for best Silhoutte Avg Score and normalized features\n",
    "    X = train_norm.copy()\n",
    "    kmodel = KMeans(n_clusters=no_cluster, random_state=10)\n",
    "    cluster_labels = kmodel.fit_predict(X)\n",
    "    train_norm['kmeans_cluster'] = cluster_labels\n",
    "    y_train_norm['cluster'] = cluster_labels\n",
    "    \n",
    "    \n",
    "    \n",
    "    # Visualizing the Cluster stats\n",
    "    print(\"Cluster size and distribution\")\n",
    "    print(train_norm.kmeans_cluster.value_counts().to_markdown())\n",
    "    \n",
    "    print(\"Visualizing the histograms for Numerical features Clusters\")\n",
    "    for i in range(no_cluster):\n",
    "        # visualzing the clusters for Numerical features\n",
    "        print(\"Visualizing Cluster {} Numerical features\", i)\n",
    "#         train_norm[train_norm.kmeans_cluster == i][[numerical_features].hist(figsize=(10,10))\n",
    "#         plt.show()\n",
    "    print(\"Visualizing the categorical features across clusters\")\n",
    "    Df_with_Clustering_Features_categorical = train[categorical_features]                                            \n",
    "    train_with_categorical = pd.merge(train_norm, Df_with_Clustering_Features_categorical, left_index=True, right_index=True)\n",
    "    for i in range(len(categorical_features)):\n",
    "        print(\"Categorical feature - {} across Clusters\".format(categorical_features[i]))\n",
    "        print(train_with_categorical.groupby(['kmeans_cluster', categorical_features[i]]).size().to_markdown())\n",
    "        \n",
    "                                                   \n",
    "    # Measure Performance\n",
    "    prob_by_cluster_norm = y_train_norm.groupby('cluster').mean()\n",
    "    print(prob_by_cluster_norm.to_markdown())\n",
    "    X_test = test.drop(['crash_binary_900ft',\n",
    "                      'crash_binary_1800ft',\n",
    "                      'crash_binary_2700ft',\n",
    "                      'crash_binary_3600ft'], axis=1)\n",
    "    X_test_with_crash = test.copy()\n",
    "    # only using the train dataset for cluster Analysis\n",
    "    if index:\n",
    "        X_test = X_test.set_index(index)\n",
    "    \n",
    "    X_test = X_test[numerical_features + categorical_features]\n",
    "    X_test_with_dummies = pd.get_dummies(data=X_test, columns=categorical_features)\n",
    "                                                   \n",
    "    column_names_to_normalize_test = numerical_features\n",
    "    x = X_test_with_dummies[column_names_to_normalize_test].values\n",
    "    x_scaled = min_max_scaler.transform(x)\n",
    "    df_temp = pd.DataFrame(x_scaled, columns=column_names_to_normalize_test, index = X_test_with_dummies.index)\n",
    "    X_test_with_dummies[column_names_to_normalize_test] = df_temp\n",
    "    \n",
    "#     print(list(X_test_with_dummies.columns))\n",
    "    clusterLabels= kmodel.predict(X_test_with_dummies)\n",
    "    X_test['cluster'] = clusterLabels\n",
    "    X_test_with_crash['cluster'] = clusterLabels\n",
    "    \n",
    "    X_test['crash_prob_900ft_pred'] = X_test['cluster'].apply(lambda x:prob_by_cluster_norm.loc[x,'crash_binary_900ft'])\n",
    "    \n",
    "#     Measure actual probabilities in test data by cluster\n",
    "    prob_by_cluster_norm_test = X_test_with_crash.groupby('cluster').mean()\n",
    "    X_test_with_crash['crash_prob_900ft_actual'] = X_test_with_crash['cluster'].apply(lambda x:prob_by_cluster_norm_test.loc[x,'crash_binary_900ft'])\n",
    "                                                   \n",
    "    # this code is from https://stackoverflow.com/questions/51439892/how-to-find-symmetric-mean-absolute-error-in-python\n",
    "    # smape: https://en.wikipedia.org/wiki/Symmetric_mean_absolute_percentage_error\n",
    "    def smape(A, F):\n",
    "        return 100/len(A) * np.sum(2 * np.abs(F - A) / (np.abs(A) + np.abs(F)))\n",
    "                                                   \n",
    "    smape_score = smape(X_test['crash_prob_900ft_pred'],X_test_with_crash['crash_prob_900ft_actual'])\n",
    "    mae_score = mean_absolute_error(X_test['crash_prob_900ft_pred'],X_test_with_crash['crash_prob_900ft_actual'])                                               \n",
    "    print('900 ft')\n",
    "    print('SMAPE score: {}'.format(smape(X_test['crash_prob_900ft_pred'],X_test_with_crash['crash_prob_900ft_actual'])))\n",
    "    print('MAE score: {}'.format(mean_absolute_error(X_test['crash_prob_900ft_pred'],X_test_with_crash['crash_prob_900ft_actual'])))\n",
    "    \n",
    "    \n",
    "    return train_norm, X_test_with_crash, X_test, smape_score, mae_score\n",
    "\n"
   ]
  },
  {
   "cell_type": "code",
   "execution_count": 6,
   "metadata": {},
   "outputs": [],
   "source": [
    "# Assuming Input having atleast following features\n",
    "# [   'event_id',\n",
    "#     'season',\n",
    "#     'roadway_type',\n",
    "#     'create_time_weekend',\n",
    "#     'street_width',\n",
    "#     'posted_speed',\n",
    "#     'daylight_ratio',\n",
    "#     'peak_ratio',\n",
    "#     'crash_binary_900ft',\n",
    "#     'crash_binary_1800ft',\n",
    "#     'crash_binary_2700ft',\n",
    "#     'crash_binary_3600ft',\n",
    "#     'geometry'\n",
    "#      ]"
   ]
  },
  {
   "cell_type": "markdown",
   "metadata": {},
   "source": [
    "#### Filter data for length data"
   ]
  },
  {
   "cell_type": "code",
   "execution_count": 7,
   "metadata": {},
   "outputs": [],
   "source": [
    "df_with_length = pd.read_csv('clustering_2_att.csv')"
   ]
  },
  {
   "cell_type": "code",
   "execution_count": 8,
   "metadata": {},
   "outputs": [],
   "source": [
    "# join the 2 df\n",
    "df_511_target_with_length = pd.merge(df_511_target, df_with_length, on='event_id', how=\"inner\")"
   ]
  },
  {
   "cell_type": "code",
   "execution_count": 9,
   "metadata": {},
   "outputs": [
    {
     "data": {
      "text/plain": [
       "(263, 16)"
      ]
     },
     "execution_count": 9,
     "metadata": {},
     "output_type": "execute_result"
    }
   ],
   "source": [
    "df_511_target_with_length.shape"
   ]
  },
  {
   "cell_type": "code",
   "execution_count": 10,
   "metadata": {},
   "outputs": [
    {
     "name": "stdout",
     "output_type": "stream",
     "text": [
      "|   roadway_type |   crash_binary_900ft |   crash_binary_1800ft |   crash_binary_2700ft |   crash_binary_3600ft |\n",
      "|---------------:|---------------------:|----------------------:|----------------------:|----------------------:|\n",
      "|              1 |             0.119718 |              0.239437 |              0.387324 |              0.464789 |\n",
      "|              2 |             0.193548 |              0.290323 |              0.354839 |              0.451613 |\n",
      "|              3 |             0        |              0        |              0.333333 |              0.666667 |\n",
      "900ft\n",
      "SMAPE score: 29.375179190450126\n",
      "MAE score: 0.030811491119501586\n"
     ]
    }
   ],
   "source": [
    "# Call function 1 to split train test and set base line score\n",
    "train, test, base_smape, base_mae = split_train_test_setbaseLineScore(df_511_target_with_length)"
   ]
  },
  {
   "cell_type": "code",
   "execution_count": 11,
   "metadata": {},
   "outputs": [
    {
     "name": "stdout",
     "output_type": "stream",
     "text": [
      "\n",
      "\n",
      "For KMeans n_clusters = 2 The average silhouette_score is : 0.28910643551489906\n",
      "For KMeans n_clusters = 3 The average silhouette_score is : 0.3605756485457609\n",
      "For KMeans n_clusters = 4 The average silhouette_score is : 0.3777115290539991\n",
      "For KMeans n_clusters = 5 The average silhouette_score is : 0.42567752208736154\n",
      "For KMeans n_clusters = 6 The average silhouette_score is : 0.4710767498743781\n",
      "For KMeans n_clusters = 7 The average silhouette_score is : 0.5101003954896088\n"
     ]
    },
    {
     "data": {
      "image/png": "[encoded data removed]",
      "text/plain": [
       "<Figure size 1440x1080 with 6 Axes>"
      ]
     },
     "metadata": {},
     "output_type": "display_data"
    }
   ],
   "source": [
    "# Call function 2 for Cluster Analysis\n",
    "numerical_features = ['posted_speed', 'street_width', 'daylight_ratio', 'peak_ratio', 'length_ft' ]\n",
    "categorical_features = ['season', 'roadway_type', 'create_time_weekend']\n",
    "index = 'event_id'\n",
    "cluster_analysis_measure_performance(train, numerical_features, categorical_features, index)"
   ]
  },
  {
   "cell_type": "code",
   "execution_count": 15,
   "metadata": {},
   "outputs": [
    {
     "name": "stdout",
     "output_type": "stream",
     "text": [
      "--------------------------------------------------------------------------------------------------------------------\n",
      "Performance when number of cluster are 4\n",
      "Cluster size and distribution\n",
      "|    |   kmeans_cluster |\n",
      "|---:|-----------------:|\n",
      "|  0 |               51 |\n",
      "|  2 |               47 |\n",
      "|  1 |               47 |\n",
      "|  3 |               31 |\n",
      "Visualizing the histograms for Numerical features Clusters\n",
      "Visualizing Cluster {} Numerical features 0\n",
      "Visualizing Cluster {} Numerical features 1\n",
      "Visualizing Cluster {} Numerical features 2\n",
      "Visualizing Cluster {} Numerical features 3\n",
      "Visualizing the categorical features across clusters\n",
      "Categorical feature - season across Clusters\n",
      "|               |   0 |\n",
      "|:--------------|----:|\n",
      "| (0, 'fall')   |  11 |\n",
      "| (0, 'spring') |  26 |\n",
      "| (0, 'winter') |  14 |\n",
      "| (1, 'fall')   |   3 |\n",
      "| (1, 'spring') |   7 |\n",
      "| (1, 'summer') |  23 |\n",
      "| (1, 'winter') |  14 |\n",
      "| (2, 'summer') |  47 |\n",
      "| (3, 'fall')   |   7 |\n",
      "| (3, 'spring') |   2 |\n",
      "| (3, 'summer') |  19 |\n",
      "| (3, 'winter') |   3 |\n",
      "Categorical feature - roadway_type across Clusters\n",
      "|        |   0 |\n",
      "|:-------|----:|\n",
      "| (0, 1) |  50 |\n",
      "| (0, 3) |   1 |\n",
      "| (1, 1) |  46 |\n",
      "| (1, 3) |   1 |\n",
      "| (2, 1) |  46 |\n",
      "| (2, 3) |   1 |\n",
      "| (3, 2) |  31 |\n",
      "Categorical feature - create_time_weekend across Clusters\n",
      "|        |   0 |\n",
      "|:-------|----:|\n",
      "| (0, 0) |  51 |\n",
      "| (1, 1) |  47 |\n",
      "| (2, 0) |  47 |\n",
      "| (3, 0) |  30 |\n",
      "| (3, 1) |   1 |\n",
      "|   cluster |   crash_binary_900ft |   crash_binary_1800ft |   crash_binary_2700ft |   crash_binary_3600ft |\n",
      "|----------:|---------------------:|----------------------:|----------------------:|----------------------:|\n",
      "|         0 |            0.137255  |              0.235294 |              0.45098  |              0.54902  |\n",
      "|         1 |            0.0851064 |              0.12766  |              0.234043 |              0.276596 |\n",
      "|         2 |            0.12766   |              0.340426 |              0.468085 |              0.574468 |\n",
      "|         3 |            0.193548  |              0.290323 |              0.354839 |              0.451613 |\n",
      "900 ft\n",
      "SMAPE score: 0.0\n",
      "MAE score: 0.044670688193389686\n"
     ]
    }
   ],
   "source": [
    "# Call Function 3 to implement K-Means on train and measure performance on test\n",
    "no_cluster=4\n",
    "print(\"--------------------------------------------------------------------------------------------------------------------\")\n",
    "print(\"Performance when number of cluster are {}\".format(no_cluster))\n",
    "train_with_clusterlabels, test_with_clusterlabels, test_with_pred, final_smape, final_mae = perform_Clustering_Visualization_Performance_Measurement(train, test, numerical_features, categorical_features, index, no_cluster)"
   ]
  },
  {
   "cell_type": "markdown",
   "metadata": {},
   "source": [
    "#### Workzone with Cluster Labels"
   ]
  },
  {
   "cell_type": "code",
   "execution_count": 22,
   "metadata": {},
   "outputs": [
    {
     "data": {
      "text/html": [
       "<div>\n",
       "<style scoped>\n",
       "    .dataframe tbody tr th:only-of-type {\n",
       "        vertical-align: middle;\n",
       "    }\n",
       "\n",
       "    .dataframe tbody tr th {\n",
       "        vertical-align: top;\n",
       "    }\n",
       "\n",
       "    .dataframe thead th {\n",
       "        text-align: right;\n",
       "    }\n",
       "</style>\n",
       "<table border=\"1\" class=\"dataframe\">\n",
       "  <thead>\n",
       "    <tr style=\"text-align: right;\">\n",
       "      <th></th>\n",
       "      <th>posted_speed</th>\n",
       "      <th>street_width</th>\n",
       "      <th>daylight_ratio</th>\n",
       "      <th>peak_ratio</th>\n",
       "      <th>length_ft</th>\n",
       "      <th>season_fall</th>\n",
       "      <th>season_spring</th>\n",
       "      <th>season_summer</th>\n",
       "      <th>season_winter</th>\n",
       "      <th>roadway_type_1</th>\n",
       "      <th>roadway_type_2</th>\n",
       "      <th>roadway_type_3</th>\n",
       "      <th>create_time_weekend_0</th>\n",
       "      <th>create_time_weekend_1</th>\n",
       "      <th>kmeans_cluster</th>\n",
       "    </tr>\n",
       "    <tr>\n",
       "      <th>event_id</th>\n",
       "      <th></th>\n",
       "      <th></th>\n",
       "      <th></th>\n",
       "      <th></th>\n",
       "      <th></th>\n",
       "      <th></th>\n",
       "      <th></th>\n",
       "      <th></th>\n",
       "      <th></th>\n",
       "      <th></th>\n",
       "      <th></th>\n",
       "      <th></th>\n",
       "      <th></th>\n",
       "      <th></th>\n",
       "      <th></th>\n",
       "    </tr>\n",
       "  </thead>\n",
       "  <tbody>\n",
       "    <tr>\n",
       "      <th>7109</th>\n",
       "      <td>0.166667</td>\n",
       "      <td>0.178571</td>\n",
       "      <td>0.008646</td>\n",
       "      <td>0.0</td>\n",
       "      <td>0.038971</td>\n",
       "      <td>0</td>\n",
       "      <td>0</td>\n",
       "      <td>1</td>\n",
       "      <td>0</td>\n",
       "      <td>1</td>\n",
       "      <td>0</td>\n",
       "      <td>0</td>\n",
       "      <td>1</td>\n",
       "      <td>0</td>\n",
       "      <td>2</td>\n",
       "    </tr>\n",
       "    <tr>\n",
       "      <th>15057</th>\n",
       "      <td>0.166667</td>\n",
       "      <td>0.285714</td>\n",
       "      <td>0.000000</td>\n",
       "      <td>0.0</td>\n",
       "      <td>0.033713</td>\n",
       "      <td>0</td>\n",
       "      <td>0</td>\n",
       "      <td>1</td>\n",
       "      <td>0</td>\n",
       "      <td>1</td>\n",
       "      <td>0</td>\n",
       "      <td>0</td>\n",
       "      <td>0</td>\n",
       "      <td>1</td>\n",
       "      <td>1</td>\n",
       "    </tr>\n",
       "    <tr>\n",
       "      <th>8372</th>\n",
       "      <td>0.166667</td>\n",
       "      <td>0.821429</td>\n",
       "      <td>0.009709</td>\n",
       "      <td>0.0</td>\n",
       "      <td>0.206603</td>\n",
       "      <td>0</td>\n",
       "      <td>1</td>\n",
       "      <td>0</td>\n",
       "      <td>0</td>\n",
       "      <td>1</td>\n",
       "      <td>0</td>\n",
       "      <td>0</td>\n",
       "      <td>1</td>\n",
       "      <td>0</td>\n",
       "      <td>0</td>\n",
       "    </tr>\n",
       "    <tr>\n",
       "      <th>21592</th>\n",
       "      <td>0.166667</td>\n",
       "      <td>0.285714</td>\n",
       "      <td>0.000000</td>\n",
       "      <td>0.0</td>\n",
       "      <td>0.215278</td>\n",
       "      <td>0</td>\n",
       "      <td>1</td>\n",
       "      <td>0</td>\n",
       "      <td>0</td>\n",
       "      <td>1</td>\n",
       "      <td>0</td>\n",
       "      <td>0</td>\n",
       "      <td>1</td>\n",
       "      <td>0</td>\n",
       "      <td>0</td>\n",
       "    </tr>\n",
       "    <tr>\n",
       "      <th>24637</th>\n",
       "      <td>0.166667</td>\n",
       "      <td>0.285714</td>\n",
       "      <td>0.000000</td>\n",
       "      <td>0.0</td>\n",
       "      <td>0.241832</td>\n",
       "      <td>0</td>\n",
       "      <td>1</td>\n",
       "      <td>0</td>\n",
       "      <td>0</td>\n",
       "      <td>1</td>\n",
       "      <td>0</td>\n",
       "      <td>0</td>\n",
       "      <td>0</td>\n",
       "      <td>1</td>\n",
       "      <td>1</td>\n",
       "    </tr>\n",
       "  </tbody>\n",
       "</table>\n",
       "</div>"
      ],
      "text/plain": [
       "          posted_speed  street_width  daylight_ratio  peak_ratio  length_ft  \\\n",
       "event_id                                                                      \n",
       "7109          0.166667      0.178571        0.008646         0.0   0.038971   \n",
       "15057         0.166667      0.285714        0.000000         0.0   0.033713   \n",
       "8372          0.166667      0.821429        0.009709         0.0   0.206603   \n",
       "21592         0.166667      0.285714        0.000000         0.0   0.215278   \n",
       "24637         0.166667      0.285714        0.000000         0.0   0.241832   \n",
       "\n",
       "          season_fall  season_spring  season_summer  season_winter  \\\n",
       "event_id                                                             \n",
       "7109                0              0              1              0   \n",
       "15057               0              0              1              0   \n",
       "8372                0              1              0              0   \n",
       "21592               0              1              0              0   \n",
       "24637               0              1              0              0   \n",
       "\n",
       "          roadway_type_1  roadway_type_2  roadway_type_3  \\\n",
       "event_id                                                   \n",
       "7109                   1               0               0   \n",
       "15057                  1               0               0   \n",
       "8372                   1               0               0   \n",
       "21592                  1               0               0   \n",
       "24637                  1               0               0   \n",
       "\n",
       "          create_time_weekend_0  create_time_weekend_1  kmeans_cluster  \n",
       "event_id                                                                \n",
       "7109                          1                      0               2  \n",
       "15057                         0                      1               1  \n",
       "8372                          1                      0               0  \n",
       "21592                         1                      0               0  \n",
       "24637                         0                      1               1  "
      ]
     },
     "execution_count": 22,
     "metadata": {},
     "output_type": "execute_result"
    }
   ],
   "source": [
    "train_with_clusterlabels.head()"
   ]
  },
  {
   "cell_type": "code",
   "execution_count": 23,
   "metadata": {},
   "outputs": [],
   "source": [
    "train_data_with_labels = train_with_clusterlabels[['length_ft','kmeans_cluster']]\n",
    "train_data_with_labels = train_data_with_labels.rename({'kmeans_cluster': 'cluster'}, axis=1)"
   ]
  },
  {
   "cell_type": "code",
   "execution_count": 24,
   "metadata": {},
   "outputs": [
    {
     "data": {
      "text/html": [
       "<div>\n",
       "<style scoped>\n",
       "    .dataframe tbody tr th:only-of-type {\n",
       "        vertical-align: middle;\n",
       "    }\n",
       "\n",
       "    .dataframe tbody tr th {\n",
       "        vertical-align: top;\n",
       "    }\n",
       "\n",
       "    .dataframe thead th {\n",
       "        text-align: right;\n",
       "    }\n",
       "</style>\n",
       "<table border=\"1\" class=\"dataframe\">\n",
       "  <thead>\n",
       "    <tr style=\"text-align: right;\">\n",
       "      <th></th>\n",
       "      <th>length_ft</th>\n",
       "      <th>cluster</th>\n",
       "    </tr>\n",
       "    <tr>\n",
       "      <th>event_id</th>\n",
       "      <th></th>\n",
       "      <th></th>\n",
       "    </tr>\n",
       "  </thead>\n",
       "  <tbody>\n",
       "    <tr>\n",
       "      <th>7109</th>\n",
       "      <td>0.038971</td>\n",
       "      <td>2</td>\n",
       "    </tr>\n",
       "    <tr>\n",
       "      <th>15057</th>\n",
       "      <td>0.033713</td>\n",
       "      <td>1</td>\n",
       "    </tr>\n",
       "    <tr>\n",
       "      <th>8372</th>\n",
       "      <td>0.206603</td>\n",
       "      <td>0</td>\n",
       "    </tr>\n",
       "    <tr>\n",
       "      <th>21592</th>\n",
       "      <td>0.215278</td>\n",
       "      <td>0</td>\n",
       "    </tr>\n",
       "    <tr>\n",
       "      <th>24637</th>\n",
       "      <td>0.241832</td>\n",
       "      <td>1</td>\n",
       "    </tr>\n",
       "  </tbody>\n",
       "</table>\n",
       "</div>"
      ],
      "text/plain": [
       "          length_ft  cluster\n",
       "event_id                    \n",
       "7109       0.038971        2\n",
       "15057      0.033713        1\n",
       "8372       0.206603        0\n",
       "21592      0.215278        0\n",
       "24637      0.241832        1"
      ]
     },
     "execution_count": 24,
     "metadata": {},
     "output_type": "execute_result"
    }
   ],
   "source": [
    "train_data_with_labels.head()"
   ]
  },
  {
   "cell_type": "code",
   "execution_count": 26,
   "metadata": {},
   "outputs": [],
   "source": [
    "test_data_with_labels = test_with_clusterlabels[['event_id','length_ft','cluster']]\n",
    "test_data_with_labels = test_data_with_labels.set_index('event_id')"
   ]
  },
  {
   "cell_type": "code",
   "execution_count": 27,
   "metadata": {},
   "outputs": [
    {
     "data": {
      "text/html": [
       "<div>\n",
       "<style scoped>\n",
       "    .dataframe tbody tr th:only-of-type {\n",
       "        vertical-align: middle;\n",
       "    }\n",
       "\n",
       "    .dataframe tbody tr th {\n",
       "        vertical-align: top;\n",
       "    }\n",
       "\n",
       "    .dataframe thead th {\n",
       "        text-align: right;\n",
       "    }\n",
       "</style>\n",
       "<table border=\"1\" class=\"dataframe\">\n",
       "  <thead>\n",
       "    <tr style=\"text-align: right;\">\n",
       "      <th></th>\n",
       "      <th>length_ft</th>\n",
       "      <th>cluster</th>\n",
       "    </tr>\n",
       "    <tr>\n",
       "      <th>event_id</th>\n",
       "      <th></th>\n",
       "      <th></th>\n",
       "    </tr>\n",
       "  </thead>\n",
       "  <tbody>\n",
       "    <tr>\n",
       "      <th>16682</th>\n",
       "      <td>566.504322</td>\n",
       "      <td>3</td>\n",
       "    </tr>\n",
       "    <tr>\n",
       "      <th>16625</th>\n",
       "      <td>566.504322</td>\n",
       "      <td>3</td>\n",
       "    </tr>\n",
       "    <tr>\n",
       "      <th>4232</th>\n",
       "      <td>561.572574</td>\n",
       "      <td>2</td>\n",
       "    </tr>\n",
       "    <tr>\n",
       "      <th>6715</th>\n",
       "      <td>905.873470</td>\n",
       "      <td>1</td>\n",
       "    </tr>\n",
       "    <tr>\n",
       "      <th>5694</th>\n",
       "      <td>336.532212</td>\n",
       "      <td>0</td>\n",
       "    </tr>\n",
       "  </tbody>\n",
       "</table>\n",
       "</div>"
      ],
      "text/plain": [
       "           length_ft  cluster\n",
       "event_id                     \n",
       "16682     566.504322        3\n",
       "16625     566.504322        3\n",
       "4232      561.572574        2\n",
       "6715      905.873470        1\n",
       "5694      336.532212        0"
      ]
     },
     "execution_count": 27,
     "metadata": {},
     "output_type": "execute_result"
    }
   ],
   "source": [
    "test_data_with_labels.head()"
   ]
  },
  {
   "cell_type": "code",
   "execution_count": 28,
   "metadata": {},
   "outputs": [],
   "source": [
    "data_with_labels = pd.concat([train_data_with_labels, test_data_with_labels])"
   ]
  },
  {
   "cell_type": "code",
   "execution_count": 29,
   "metadata": {},
   "outputs": [],
   "source": [
    "import geopandas as gp\n",
    "df_511_target_geo = gp.GeoDataFrame(df_511_target)\n",
    "df_511_target_geo = df_511_target_geo.set_index('event_id')\n",
    "# Adding Cluster Labels to data\n",
    "df_511_target_geo_cluster = pd.merge(df_511_target_geo, data_with_labels, left_index=True, right_index=True)"
   ]
  },
  {
   "cell_type": "markdown",
   "metadata": {},
   "source": [
    "## Cluster Characteristics"
   ]
  },
  {
   "cell_type": "markdown",
   "metadata": {},
   "source": [
    "##### Workzone distribution across cluster"
   ]
  },
  {
   "cell_type": "code",
   "execution_count": 30,
   "metadata": {},
   "outputs": [
    {
     "data": {
      "text/plain": [
       "0    81\n",
       "2    68\n",
       "1    61\n",
       "3    53\n",
       "Name: cluster, dtype: int64"
      ]
     },
     "execution_count": 30,
     "metadata": {},
     "output_type": "execute_result"
    }
   ],
   "source": [
    "df_511_target_geo_cluster.cluster.value_counts()"
   ]
  },
  {
   "cell_type": "markdown",
   "metadata": {},
   "source": [
    "##### Visualizing Numerical feature distribution for clusters"
   ]
  },
  {
   "cell_type": "code",
   "execution_count": 31,
   "metadata": {},
   "outputs": [
    {
     "data": {
      "text/html": [
       "<div>\n",
       "<style scoped>\n",
       "    .dataframe tbody tr th:only-of-type {\n",
       "        vertical-align: middle;\n",
       "    }\n",
       "\n",
       "    .dataframe tbody tr th {\n",
       "        vertical-align: top;\n",
       "    }\n",
       "\n",
       "    .dataframe thead th {\n",
       "        text-align: right;\n",
       "    }\n",
       "</style>\n",
       "<table border=\"1\" class=\"dataframe\">\n",
       "  <thead>\n",
       "    <tr style=\"text-align: right;\">\n",
       "      <th></th>\n",
       "      <th>season</th>\n",
       "      <th>roadway_type</th>\n",
       "      <th>create_time_weekend</th>\n",
       "      <th>street_width</th>\n",
       "      <th>posted_speed</th>\n",
       "      <th>daylight_ratio</th>\n",
       "      <th>peak_ratio</th>\n",
       "      <th>crash_binary_900ft</th>\n",
       "      <th>crash_binary_1800ft</th>\n",
       "      <th>crash_binary_2700ft</th>\n",
       "      <th>crash_binary_3600ft</th>\n",
       "      <th>geometry</th>\n",
       "      <th>length_ft</th>\n",
       "      <th>cluster</th>\n",
       "    </tr>\n",
       "    <tr>\n",
       "      <th>event_id</th>\n",
       "      <th></th>\n",
       "      <th></th>\n",
       "      <th></th>\n",
       "      <th></th>\n",
       "      <th></th>\n",
       "      <th></th>\n",
       "      <th></th>\n",
       "      <th></th>\n",
       "      <th></th>\n",
       "      <th></th>\n",
       "      <th></th>\n",
       "      <th></th>\n",
       "      <th></th>\n",
       "      <th></th>\n",
       "    </tr>\n",
       "  </thead>\n",
       "  <tbody>\n",
       "    <tr>\n",
       "      <th>8701</th>\n",
       "      <td>spring</td>\n",
       "      <td>1</td>\n",
       "      <td>0</td>\n",
       "      <td>30.0</td>\n",
       "      <td>25.0</td>\n",
       "      <td>0.000000</td>\n",
       "      <td>0.0</td>\n",
       "      <td>0</td>\n",
       "      <td>0</td>\n",
       "      <td>0</td>\n",
       "      <td>1</td>\n",
       "      <td>POINT (-73.97437084640173 40.75816388281111)</td>\n",
       "      <td>0.073053</td>\n",
       "      <td>0</td>\n",
       "    </tr>\n",
       "    <tr>\n",
       "      <th>8649</th>\n",
       "      <td>spring</td>\n",
       "      <td>1</td>\n",
       "      <td>0</td>\n",
       "      <td>35.0</td>\n",
       "      <td>25.0</td>\n",
       "      <td>0.011161</td>\n",
       "      <td>0.0</td>\n",
       "      <td>0</td>\n",
       "      <td>1</td>\n",
       "      <td>1</td>\n",
       "      <td>1</td>\n",
       "      <td>POINT (-73.97822579036053 40.75324646600973)</td>\n",
       "      <td>283.042009</td>\n",
       "      <td>0</td>\n",
       "    </tr>\n",
       "    <tr>\n",
       "      <th>8600</th>\n",
       "      <td>spring</td>\n",
       "      <td>1</td>\n",
       "      <td>0</td>\n",
       "      <td>28.0</td>\n",
       "      <td>25.0</td>\n",
       "      <td>0.000000</td>\n",
       "      <td>0.0</td>\n",
       "      <td>0</td>\n",
       "      <td>0</td>\n",
       "      <td>1</td>\n",
       "      <td>1</td>\n",
       "      <td>POINT (-73.98901966336354 40.74231653338661)</td>\n",
       "      <td>378.018151</td>\n",
       "      <td>0</td>\n",
       "    </tr>\n",
       "    <tr>\n",
       "      <th>8487</th>\n",
       "      <td>spring</td>\n",
       "      <td>1</td>\n",
       "      <td>0</td>\n",
       "      <td>28.0</td>\n",
       "      <td>25.0</td>\n",
       "      <td>0.007614</td>\n",
       "      <td>0.0</td>\n",
       "      <td>0</td>\n",
       "      <td>1</td>\n",
       "      <td>1</td>\n",
       "      <td>1</td>\n",
       "      <td>POINT (-74.00680222392708 40.70974387485788)</td>\n",
       "      <td>0.048101</td>\n",
       "      <td>0</td>\n",
       "    </tr>\n",
       "    <tr>\n",
       "      <th>8448</th>\n",
       "      <td>spring</td>\n",
       "      <td>1</td>\n",
       "      <td>0</td>\n",
       "      <td>60.0</td>\n",
       "      <td>25.0</td>\n",
       "      <td>0.000000</td>\n",
       "      <td>0.0</td>\n",
       "      <td>0</td>\n",
       "      <td>1</td>\n",
       "      <td>1</td>\n",
       "      <td>1</td>\n",
       "      <td>POINT (-73.98727323860646 40.75305644892556)</td>\n",
       "      <td>0.206603</td>\n",
       "      <td>0</td>\n",
       "    </tr>\n",
       "  </tbody>\n",
       "</table>\n",
       "</div>"
      ],
      "text/plain": [
       "          season  roadway_type  create_time_weekend  street_width  \\\n",
       "event_id                                                            \n",
       "8701      spring             1                    0          30.0   \n",
       "8649      spring             1                    0          35.0   \n",
       "8600      spring             1                    0          28.0   \n",
       "8487      spring             1                    0          28.0   \n",
       "8448      spring             1                    0          60.0   \n",
       "\n",
       "          posted_speed  daylight_ratio  peak_ratio  crash_binary_900ft  \\\n",
       "event_id                                                                 \n",
       "8701              25.0        0.000000         0.0                   0   \n",
       "8649              25.0        0.011161         0.0                   0   \n",
       "8600              25.0        0.000000         0.0                   0   \n",
       "8487              25.0        0.007614         0.0                   0   \n",
       "8448              25.0        0.000000         0.0                   0   \n",
       "\n",
       "          crash_binary_1800ft  crash_binary_2700ft  crash_binary_3600ft  \\\n",
       "event_id                                                                  \n",
       "8701                        0                    0                    1   \n",
       "8649                        1                    1                    1   \n",
       "8600                        0                    1                    1   \n",
       "8487                        1                    1                    1   \n",
       "8448                        1                    1                    1   \n",
       "\n",
       "                                              geometry   length_ft  cluster  \n",
       "event_id                                                                     \n",
       "8701      POINT (-73.97437084640173 40.75816388281111)    0.073053        0  \n",
       "8649      POINT (-73.97822579036053 40.75324646600973)  283.042009        0  \n",
       "8600      POINT (-73.98901966336354 40.74231653338661)  378.018151        0  \n",
       "8487      POINT (-74.00680222392708 40.70974387485788)    0.048101        0  \n",
       "8448      POINT (-73.98727323860646 40.75305644892556)    0.206603        0  "
      ]
     },
     "execution_count": 31,
     "metadata": {},
     "output_type": "execute_result"
    }
   ],
   "source": [
    "df_511_target_geo_cluster.head()"
   ]
  },
  {
   "cell_type": "code",
   "execution_count": 32,
   "metadata": {},
   "outputs": [
    {
     "data": {
      "image/png": "[encoded data removed]",
      "text/plain": [
       "<Figure size 720x720 with 6 Axes>"
      ]
     },
     "metadata": {},
     "output_type": "display_data"
    }
   ],
   "source": [
    "# # visualzing the clusters for Numerical features\n",
    "df_511_target_geo_cluster[df_511_target_geo_cluster.cluster == 0][['posted_speed', 'street_width', 'daylight_ratio', 'peak_ratio', 'length_ft' ]].hist(figsize=(10,10))\n",
    "plt.show()"
   ]
  },
  {
   "cell_type": "code",
   "execution_count": 33,
   "metadata": {},
   "outputs": [
    {
     "data": {
      "image/png": "[encoded data removed]",
      "text/plain": [
       "<Figure size 720x720 with 6 Axes>"
      ]
     },
     "metadata": {},
     "output_type": "display_data"
    }
   ],
   "source": [
    "# # visualzing the clusters for Numerical features\n",
    "df_511_target_geo_cluster[df_511_target_geo_cluster.cluster == 1][['posted_speed', 'street_width', 'daylight_ratio', 'peak_ratio', 'length_ft' ]].hist(figsize=(10,10))\n",
    "plt.show()"
   ]
  },
  {
   "cell_type": "code",
   "execution_count": 34,
   "metadata": {},
   "outputs": [
    {
     "data": {
      "image/png": "[encoded data removed]",
      "text/plain": [
       "<Figure size 720x720 with 6 Axes>"
      ]
     },
     "metadata": {},
     "output_type": "display_data"
    }
   ],
   "source": [
    "# # visualzing the clusters for Numerical features\n",
    "df_511_target_geo_cluster[df_511_target_geo_cluster.cluster == 2][['posted_speed', 'street_width', 'daylight_ratio', 'peak_ratio', 'length_ft' ]].hist(figsize=(10,10))\n",
    "plt.show()"
   ]
  },
  {
   "cell_type": "code",
   "execution_count": 35,
   "metadata": {},
   "outputs": [
    {
     "data": {
      "image/png": "[encoded data removed]",
      "text/plain": [
       "<Figure size 720x720 with 6 Axes>"
      ]
     },
     "metadata": {},
     "output_type": "display_data"
    }
   ],
   "source": [
    "# # visualzing the clusters for Numerical features\n",
    "df_511_target_geo_cluster[df_511_target_geo_cluster.cluster == 3][['posted_speed', 'street_width', 'daylight_ratio', 'peak_ratio', 'length_ft' ]].hist(figsize=(10,10))\n",
    "plt.show()"
   ]
  },
  {
   "cell_type": "markdown",
   "metadata": {},
   "source": [
    "##### Visualizing categorical features distribution across clusters"
   ]
  },
  {
   "cell_type": "code",
   "execution_count": 36,
   "metadata": {},
   "outputs": [
    {
     "data": {
      "text/plain": [
       "cluster  season\n",
       "0        fall      20\n",
       "         spring    37\n",
       "         winter    24\n",
       "1        fall       3\n",
       "         spring     8\n",
       "         summer    31\n",
       "         winter    19\n",
       "2        summer    68\n",
       "3        fall      13\n",
       "         spring     4\n",
       "         summer    32\n",
       "         winter     4\n",
       "dtype: int64"
      ]
     },
     "execution_count": 36,
     "metadata": {},
     "output_type": "execute_result"
    }
   ],
   "source": [
    "df_511_target_geo_cluster.groupby(['cluster', 'season']).size()"
   ]
  },
  {
   "cell_type": "code",
   "execution_count": 37,
   "metadata": {},
   "outputs": [
    {
     "data": {
      "text/plain": [
       "cluster  roadway_type\n",
       "0        1               78\n",
       "         3                3\n",
       "1        1               60\n",
       "         3                1\n",
       "2        1               66\n",
       "         3                2\n",
       "3        2               53\n",
       "dtype: int64"
      ]
     },
     "execution_count": 37,
     "metadata": {},
     "output_type": "execute_result"
    }
   ],
   "source": [
    "df_511_target_geo_cluster.groupby(['cluster', 'roadway_type']).size()"
   ]
  },
  {
   "cell_type": "code",
   "execution_count": 38,
   "metadata": {},
   "outputs": [
    {
     "data": {
      "text/plain": [
       "cluster  create_time_weekend\n",
       "0        0                      81\n",
       "1        1                      61\n",
       "2        0                      68\n",
       "3        0                      49\n",
       "         1                       4\n",
       "dtype: int64"
      ]
     },
     "execution_count": 38,
     "metadata": {},
     "output_type": "execute_result"
    }
   ],
   "source": [
    "df_511_target_geo_cluster.groupby(['cluster', 'create_time_weekend']).size()"
   ]
  },
  {
   "cell_type": "code",
   "execution_count": null,
   "metadata": {},
   "outputs": [],
   "source": []
  }
 ],
 "metadata": {
  "kernelspec": {
   "display_name": "Python 3",
   "language": "python",
   "name": "python3"
  },
  "language_info": {
   "codemirror_mode": {
    "name": "ipython",
    "version": 3
   },
   "file_extension": ".py",
   "mimetype": "text/x-python",
   "name": "python",
   "nbconvert_exporter": "python",
   "pygments_lexer": "ipython3",
   "version": "3.8.2"
  }
 },
 "nbformat": 4,
 "nbformat_minor": 4
}
