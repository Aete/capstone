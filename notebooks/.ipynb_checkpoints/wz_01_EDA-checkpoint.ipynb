{
 "cells": [
  {
   "cell_type": "markdown",
   "metadata": {},
   "source": [
    "## Work Zones Exploratory Data Analysis\n",
    "### To understand the characteristics of the work zones created from seperate segment closures events"
   ]
  },
  {
   "cell_type": "code",
   "execution_count": 1,
   "metadata": {},
   "outputs": [
    {
     "name": "stdout",
     "output_type": "stream",
     "text": [
      "Populating the interactive namespace from numpy and matplotlib\n"
     ]
    }
   ],
   "source": [
    "import pandas as pd\n",
    "import matplotlib.pyplot as plt\n",
    "\n",
    "import geopandas as gpd\n",
    "from shapely.geometry import Point\n",
    "from fiona.crs import from_epsg\n",
    "from shapely import wkt\n",
    "\n",
    "%pylab inline\n",
    "# pylab.rcParams['figure.figsize'] = 12, 12\n",
    "# pylab.rcParams['figure.dpi'] = 100\n",
    "\n",
    "pd.set_option('mode.chained_assignment', None)"
   ]
  },
  {
   "cell_type": "markdown",
   "metadata": {},
   "source": [
    "## Importing the work zones data"
   ]
  },
  {
   "cell_type": "code",
   "execution_count": 2,
   "metadata": {},
   "outputs": [
    {
     "data": {
      "text/html": [
       "<div>\n",
       "<style scoped>\n",
       "    .dataframe tbody tr th:only-of-type {\n",
       "        vertical-align: middle;\n",
       "    }\n",
       "\n",
       "    .dataframe tbody tr th {\n",
       "        vertical-align: top;\n",
       "    }\n",
       "\n",
       "    .dataframe thead th {\n",
       "        text-align: right;\n",
       "    }\n",
       "</style>\n",
       "<table border=\"1\" class=\"dataframe\">\n",
       "  <thead>\n",
       "    <tr style=\"text-align: right;\">\n",
       "      <th></th>\n",
       "      <th>wz_id</th>\n",
       "      <th>segmentid</th>\n",
       "      <th>created_date</th>\n",
       "      <th>closed_date</th>\n",
       "      <th>created_season</th>\n",
       "      <th>closed_season</th>\n",
       "      <th>duration_days</th>\n",
       "      <th>purpose</th>\n",
       "      <th>geometry</th>\n",
       "      <th>length_ft</th>\n",
       "    </tr>\n",
       "  </thead>\n",
       "  <tbody>\n",
       "    <tr>\n",
       "      <th>0</th>\n",
       "      <td>0_0</td>\n",
       "      <td>[32594]</td>\n",
       "      <td>2017-02-02</td>\n",
       "      <td>2018-01-01</td>\n",
       "      <td>winter</td>\n",
       "      <td>winter</td>\n",
       "      <td>333</td>\n",
       "      <td>[\"['Occupancy Of Roadway As Stipulated']\"]</td>\n",
       "      <td>MULTILINESTRING ((985479.756 205496.239, 98508...</td>\n",
       "      <td>465.818036</td>\n",
       "    </tr>\n",
       "    <tr>\n",
       "      <th>1</th>\n",
       "      <td>1000_0</td>\n",
       "      <td>[37666 37564 37545 37793 11143 37775 36441 375...</td>\n",
       "      <td>2017-10-27</td>\n",
       "      <td>2017-11-02</td>\n",
       "      <td>fall</td>\n",
       "      <td>fall</td>\n",
       "      <td>6</td>\n",
       "      <td>[\"['Dot In-House Paving']\" \"['Occupancy Of Roa...</td>\n",
       "      <td>MULTILINESTRING ((996814.529 223747.143, 99694...</td>\n",
       "      <td>7383.898198</td>\n",
       "    </tr>\n",
       "  </tbody>\n",
       "</table>\n",
       "</div>"
      ],
      "text/plain": [
       "    wz_id                                          segmentid created_date  \\\n",
       "0     0_0                                            [32594]   2017-02-02   \n",
       "1  1000_0  [37666 37564 37545 37793 11143 37775 36441 375...   2017-10-27   \n",
       "\n",
       "  closed_date created_season closed_season  duration_days  \\\n",
       "0  2018-01-01         winter        winter            333   \n",
       "1  2017-11-02           fall          fall              6   \n",
       "\n",
       "                                             purpose  \\\n",
       "0         [\"['Occupancy Of Roadway As Stipulated']\"]   \n",
       "1  [\"['Dot In-House Paving']\" \"['Occupancy Of Roa...   \n",
       "\n",
       "                                            geometry    length_ft  \n",
       "0  MULTILINESTRING ((985479.756 205496.239, 98508...   465.818036  \n",
       "1  MULTILINESTRING ((996814.529 223747.143, 99694...  7383.898198  "
      ]
     },
     "execution_count": 2,
     "metadata": {},
     "output_type": "execute_result"
    }
   ],
   "source": [
    "df_wz = pd.read_csv('../data/cleaned_data/work_zones.csv', parse_dates=['created_date', 'closed_date'])\n",
    "\n",
    "# preparing the geometry column\n",
    "df_wz['geometry'] = df_wz['geometry'].apply(wkt.loads)\n",
    "\n",
    "# convert to geodataframe\n",
    "gdf_wz = gpd.GeoDataFrame(df_wz, crs='EPSG:2263', \n",
    "                             geometry=df_wz.geometry)\n",
    "\n",
    "gdf_wz.head(2)"
   ]
  },
  {
   "cell_type": "code",
   "execution_count": 3,
   "metadata": {
    "scrolled": true
   },
   "outputs": [
    {
     "data": {
      "text/plain": [
       "<Projected CRS: EPSG:2263>\n",
       "Name: NAD83 / New York Long Island (ftUS)\n",
       "Axis Info [cartesian]:\n",
       "- X[east]: Easting (US survey foot)\n",
       "- Y[north]: Northing (US survey foot)\n",
       "Area of Use:\n",
       "- name: USA - New York - SPCS - Long Island\n",
       "- bounds: (-74.26, 40.47, -71.8, 41.3)\n",
       "Coordinate Operation:\n",
       "- name: SPCS83 New York Long Island zone (US Survey feet)\n",
       "- method: Lambert Conic Conformal (2SP)\n",
       "Datum: North American Datum 1983\n",
       "- Ellipsoid: GRS 1980\n",
       "- Prime Meridian: Greenwich"
      ]
     },
     "execution_count": 3,
     "metadata": {},
     "output_type": "execute_result"
    }
   ],
   "source": [
    "gdf_wz.crs"
   ]
  },
  {
   "cell_type": "markdown",
   "metadata": {},
   "source": [
    "### An example of a generated work zone "
   ]
  },
  {
   "cell_type": "code",
   "execution_count": 4,
   "metadata": {},
   "outputs": [
    {
     "data": {
      "image/svg+xml": [
       "<svg xmlns=\"http://www.w3.org/2000/svg\" xmlns:xlink=\"http://www.w3.org/1999/xlink\" width=\"300\" height=\"300\" viewBox=\"985180.5278010514 205053.10751879984 523.9737615900813 462.53828585741576\" preserveAspectRatio=\"xMinYMin meet\"><g transform=\"matrix(1,0,0,-1,0,410568.7533234571)\"><g><polyline fill=\"none\" stroke=\"#66cc99\" stroke-width=\"3.4931584106005418\" points=\"985550.2136096447,205154.323030164 985340.9967376012,205292.2229984259\" opacity=\"0.8\" /><polyline fill=\"none\" stroke=\"#66cc99\" stroke-width=\"3.4931584106005418\" points=\"985685.095127027,205363.1428061822 985479.7560875559,205496.2393690428\" opacity=\"0.8\" /><polyline fill=\"none\" stroke=\"#66cc99\" stroke-width=\"3.4931584106005418\" points=\"985199.9342366658,205072.5139544143 985340.9967376012,205292.2229984259\" opacity=\"0.8\" /><polyline fill=\"none\" stroke=\"#66cc99\" stroke-width=\"3.4931584106005418\" points=\"985340.9967376012,205292.2229984259 985479.7560875559,205496.2393690428\" opacity=\"0.8\" /></g></g></svg>"
      ],
      "text/plain": [
       "<shapely.geometry.multilinestring.MultiLineString at 0x21ac8218100>"
      ]
     },
     "execution_count": 4,
     "metadata": {},
     "output_type": "execute_result"
    }
   ],
   "source": [
    "# four contiguous segment closures joined because they witnessed work at the same date/time\n",
    "gdf_wz.geometry[2222]"
   ]
  },
  {
   "cell_type": "code",
   "execution_count": 5,
   "metadata": {},
   "outputs": [
    {
     "data": {
      "image/svg+xml": [
       "<svg xmlns=\"http://www.w3.org/2000/svg\" xmlns:xlink=\"http://www.w3.org/1999/xlink\" width=\"300\" height=\"300\" viewBox=\"985176.8338267233 204914.4526804437 530.9712489082012 607.4669413318043\" preserveAspectRatio=\"xMinYMin meet\"><g transform=\"matrix(1,0,0,-1,0,410436.3723022192)\"><path fill-rule=\"evenodd\" fill=\"#66cc99\" stroke=\"#555555\" stroke-width=\"4.049779608878695\" opacity=\"0.6\" d=\"M 985474.8306140428,205499.42084617063 L 985199.3326023282,205072.90256393165 L 985409.8082883119,204936.95145604858 L 985685.3063000266,205363.46973828756 L 985474.8306140428,205499.42084617063 z\" /></g></svg>"
      ],
      "text/plain": [
       "<shapely.geometry.polygon.Polygon at 0x21ac813c130>"
      ]
     },
     "execution_count": 5,
     "metadata": {},
     "output_type": "execute_result"
    }
   ],
   "source": [
    "# getting the minimum bounding rectangle that contains the object\n",
    "gdf_wz.geometry[2222].minimum_rotated_rectangle"
   ]
  },
  {
   "cell_type": "markdown",
   "metadata": {},
   "source": [
    "### Getting the minimum bouding rectangle of all the data"
   ]
  },
  {
   "cell_type": "code",
   "execution_count": 6,
   "metadata": {
    "scrolled": false
   },
   "outputs": [
    {
     "data": {
      "text/html": [
       "<div>\n",
       "<style scoped>\n",
       "    .dataframe tbody tr th:only-of-type {\n",
       "        vertical-align: middle;\n",
       "    }\n",
       "\n",
       "    .dataframe tbody tr th {\n",
       "        vertical-align: top;\n",
       "    }\n",
       "\n",
       "    .dataframe thead th {\n",
       "        text-align: right;\n",
       "    }\n",
       "</style>\n",
       "<table border=\"1\" class=\"dataframe\">\n",
       "  <thead>\n",
       "    <tr style=\"text-align: right;\">\n",
       "      <th></th>\n",
       "      <th>wz_id</th>\n",
       "      <th>segmentid</th>\n",
       "      <th>created_date</th>\n",
       "      <th>closed_date</th>\n",
       "      <th>created_season</th>\n",
       "      <th>closed_season</th>\n",
       "      <th>duration_days</th>\n",
       "      <th>purpose</th>\n",
       "      <th>geometry</th>\n",
       "      <th>length_ft</th>\n",
       "      <th>bounding_geometry</th>\n",
       "    </tr>\n",
       "  </thead>\n",
       "  <tbody>\n",
       "    <tr>\n",
       "      <th>0</th>\n",
       "      <td>0_0</td>\n",
       "      <td>[32594]</td>\n",
       "      <td>2017-02-02</td>\n",
       "      <td>2018-01-01</td>\n",
       "      <td>winter</td>\n",
       "      <td>winter</td>\n",
       "      <td>333</td>\n",
       "      <td>[\"['Occupancy Of Roadway As Stipulated']\"]</td>\n",
       "      <td>MULTILINESTRING ((985479.756 205496.239, 98508...</td>\n",
       "      <td>465.818036</td>\n",
       "      <td>LINESTRING (985479.7560875559 205496.239369042...</td>\n",
       "    </tr>\n",
       "    <tr>\n",
       "      <th>1</th>\n",
       "      <td>1000_0</td>\n",
       "      <td>[37666 37564 37545 37793 11143 37775 36441 375...</td>\n",
       "      <td>2017-10-27</td>\n",
       "      <td>2017-11-02</td>\n",
       "      <td>fall</td>\n",
       "      <td>fall</td>\n",
       "      <td>6</td>\n",
       "      <td>[\"['Dot In-House Paving']\" \"['Occupancy Of Roa...</td>\n",
       "      <td>MULTILINESTRING ((996814.529 223747.143, 99694...</td>\n",
       "      <td>7383.898198</td>\n",
       "      <td>POLYGON ((997402.15114297 225811.8449668439, 9...</td>\n",
       "    </tr>\n",
       "  </tbody>\n",
       "</table>\n",
       "</div>"
      ],
      "text/plain": [
       "    wz_id                                          segmentid created_date  \\\n",
       "0     0_0                                            [32594]   2017-02-02   \n",
       "1  1000_0  [37666 37564 37545 37793 11143 37775 36441 375...   2017-10-27   \n",
       "\n",
       "  closed_date created_season closed_season  duration_days  \\\n",
       "0  2018-01-01         winter        winter            333   \n",
       "1  2017-11-02           fall          fall              6   \n",
       "\n",
       "                                             purpose  \\\n",
       "0         [\"['Occupancy Of Roadway As Stipulated']\"]   \n",
       "1  [\"['Dot In-House Paving']\" \"['Occupancy Of Roa...   \n",
       "\n",
       "                                            geometry    length_ft  \\\n",
       "0  MULTILINESTRING ((985479.756 205496.239, 98508...   465.818036   \n",
       "1  MULTILINESTRING ((996814.529 223747.143, 99694...  7383.898198   \n",
       "\n",
       "                                   bounding_geometry  \n",
       "0  LINESTRING (985479.7560875559 205496.239369042...  \n",
       "1  POLYGON ((997402.15114297 225811.8449668439, 9...  "
      ]
     },
     "execution_count": 6,
     "metadata": {},
     "output_type": "execute_result"
    }
   ],
   "source": [
    "#  getting the minimum bounding rectangle that contains the object for all the work zones\n",
    "#  in order to analyze the different work zones areas\n",
    "gdf_wz['bounding_geometry'] = pd.Series([l.minimum_rotated_rectangle for i, l in gdf_wz.geometry.items()])\n",
    "gdf_wz.head(2)"
   ]
  },
  {
   "cell_type": "code",
   "execution_count": 7,
   "metadata": {
    "scrolled": false
   },
   "outputs": [
    {
     "name": "stdout",
     "output_type": "stream",
     "text": [
      "EPSG:2263\n",
      "<class 'geopandas.geodataframe.GeoDataFrame'>\n",
      "RangeIndex: 4026 entries, 0 to 4025\n",
      "Data columns (total 11 columns):\n",
      " #   Column             Non-Null Count  Dtype         \n",
      "---  ------             --------------  -----         \n",
      " 0   wz_id              4026 non-null   object        \n",
      " 1   segmentid          4026 non-null   object        \n",
      " 2   created_date       4026 non-null   datetime64[ns]\n",
      " 3   closed_date        4026 non-null   datetime64[ns]\n",
      " 4   created_season     4026 non-null   object        \n",
      " 5   closed_season      4026 non-null   object        \n",
      " 6   duration_days      4026 non-null   int64         \n",
      " 7   purpose            4026 non-null   object        \n",
      " 8   geometry           4026 non-null   geometry      \n",
      " 9   length_ft          4026 non-null   float64       \n",
      " 10  bounding_geometry  4026 non-null   geometry      \n",
      "dtypes: datetime64[ns](2), float64(1), geometry(2), int64(1), object(5)\n",
      "memory usage: 346.1+ KB\n"
     ]
    }
   ],
   "source": [
    "# assigning the bouding_geometry as the geometry column\n",
    "gdf_wz = gpd.GeoDataFrame(gdf_wz, geometry='bounding_geometry', crs='EPSG:2263')\n",
    "print(gdf_wz.crs)\n",
    "gdf_wz.info()"
   ]
  },
  {
   "cell_type": "code",
   "execution_count": 8,
   "metadata": {
    "scrolled": true
   },
   "outputs": [
    {
     "data": {
      "text/html": [
       "<div>\n",
       "<style scoped>\n",
       "    .dataframe tbody tr th:only-of-type {\n",
       "        vertical-align: middle;\n",
       "    }\n",
       "\n",
       "    .dataframe tbody tr th {\n",
       "        vertical-align: top;\n",
       "    }\n",
       "\n",
       "    .dataframe thead th {\n",
       "        text-align: right;\n",
       "    }\n",
       "</style>\n",
       "<table border=\"1\" class=\"dataframe\">\n",
       "  <thead>\n",
       "    <tr style=\"text-align: right;\">\n",
       "      <th></th>\n",
       "      <th>wz_id</th>\n",
       "      <th>segmentid</th>\n",
       "      <th>created_date</th>\n",
       "      <th>closed_date</th>\n",
       "      <th>created_season</th>\n",
       "      <th>closed_season</th>\n",
       "      <th>duration_days</th>\n",
       "      <th>purpose</th>\n",
       "      <th>geometry</th>\n",
       "      <th>length_ft</th>\n",
       "      <th>bounding_geometry</th>\n",
       "      <th>bounding_area</th>\n",
       "    </tr>\n",
       "  </thead>\n",
       "  <tbody>\n",
       "    <tr>\n",
       "      <th>0</th>\n",
       "      <td>0_0</td>\n",
       "      <td>[32594]</td>\n",
       "      <td>2017-02-02</td>\n",
       "      <td>2018-01-01</td>\n",
       "      <td>winter</td>\n",
       "      <td>winter</td>\n",
       "      <td>333</td>\n",
       "      <td>[\"['Occupancy Of Roadway As Stipulated']\"]</td>\n",
       "      <td>MULTILINESTRING ((985479.756 205496.239, 98508...</td>\n",
       "      <td>465.818036</td>\n",
       "      <td>LINESTRING (985479.756 205496.239, 985088.432 ...</td>\n",
       "      <td>0.000000e+00</td>\n",
       "    </tr>\n",
       "    <tr>\n",
       "      <th>1</th>\n",
       "      <td>1000_0</td>\n",
       "      <td>[37666 37564 37545 37793 11143 37775 36441 375...</td>\n",
       "      <td>2017-10-27</td>\n",
       "      <td>2017-11-02</td>\n",
       "      <td>fall</td>\n",
       "      <td>fall</td>\n",
       "      <td>6</td>\n",
       "      <td>[\"['Dot In-House Paving']\" \"['Occupancy Of Roa...</td>\n",
       "      <td>MULTILINESTRING ((996814.529 223747.143, 99694...</td>\n",
       "      <td>7383.898198</td>\n",
       "      <td>POLYGON ((997402.151 225811.845, 958431.660 14...</td>\n",
       "      <td>4.252552e+07</td>\n",
       "    </tr>\n",
       "  </tbody>\n",
       "</table>\n",
       "</div>"
      ],
      "text/plain": [
       "    wz_id                                          segmentid created_date  \\\n",
       "0     0_0                                            [32594]   2017-02-02   \n",
       "1  1000_0  [37666 37564 37545 37793 11143 37775 36441 375...   2017-10-27   \n",
       "\n",
       "  closed_date created_season closed_season  duration_days  \\\n",
       "0  2018-01-01         winter        winter            333   \n",
       "1  2017-11-02           fall          fall              6   \n",
       "\n",
       "                                             purpose  \\\n",
       "0         [\"['Occupancy Of Roadway As Stipulated']\"]   \n",
       "1  [\"['Dot In-House Paving']\" \"['Occupancy Of Roa...   \n",
       "\n",
       "                                            geometry    length_ft  \\\n",
       "0  MULTILINESTRING ((985479.756 205496.239, 98508...   465.818036   \n",
       "1  MULTILINESTRING ((996814.529 223747.143, 99694...  7383.898198   \n",
       "\n",
       "                                   bounding_geometry  bounding_area  \n",
       "0  LINESTRING (985479.756 205496.239, 985088.432 ...   0.000000e+00  \n",
       "1  POLYGON ((997402.151 225811.845, 958431.660 14...   4.252552e+07  "
      ]
     },
     "execution_count": 8,
     "metadata": {},
     "output_type": "execute_result"
    }
   ],
   "source": [
    "# getting the area of the bounding rectangle\n",
    "gdf_wz['bounding_area'] = gdf_wz.bounding_geometry.area\n",
    "gdf_wz.head(2)"
   ]
  },
  {
   "cell_type": "markdown",
   "metadata": {},
   "source": [
    "### Visualize the area of work zones"
   ]
  },
  {
   "cell_type": "code",
   "execution_count": 9,
   "metadata": {},
   "outputs": [
    {
     "data": {
      "image/png": "[encoded data removed]",
      "text/plain": [
       "<Figure size 936x504 with 3 Axes>"
      ]
     },
     "metadata": {
      "needs_background": "light"
     },
     "output_type": "display_data"
    }
   ],
   "source": [
    "fig, ax = plt.subplots(1,3, figsize=(13,7))\n",
    "\n",
    "gdf_wz.bounding_area.hist(ax=ax[0])\n",
    "ax[0].set_title('All Data')\n",
    "ax[0].set_xlabel('work zone area')\n",
    "ax[0].set_ylabel('count')\n",
    "\n",
    "gdf_wz.bounding_area.hist(ax=ax[1])\n",
    "ax[1].set_xlim(0, 1*1e6)\n",
    "ax[1].set_title('Limiting axes to view the count of \\nsmaller work zone areas')\n",
    "ax[1].set_xlabel('work zone area')\n",
    "ax[1].set_ylabel('count')\n",
    "\n",
    "gdf_wz.bounding_area.hist(ax=ax[2])\n",
    "ax[2].set_xlim(1*1e9, 7*1e9)\n",
    "ax[2].set_ylim(0,55)\n",
    "ax[2].set_title('Limiting axes to view the count of \\nlarge work zone areas')\n",
    "ax[2].set_xlabel('work zone area')\n",
    "ax[2].set_ylabel('count')\n",
    "\n",
    "plt.tight_layout()\n",
    "plt.subplots_adjust(wspace=0.2)"
   ]
  },
  {
   "cell_type": "markdown",
   "metadata": {},
   "source": [
    "We notice a small number of work zones with unusual large areas. This could be the result of errors in the process we used to creare these work zones. To mitigate for the possibility of errors we will drop large areas. More than 70% of the work zones have an area less 1x1e^6. We will slice the data so that we only keep those records."
   ]
  },
  {
   "cell_type": "markdown",
   "metadata": {},
   "source": [
    "### Slicing the data frame"
   ]
  },
  {
   "cell_type": "code",
   "execution_count": 10,
   "metadata": {
    "scrolled": true
   },
   "outputs": [
    {
     "name": "stdout",
     "output_type": "stream",
     "text": [
      "2934 work zones maintained\n"
     ]
    },
    {
     "data": {
      "image/png": "[encoded data removed]",
      "text/plain": [
       "<Figure size 936x504 with 1 Axes>"
      ]
     },
     "metadata": {
      "needs_background": "light"
     },
     "output_type": "display_data"
    }
   ],
   "source": [
    "gdf_wz = gdf_wz[gdf_wz.bounding_area < 1*1e6]\n",
    "print(f'{gdf_wz.shape[0]} work zones maintained')\n",
    "gdf_wz.plot(facecolor='None', edgecolor='teal', figsize=(13,7))\n",
    "plt.tight_layout()"
   ]
  },
  {
   "cell_type": "code",
   "execution_count": 11,
   "metadata": {},
   "outputs": [],
   "source": [
    "gdf_wz.to_csv('../data/cleaned_data/wz_subset.csv', index=False)"
   ]
  },
  {
   "cell_type": "markdown",
   "metadata": {},
   "source": [
    "### Visualize the type of segments in our sample"
   ]
  },
  {
   "cell_type": "code",
   "execution_count": 12,
   "metadata": {
    "scrolled": true
   },
   "outputs": [
    {
     "data": {
      "text/html": [
       "<div>\n",
       "<style scoped>\n",
       "    .dataframe tbody tr th:only-of-type {\n",
       "        vertical-align: middle;\n",
       "    }\n",
       "\n",
       "    .dataframe tbody tr th {\n",
       "        vertical-align: top;\n",
       "    }\n",
       "\n",
       "    .dataframe thead th {\n",
       "        text-align: right;\n",
       "    }\n",
       "</style>\n",
       "<table border=\"1\" class=\"dataframe\">\n",
       "  <thead>\n",
       "    <tr style=\"text-align: right;\">\n",
       "      <th></th>\n",
       "      <th>wz_id</th>\n",
       "      <th>segmentid</th>\n",
       "      <th>created_date</th>\n",
       "      <th>closed_date</th>\n",
       "      <th>created_season</th>\n",
       "      <th>closed_season</th>\n",
       "      <th>duration_days</th>\n",
       "      <th>purpose</th>\n",
       "      <th>geometry</th>\n",
       "      <th>length_ft</th>\n",
       "      <th>bounding_geometry</th>\n",
       "      <th>bounding_area</th>\n",
       "    </tr>\n",
       "  </thead>\n",
       "  <tbody>\n",
       "    <tr>\n",
       "      <th>0</th>\n",
       "      <td>0_0</td>\n",
       "      <td>[32594]</td>\n",
       "      <td>2017-02-02</td>\n",
       "      <td>2018-01-01</td>\n",
       "      <td>winter</td>\n",
       "      <td>winter</td>\n",
       "      <td>333</td>\n",
       "      <td>[\"['Occupancy Of Roadway As Stipulated']\"]</td>\n",
       "      <td>MULTILINESTRING ((985479.7560875559 205496.239...</td>\n",
       "      <td>465.818036</td>\n",
       "      <td>LINESTRING (985479.7560875559 205496.239369042...</td>\n",
       "      <td>0.000000</td>\n",
       "    </tr>\n",
       "    <tr>\n",
       "      <th>1</th>\n",
       "      <td>1001_0</td>\n",
       "      <td>[32568]</td>\n",
       "      <td>2017-10-27</td>\n",
       "      <td>2017-11-15</td>\n",
       "      <td>fall</td>\n",
       "      <td>fall</td>\n",
       "      <td>19</td>\n",
       "      <td>[\"['Occupancy Of Roadway As Stipulated']\"]</td>\n",
       "      <td>MULTILINESTRING ((985410.5192044964 204937.101...</td>\n",
       "      <td>250.365126</td>\n",
       "      <td>LINESTRING (985410.5192044964 204937.101001921...</td>\n",
       "      <td>0.000000</td>\n",
       "    </tr>\n",
       "    <tr>\n",
       "      <th>2</th>\n",
       "      <td>1003_0</td>\n",
       "      <td>[34055]</td>\n",
       "      <td>2017-10-28</td>\n",
       "      <td>2017-10-29</td>\n",
       "      <td>fall</td>\n",
       "      <td>fall</td>\n",
       "      <td>1</td>\n",
       "      <td>[\"['Occupancy Of Roadway As Stipulated', 'Occu...</td>\n",
       "      <td>MULTILINESTRING ((988001.5347752579 214967.278...</td>\n",
       "      <td>899.266732</td>\n",
       "      <td>LINESTRING (988001.5347752579 214967.278182070...</td>\n",
       "      <td>0.000000</td>\n",
       "    </tr>\n",
       "    <tr>\n",
       "      <th>3</th>\n",
       "      <td>1005_0</td>\n",
       "      <td>[33912]</td>\n",
       "      <td>2017-10-28</td>\n",
       "      <td>2017-11-05</td>\n",
       "      <td>fall</td>\n",
       "      <td>fall</td>\n",
       "      <td>8</td>\n",
       "      <td>[\"['Occupancy Of Roadway As Stipulated', 'Occu...</td>\n",
       "      <td>MULTILINESTRING ((987508.9419750093 212205.611...</td>\n",
       "      <td>906.130259</td>\n",
       "      <td>LINESTRING (987508.9419750093 212205.611092807...</td>\n",
       "      <td>0.000000</td>\n",
       "    </tr>\n",
       "    <tr>\n",
       "      <th>4</th>\n",
       "      <td>1007_0</td>\n",
       "      <td>[32823]</td>\n",
       "      <td>2017-10-28</td>\n",
       "      <td>2017-11-15</td>\n",
       "      <td>fall</td>\n",
       "      <td>fall</td>\n",
       "      <td>18</td>\n",
       "      <td>[\"['Occupancy Of Roadway As Stipulated', 'Plac...</td>\n",
       "      <td>MULTILINESTRING ((986877.5028711883 208974.449...</td>\n",
       "      <td>1019.691818</td>\n",
       "      <td>LINESTRING (986877.5028711883 208974.449318600...</td>\n",
       "      <td>0.000000</td>\n",
       "    </tr>\n",
       "    <tr>\n",
       "      <th>...</th>\n",
       "      <td>...</td>\n",
       "      <td>...</td>\n",
       "      <td>...</td>\n",
       "      <td>...</td>\n",
       "      <td>...</td>\n",
       "      <td>...</td>\n",
       "      <td>...</td>\n",
       "      <td>...</td>\n",
       "      <td>...</td>\n",
       "      <td>...</td>\n",
       "      <td>...</td>\n",
       "      <td>...</td>\n",
       "    </tr>\n",
       "    <tr>\n",
       "      <th>2929</th>\n",
       "      <td>996_0</td>\n",
       "      <td>[45085]</td>\n",
       "      <td>2017-10-26</td>\n",
       "      <td>2017-12-02</td>\n",
       "      <td>fall</td>\n",
       "      <td>winter</td>\n",
       "      <td>37</td>\n",
       "      <td>[\"['Dep Contractor Major Installation Sewer']\"]</td>\n",
       "      <td>MULTILINESTRING ((1007088.065425069 190388.117...</td>\n",
       "      <td>670.815049</td>\n",
       "      <td>LINESTRING (1007088.065425069 190388.117454287...</td>\n",
       "      <td>0.000000</td>\n",
       "    </tr>\n",
       "    <tr>\n",
       "      <th>2930</th>\n",
       "      <td>998_0</td>\n",
       "      <td>[ 65391  65371 106783  65375 222289 222271 222...</td>\n",
       "      <td>2017-10-26</td>\n",
       "      <td>2018-08-30</td>\n",
       "      <td>fall</td>\n",
       "      <td>summer</td>\n",
       "      <td>308</td>\n",
       "      <td>[\"['Dep Contractor Major Installation Sewer']\"]</td>\n",
       "      <td>MULTILINESTRING ((1057959.855137904 198049.023...</td>\n",
       "      <td>1625.247013</td>\n",
       "      <td>POLYGON ((1057588.067065942 198170.074127821, ...</td>\n",
       "      <td>482577.310364</td>\n",
       "    </tr>\n",
       "    <tr>\n",
       "      <th>2931</th>\n",
       "      <td>999_0</td>\n",
       "      <td>[23079]</td>\n",
       "      <td>2017-10-27</td>\n",
       "      <td>2017-10-30</td>\n",
       "      <td>fall</td>\n",
       "      <td>fall</td>\n",
       "      <td>3</td>\n",
       "      <td>[\"['Occupancy Of Roadway As Stipulated', 'Occu...</td>\n",
       "      <td>MULTILINESTRING ((980481.5559758304 197208.690...</td>\n",
       "      <td>292.856526</td>\n",
       "      <td>LINESTRING (980481.5559758304 197208.690998096...</td>\n",
       "      <td>0.000000</td>\n",
       "    </tr>\n",
       "    <tr>\n",
       "      <th>2932</th>\n",
       "      <td>99_0</td>\n",
       "      <td>[ 36264 165477  36371 165611 165476]</td>\n",
       "      <td>2017-04-10</td>\n",
       "      <td>2017-05-14</td>\n",
       "      <td>spring</td>\n",
       "      <td>spring</td>\n",
       "      <td>34</td>\n",
       "      <td>[\"['D.D.C. Contractor Major Reconstruction']\"\\...</td>\n",
       "      <td>MULTILINESTRING ((993062.8192467067 216978.527...</td>\n",
       "      <td>1407.153917</td>\n",
       "      <td>POLYGON ((992168.9600101977 217473.1768714733,...</td>\n",
       "      <td>6643.923611</td>\n",
       "    </tr>\n",
       "    <tr>\n",
       "      <th>2933</th>\n",
       "      <td>9_0</td>\n",
       "      <td>[32572]</td>\n",
       "      <td>2017-02-24</td>\n",
       "      <td>2018-01-01</td>\n",
       "      <td>winter</td>\n",
       "      <td>winter</td>\n",
       "      <td>311</td>\n",
       "      <td>[\"['Occupancy Of Roadway As Stipulated']\"]</td>\n",
       "      <td>MULTILINESTRING ((985618.7682577966 204802.396...</td>\n",
       "      <td>248.017952</td>\n",
       "      <td>LINESTRING (985618.7682577966 204802.396747345...</td>\n",
       "      <td>0.000000</td>\n",
       "    </tr>\n",
       "  </tbody>\n",
       "</table>\n",
       "<p>2934 rows × 12 columns</p>\n",
       "</div>"
      ],
      "text/plain": [
       "       wz_id                                          segmentid created_date  \\\n",
       "0        0_0                                            [32594]   2017-02-02   \n",
       "1     1001_0                                            [32568]   2017-10-27   \n",
       "2     1003_0                                            [34055]   2017-10-28   \n",
       "3     1005_0                                            [33912]   2017-10-28   \n",
       "4     1007_0                                            [32823]   2017-10-28   \n",
       "...      ...                                                ...          ...   \n",
       "2929   996_0                                            [45085]   2017-10-26   \n",
       "2930   998_0  [ 65391  65371 106783  65375 222289 222271 222...   2017-10-26   \n",
       "2931   999_0                                            [23079]   2017-10-27   \n",
       "2932    99_0               [ 36264 165477  36371 165611 165476]   2017-04-10   \n",
       "2933     9_0                                            [32572]   2017-02-24   \n",
       "\n",
       "     closed_date created_season closed_season  duration_days  \\\n",
       "0     2018-01-01         winter        winter            333   \n",
       "1     2017-11-15           fall          fall             19   \n",
       "2     2017-10-29           fall          fall              1   \n",
       "3     2017-11-05           fall          fall              8   \n",
       "4     2017-11-15           fall          fall             18   \n",
       "...          ...            ...           ...            ...   \n",
       "2929  2017-12-02           fall        winter             37   \n",
       "2930  2018-08-30           fall        summer            308   \n",
       "2931  2017-10-30           fall          fall              3   \n",
       "2932  2017-05-14         spring        spring             34   \n",
       "2933  2018-01-01         winter        winter            311   \n",
       "\n",
       "                                                purpose  \\\n",
       "0            [\"['Occupancy Of Roadway As Stipulated']\"]   \n",
       "1            [\"['Occupancy Of Roadway As Stipulated']\"]   \n",
       "2     [\"['Occupancy Of Roadway As Stipulated', 'Occu...   \n",
       "3     [\"['Occupancy Of Roadway As Stipulated', 'Occu...   \n",
       "4     [\"['Occupancy Of Roadway As Stipulated', 'Plac...   \n",
       "...                                                 ...   \n",
       "2929    [\"['Dep Contractor Major Installation Sewer']\"]   \n",
       "2930    [\"['Dep Contractor Major Installation Sewer']\"]   \n",
       "2931  [\"['Occupancy Of Roadway As Stipulated', 'Occu...   \n",
       "2932  [\"['D.D.C. Contractor Major Reconstruction']\"\\...   \n",
       "2933         [\"['Occupancy Of Roadway As Stipulated']\"]   \n",
       "\n",
       "                                               geometry    length_ft  \\\n",
       "0     MULTILINESTRING ((985479.7560875559 205496.239...   465.818036   \n",
       "1     MULTILINESTRING ((985410.5192044964 204937.101...   250.365126   \n",
       "2     MULTILINESTRING ((988001.5347752579 214967.278...   899.266732   \n",
       "3     MULTILINESTRING ((987508.9419750093 212205.611...   906.130259   \n",
       "4     MULTILINESTRING ((986877.5028711883 208974.449...  1019.691818   \n",
       "...                                                 ...          ...   \n",
       "2929  MULTILINESTRING ((1007088.065425069 190388.117...   670.815049   \n",
       "2930  MULTILINESTRING ((1057959.855137904 198049.023...  1625.247013   \n",
       "2931  MULTILINESTRING ((980481.5559758304 197208.690...   292.856526   \n",
       "2932  MULTILINESTRING ((993062.8192467067 216978.527...  1407.153917   \n",
       "2933  MULTILINESTRING ((985618.7682577966 204802.396...   248.017952   \n",
       "\n",
       "                                      bounding_geometry  bounding_area  \n",
       "0     LINESTRING (985479.7560875559 205496.239369042...       0.000000  \n",
       "1     LINESTRING (985410.5192044964 204937.101001921...       0.000000  \n",
       "2     LINESTRING (988001.5347752579 214967.278182070...       0.000000  \n",
       "3     LINESTRING (987508.9419750093 212205.611092807...       0.000000  \n",
       "4     LINESTRING (986877.5028711883 208974.449318600...       0.000000  \n",
       "...                                                 ...            ...  \n",
       "2929  LINESTRING (1007088.065425069 190388.117454287...       0.000000  \n",
       "2930  POLYGON ((1057588.067065942 198170.074127821, ...  482577.310364  \n",
       "2931  LINESTRING (980481.5559758304 197208.690998096...       0.000000  \n",
       "2932  POLYGON ((992168.9600101977 217473.1768714733,...    6643.923611  \n",
       "2933  LINESTRING (985618.7682577966 204802.396747345...       0.000000  \n",
       "\n",
       "[2934 rows x 12 columns]"
      ]
     },
     "execution_count": 12,
     "metadata": {},
     "output_type": "execute_result"
    }
   ],
   "source": [
    "df_wz = pd.read_csv('../data/cleaned_data/wz_subset.csv')\n",
    "df_wz"
   ]
  },
  {
   "cell_type": "code",
   "execution_count": 13,
   "metadata": {},
   "outputs": [
    {
     "data": {
      "text/plain": [
       "str"
      ]
     },
     "execution_count": 13,
     "metadata": {},
     "output_type": "execute_result"
    }
   ],
   "source": [
    "type(df_wz.segmentid[0])"
   ]
  },
  {
   "cell_type": "code",
   "execution_count": 14,
   "metadata": {},
   "outputs": [],
   "source": [
    "def string_to_list(x):\n",
    "    ''' a function that takes in a string and transfer it into a list of numbers'''\n",
    "    return [int(_) for _ in x.strip('[]').split(' ') if _ != '']"
   ]
  },
  {
   "cell_type": "code",
   "execution_count": 15,
   "metadata": {},
   "outputs": [
    {
     "data": {
      "text/html": [
       "<div>\n",
       "<style scoped>\n",
       "    .dataframe tbody tr th:only-of-type {\n",
       "        vertical-align: middle;\n",
       "    }\n",
       "\n",
       "    .dataframe tbody tr th {\n",
       "        vertical-align: top;\n",
       "    }\n",
       "\n",
       "    .dataframe thead th {\n",
       "        text-align: right;\n",
       "    }\n",
       "</style>\n",
       "<table border=\"1\" class=\"dataframe\">\n",
       "  <thead>\n",
       "    <tr style=\"text-align: right;\">\n",
       "      <th></th>\n",
       "      <th>wz_id</th>\n",
       "      <th>segmentid</th>\n",
       "      <th>created_date</th>\n",
       "      <th>closed_date</th>\n",
       "      <th>created_season</th>\n",
       "      <th>closed_season</th>\n",
       "      <th>duration_days</th>\n",
       "      <th>purpose</th>\n",
       "      <th>geometry</th>\n",
       "      <th>length_ft</th>\n",
       "      <th>bounding_geometry</th>\n",
       "      <th>bounding_area</th>\n",
       "    </tr>\n",
       "  </thead>\n",
       "  <tbody>\n",
       "    <tr>\n",
       "      <th>2932</th>\n",
       "      <td>99_0</td>\n",
       "      <td>[36264, 165477, 36371, 165611, 165476]</td>\n",
       "      <td>2017-04-10</td>\n",
       "      <td>2017-05-14</td>\n",
       "      <td>spring</td>\n",
       "      <td>spring</td>\n",
       "      <td>34</td>\n",
       "      <td>[\"['D.D.C. Contractor Major Reconstruction']\"\\...</td>\n",
       "      <td>MULTILINESTRING ((993062.8192467067 216978.527...</td>\n",
       "      <td>1407.153917</td>\n",
       "      <td>POLYGON ((992168.9600101977 217473.1768714733,...</td>\n",
       "      <td>6643.923611</td>\n",
       "    </tr>\n",
       "    <tr>\n",
       "      <th>2933</th>\n",
       "      <td>9_0</td>\n",
       "      <td>[32572]</td>\n",
       "      <td>2017-02-24</td>\n",
       "      <td>2018-01-01</td>\n",
       "      <td>winter</td>\n",
       "      <td>winter</td>\n",
       "      <td>311</td>\n",
       "      <td>[\"['Occupancy Of Roadway As Stipulated']\"]</td>\n",
       "      <td>MULTILINESTRING ((985618.7682577966 204802.396...</td>\n",
       "      <td>248.017952</td>\n",
       "      <td>LINESTRING (985618.7682577966 204802.396747345...</td>\n",
       "      <td>0.000000</td>\n",
       "    </tr>\n",
       "  </tbody>\n",
       "</table>\n",
       "</div>"
      ],
      "text/plain": [
       "     wz_id                               segmentid created_date closed_date  \\\n",
       "2932  99_0  [36264, 165477, 36371, 165611, 165476]   2017-04-10  2017-05-14   \n",
       "2933   9_0                                 [32572]   2017-02-24  2018-01-01   \n",
       "\n",
       "     created_season closed_season  duration_days  \\\n",
       "2932         spring        spring             34   \n",
       "2933         winter        winter            311   \n",
       "\n",
       "                                                purpose  \\\n",
       "2932  [\"['D.D.C. Contractor Major Reconstruction']\"\\...   \n",
       "2933         [\"['Occupancy Of Roadway As Stipulated']\"]   \n",
       "\n",
       "                                               geometry    length_ft  \\\n",
       "2932  MULTILINESTRING ((993062.8192467067 216978.527...  1407.153917   \n",
       "2933  MULTILINESTRING ((985618.7682577966 204802.396...   248.017952   \n",
       "\n",
       "                                      bounding_geometry  bounding_area  \n",
       "2932  POLYGON ((992168.9600101977 217473.1768714733,...    6643.923611  \n",
       "2933  LINESTRING (985618.7682577966 204802.396747345...       0.000000  "
      ]
     },
     "execution_count": 15,
     "metadata": {},
     "output_type": "execute_result"
    }
   ],
   "source": [
    "# transforming the the segmentid column using the string_to_list function\n",
    "df_wz.segmentid = df_wz.segmentid.apply(string_to_list)\n",
    "df_wz.tail(2)"
   ]
  },
  {
   "cell_type": "code",
   "execution_count": 16,
   "metadata": {},
   "outputs": [
    {
     "data": {
      "text/plain": [
       "list"
      ]
     },
     "execution_count": 16,
     "metadata": {},
     "output_type": "execute_result"
    }
   ],
   "source": [
    "type(df_wz.segmentid[0])"
   ]
  },
  {
   "cell_type": "code",
   "execution_count": 29,
   "metadata": {
    "scrolled": false
   },
   "outputs": [
    {
     "name": "stdout",
     "output_type": "stream",
     "text": [
      "(8108, 12)\n"
     ]
    },
    {
     "data": {
      "text/html": [
       "<div>\n",
       "<style scoped>\n",
       "    .dataframe tbody tr th:only-of-type {\n",
       "        vertical-align: middle;\n",
       "    }\n",
       "\n",
       "    .dataframe tbody tr th {\n",
       "        vertical-align: top;\n",
       "    }\n",
       "\n",
       "    .dataframe thead th {\n",
       "        text-align: right;\n",
       "    }\n",
       "</style>\n",
       "<table border=\"1\" class=\"dataframe\">\n",
       "  <thead>\n",
       "    <tr style=\"text-align: right;\">\n",
       "      <th></th>\n",
       "      <th>wz_id</th>\n",
       "      <th>segmentid</th>\n",
       "      <th>created_date</th>\n",
       "      <th>closed_date</th>\n",
       "      <th>created_season</th>\n",
       "      <th>closed_season</th>\n",
       "      <th>duration_days</th>\n",
       "      <th>purpose</th>\n",
       "      <th>geometry</th>\n",
       "      <th>length_ft</th>\n",
       "      <th>bounding_geometry</th>\n",
       "      <th>bounding_area</th>\n",
       "    </tr>\n",
       "  </thead>\n",
       "  <tbody>\n",
       "    <tr>\n",
       "      <th>0</th>\n",
       "      <td>0_0</td>\n",
       "      <td>32594</td>\n",
       "      <td>2017-02-02</td>\n",
       "      <td>2018-01-01</td>\n",
       "      <td>winter</td>\n",
       "      <td>winter</td>\n",
       "      <td>333</td>\n",
       "      <td>[\"['Occupancy Of Roadway As Stipulated']\"]</td>\n",
       "      <td>MULTILINESTRING ((985479.7560875559 205496.239...</td>\n",
       "      <td>465.818036</td>\n",
       "      <td>LINESTRING (985479.7560875559 205496.239369042...</td>\n",
       "      <td>0.0</td>\n",
       "    </tr>\n",
       "    <tr>\n",
       "      <th>1</th>\n",
       "      <td>1001_0</td>\n",
       "      <td>32568</td>\n",
       "      <td>2017-10-27</td>\n",
       "      <td>2017-11-15</td>\n",
       "      <td>fall</td>\n",
       "      <td>fall</td>\n",
       "      <td>19</td>\n",
       "      <td>[\"['Occupancy Of Roadway As Stipulated']\"]</td>\n",
       "      <td>MULTILINESTRING ((985410.5192044964 204937.101...</td>\n",
       "      <td>250.365126</td>\n",
       "      <td>LINESTRING (985410.5192044964 204937.101001921...</td>\n",
       "      <td>0.0</td>\n",
       "    </tr>\n",
       "  </tbody>\n",
       "</table>\n",
       "</div>"
      ],
      "text/plain": [
       "    wz_id segmentid created_date closed_date created_season closed_season  \\\n",
       "0     0_0     32594   2017-02-02  2018-01-01         winter        winter   \n",
       "1  1001_0     32568   2017-10-27  2017-11-15           fall          fall   \n",
       "\n",
       "   duration_days                                     purpose  \\\n",
       "0            333  [\"['Occupancy Of Roadway As Stipulated']\"]   \n",
       "1             19  [\"['Occupancy Of Roadway As Stipulated']\"]   \n",
       "\n",
       "                                            geometry   length_ft  \\\n",
       "0  MULTILINESTRING ((985479.7560875559 205496.239...  465.818036   \n",
       "1  MULTILINESTRING ((985410.5192044964 204937.101...  250.365126   \n",
       "\n",
       "                                   bounding_geometry  bounding_area  \n",
       "0  LINESTRING (985479.7560875559 205496.239369042...            0.0  \n",
       "1  LINESTRING (985410.5192044964 204937.101001921...            0.0  "
      ]
     },
     "execution_count": 29,
     "metadata": {},
     "output_type": "execute_result"
    }
   ],
   "source": [
    "# Transform each element of a list to a row, replicating index values.\n",
    "df_wz = df_wz.explode('segmentid')\n",
    "print(df_wz.shape)\n",
    "df_wz.head(2)"
   ]
  },
  {
   "cell_type": "markdown",
   "metadata": {},
   "source": [
    "### Importing lion"
   ]
  },
  {
   "cell_type": "code",
   "execution_count": 60,
   "metadata": {},
   "outputs": [
    {
     "data": {
      "text/html": [
       "<div>\n",
       "<style scoped>\n",
       "    .dataframe tbody tr th:only-of-type {\n",
       "        vertical-align: middle;\n",
       "    }\n",
       "\n",
       "    .dataframe tbody tr th {\n",
       "        vertical-align: top;\n",
       "    }\n",
       "\n",
       "    .dataframe thead th {\n",
       "        text-align: right;\n",
       "    }\n",
       "</style>\n",
       "<table border=\"1\" class=\"dataframe\">\n",
       "  <thead>\n",
       "    <tr style=\"text-align: right;\">\n",
       "      <th></th>\n",
       "      <th>segment_id</th>\n",
       "      <th>feat_typ</th>\n",
       "      <th>seg_typ</th>\n",
       "      <th>rw_type</th>\n",
       "      <th>traf_dir</th>\n",
       "      <th>loc_status</th>\n",
       "      <th>curve_flag</th>\n",
       "      <th>radius</th>\n",
       "      <th>st_wid_min</th>\n",
       "      <th>st_wid_max</th>\n",
       "      <th>bike_lane</th>\n",
       "      <th>b_traf_dir</th>\n",
       "      <th>n_trvl_ln</th>\n",
       "      <th>n_park_ln</th>\n",
       "      <th>n_total_ln</th>\n",
       "      <th>posted_spd</th>\n",
       "      <th>snow_prio</th>\n",
       "      <th>geometry</th>\n",
       "    </tr>\n",
       "  </thead>\n",
       "  <tbody>\n",
       "    <tr>\n",
       "      <th>0</th>\n",
       "      <td>0078126</td>\n",
       "      <td>0</td>\n",
       "      <td>U</td>\n",
       "      <td>1</td>\n",
       "      <td>T</td>\n",
       "      <td>X</td>\n",
       "      <td>None</td>\n",
       "      <td>0</td>\n",
       "      <td>34.0</td>\n",
       "      <td>34.0</td>\n",
       "      <td>None</td>\n",
       "      <td>None</td>\n",
       "      <td>2</td>\n",
       "      <td>2</td>\n",
       "      <td>4</td>\n",
       "      <td>25</td>\n",
       "      <td>S</td>\n",
       "      <td>LINESTRING (-73.90347 40.83035, -73.90238 40.8...</td>\n",
       "    </tr>\n",
       "    <tr>\n",
       "      <th>1</th>\n",
       "      <td>0079796</td>\n",
       "      <td>0</td>\n",
       "      <td>U</td>\n",
       "      <td>1</td>\n",
       "      <td>A</td>\n",
       "      <td>None</td>\n",
       "      <td>None</td>\n",
       "      <td>0</td>\n",
       "      <td>30.0</td>\n",
       "      <td>30.0</td>\n",
       "      <td>None</td>\n",
       "      <td>None</td>\n",
       "      <td>1</td>\n",
       "      <td>2</td>\n",
       "      <td>3</td>\n",
       "      <td>25</td>\n",
       "      <td>S</td>\n",
       "      <td>LINESTRING (-73.90120 40.86661, -73.90207 40.8...</td>\n",
       "    </tr>\n",
       "  </tbody>\n",
       "</table>\n",
       "</div>"
      ],
      "text/plain": [
       "  segment_id feat_typ seg_typ rw_type traf_dir loc_status curve_flag  radius  \\\n",
       "0    0078126        0       U       1        T          X       None       0   \n",
       "1    0079796        0       U       1        A       None       None       0   \n",
       "\n",
       "   st_wid_min  st_wid_max bike_lane b_traf_dir n_trvl_ln n_park_ln n_total_ln  \\\n",
       "0        34.0        34.0      None       None         2         2          4   \n",
       "1        30.0        30.0      None       None         1         2          3   \n",
       "\n",
       "  posted_spd snow_prio                                           geometry  \n",
       "0         25         S  LINESTRING (-73.90347 40.83035, -73.90238 40.8...  \n",
       "1         25         S  LINESTRING (-73.90120 40.86661, -73.90207 40.8...  "
      ]
     },
     "execution_count": 60,
     "metadata": {},
     "output_type": "execute_result"
    }
   ],
   "source": [
    "# make sure you run the 'lion_00_data_wrangling_&_filtration' notebook to get the lion_filtered_sub.csv data set used\n",
    "# import lion dataset\n",
    "lion = gpd.read_file('../data/cleaned_data/lion_filtered_sub.shp')\n",
    "lion.head(2)"
   ]
  },
  {
   "cell_type": "code",
   "execution_count": 62,
   "metadata": {},
   "outputs": [
    {
     "data": {
      "text/plain": [
       "numpy.int32"
      ]
     },
     "execution_count": 62,
     "metadata": {},
     "output_type": "execute_result"
    }
   ],
   "source": [
    "# change segment id column type to integer\n",
    "lion.segment_id = lion.segment_id.astype(int)\n",
    "type(lion.segment_id[0])"
   ]
  },
  {
   "cell_type": "code",
   "execution_count": 65,
   "metadata": {},
   "outputs": [
    {
     "name": "stdout",
     "output_type": "stream",
     "text": [
      "(8108, 15)\n"
     ]
    },
    {
     "data": {
      "text/html": [
       "<div>\n",
       "<style scoped>\n",
       "    .dataframe tbody tr th:only-of-type {\n",
       "        vertical-align: middle;\n",
       "    }\n",
       "\n",
       "    .dataframe tbody tr th {\n",
       "        vertical-align: top;\n",
       "    }\n",
       "\n",
       "    .dataframe thead th {\n",
       "        text-align: right;\n",
       "    }\n",
       "</style>\n",
       "<table border=\"1\" class=\"dataframe\">\n",
       "  <thead>\n",
       "    <tr style=\"text-align: right;\">\n",
       "      <th></th>\n",
       "      <th>segment_id</th>\n",
       "      <th>feat_typ</th>\n",
       "      <th>seg_typ</th>\n",
       "      <th>rw_type</th>\n",
       "      <th>wz_id</th>\n",
       "      <th>created_date</th>\n",
       "      <th>closed_date</th>\n",
       "      <th>created_season</th>\n",
       "      <th>closed_season</th>\n",
       "      <th>duration_days</th>\n",
       "      <th>purpose</th>\n",
       "      <th>geometry</th>\n",
       "      <th>length_ft</th>\n",
       "      <th>bounding_geometry</th>\n",
       "      <th>bounding_area</th>\n",
       "    </tr>\n",
       "  </thead>\n",
       "  <tbody>\n",
       "    <tr>\n",
       "      <th>0</th>\n",
       "      <td>78338</td>\n",
       "      <td>0</td>\n",
       "      <td>U</td>\n",
       "      <td>1</td>\n",
       "      <td>2221_0</td>\n",
       "      <td>2018-09-13</td>\n",
       "      <td>2018-12-11</td>\n",
       "      <td>summer</td>\n",
       "      <td>winter</td>\n",
       "      <td>89</td>\n",
       "      <td>[\"['Dot In-House Paving']\"]</td>\n",
       "      <td>MULTILINESTRING ((1011187.692800719 244916.917...</td>\n",
       "      <td>4393.636015</td>\n",
       "      <td>POLYGON ((1011439.842232902 244765.954998563, ...</td>\n",
       "      <td>656616.673771</td>\n",
       "    </tr>\n",
       "    <tr>\n",
       "      <th>1</th>\n",
       "      <td>73402</td>\n",
       "      <td>0</td>\n",
       "      <td>U</td>\n",
       "      <td>1</td>\n",
       "      <td>1787_0</td>\n",
       "      <td>2018-06-11</td>\n",
       "      <td>2018-10-06</td>\n",
       "      <td>summer</td>\n",
       "      <td>fall</td>\n",
       "      <td>117</td>\n",
       "      <td>[\"['Contract Roadway Milling', 'Dot In-House P...</td>\n",
       "      <td>MULTILINESTRING ((1010111.109969165 261259.149...</td>\n",
       "      <td>4884.375914</td>\n",
       "      <td>POLYGON ((1009528.607427519 260203.5293801535,...</td>\n",
       "      <td>770691.876682</td>\n",
       "    </tr>\n",
       "  </tbody>\n",
       "</table>\n",
       "</div>"
      ],
      "text/plain": [
       "  segment_id feat_typ seg_typ rw_type   wz_id created_date closed_date  \\\n",
       "0      78338        0       U       1  2221_0   2018-09-13  2018-12-11   \n",
       "1      73402        0       U       1  1787_0   2018-06-11  2018-10-06   \n",
       "\n",
       "  created_season closed_season  duration_days  \\\n",
       "0         summer        winter             89   \n",
       "1         summer          fall            117   \n",
       "\n",
       "                                             purpose  \\\n",
       "0                        [\"['Dot In-House Paving']\"]   \n",
       "1  [\"['Contract Roadway Milling', 'Dot In-House P...   \n",
       "\n",
       "                                            geometry    length_ft  \\\n",
       "0  MULTILINESTRING ((1011187.692800719 244916.917...  4393.636015   \n",
       "1  MULTILINESTRING ((1010111.109969165 261259.149...  4884.375914   \n",
       "\n",
       "                                   bounding_geometry  bounding_area  \n",
       "0  POLYGON ((1011439.842232902 244765.954998563, ...  656616.673771  \n",
       "1  POLYGON ((1009528.607427519 260203.5293801535,...  770691.876682  "
      ]
     },
     "execution_count": 65,
     "metadata": {},
     "output_type": "execute_result"
    }
   ],
   "source": [
    "# merge to lion \n",
    "wz_lion = lion[['segment_id', 'feat_typ', 'seg_typ', 'rw_type' ]].merge(df_wz, left_on='segment_id', right_on='segmentid').drop(columns=['segmentid'])\n",
    "print(wz_lion.shape)\n",
    "wz_lion.head(2)"
   ]
  },
  {
   "cell_type": "code",
   "execution_count": 67,
   "metadata": {},
   "outputs": [
    {
     "data": {
      "text/plain": [
       "str"
      ]
     },
     "execution_count": 67,
     "metadata": {},
     "output_type": "execute_result"
    }
   ],
   "source": [
    "type(wz_lion.feat_typ[0])"
   ]
  },
  {
   "cell_type": "code",
   "execution_count": 125,
   "metadata": {},
   "outputs": [
    {
     "data": {
      "image/png": "[encoded data removed]",
      "text/plain": [
       "<Figure size 936x504 with 3 Axes>"
      ]
     },
     "metadata": {
      "needs_background": "light"
     },
     "output_type": "display_data"
    }
   ],
   "source": [
    "fig, (ax1, ax2, ax3) = plt.subplots(1, 3, figsize=(13,7))\n",
    "\n",
    "wz_lion.feat_typ.value_counts().plot(kind='bar', color='teal', width=.3, ax=ax1)\n",
    "ax1.set_title('Feature Type', fontsize=20)\n",
    "labels = ['street', 'private\\nstreet']\n",
    "ax1.set_xticklabels(labels, fontsize=16, rotation='horizontal')\n",
    "for p in ax1.patches:\n",
    "    ax1.annotate(str(p.get_height()), (p.get_x(), p.get_height()*1.01),\n",
    "                    ha='center', va='bottom')\n",
    "\n",
    "wz_lion.seg_typ.value_counts().plot(kind='bar', color='teal', ax=ax2)\n",
    "ax2.set_title('Segment Type', fontsize=20)\n",
    "labels = ['undivide\\nstreet', 'both\\ngeneric\\n& roadbed', 'entrance\\nexit ramp']\n",
    "ax2.set_xticklabels(labels, fontsize=16, rotation='horizontal')\n",
    "for p in ax2.patches:\n",
    "    ax2.annotate(str(p.get_height()), (p.get_x(), p.get_height()),\n",
    "                    ha='center', va='bottom')\n",
    "    \n",
    "\n",
    "wz_lion.rw_type.value_counts().plot(kind='bar', color='teal', ax=ax3)\n",
    "ax3.set_title('Roadway Type', fontsize=20)\n",
    "labels = ['street', 'Ramp', 'Bridge']\n",
    "ax3.set_xticklabels(labels, fontsize=16, rotation='horizontal')\n",
    "for p in ax3.patches:\n",
    "    ax3.annotate(str(p.get_height()), (p.get_x(), p.get_height()*1.01),\n",
    "                    ha='center', va='bottom')\n",
    "    \n",
    "plt.tight_layout()"
   ]
  }
 ],
 "metadata": {
  "kernelspec": {
   "display_name": "Python 3",
   "language": "python",
   "name": "python3"
  },
  "language_info": {
   "codemirror_mode": {
    "name": "ipython",
    "version": 3
   },
   "file_extension": ".py",
   "mimetype": "text/x-python",
   "name": "python",
   "nbconvert_exporter": "python",
   "pygments_lexer": "ipython3",
   "version": "3.8.2"
  }
 },
 "nbformat": 4,
 "nbformat_minor": 4
}
