{
 "cells": [
  {
   "cell_type": "markdown",
   "metadata": {},
   "source": [
    "# crash_01_data_wrangling_with_shst"
   ]
  },
  {
   "cell_type": "markdown",
   "metadata": {},
   "source": [
    "This notebook is for mapping NYC crash dataset on Sharedstreet geometry. It contains three chapters like below:"
   ]
  },
  {
   "cell_type": "markdown",
   "metadata": {},
   "source": [
    "- **0. Pre-processing & making small batches**: Because the processed vehicle collision dataset is too big to apply Sharedstreet API in the local machine, we will divide the dataset into small batches to solve the problem. Each batch will contain less than 60000 crash records.\n",
    "<br>\n",
    "\n",
    "- **1. Data wrangling with Sharedstreets API**: This chapter should be conducted outside of this notebook. We included an URL of a pdf file 'how to use Sharedstreet API with Docker' \n",
    "<br>\n",
    "\n",
    "- **2. Processing Sharedstreet results** : This chapter is for processing the results of 'chapter 1' and merging the results files into one geojson file. "
   ]
  },
  {
   "cell_type": "markdown",
   "metadata": {},
   "source": [
    "## 0. Pre-processing & making small batches"
   ]
  },
  {
   "cell_type": "code",
   "execution_count": 2,
   "metadata": {},
   "outputs": [],
   "source": [
    "# import libraries\n",
    "import pandas as pd\n",
    "import geopandas as gpd\n",
    "import numpy as np\n",
    "from shapely.geometry import Point"
   ]
  },
  {
   "cell_type": "code",
   "execution_count": 3,
   "metadata": {},
   "outputs": [],
   "source": [
    "# make sure that you run the 'crash_00_data_wrangling' notebook to get the '511_mv_collisions.csv'\n",
    "# import the crash dataset\n",
    "gdf_crash = pd.read_csv('../data/cleaned_data/511_mv_collisions.csv')"
   ]
  },
  {
   "cell_type": "code",
   "execution_count": 4,
   "metadata": {},
   "outputs": [],
   "source": [
    "# make a list of crash locations. we will use this as a 'geometry' column in GeoDataFrame\n",
    "points = [Point(x,y) for x,y in zip(gdf_crash['longitude'],gdf_crash['latitude'])]"
   ]
  },
  {
   "cell_type": "code",
   "execution_count": 5,
   "metadata": {},
   "outputs": [],
   "source": [
    "# convert pd.DataFrame into gpd.GeoDataFrame\n",
    "gdf_crash = gpd.GeoDataFrame(gdf_crash, geometry=points)\n",
    "gdf_crash['crash_date'] = pd.to_datetime(gdf_crash['crash_date']) "
   ]
  },
  {
   "cell_type": "code",
   "execution_count": 6,
   "metadata": {},
   "outputs": [],
   "source": [
    "# extract 'year'. the small batches will be made based on this column\n",
    "gdf_crash['year'] = gdf_crash['crash_date'].apply(lambda x: x.year)"
   ]
  },
  {
   "cell_type": "code",
   "execution_count": 7,
   "metadata": {},
   "outputs": [
    {
     "data": {
      "text/html": [
       "<div>\n",
       "<style scoped>\n",
       "    .dataframe tbody tr th:only-of-type {\n",
       "        vertical-align: middle;\n",
       "    }\n",
       "\n",
       "    .dataframe tbody tr th {\n",
       "        vertical-align: top;\n",
       "    }\n",
       "\n",
       "    .dataframe thead th {\n",
       "        text-align: right;\n",
       "    }\n",
       "</style>\n",
       "<table border=\"1\" class=\"dataframe\">\n",
       "  <thead>\n",
       "    <tr style=\"text-align: right;\">\n",
       "      <th></th>\n",
       "      <th>crash_date</th>\n",
       "      <th>crash_time</th>\n",
       "      <th>borough</th>\n",
       "      <th>zip_code</th>\n",
       "      <th>latitude</th>\n",
       "      <th>longitude</th>\n",
       "      <th>location</th>\n",
       "      <th>on_street_name</th>\n",
       "      <th>cross_street_name</th>\n",
       "      <th>off_street_name</th>\n",
       "      <th>...</th>\n",
       "      <th>vehicle_type_code_3</th>\n",
       "      <th>vehicle_type_code_4</th>\n",
       "      <th>vehicle_type_code_5</th>\n",
       "      <th>geometry</th>\n",
       "      <th>index_right</th>\n",
       "      <th>boro_code</th>\n",
       "      <th>boro_name</th>\n",
       "      <th>shape_area</th>\n",
       "      <th>shape_leng</th>\n",
       "      <th>year</th>\n",
       "    </tr>\n",
       "  </thead>\n",
       "  <tbody>\n",
       "    <tr>\n",
       "      <th>0</th>\n",
       "      <td>2016-10-01</td>\n",
       "      <td>20:20</td>\n",
       "      <td>manhattan</td>\n",
       "      <td>10038.0</td>\n",
       "      <td>40.711567</td>\n",
       "      <td>-74.00774</td>\n",
       "      <td>POINT (-74.00774 40.711567)</td>\n",
       "      <td>NaN</td>\n",
       "      <td>NaN</td>\n",
       "      <td>20        park row</td>\n",
       "      <td>...</td>\n",
       "      <td>NaN</td>\n",
       "      <td>NaN</td>\n",
       "      <td>NaN</td>\n",
       "      <td>POINT (-74.00774 40.71157)</td>\n",
       "      <td>4</td>\n",
       "      <td>1.0</td>\n",
       "      <td>Manhattan</td>\n",
       "      <td>9.442946e+08</td>\n",
       "      <td>203803.483188</td>\n",
       "      <td>2016</td>\n",
       "    </tr>\n",
       "    <tr>\n",
       "      <th>1</th>\n",
       "      <td>2016-10-01</td>\n",
       "      <td>1:40</td>\n",
       "      <td>NaN</td>\n",
       "      <td>NaN</td>\n",
       "      <td>40.654984</td>\n",
       "      <td>-74.00711</td>\n",
       "      <td>POINT (-74.00711 40.654984)</td>\n",
       "      <td>gowanus expy (bqe)</td>\n",
       "      <td>NaN</td>\n",
       "      <td>NaN</td>\n",
       "      <td>...</td>\n",
       "      <td>NaN</td>\n",
       "      <td>NaN</td>\n",
       "      <td>NaN</td>\n",
       "      <td>POINT (-74.00711 40.65498)</td>\n",
       "      <td>2</td>\n",
       "      <td>3.0</td>\n",
       "      <td>Brooklyn</td>\n",
       "      <td>2.684410e+09</td>\n",
       "      <td>234924.030131</td>\n",
       "      <td>2016</td>\n",
       "    </tr>\n",
       "    <tr>\n",
       "      <th>2</th>\n",
       "      <td>2016-10-01</td>\n",
       "      <td>22:30</td>\n",
       "      <td>manhattan</td>\n",
       "      <td>10032.0</td>\n",
       "      <td>40.837803</td>\n",
       "      <td>-73.94215</td>\n",
       "      <td>POINT (-73.94215 40.837803)</td>\n",
       "      <td>west 163 street</td>\n",
       "      <td>broadway</td>\n",
       "      <td>NaN</td>\n",
       "      <td>...</td>\n",
       "      <td>NaN</td>\n",
       "      <td>NaN</td>\n",
       "      <td>NaN</td>\n",
       "      <td>POINT (-73.94215 40.83780)</td>\n",
       "      <td>4</td>\n",
       "      <td>1.0</td>\n",
       "      <td>Manhattan</td>\n",
       "      <td>9.442946e+08</td>\n",
       "      <td>203803.483188</td>\n",
       "      <td>2016</td>\n",
       "    </tr>\n",
       "  </tbody>\n",
       "</table>\n",
       "<p>3 rows × 36 columns</p>\n",
       "</div>"
      ],
      "text/plain": [
       "  crash_date crash_time    borough  zip_code   latitude  longitude  \\\n",
       "0 2016-10-01      20:20  manhattan   10038.0  40.711567  -74.00774   \n",
       "1 2016-10-01       1:40        NaN       NaN  40.654984  -74.00711   \n",
       "2 2016-10-01      22:30  manhattan   10032.0  40.837803  -73.94215   \n",
       "\n",
       "                      location                    on_street_name  \\\n",
       "0  POINT (-74.00774 40.711567)                               NaN   \n",
       "1  POINT (-74.00711 40.654984)  gowanus expy (bqe)                 \n",
       "2  POINT (-73.94215 40.837803)  west 163 street                    \n",
       "\n",
       "  cross_street_name                           off_street_name  ...  \\\n",
       "0               NaN  20        park row                        ...   \n",
       "1               NaN                                       NaN  ...   \n",
       "2          broadway                                       NaN  ...   \n",
       "\n",
       "   vehicle_type_code_3  vehicle_type_code_4  vehicle_type_code_5  \\\n",
       "0                  NaN                  NaN                  NaN   \n",
       "1                  NaN                  NaN                  NaN   \n",
       "2                  NaN                  NaN                  NaN   \n",
       "\n",
       "                     geometry  index_right  boro_code  boro_name  \\\n",
       "0  POINT (-74.00774 40.71157)            4        1.0  Manhattan   \n",
       "1  POINT (-74.00711 40.65498)            2        3.0   Brooklyn   \n",
       "2  POINT (-73.94215 40.83780)            4        1.0  Manhattan   \n",
       "\n",
       "     shape_area     shape_leng  year  \n",
       "0  9.442946e+08  203803.483188  2016  \n",
       "1  2.684410e+09  234924.030131  2016  \n",
       "2  9.442946e+08  203803.483188  2016  \n",
       "\n",
       "[3 rows x 36 columns]"
      ]
     },
     "execution_count": 7,
     "metadata": {},
     "output_type": "execute_result"
    }
   ],
   "source": [
    "gdf_crash.head(3)"
   ]
  },
  {
   "cell_type": "code",
   "execution_count": 8,
   "metadata": {},
   "outputs": [
    {
     "data": {
      "text/plain": [
       "array([2016, 2017, 2018, 2019, 2020], dtype=int64)"
      ]
     },
     "execution_count": 8,
     "metadata": {},
     "output_type": "execute_result"
    }
   ],
   "source": [
    "gdf_crash['year'].unique()"
   ]
  },
  {
   "cell_type": "code",
   "execution_count": 9,
   "metadata": {},
   "outputs": [],
   "source": [
    "# simplify the dataset\n",
    "gdf_crash = gdf_crash.loc[:,['collision_id','year','geometry','crash_date']]"
   ]
  },
  {
   "cell_type": "markdown",
   "metadata": {},
   "source": [
    "## 2016"
   ]
  },
  {
   "cell_type": "code",
   "execution_count": 9,
   "metadata": {},
   "outputs": [],
   "source": [
    "# filter dataset \n",
    "gdf_crash_2016 = gdf_crash.loc[gdf_crash['year']==2016]"
   ]
  },
  {
   "cell_type": "code",
   "execution_count": 10,
   "metadata": {},
   "outputs": [
    {
     "data": {
      "text/plain": [
       "(55097, 4)"
      ]
     },
     "execution_count": 10,
     "metadata": {},
     "output_type": "execute_result"
    }
   ],
   "source": [
    "gdf_crash_2016.shape"
   ]
  },
  {
   "cell_type": "code",
   "execution_count": 11,
   "metadata": {},
   "outputs": [],
   "source": [
    "gdf_crash_2016 = gdf_crash_2016.to_file('../data/sharedstreets_results/crash/2016/before_applying/gdf_crash_2016.geojson',\n",
    "                              driver='GeoJSON')"
   ]
  },
  {
   "cell_type": "markdown",
   "metadata": {},
   "source": [
    "## 2017"
   ]
  },
  {
   "cell_type": "code",
   "execution_count": 11,
   "metadata": {},
   "outputs": [],
   "source": [
    "# filter dataset\n",
    "gdf_crash_2017 = gdf_crash.loc[gdf_crash['year']==2017]"
   ]
  },
  {
   "cell_type": "code",
   "execution_count": 12,
   "metadata": {},
   "outputs": [
    {
     "data": {
      "text/plain": [
       "(216863, 4)"
      ]
     },
     "execution_count": 12,
     "metadata": {},
     "output_type": "execute_result"
    }
   ],
   "source": [
    "gdf_crash_2017.shape"
   ]
  },
  {
   "cell_type": "code",
   "execution_count": 13,
   "metadata": {},
   "outputs": [],
   "source": [
    "# divde 2017 crash dataframe into small batches\n",
    "gdf_crash_2017_0_60000 = gdf_crash_2017.iloc[:60000,:]\n",
    "gdf_crash_2017_60000_120000 = gdf_crash_2017.iloc[60000:120000,:]\n",
    "gdf_crash_2017_120000_180000 = gdf_crash_2017.iloc[120000:180000,:]\n",
    "gdf_crash_2017_180000_ = gdf_crash_2017.iloc[180000:,:]"
   ]
  },
  {
   "cell_type": "code",
   "execution_count": 14,
   "metadata": {},
   "outputs": [],
   "source": [
    "# export the 2017 crash datasets. we will re-use this in the Chapter 2 \n",
    "gdf_crash_2017.to_file('../data/sharedstreets_results/crash/2017/before_applying/gdf_crash_2017.geojson',\n",
    "                       driver='GeoJSON')"
   ]
  },
  {
   "cell_type": "code",
   "execution_count": 15,
   "metadata": {},
   "outputs": [],
   "source": [
    "# export the small batches. we will use this in the Chapter 1\n",
    "gdf_crash_2017_0_60000.to_file('../data/sharedstreets_results/crash/2017/before_applying/gdf_crash_2017_0_60000.geojson',\n",
    "                              driver='GeoJSON')\n",
    "gdf_crash_2017_60000_120000.to_file('../data/sharedstreets_results/crash/2017/before_applying/gdf_crash_2017_60000_120000.geojson',\n",
    "                              driver='GeoJSON')\n",
    "gdf_crash_2017_120000_180000.to_file('../data/sharedstreets_results/crash/2017/before_applying/gdf_crash_2017_120000_180000.geojson',\n",
    "                              driver='GeoJSON')\n",
    "gdf_crash_2017_180000_.to_file('../data/sharedstreets_results/crash/2017/before_applying/gdf_crash_2017_180000_.geojson',\n",
    "                              driver='GeoJSON')"
   ]
  },
  {
   "cell_type": "markdown",
   "metadata": {},
   "source": [
    "## 2018"
   ]
  },
  {
   "cell_type": "markdown",
   "metadata": {},
   "source": [
    "The process is same as what we did for 2017"
   ]
  },
  {
   "cell_type": "code",
   "execution_count": 120,
   "metadata": {},
   "outputs": [],
   "source": [
    "gdf_crash_2018 = gdf_crash.loc[gdf_crash['year']==2018]"
   ]
  },
  {
   "cell_type": "code",
   "execution_count": 121,
   "metadata": {},
   "outputs": [
    {
     "data": {
      "text/plain": [
       "(216046, 4)"
      ]
     },
     "execution_count": 121,
     "metadata": {},
     "output_type": "execute_result"
    }
   ],
   "source": [
    "gdf_crash_2018.shape"
   ]
  },
  {
   "cell_type": "code",
   "execution_count": 114,
   "metadata": {},
   "outputs": [],
   "source": [
    "gdf_crash_2018.to_file('../data/sharedstreets_results/crash/2018/before_applying/gdf_crash_2018.geojson',\n",
    "                       driver='GeoJSON')"
   ]
  },
  {
   "cell_type": "code",
   "execution_count": 22,
   "metadata": {},
   "outputs": [],
   "source": [
    "gdf_crash_2018_0_60000 = gdf_crash_2018.iloc[:60000,:]\n",
    "gdf_crash_2018_60000_120000 = gdf_crash_2018.iloc[60000:120000,:]\n",
    "gdf_crash_2018_120000_180000 = gdf_crash_2018.iloc[120000:180000,:]\n",
    "gdf_crash_2018_180000_ = gdf_crash_2018.iloc[180000:,:]"
   ]
  },
  {
   "cell_type": "code",
   "execution_count": 23,
   "metadata": {},
   "outputs": [],
   "source": [
    "gdf_crash_2018_0_60000.to_file('../data/sharedstreets_results/crash/2018/before_applying/gdf_crash_2018_0_60000.geojson',\n",
    "                              driver='GeoJSON')\n",
    "gdf_crash_2018_60000_120000.to_file('../data/sharedstreets_results/crash/2018/before_applying/gdf_crash_2018_60000_120000.geojson',\n",
    "                              driver='GeoJSON')\n",
    "gdf_crash_2018_120000_180000.to_file('../data/sharedstreets_results/crash/2018/before_applying/gdf_crash_2018_120000_180000.geojson',\n",
    "                              driver='GeoJSON')\n",
    "gdf_crash_2018_180000_.to_file('../data/sharedstreets_results/crash/2018/before_applying/gdf_crash_2018_180000_.geojson',\n",
    "                              driver='GeoJSON')"
   ]
  },
  {
   "cell_type": "markdown",
   "metadata": {},
   "source": [
    "## 2019"
   ]
  },
  {
   "cell_type": "markdown",
   "metadata": {},
   "source": [
    "The process is the same as what we did for 2017 and 2018. But We will remove one crash record that will occur an error in Chapter 1. Also, we filtered the dataset by month to match the temporal range of the dataset with the 511 event dataset."
   ]
  },
  {
   "cell_type": "code",
   "execution_count": 159,
   "metadata": {},
   "outputs": [],
   "source": [
    "gdf_crash_2019 = gdf_crash.loc[gdf_crash['year']==2019]"
   ]
  },
  {
   "cell_type": "code",
   "execution_count": 160,
   "metadata": {},
   "outputs": [
    {
     "name": "stderr",
     "output_type": "stream",
     "text": [
      "<ipython-input-160-d382558b1b48>:1: SettingWithCopyWarning: \n",
      "A value is trying to be set on a copy of a slice from a DataFrame.\n",
      "Try using .loc[row_indexer,col_indexer] = value instead\n",
      "\n",
      "See the caveats in the documentation: https://pandas.pydata.org/pandas-docs/stable/user_guide/indexing.html#returning-a-view-versus-a-copy\n",
      "  gdf_crash_2019['month'] = gdf_crash_2019['crash_date'].apply(lambda x:x.month)\n"
     ]
    }
   ],
   "source": [
    "gdf_crash_2019['month'] = gdf_crash_2019['crash_date'].apply(lambda x:x.month)"
   ]
  },
  {
   "cell_type": "code",
   "execution_count": 161,
   "metadata": {},
   "outputs": [],
   "source": [
    "gdf_crash_2019 = gdf_crash_2019.loc[gdf_crash_2019['month']<=10]"
   ]
  },
  {
   "cell_type": "code",
   "execution_count": 163,
   "metadata": {},
   "outputs": [],
   "source": [
    "# this collision makes an error so I will delete it.\n",
    "gdf_crash_2019 = gdf_crash_2019.loc[gdf_crash_2019['collision_id']!= 4122407]"
   ]
  },
  {
   "cell_type": "code",
   "execution_count": 166,
   "metadata": {},
   "outputs": [],
   "source": [
    "gdf_crash_2019_0_60000 = gdf_crash_2019.iloc[:60000,:]\n",
    "gdf_crash_2019_60000_120000 = gdf_crash_2019.iloc[60000:120000,:]\n",
    "gdf_crash_2019_120000_ = gdf_crash_2019.iloc[120000:,:]"
   ]
  },
  {
   "cell_type": "code",
   "execution_count": 168,
   "metadata": {},
   "outputs": [],
   "source": [
    "gdf_crash_2019.to_file('../data/sharedstreets_results/crash/2019/before_applying/gdf_crash_2019.geojson',\n",
    "                        driver='GeoJSON')"
   ]
  },
  {
   "cell_type": "code",
   "execution_count": 167,
   "metadata": {},
   "outputs": [],
   "source": [
    "gdf_crash_2019_0_60000.to_file('../data/sharedstreets_results/crash/2019/before_applying/gdf_crash_2019_0_60000.geojson',\n",
    "                              driver='GeoJSON')\n",
    "gdf_crash_2019_60000_120000.to_file('../data/sharedstreets_results/crash/2019/before_applying/gdf_crash_2019_60000_120000.geojson',\n",
    "                              driver='GeoJSON')\n",
    "gdf_crash_2019_120000_.to_file('../data/sharedstreets_results/crash/2019/before_applying/gdf_crash_2019_120000_.geojson',\n",
    "                              driver='GeoJSON')"
   ]
  },
  {
   "cell_type": "markdown",
   "metadata": {},
   "source": [
    "## 1. Processing with SharedStreet API"
   ]
  },
  {
   "cell_type": "markdown",
   "metadata": {},
   "source": [
    "Please check 'how_to_use_sharedstreets_api' document. We will use search-radius=40m to map crash records on the Sharedstreet geometry."
   ]
  },
  {
   "cell_type": "markdown",
   "metadata": {},
   "source": [
    "## 2. Processing sharedstreet result"
   ]
  },
  {
   "cell_type": "markdown",
   "metadata": {},
   "source": [
    "Because 'matched' geojson files don't contain 'collision_id' and the other attributes, we need to process the result to get attributes of matched crashes results. We will drop unmatched collisions from the entire crash dataset, and concatenate geometries of matached crash events to it."
   ]
  },
  {
   "cell_type": "markdown",
   "metadata": {},
   "source": [
    "### 2016"
   ]
  },
  {
   "cell_type": "code",
   "execution_count": 3,
   "metadata": {},
   "outputs": [],
   "source": [
    "# make sure that the result files that imported in below were generated by Sharedstreets API\n",
    "# import geojson files that generated by Sharedstreets API\n",
    "gdf_crash_2016 = gpd.read_file('../data/sharedstreets_results/crash/2016/before_applying/gdf_crash_2016.geojson')\n",
    "gdf_crash_2016_matched_result = gpd.read_file('../data/sharedstreets_results/crash/2016/radius40/gdf_crash_2016.matched.geojson')\n",
    "gdf_crash_2016_unmatched_result = gpd.read_file('../data/sharedstreets_results/crash/2016/radius40/gdf_crash_2016.unmatched.geojson')"
   ]
  },
  {
   "cell_type": "code",
   "execution_count": 4,
   "metadata": {},
   "outputs": [],
   "source": [
    "# extract list of unmatched crahses\n",
    "list_crash_2016_unmatched = gdf_crash_2016_unmatched_result['collision_id'].tolist()"
   ]
  },
  {
   "cell_type": "code",
   "execution_count": 5,
   "metadata": {},
   "outputs": [],
   "source": [
    "# drop unmatched crashes from entire 2016 crash dataset\n",
    "gdf_crash_2016_matched = gdf_crash_2016.loc[~gdf_crash_2016['collision_id'].isin(list_crash_2016_unmatched)]"
   ]
  },
  {
   "cell_type": "code",
   "execution_count": 6,
   "metadata": {},
   "outputs": [],
   "source": [
    "# reset index of matched crashes to concatenate dataset\n",
    "gdf_crash_2016_matched = gdf_crash_2016_matched.reset_index().drop('index', axis=1)\n",
    "gdf_crash_2016_matched_result = gdf_crash_2016_matched_result.reset_index().drop('index', axis=1)"
   ]
  },
  {
   "cell_type": "code",
   "execution_count": 7,
   "metadata": {},
   "outputs": [],
   "source": [
    "# get geometries from the matched crash geojson file\n",
    "gdf_crash_2016_matched['geometry'] = gdf_crash_2016_matched_result['geometry']"
   ]
  },
  {
   "cell_type": "code",
   "execution_count": 10,
   "metadata": {},
   "outputs": [],
   "source": [
    "# rename a column\n",
    "gdf_crash_2016_matched['geometry_id'] = gdf_crash_2016_matched_result['geometryId']"
   ]
  },
  {
   "cell_type": "markdown",
   "metadata": {},
   "source": [
    "### 2017"
   ]
  },
  {
   "cell_type": "markdown",
   "metadata": {},
   "source": [
    "Process is same as 2016"
   ]
  },
  {
   "cell_type": "code",
   "execution_count": 11,
   "metadata": {},
   "outputs": [],
   "source": [
    "# make sure that the result files that imported in below were generated by Sharedstreets API\n",
    "# import geojson files that generated by Sharedstreets API\n",
    "gdf_crash_2017 = gpd.read_file('../data/sharedstreets_results/crash/2017/before_applying/gdf_crash_2017.geojson')\n",
    "gdf_crash_2017_matched_result0 = gpd.read_file('../data/sharedstreets_results/crash/2017/radius40/gdf_crash_2017_0_60000.matched.geojson')\n",
    "gdf_crash_2017_matched_result1 = gpd.read_file('../data/sharedstreets_results/crash/2017/radius40/gdf_crash_2017_60000_120000.matched.geojson')\n",
    "gdf_crash_2017_matched_result2 = gpd.read_file('../data/sharedstreets_results/crash/2017/radius40/gdf_crash_2017_120000_180000.matched.geojson')\n",
    "gdf_crash_2017_matched_result3 = gpd.read_file('../data/sharedstreets_results/crash/2017/radius40/gdf_crash_2017_180000_.matched.geojson')"
   ]
  },
  {
   "cell_type": "code",
   "execution_count": 12,
   "metadata": {},
   "outputs": [],
   "source": [
    "# import geojson files that generated by Sharedstreets API\n",
    "gdf_crash_2017_unmatched_result0 = gpd.read_file('../data/sharedstreets_results/crash/2017/radius40/gdf_crash_2017_0_60000.unmatched.geojson')\n",
    "gdf_crash_2017_unmatched_result1 = gpd.read_file('../data/sharedstreets_results/crash/2017/radius40/gdf_crash_2017_60000_120000.unmatched.geojson')\n",
    "gdf_crash_2017_unmatched_result2 = gpd.read_file('../data/sharedstreets_results/crash/2017/radius40/gdf_crash_2017_120000_180000.unmatched.geojson')\n",
    "gdf_crash_2017_unmatched_result3 = gpd.read_file('../data/sharedstreets_results/crash/2017/radius40/gdf_crash_2017_180000_.unmatched.geojson')"
   ]
  },
  {
   "cell_type": "code",
   "execution_count": 13,
   "metadata": {},
   "outputs": [],
   "source": [
    "# reset index of matched crashes to concatenate dataset\n",
    "gdf_crash_2017_matched_result0 = gdf_crash_2017_matched_result0.reset_index().drop('index', axis=1)\n",
    "gdf_crash_2017_matched_result1 = gdf_crash_2017_matched_result1.reset_index().drop('index', axis=1)\n",
    "gdf_crash_2017_matched_result2 = gdf_crash_2017_matched_result2.reset_index().drop('index', axis=1)\n",
    "gdf_crash_2017_matched_result3 = gdf_crash_2017_matched_result3.reset_index().drop('index', axis=1)"
   ]
  },
  {
   "cell_type": "code",
   "execution_count": 14,
   "metadata": {},
   "outputs": [],
   "source": [
    "# merge matched crash datasets\n",
    "gdf_crash_2017_matched_result = pd.concat([gdf_crash_2017_matched_result0,\n",
    "                                           gdf_crash_2017_matched_result1,\n",
    "                                           gdf_crash_2017_matched_result2,\n",
    "                                           gdf_crash_2017_matched_result3])"
   ]
  },
  {
   "cell_type": "code",
   "execution_count": 15,
   "metadata": {},
   "outputs": [],
   "source": [
    "# reset index of unmatched crashes to concatenate dataset\n",
    "gdf_crash_2017_unmatched_result0 = gdf_crash_2017_unmatched_result0.reset_index().drop('index', axis=1)\n",
    "gdf_crash_2017_unmatched_result1 = gdf_crash_2017_unmatched_result1.reset_index().drop('index', axis=1)\n",
    "gdf_crash_2017_unmatched_result2 = gdf_crash_2017_unmatched_result2.reset_index().drop('index', axis=1)\n",
    "gdf_crash_2017_unmatched_result3 = gdf_crash_2017_unmatched_result3.reset_index().drop('index', axis=1)"
   ]
  },
  {
   "cell_type": "code",
   "execution_count": 16,
   "metadata": {},
   "outputs": [],
   "source": [
    "# merge unmatched crash datasets\n",
    "gdf_crash_2017_unmatched_result = pd.concat([gdf_crash_2017_unmatched_result0,\n",
    "                                             gdf_crash_2017_unmatched_result1,\n",
    "                                             gdf_crash_2017_unmatched_result2,\n",
    "                                             gdf_crash_2017_unmatched_result3])"
   ]
  },
  {
   "cell_type": "code",
   "execution_count": 17,
   "metadata": {},
   "outputs": [],
   "source": [
    "# extract list of unmatched crahses\n",
    "list_crash_2017_unmatched = gdf_crash_2017_unmatched_result['collision_id'].tolist()"
   ]
  },
  {
   "cell_type": "code",
   "execution_count": 18,
   "metadata": {},
   "outputs": [],
   "source": [
    "# drop unmatched crashes from entire 2017 crash dataset\n",
    "gdf_crash_2017_matched = gdf_crash_2017.loc[~gdf_crash_2017['collision_id'].isin(list_crash_2017_unmatched)]"
   ]
  },
  {
   "cell_type": "code",
   "execution_count": 19,
   "metadata": {},
   "outputs": [],
   "source": [
    "# reset index of matched crashes to concatenate dataset\n",
    "gdf_crash_2017_matched = gdf_crash_2017_matched.reset_index().drop('index', axis=1)\n",
    "gdf_crash_2017_matched_result = gdf_crash_2017_matched_result.reset_index().drop('index', axis=1)"
   ]
  },
  {
   "cell_type": "code",
   "execution_count": 20,
   "metadata": {},
   "outputs": [],
   "source": [
    "# get geometries from the matched crash geojson file\n",
    "gdf_crash_2017_matched['geometry'] = gdf_crash_2017_matched_result['geometry']"
   ]
  },
  {
   "cell_type": "code",
   "execution_count": 21,
   "metadata": {},
   "outputs": [],
   "source": [
    "# rename a column\n",
    "gdf_crash_2017_matched['geometry_id'] = gdf_crash_2017_matched_result['geometryId']"
   ]
  },
  {
   "cell_type": "markdown",
   "metadata": {},
   "source": [
    "### 2018"
   ]
  },
  {
   "cell_type": "markdown",
   "metadata": {},
   "source": [
    "Process is same as 2017"
   ]
  },
  {
   "cell_type": "code",
   "execution_count": 22,
   "metadata": {},
   "outputs": [],
   "source": [
    "# make sure that the result files that imported in below were generated by Sharedstreets API\n",
    "# import geojson files that generated by Sharedstreets API\n",
    "gdf_crash_2018 = gpd.read_file('../data/sharedstreets_results/crash/2018/before_applying/gdf_crash_2018.geojson')\n",
    "gdf_crash_2018_matched_result0 = gpd.read_file('../data/sharedstreets_results/crash/2018/radius40/gdf_crash_2018_0_60000.matched.geojson')\n",
    "gdf_crash_2018_matched_result1 = gpd.read_file('../data/sharedstreets_results/crash/2018/radius40/gdf_crash_2018_60000_120000.matched.geojson')\n",
    "gdf_crash_2018_matched_result2 = gpd.read_file('../data/sharedstreets_results/crash/2018/radius40/gdf_crash_2018_120000_180000.matched.geojson')\n",
    "gdf_crash_2018_matched_result3 = gpd.read_file('../data/sharedstreets_results/crash/2018/radius40/gdf_crash_2018_180000_.matched.geojson')"
   ]
  },
  {
   "cell_type": "code",
   "execution_count": 23,
   "metadata": {},
   "outputs": [],
   "source": [
    "# import geojson files that generated by Sharedstreets API\n",
    "gdf_crash_2018_unmatched_result0 = gpd.read_file('../data/sharedstreets_results/crash/2018/radius40/gdf_crash_2018_0_60000.unmatched.geojson')\n",
    "gdf_crash_2018_unmatched_result1 = gpd.read_file('../data/sharedstreets_results/crash/2018/radius40/gdf_crash_2018_60000_120000.unmatched.geojson')\n",
    "gdf_crash_2018_unmatched_result2 = gpd.read_file('../data/sharedstreets_results/crash/2018/radius40/gdf_crash_2018_120000_180000.unmatched.geojson')\n",
    "gdf_crash_2018_unmatched_result3 = gpd.read_file('../data/sharedstreets_results/crash/2018/radius40/gdf_crash_2018_180000_.unmatched.geojson')"
   ]
  },
  {
   "cell_type": "code",
   "execution_count": 24,
   "metadata": {},
   "outputs": [],
   "source": [
    "# reset index of matched crashes to concatenate dataset\n",
    "gdf_crash_2018_matched_result0 = gdf_crash_2018_matched_result0.reset_index().drop('index', axis=1)\n",
    "gdf_crash_2018_matched_result1 = gdf_crash_2018_matched_result1.reset_index().drop('index', axis=1)\n",
    "gdf_crash_2018_matched_result2 = gdf_crash_2018_matched_result2.reset_index().drop('index', axis=1)\n",
    "gdf_crash_2018_matched_result3 = gdf_crash_2018_matched_result3.reset_index().drop('index', axis=1)"
   ]
  },
  {
   "cell_type": "code",
   "execution_count": 25,
   "metadata": {},
   "outputs": [],
   "source": [
    "# merge matched crash datasets\n",
    "gdf_crash_2018_matched_result = pd.concat([gdf_crash_2018_matched_result0,\n",
    "                                           gdf_crash_2018_matched_result1,\n",
    "                                           gdf_crash_2018_matched_result2,\n",
    "                                           gdf_crash_2018_matched_result3])"
   ]
  },
  {
   "cell_type": "code",
   "execution_count": 26,
   "metadata": {},
   "outputs": [],
   "source": [
    "# reset index of unmatched crashes to concatenate dataset\n",
    "gdf_crash_2018_unmatched_result0 = gdf_crash_2018_unmatched_result0.reset_index().drop('index', axis=1)\n",
    "gdf_crash_2018_unmatched_result1 = gdf_crash_2018_unmatched_result1.reset_index().drop('index', axis=1)\n",
    "gdf_crash_2018_unmatched_result2 = gdf_crash_2018_unmatched_result2.reset_index().drop('index', axis=1)\n",
    "gdf_crash_2018_unmatched_result3 = gdf_crash_2018_unmatched_result3.reset_index().drop('index', axis=1)"
   ]
  },
  {
   "cell_type": "code",
   "execution_count": 27,
   "metadata": {},
   "outputs": [],
   "source": [
    "# merge unmatched crash datasets\n",
    "gdf_crash_2018_unmatched_result = pd.concat([gdf_crash_2018_unmatched_result0,\n",
    "                                             gdf_crash_2018_unmatched_result1,\n",
    "                                             gdf_crash_2018_unmatched_result2,\n",
    "                                             gdf_crash_2018_unmatched_result3])"
   ]
  },
  {
   "cell_type": "code",
   "execution_count": 28,
   "metadata": {},
   "outputs": [],
   "source": [
    "# extract list of unmatched crahses\n",
    "list_crash_2018_unmatched = gdf_crash_2018_unmatched_result['collision_id'].tolist()"
   ]
  },
  {
   "cell_type": "code",
   "execution_count": 29,
   "metadata": {},
   "outputs": [],
   "source": [
    "# drop unmatched crashes from entire 2018 crash dataset\n",
    "gdf_crash_2018_matched = gdf_crash_2018.loc[~gdf_crash_2018['collision_id'].isin(list_crash_2018_unmatched)]"
   ]
  },
  {
   "cell_type": "code",
   "execution_count": 30,
   "metadata": {},
   "outputs": [],
   "source": [
    "# reset index of matched crashes to concatenate dataset\n",
    "gdf_crash_2018_matched = gdf_crash_2018_matched.reset_index().drop('index', axis=1)\n",
    "gdf_crash_2018_matched_result = gdf_crash_2018_matched_result.reset_index().drop('index', axis=1)"
   ]
  },
  {
   "cell_type": "code",
   "execution_count": 31,
   "metadata": {},
   "outputs": [],
   "source": [
    "# get geometries from the matched crash geojson file\n",
    "gdf_crash_2018_matched['geometry'] = gdf_crash_2018_matched_result['geometry']"
   ]
  },
  {
   "cell_type": "code",
   "execution_count": 32,
   "metadata": {},
   "outputs": [],
   "source": [
    "# rename a column\n",
    "gdf_crash_2018_matched['geometry_id'] = gdf_crash_2018_matched_result['geometryId']"
   ]
  },
  {
   "cell_type": "markdown",
   "metadata": {},
   "source": [
    "### 2019"
   ]
  },
  {
   "cell_type": "markdown",
   "metadata": {},
   "source": [
    "Process is same as 2018"
   ]
  },
  {
   "cell_type": "code",
   "execution_count": 33,
   "metadata": {},
   "outputs": [],
   "source": [
    "# make sure that the result files that imported in below were generated by Sharedstreets API\n",
    "# import geojson files that generated by Sharedstreets API\n",
    "gdf_crash_2019 = gpd.read_file('../data/sharedstreets_results/crash/2019/before_applying/gdf_crash_2019.geojson')\n",
    "gdf_crash_2019_matched_result0 = gpd.read_file('../data/sharedstreets_results/crash/2019/radius40/gdf_crash_2019_0_60000.matched.geojson')\n",
    "gdf_crash_2019_matched_result1 = gpd.read_file('../data/sharedstreets_results/crash/2019/radius40/gdf_crash_2019_60000_120000.matched.geojson')\n",
    "gdf_crash_2019_matched_result2 = gpd.read_file('../data/sharedstreets_results/crash/2019/radius40/gdf_crash_2019_120000_.matched.geojson')"
   ]
  },
  {
   "cell_type": "code",
   "execution_count": 34,
   "metadata": {},
   "outputs": [],
   "source": [
    "# import geojson files that generated by Sharedstreets API\n",
    "gdf_crash_2019_unmatched_result0 = gpd.read_file('../data/sharedstreets_results/crash/2019/radius40/gdf_crash_2019_0_60000.unmatched.geojson')\n",
    "gdf_crash_2019_unmatched_result1 = gpd.read_file('../data/sharedstreets_results/crash/2019/radius40/gdf_crash_2019_60000_120000.unmatched.geojson')\n",
    "gdf_crash_2019_unmatched_result2 = gpd.read_file('../data/sharedstreets_results/crash/2019/radius40/gdf_crash_2019_120000_.unmatched.geojson')"
   ]
  },
  {
   "cell_type": "code",
   "execution_count": 35,
   "metadata": {},
   "outputs": [],
   "source": [
    "# reset index of matched crashes to concatenate dataset\n",
    "gdf_crash_2019_matched_result0 = gdf_crash_2019_matched_result0.reset_index().drop('index', axis=1)\n",
    "gdf_crash_2019_matched_result1 = gdf_crash_2019_matched_result1.reset_index().drop('index', axis=1)\n",
    "gdf_crash_2019_matched_result2 = gdf_crash_2019_matched_result2.reset_index().drop('index', axis=1)"
   ]
  },
  {
   "cell_type": "code",
   "execution_count": 36,
   "metadata": {},
   "outputs": [],
   "source": [
    "# merge matched crash datasets\n",
    "gdf_crash_2019_matched_result = pd.concat([gdf_crash_2019_matched_result0,\n",
    "                                           gdf_crash_2019_matched_result1,\n",
    "                                           gdf_crash_2019_matched_result2])"
   ]
  },
  {
   "cell_type": "code",
   "execution_count": 37,
   "metadata": {},
   "outputs": [],
   "source": [
    "# reset index of unmatched crashes to concatenate dataset\n",
    "gdf_crash_2019_unmatched_result0 = gdf_crash_2019_unmatched_result0.reset_index().drop('index', axis=1)\n",
    "gdf_crash_2019_unmatched_result1 = gdf_crash_2019_unmatched_result1.reset_index().drop('index', axis=1)\n",
    "gdf_crash_2019_unmatched_result2 = gdf_crash_2019_unmatched_result2.reset_index().drop('index', axis=1)"
   ]
  },
  {
   "cell_type": "code",
   "execution_count": 38,
   "metadata": {},
   "outputs": [],
   "source": [
    "# merge unmatched crash datasets\n",
    "gdf_crash_2019_unmatched_result = pd.concat([gdf_crash_2019_unmatched_result0,\n",
    "                                             gdf_crash_2019_unmatched_result1,\n",
    "                                             gdf_crash_2019_unmatched_result2])"
   ]
  },
  {
   "cell_type": "code",
   "execution_count": 39,
   "metadata": {},
   "outputs": [],
   "source": [
    "# extract list of unmatched crahses\n",
    "list_crash_2019_unmatched = gdf_crash_2019_unmatched_result['collision_id'].tolist()"
   ]
  },
  {
   "cell_type": "code",
   "execution_count": 40,
   "metadata": {},
   "outputs": [],
   "source": [
    "# drop unmatched crashes from entire 2019 crash dataset\n",
    "gdf_crash_2019_matched = gdf_crash_2019.loc[~gdf_crash_2019['collision_id'].isin(list_crash_2019_unmatched)]"
   ]
  },
  {
   "cell_type": "code",
   "execution_count": 41,
   "metadata": {},
   "outputs": [],
   "source": [
    "# reset index of matched crashes to concatenate dataset\n",
    "gdf_crash_2019_matched = gdf_crash_2019_matched.reset_index().drop('index', axis=1)\n",
    "gdf_crash_2019_matched_result = gdf_crash_2019_matched_result.reset_index().drop('index', axis=1)"
   ]
  },
  {
   "cell_type": "code",
   "execution_count": 42,
   "metadata": {},
   "outputs": [],
   "source": [
    "# get geometries from the matched crash geojson file\n",
    "gdf_crash_2019_matched['geometry'] = gdf_crash_2019_matched_result['geometry']"
   ]
  },
  {
   "cell_type": "code",
   "execution_count": 43,
   "metadata": {},
   "outputs": [],
   "source": [
    "# rename a column\n",
    "gdf_crash_2019_matched['geometry_id'] = gdf_crash_2019_matched_result['geometryId']"
   ]
  },
  {
   "cell_type": "markdown",
   "metadata": {},
   "source": [
    "## Merge crashes"
   ]
  },
  {
   "cell_type": "code",
   "execution_count": 44,
   "metadata": {},
   "outputs": [],
   "source": [
    "# merge crash dataset of 2016,2017,2018 and 2019\n",
    "gdf_matched_crashes = pd.concat([gdf_crash_2016_matched[['collision_id','geometry','geometry_id']],\n",
    "                                 gdf_crash_2017_matched[['collision_id','geometry','geometry_id']],\n",
    "                                 gdf_crash_2018_matched[['collision_id','geometry','geometry_id']],\n",
    "                                 gdf_crash_2019_matched[['collision_id','geometry','geometry_id']]])           "
   ]
  },
  {
   "cell_type": "code",
   "execution_count": 45,
   "metadata": {},
   "outputs": [],
   "source": [
    "# re-import previous dataset\n",
    "df_crash = pd.read_csv('../data/cleaned_data/511_mv_collisions.csv')"
   ]
  },
  {
   "cell_type": "code",
   "execution_count": 46,
   "metadata": {},
   "outputs": [],
   "source": [
    "# drop unnecessary columns and geometry column. \n",
    "# so this dataframe will contain necessary characteristics of crash events and its collision id\n",
    "df_crash_wo_geometry = df_crash.drop(['longitude',\n",
    "                                      'latitude',\n",
    "                                      'geometry',\n",
    "                                      'location',\n",
    "                                      'index_right',\n",
    "                                      'boro_code',\n",
    "                                      'boro_name',\n",
    "                                      'shape_area',\n",
    "                                      'shape_leng'], axis=1)"
   ]
  },
  {
   "cell_type": "code",
   "execution_count": 47,
   "metadata": {},
   "outputs": [],
   "source": [
    "# merge dataframe of matched crashes and the dataframe of necessary characteristics that was created in above cell\n",
    "gdf_matched_crashes = gdf_matched_crashes.merge(df_crash_wo_geometry, left_on='collision_id', right_on='collision_id')"
   ]
  },
  {
   "cell_type": "code",
   "execution_count": 48,
   "metadata": {},
   "outputs": [],
   "source": [
    "# change type of dataframe as GeoDataFrame\n",
    "gdf_matched_crashes = gpd.GeoDataFrame(gdf_matched_crashes, geometry='geometry')"
   ]
  },
  {
   "cell_type": "code",
   "execution_count": 49,
   "metadata": {},
   "outputs": [
    {
     "data": {
      "text/html": [
       "<div>\n",
       "<style scoped>\n",
       "    .dataframe tbody tr th:only-of-type {\n",
       "        vertical-align: middle;\n",
       "    }\n",
       "\n",
       "    .dataframe tbody tr th {\n",
       "        vertical-align: top;\n",
       "    }\n",
       "\n",
       "    .dataframe thead th {\n",
       "        text-align: right;\n",
       "    }\n",
       "</style>\n",
       "<table border=\"1\" class=\"dataframe\">\n",
       "  <thead>\n",
       "    <tr style=\"text-align: right;\">\n",
       "      <th></th>\n",
       "      <th>collision_id</th>\n",
       "      <th>geometry</th>\n",
       "      <th>geometry_id</th>\n",
       "      <th>crash_date</th>\n",
       "      <th>crash_time</th>\n",
       "      <th>borough</th>\n",
       "      <th>zip_code</th>\n",
       "      <th>on_street_name</th>\n",
       "      <th>cross_street_name</th>\n",
       "      <th>off_street_name</th>\n",
       "      <th>...</th>\n",
       "      <th>contributing_factor_vehicle_1</th>\n",
       "      <th>contributing_factor_vehicle_2</th>\n",
       "      <th>contributing_factor_vehicle_3</th>\n",
       "      <th>contributing_factor_vehicle_4</th>\n",
       "      <th>contributing_factor_vehicle_5</th>\n",
       "      <th>vehicle_type_code_1</th>\n",
       "      <th>vehicle_type_code_2</th>\n",
       "      <th>vehicle_type_code_3</th>\n",
       "      <th>vehicle_type_code_4</th>\n",
       "      <th>vehicle_type_code_5</th>\n",
       "    </tr>\n",
       "  </thead>\n",
       "  <tbody>\n",
       "    <tr>\n",
       "      <th>0</th>\n",
       "      <td>3531327</td>\n",
       "      <td>POINT (-74.00772 40.71152)</td>\n",
       "      <td>ba4520777941a56b87f97a1d35dc2e20</td>\n",
       "      <td>2016-10-01</td>\n",
       "      <td>20:20</td>\n",
       "      <td>manhattan</td>\n",
       "      <td>10038.0</td>\n",
       "      <td>NaN</td>\n",
       "      <td>NaN</td>\n",
       "      <td>20        park row</td>\n",
       "      <td>...</td>\n",
       "      <td>following too closely</td>\n",
       "      <td>unspecified</td>\n",
       "      <td>NaN</td>\n",
       "      <td>NaN</td>\n",
       "      <td>NaN</td>\n",
       "      <td>PASSENGER VEHICLE</td>\n",
       "      <td>PASSENGER VEHICLE</td>\n",
       "      <td>NaN</td>\n",
       "      <td>NaN</td>\n",
       "      <td>NaN</td>\n",
       "    </tr>\n",
       "    <tr>\n",
       "      <th>1</th>\n",
       "      <td>3530538</td>\n",
       "      <td>POINT (-74.00712 40.65499)</td>\n",
       "      <td>da0bde3c3c147e230387851d1679e6bc</td>\n",
       "      <td>2016-10-01</td>\n",
       "      <td>1:40</td>\n",
       "      <td>NaN</td>\n",
       "      <td>NaN</td>\n",
       "      <td>gowanus expy (bqe)</td>\n",
       "      <td>NaN</td>\n",
       "      <td>NaN</td>\n",
       "      <td>...</td>\n",
       "      <td>steering failure</td>\n",
       "      <td>NaN</td>\n",
       "      <td>NaN</td>\n",
       "      <td>NaN</td>\n",
       "      <td>NaN</td>\n",
       "      <td>PASSENGER VEHICLE</td>\n",
       "      <td>NaN</td>\n",
       "      <td>NaN</td>\n",
       "      <td>NaN</td>\n",
       "      <td>NaN</td>\n",
       "    </tr>\n",
       "    <tr>\n",
       "      <th>2</th>\n",
       "      <td>3534839</td>\n",
       "      <td>POINT (-73.94216 40.83779)</td>\n",
       "      <td>aff3547e8a39ef2c07ad433655ca4d61</td>\n",
       "      <td>2016-10-01</td>\n",
       "      <td>22:30</td>\n",
       "      <td>manhattan</td>\n",
       "      <td>10032.0</td>\n",
       "      <td>west 163 street</td>\n",
       "      <td>broadway</td>\n",
       "      <td>NaN</td>\n",
       "      <td>...</td>\n",
       "      <td>unspecified</td>\n",
       "      <td>NaN</td>\n",
       "      <td>NaN</td>\n",
       "      <td>NaN</td>\n",
       "      <td>NaN</td>\n",
       "      <td>PASSENGER VEHICLE</td>\n",
       "      <td>PASSENGER VEHICLE</td>\n",
       "      <td>NaN</td>\n",
       "      <td>NaN</td>\n",
       "      <td>NaN</td>\n",
       "    </tr>\n",
       "    <tr>\n",
       "      <th>3</th>\n",
       "      <td>3530778</td>\n",
       "      <td>POINT (-73.82967 40.76188)</td>\n",
       "      <td>bffd718d6de85e2d72cef0de38afde42</td>\n",
       "      <td>2016-10-01</td>\n",
       "      <td>19:00</td>\n",
       "      <td>queens</td>\n",
       "      <td>11354.0</td>\n",
       "      <td>37 avenue</td>\n",
       "      <td>138 street</td>\n",
       "      <td>NaN</td>\n",
       "      <td>...</td>\n",
       "      <td>failure to yield right-of-way</td>\n",
       "      <td>failure to yield right-of-way</td>\n",
       "      <td>NaN</td>\n",
       "      <td>NaN</td>\n",
       "      <td>NaN</td>\n",
       "      <td>SPORT UTILITY / STATION WAGON</td>\n",
       "      <td>SPORT UTILITY / STATION WAGON</td>\n",
       "      <td>NaN</td>\n",
       "      <td>NaN</td>\n",
       "      <td>NaN</td>\n",
       "    </tr>\n",
       "    <tr>\n",
       "      <th>4</th>\n",
       "      <td>3534283</td>\n",
       "      <td>POINT (-73.92940 40.65194)</td>\n",
       "      <td>f95810bff51c60f287ea3a5eaf6923cc</td>\n",
       "      <td>2016-10-01</td>\n",
       "      <td>11:10</td>\n",
       "      <td>brooklyn</td>\n",
       "      <td>11203.0</td>\n",
       "      <td>church avenue</td>\n",
       "      <td>east 51 street</td>\n",
       "      <td>NaN</td>\n",
       "      <td>...</td>\n",
       "      <td>driver inattention/distraction</td>\n",
       "      <td>driver inattention/distraction</td>\n",
       "      <td>NaN</td>\n",
       "      <td>NaN</td>\n",
       "      <td>NaN</td>\n",
       "      <td>PASSENGER VEHICLE</td>\n",
       "      <td>PASSENGER VEHICLE</td>\n",
       "      <td>NaN</td>\n",
       "      <td>NaN</td>\n",
       "      <td>NaN</td>\n",
       "    </tr>\n",
       "  </tbody>\n",
       "</table>\n",
       "<p>5 rows × 28 columns</p>\n",
       "</div>"
      ],
      "text/plain": [
       "   collision_id                    geometry                       geometry_id  \\\n",
       "0       3531327  POINT (-74.00772 40.71152)  ba4520777941a56b87f97a1d35dc2e20   \n",
       "1       3530538  POINT (-74.00712 40.65499)  da0bde3c3c147e230387851d1679e6bc   \n",
       "2       3534839  POINT (-73.94216 40.83779)  aff3547e8a39ef2c07ad433655ca4d61   \n",
       "3       3530778  POINT (-73.82967 40.76188)  bffd718d6de85e2d72cef0de38afde42   \n",
       "4       3534283  POINT (-73.92940 40.65194)  f95810bff51c60f287ea3a5eaf6923cc   \n",
       "\n",
       "   crash_date crash_time    borough  zip_code  \\\n",
       "0  2016-10-01      20:20  manhattan   10038.0   \n",
       "1  2016-10-01       1:40        NaN       NaN   \n",
       "2  2016-10-01      22:30  manhattan   10032.0   \n",
       "3  2016-10-01      19:00     queens   11354.0   \n",
       "4  2016-10-01      11:10   brooklyn   11203.0   \n",
       "\n",
       "                     on_street_name cross_street_name  \\\n",
       "0                               NaN               NaN   \n",
       "1  gowanus expy (bqe)                             NaN   \n",
       "2  west 163 street                           broadway   \n",
       "3  37 avenue                               138 street   \n",
       "4  church avenue                       east 51 street   \n",
       "\n",
       "                            off_street_name  ...  \\\n",
       "0  20        park row                        ...   \n",
       "1                                       NaN  ...   \n",
       "2                                       NaN  ...   \n",
       "3                                       NaN  ...   \n",
       "4                                       NaN  ...   \n",
       "\n",
       "    contributing_factor_vehicle_1   contributing_factor_vehicle_2  \\\n",
       "0           following too closely                     unspecified   \n",
       "1                steering failure                             NaN   \n",
       "2                     unspecified                             NaN   \n",
       "3   failure to yield right-of-way   failure to yield right-of-way   \n",
       "4  driver inattention/distraction  driver inattention/distraction   \n",
       "\n",
       "   contributing_factor_vehicle_3  contributing_factor_vehicle_4  \\\n",
       "0                            NaN                            NaN   \n",
       "1                            NaN                            NaN   \n",
       "2                            NaN                            NaN   \n",
       "3                            NaN                            NaN   \n",
       "4                            NaN                            NaN   \n",
       "\n",
       "   contributing_factor_vehicle_5            vehicle_type_code_1  \\\n",
       "0                            NaN              PASSENGER VEHICLE   \n",
       "1                            NaN              PASSENGER VEHICLE   \n",
       "2                            NaN              PASSENGER VEHICLE   \n",
       "3                            NaN  SPORT UTILITY / STATION WAGON   \n",
       "4                            NaN              PASSENGER VEHICLE   \n",
       "\n",
       "             vehicle_type_code_2  vehicle_type_code_3 vehicle_type_code_4  \\\n",
       "0              PASSENGER VEHICLE                  NaN                 NaN   \n",
       "1                            NaN                  NaN                 NaN   \n",
       "2              PASSENGER VEHICLE                  NaN                 NaN   \n",
       "3  SPORT UTILITY / STATION WAGON                  NaN                 NaN   \n",
       "4              PASSENGER VEHICLE                  NaN                 NaN   \n",
       "\n",
       "  vehicle_type_code_5  \n",
       "0                 NaN  \n",
       "1                 NaN  \n",
       "2                 NaN  \n",
       "3                 NaN  \n",
       "4                 NaN  \n",
       "\n",
       "[5 rows x 28 columns]"
      ]
     },
     "execution_count": 49,
     "metadata": {},
     "output_type": "execute_result"
    }
   ],
   "source": [
    "gdf_matched_crashes.head()"
   ]
  },
  {
   "cell_type": "code",
   "execution_count": 50,
   "metadata": {},
   "outputs": [],
   "source": [
    "# export the dataset\n",
    "gdf_matched_crashes.to_file('../data/cleaned_data/mv_collisions_shst_matched.geojson', driver='GeoJSON')"
   ]
  }
 ],
 "metadata": {
  "kernelspec": {
   "display_name": "Python 3",
   "language": "python",
   "name": "python3"
  },
  "language_info": {
   "codemirror_mode": {
    "name": "ipython",
    "version": 3
   },
   "file_extension": ".py",
   "mimetype": "text/x-python",
   "name": "python",
   "nbconvert_exporter": "python",
   "pygments_lexer": "ipython3",
   "version": "3.8.2"
  }
 },
 "nbformat": 4,
 "nbformat_minor": 4
}
