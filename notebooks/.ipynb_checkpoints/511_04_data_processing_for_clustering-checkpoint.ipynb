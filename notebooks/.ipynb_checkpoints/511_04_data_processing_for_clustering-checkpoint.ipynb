{
 "cells": [
  {
   "cell_type": "markdown",
   "metadata": {},
   "source": [
    "# 511_04_data_processing_for_clustering"
   ]
  },
  {
   "cell_type": "markdown",
   "metadata": {},
   "source": [
    "This notebook is for creating useful features from the 511 event dataset and processing null values. The features that are created by this notebook are:\n",
    "- season (categorical)\n",
    "- day/nightlight duration (numeric) \n",
    "- daylight ratio (numeric)\n",
    "- weekend (binary)\n",
    "- weekday (categorical)\n",
    "- peak time duration (numeric)\n",
    "- peak time ratio (numeric)"
   ]
  },
  {
   "cell_type": "code",
   "execution_count": 1,
   "metadata": {},
   "outputs": [],
   "source": [
    "import pandas as pd\n",
    "import geopandas as gpd\n",
    "import numpy as np\n",
    "import matplotlib.pyplot as plt\n",
    "import seaborn as sns"
   ]
  },
  {
   "cell_type": "code",
   "execution_count": 2,
   "metadata": {},
   "outputs": [],
   "source": [
    "# this function is for converting data type from string to list\n",
    "def string_to_list(x):\n",
    "    return  [int(_) for _ in x.strip(\"[]\").replace(\"'\",\"\").split(\", \") if _ != '']"
   ]
  },
  {
   "cell_type": "code",
   "execution_count": 3,
   "metadata": {},
   "outputs": [],
   "source": [
    "# make sure that you run the '511_03_add_lion_attributes' notebook to get the '511_crash_lion_0629.csv'\n",
    "# import the dataset\n",
    "df_511_lion_crash = pd.read_csv('../data/cleaned_data/511_crash_lion_0629.csv', \n",
    "                                converters={'crash_list_900ft': string_to_list,\n",
    "                                            'crash_list_1800ft': string_to_list,\n",
    "                                            'crash_list_2700ft': string_to_list,\n",
    "                                            'crash_list_3600ft': string_to_list})"
   ]
  },
  {
   "cell_type": "code",
   "execution_count": 4,
   "metadata": {},
   "outputs": [
    {
     "data": {
      "text/plain": [
       "(25358, 39)"
      ]
     },
     "execution_count": 4,
     "metadata": {},
     "output_type": "execute_result"
    }
   ],
   "source": [
    "df_511_lion_crash.shape"
   ]
  },
  {
   "cell_type": "code",
   "execution_count": 5,
   "metadata": {},
   "outputs": [
    {
     "data": {
      "text/plain": [
       "['event_id',\n",
       " 'Event Type',\n",
       " 'Organizati',\n",
       " 'Facility N',\n",
       " 'Direction',\n",
       " 'City',\n",
       " 'County',\n",
       " 'State',\n",
       " 'Create Tim',\n",
       " 'Close Time',\n",
       " 'Event Desc',\n",
       " 'Responding',\n",
       " 'Latitude',\n",
       " 'Longitude',\n",
       " 'Duration',\n",
       " 'geometryId',\n",
       " 'geometry',\n",
       " 'buffer_geometry_900ft',\n",
       " 'buffer_geometry_1800ft',\n",
       " 'buffer_geometry_2700ft',\n",
       " 'buffer_geometry_3600ft',\n",
       " 'crash_list_900ft',\n",
       " 'crash_list_1800ft',\n",
       " 'crash_list_2700ft',\n",
       " 'crash_list_3600ft',\n",
       " 'segment_type',\n",
       " 'roadway_type',\n",
       " 'traffic_direction',\n",
       " 'loc_status',\n",
       " 'curve_flag',\n",
       " 'radius',\n",
       " 'street_width',\n",
       " 'bike_lane',\n",
       " 'bike_traffic_direction',\n",
       " 'number_travel',\n",
       " 'number_park',\n",
       " 'number_total',\n",
       " 'posted_speed',\n",
       " 'snow_prior']"
      ]
     },
     "execution_count": 5,
     "metadata": {},
     "output_type": "execute_result"
    }
   ],
   "source": [
    "df_511_lion_crash.columns.tolist()"
   ]
  },
  {
   "cell_type": "code",
   "execution_count": 6,
   "metadata": {},
   "outputs": [],
   "source": [
    "# drop unnecessary geometry columns\n",
    "df_511_lion_crash = df_511_lion_crash.drop(['buffer_geometry_900ft',\n",
    "                                            'buffer_geometry_1800ft',\n",
    "                                            'buffer_geometry_2700ft',\n",
    "                                            'buffer_geometry_3600ft'\n",
    "                                           ], axis=1)"
   ]
  },
  {
   "cell_type": "code",
   "execution_count": 7,
   "metadata": {},
   "outputs": [],
   "source": [
    "# drop unnecessary geometry columns\n",
    "df_511_lion_crash = df_511_lion_crash.drop(['Direction',\n",
    "                                            'Event Type',\n",
    "                                            'Event Desc',\n",
    "                                            'City',\n",
    "                                            'Organizati',\n",
    "                                            'Facility N',\n",
    "                                            'State',\n",
    "                                            'Responding',\n",
    "                                            'Latitude',\n",
    "                                            'Longitude'], axis=1)"
   ]
  },
  {
   "cell_type": "code",
   "execution_count": 8,
   "metadata": {},
   "outputs": [
    {
     "data": {
      "text/plain": [
       "Index(['event_id', 'County', 'Create Tim', 'Close Time', 'Duration',\n",
       "       'geometryId', 'geometry', 'crash_list_900ft', 'crash_list_1800ft',\n",
       "       'crash_list_2700ft', 'crash_list_3600ft', 'segment_type',\n",
       "       'roadway_type', 'traffic_direction', 'loc_status', 'curve_flag',\n",
       "       'radius', 'street_width', 'bike_lane', 'bike_traffic_direction',\n",
       "       'number_travel', 'number_park', 'number_total', 'posted_speed',\n",
       "       'snow_prior'],\n",
       "      dtype='object')"
      ]
     },
     "execution_count": 8,
     "metadata": {},
     "output_type": "execute_result"
    }
   ],
   "source": [
    "df_511_lion_crash.columns"
   ]
  },
  {
   "cell_type": "code",
   "execution_count": 9,
   "metadata": {},
   "outputs": [],
   "source": [
    "# rename columns\n",
    "df_511_lion_crash = df_511_lion_crash.rename(columns={    \n",
    "    'County':'county',\n",
    "    'geometryId':'geometry_id',\n",
    "    'Create Tim':'create_time',\n",
    "    'Close Time':'close_time',\n",
    "    'Duration':'duration',\n",
    "    'number_total':'number_total_lane'\n",
    "})"
   ]
  },
  {
   "cell_type": "code",
   "execution_count": 10,
   "metadata": {},
   "outputs": [
    {
     "data": {
      "text/html": [
       "<div>\n",
       "<style scoped>\n",
       "    .dataframe tbody tr th:only-of-type {\n",
       "        vertical-align: middle;\n",
       "    }\n",
       "\n",
       "    .dataframe tbody tr th {\n",
       "        vertical-align: top;\n",
       "    }\n",
       "\n",
       "    .dataframe thead th {\n",
       "        text-align: right;\n",
       "    }\n",
       "</style>\n",
       "<table border=\"1\" class=\"dataframe\">\n",
       "  <thead>\n",
       "    <tr style=\"text-align: right;\">\n",
       "      <th></th>\n",
       "      <th>event_id</th>\n",
       "      <th>county</th>\n",
       "      <th>create_time</th>\n",
       "      <th>close_time</th>\n",
       "      <th>duration</th>\n",
       "      <th>geometry_id</th>\n",
       "      <th>geometry</th>\n",
       "      <th>crash_list_900ft</th>\n",
       "      <th>crash_list_1800ft</th>\n",
       "      <th>crash_list_2700ft</th>\n",
       "      <th>...</th>\n",
       "      <th>curve_flag</th>\n",
       "      <th>radius</th>\n",
       "      <th>street_width</th>\n",
       "      <th>bike_lane</th>\n",
       "      <th>bike_traffic_direction</th>\n",
       "      <th>number_travel</th>\n",
       "      <th>number_park</th>\n",
       "      <th>number_total_lane</th>\n",
       "      <th>posted_speed</th>\n",
       "      <th>snow_prior</th>\n",
       "    </tr>\n",
       "  </thead>\n",
       "  <tbody>\n",
       "    <tr>\n",
       "      <th>0</th>\n",
       "      <td>0</td>\n",
       "      <td>New York</td>\n",
       "      <td>2019-09-30T23:45:00</td>\n",
       "      <td>2019-10-06T10:17:00</td>\n",
       "      <td>5 days 10:32:00.000000000</td>\n",
       "      <td>70dcf37c088c5bd4f487ed14e8f42168</td>\n",
       "      <td>POINT (-73.9452906062501 40.85016678170324)</td>\n",
       "      <td>[4218698]</td>\n",
       "      <td>[4218698, 4220414, 4220401]</td>\n",
       "      <td>[4216810, 4218698, 4220414, 4220401, 4218408, ...</td>\n",
       "      <td>...</td>\n",
       "      <td>-1</td>\n",
       "      <td>0</td>\n",
       "      <td>40.0</td>\n",
       "      <td>-1</td>\n",
       "      <td>-1</td>\n",
       "      <td>4</td>\n",
       "      <td>-1</td>\n",
       "      <td>4</td>\n",
       "      <td>45</td>\n",
       "      <td>V</td>\n",
       "    </tr>\n",
       "    <tr>\n",
       "      <th>1</th>\n",
       "      <td>1</td>\n",
       "      <td>New York</td>\n",
       "      <td>2019-09-30T23:33:00</td>\n",
       "      <td>2019-10-05T10:01:00</td>\n",
       "      <td>4 days 10:28:00.000000000</td>\n",
       "      <td>70dcf37c088c5bd4f487ed14e8f42168</td>\n",
       "      <td>POINT (-73.9452906062501 40.85016678170324)</td>\n",
       "      <td>[4218698]</td>\n",
       "      <td>[4218698, 4220401]</td>\n",
       "      <td>[4216810, 4218698, 4220401, 4217050, 4216342]</td>\n",
       "      <td>...</td>\n",
       "      <td>-1</td>\n",
       "      <td>0</td>\n",
       "      <td>40.0</td>\n",
       "      <td>-1</td>\n",
       "      <td>-1</td>\n",
       "      <td>4</td>\n",
       "      <td>-1</td>\n",
       "      <td>4</td>\n",
       "      <td>45</td>\n",
       "      <td>V</td>\n",
       "    </tr>\n",
       "    <tr>\n",
       "      <th>2</th>\n",
       "      <td>2</td>\n",
       "      <td>New York</td>\n",
       "      <td>2019-09-30T22:48:00</td>\n",
       "      <td>2019-10-04T14:47:00</td>\n",
       "      <td>3 days 15:59:00.000000000</td>\n",
       "      <td>873abb2e212cad46574849291152bc75</td>\n",
       "      <td>POINT (-73.93488010570451 40.84760698997727)</td>\n",
       "      <td>[4216938, 4220401, 4215847, 4217050]</td>\n",
       "      <td>[4216938, 4220401, 4217053, 4215847, 4217050, ...</td>\n",
       "      <td>[4218648, 4215947, 4216268, 4216938, 4220401, ...</td>\n",
       "      <td>...</td>\n",
       "      <td>-1</td>\n",
       "      <td>0</td>\n",
       "      <td>35.0</td>\n",
       "      <td>-1</td>\n",
       "      <td>-1</td>\n",
       "      <td>3</td>\n",
       "      <td>-1</td>\n",
       "      <td>3</td>\n",
       "      <td>50</td>\n",
       "      <td>V</td>\n",
       "    </tr>\n",
       "  </tbody>\n",
       "</table>\n",
       "<p>3 rows × 25 columns</p>\n",
       "</div>"
      ],
      "text/plain": [
       "   event_id    county          create_time           close_time  \\\n",
       "0         0  New York  2019-09-30T23:45:00  2019-10-06T10:17:00   \n",
       "1         1  New York  2019-09-30T23:33:00  2019-10-05T10:01:00   \n",
       "2         2  New York  2019-09-30T22:48:00  2019-10-04T14:47:00   \n",
       "\n",
       "                    duration                       geometry_id  \\\n",
       "0  5 days 10:32:00.000000000  70dcf37c088c5bd4f487ed14e8f42168   \n",
       "1  4 days 10:28:00.000000000  70dcf37c088c5bd4f487ed14e8f42168   \n",
       "2  3 days 15:59:00.000000000  873abb2e212cad46574849291152bc75   \n",
       "\n",
       "                                       geometry  \\\n",
       "0   POINT (-73.9452906062501 40.85016678170324)   \n",
       "1   POINT (-73.9452906062501 40.85016678170324)   \n",
       "2  POINT (-73.93488010570451 40.84760698997727)   \n",
       "\n",
       "                       crash_list_900ft  \\\n",
       "0                             [4218698]   \n",
       "1                             [4218698]   \n",
       "2  [4216938, 4220401, 4215847, 4217050]   \n",
       "\n",
       "                                   crash_list_1800ft  \\\n",
       "0                        [4218698, 4220414, 4220401]   \n",
       "1                                 [4218698, 4220401]   \n",
       "2  [4216938, 4220401, 4217053, 4215847, 4217050, ...   \n",
       "\n",
       "                                   crash_list_2700ft  ... curve_flag radius  \\\n",
       "0  [4216810, 4218698, 4220414, 4220401, 4218408, ...  ...         -1      0   \n",
       "1      [4216810, 4218698, 4220401, 4217050, 4216342]  ...         -1      0   \n",
       "2  [4218648, 4215947, 4216268, 4216938, 4220401, ...  ...         -1      0   \n",
       "\n",
       "   street_width bike_lane bike_traffic_direction number_travel  number_park  \\\n",
       "0          40.0        -1                     -1             4           -1   \n",
       "1          40.0        -1                     -1             4           -1   \n",
       "2          35.0        -1                     -1             3           -1   \n",
       "\n",
       "   number_total_lane  posted_speed snow_prior  \n",
       "0                  4            45          V  \n",
       "1                  4            45          V  \n",
       "2                  3            50          V  \n",
       "\n",
       "[3 rows x 25 columns]"
      ]
     },
     "execution_count": 10,
     "metadata": {},
     "output_type": "execute_result"
    }
   ],
   "source": [
    "df_511_lion_crash.head(3)"
   ]
  },
  {
   "cell_type": "code",
   "execution_count": 11,
   "metadata": {},
   "outputs": [],
   "source": [
    "# convert data type of create time, close time, and duration\n",
    "df_511_lion_crash['create_time'] = pd.to_datetime(df_511_lion_crash['create_time'])\n",
    "df_511_lion_crash['close_time'] = pd.to_datetime(df_511_lion_crash['close_time'])\n",
    "df_511_lion_crash['duration'] = pd.to_timedelta(df_511_lion_crash['duration'],unit='h')"
   ]
  },
  {
   "cell_type": "code",
   "execution_count": 12,
   "metadata": {},
   "outputs": [],
   "source": [
    "# convert unit of duration to 'hour'\n",
    "df_511_lion_crash['duration'] = df_511_lion_crash['duration']/np.timedelta64(1, 'h')"
   ]
  },
  {
   "cell_type": "code",
   "execution_count": 13,
   "metadata": {},
   "outputs": [],
   "source": [
    "# count crashes\n",
    "df_511_lion_crash['crash_count_900ft'] = df_511_lion_crash['crash_list_900ft'].apply(lambda x: len(x))\n",
    "df_511_lion_crash['crash_count_1800ft'] = df_511_lion_crash['crash_list_1800ft'].apply(lambda x: len(x))\n",
    "df_511_lion_crash['crash_count_2700ft'] = df_511_lion_crash['crash_list_2700ft'].apply(lambda x: len(x))\n",
    "df_511_lion_crash['crash_count_3600ft'] = df_511_lion_crash['crash_list_3600ft'].apply(lambda x: len(x))"
   ]
  },
  {
   "cell_type": "markdown",
   "metadata": {},
   "source": [
    "Here, we filtered out 511 events that have durations more than 24 hours"
   ]
  },
  {
   "cell_type": "code",
   "execution_count": 14,
   "metadata": {},
   "outputs": [],
   "source": [
    "## Filter the dataset\n",
    "df_511_lion_crash_filtered = df_511_lion_crash[df_511_lion_crash['duration']<=24]"
   ]
  },
  {
   "cell_type": "markdown",
   "metadata": {},
   "source": [
    "# 1. Season"
   ]
  },
  {
   "cell_type": "code",
   "execution_count": 15,
   "metadata": {},
   "outputs": [
    {
     "name": "stderr",
     "output_type": "stream",
     "text": [
      "<ipython-input-15-8b70075ab537>:13: SettingWithCopyWarning: \n",
      "A value is trying to be set on a copy of a slice from a DataFrame.\n",
      "Try using .loc[row_indexer,col_indexer] = value instead\n",
      "\n",
      "See the caveats in the documentation: https://pandas.pydata.org/pandas-docs/stable/user_guide/indexing.html#returning-a-view-versus-a-copy\n",
      "  df_511_lion_crash_filtered['season'] = df_511_lion_crash_filtered['create_time'].apply(lambda x:season(x))\n"
     ]
    }
   ],
   "source": [
    "# make a season column based on a month of the create Time\n",
    "\n",
    "def season(x):\n",
    "    if x.month==4 or x.month==5:\n",
    "        return 'spring'\n",
    "    elif x.month >=6 and x.month <= 9:\n",
    "        return 'summer'\n",
    "    elif x.month == 10 or x.month==11:\n",
    "        return 'fall'\n",
    "    else:\n",
    "        return 'winter'\n",
    "    \n",
    "df_511_lion_crash_filtered['season'] = df_511_lion_crash_filtered['create_time'].apply(lambda x:season(x))"
   ]
  },
  {
   "cell_type": "code",
   "execution_count": 16,
   "metadata": {},
   "outputs": [
    {
     "data": {
      "text/html": [
       "<div>\n",
       "<style scoped>\n",
       "    .dataframe tbody tr th:only-of-type {\n",
       "        vertical-align: middle;\n",
       "    }\n",
       "\n",
       "    .dataframe tbody tr th {\n",
       "        vertical-align: top;\n",
       "    }\n",
       "\n",
       "    .dataframe thead th {\n",
       "        text-align: right;\n",
       "    }\n",
       "</style>\n",
       "<table border=\"1\" class=\"dataframe\">\n",
       "  <thead>\n",
       "    <tr style=\"text-align: right;\">\n",
       "      <th></th>\n",
       "      <th>event_id</th>\n",
       "      <th>county</th>\n",
       "      <th>create_time</th>\n",
       "      <th>close_time</th>\n",
       "      <th>duration</th>\n",
       "      <th>geometry_id</th>\n",
       "      <th>geometry</th>\n",
       "      <th>crash_list_900ft</th>\n",
       "      <th>crash_list_1800ft</th>\n",
       "      <th>crash_list_2700ft</th>\n",
       "      <th>...</th>\n",
       "      <th>number_travel</th>\n",
       "      <th>number_park</th>\n",
       "      <th>number_total_lane</th>\n",
       "      <th>posted_speed</th>\n",
       "      <th>snow_prior</th>\n",
       "      <th>crash_count_900ft</th>\n",
       "      <th>crash_count_1800ft</th>\n",
       "      <th>crash_count_2700ft</th>\n",
       "      <th>crash_count_3600ft</th>\n",
       "      <th>season</th>\n",
       "    </tr>\n",
       "  </thead>\n",
       "  <tbody>\n",
       "    <tr>\n",
       "      <th>5</th>\n",
       "      <td>5</td>\n",
       "      <td>New York</td>\n",
       "      <td>2019-09-30 22:34:00</td>\n",
       "      <td>2019-10-01 05:33:00</td>\n",
       "      <td>6.983333</td>\n",
       "      <td>ab74ea678b8e611d7092fd2524e7a95c</td>\n",
       "      <td>POINT (-73.9712769049351 40.74429202496558)</td>\n",
       "      <td>[]</td>\n",
       "      <td>[]</td>\n",
       "      <td>[4215525]</td>\n",
       "      <td>...</td>\n",
       "      <td>3</td>\n",
       "      <td>-1</td>\n",
       "      <td>3</td>\n",
       "      <td>40</td>\n",
       "      <td>C</td>\n",
       "      <td>0</td>\n",
       "      <td>0</td>\n",
       "      <td>1</td>\n",
       "      <td>1</td>\n",
       "      <td>summer</td>\n",
       "    </tr>\n",
       "    <tr>\n",
       "      <th>8</th>\n",
       "      <td>8</td>\n",
       "      <td>New York</td>\n",
       "      <td>2019-09-30 19:12:00</td>\n",
       "      <td>2019-10-01 05:29:00</td>\n",
       "      <td>10.283333</td>\n",
       "      <td>a41affd9eccb1bb0c05406c1fe5d5745</td>\n",
       "      <td>POINT (-73.9453922039779 40.84189829169228)</td>\n",
       "      <td>[4216889]</td>\n",
       "      <td>[4216889]</td>\n",
       "      <td>[4216889]</td>\n",
       "      <td>...</td>\n",
       "      <td>2</td>\n",
       "      <td>-1</td>\n",
       "      <td>2</td>\n",
       "      <td>50</td>\n",
       "      <td>C</td>\n",
       "      <td>1</td>\n",
       "      <td>1</td>\n",
       "      <td>1</td>\n",
       "      <td>2</td>\n",
       "      <td>summer</td>\n",
       "    </tr>\n",
       "    <tr>\n",
       "      <th>9</th>\n",
       "      <td>9</td>\n",
       "      <td>New York</td>\n",
       "      <td>2019-09-29 19:47:00</td>\n",
       "      <td>2019-09-30 05:14:00</td>\n",
       "      <td>9.450000</td>\n",
       "      <td>a41affd9eccb1bb0c05406c1fe5d5745</td>\n",
       "      <td>POINT (-73.9453922039779 40.84189829169228)</td>\n",
       "      <td>[]</td>\n",
       "      <td>[]</td>\n",
       "      <td>[4215191]</td>\n",
       "      <td>...</td>\n",
       "      <td>2</td>\n",
       "      <td>-1</td>\n",
       "      <td>2</td>\n",
       "      <td>50</td>\n",
       "      <td>C</td>\n",
       "      <td>0</td>\n",
       "      <td>0</td>\n",
       "      <td>1</td>\n",
       "      <td>2</td>\n",
       "      <td>summer</td>\n",
       "    </tr>\n",
       "  </tbody>\n",
       "</table>\n",
       "<p>3 rows × 30 columns</p>\n",
       "</div>"
      ],
      "text/plain": [
       "   event_id    county         create_time          close_time   duration  \\\n",
       "5         5  New York 2019-09-30 22:34:00 2019-10-01 05:33:00   6.983333   \n",
       "8         8  New York 2019-09-30 19:12:00 2019-10-01 05:29:00  10.283333   \n",
       "9         9  New York 2019-09-29 19:47:00 2019-09-30 05:14:00   9.450000   \n",
       "\n",
       "                        geometry_id  \\\n",
       "5  ab74ea678b8e611d7092fd2524e7a95c   \n",
       "8  a41affd9eccb1bb0c05406c1fe5d5745   \n",
       "9  a41affd9eccb1bb0c05406c1fe5d5745   \n",
       "\n",
       "                                      geometry crash_list_900ft  \\\n",
       "5  POINT (-73.9712769049351 40.74429202496558)               []   \n",
       "8  POINT (-73.9453922039779 40.84189829169228)        [4216889]   \n",
       "9  POINT (-73.9453922039779 40.84189829169228)               []   \n",
       "\n",
       "  crash_list_1800ft crash_list_2700ft  ... number_travel number_park  \\\n",
       "5                []         [4215525]  ...             3          -1   \n",
       "8         [4216889]         [4216889]  ...             2          -1   \n",
       "9                []         [4215191]  ...             2          -1   \n",
       "\n",
       "   number_total_lane posted_speed snow_prior crash_count_900ft  \\\n",
       "5                  3           40          C                 0   \n",
       "8                  2           50          C                 1   \n",
       "9                  2           50          C                 0   \n",
       "\n",
       "   crash_count_1800ft  crash_count_2700ft  crash_count_3600ft  season  \n",
       "5                   0                   1                   1  summer  \n",
       "8                   1                   1                   2  summer  \n",
       "9                   0                   1                   2  summer  \n",
       "\n",
       "[3 rows x 30 columns]"
      ]
     },
     "execution_count": 16,
     "metadata": {},
     "output_type": "execute_result"
    }
   ],
   "source": [
    "df_511_lion_crash_filtered.head(3)"
   ]
  },
  {
   "cell_type": "markdown",
   "metadata": {},
   "source": [
    "# 2. day/nightlight duration of work zones"
   ]
  },
  {
   "cell_type": "markdown",
   "metadata": {},
   "source": [
    "Below function is for workzone duration in daytime."
   ]
  },
  {
   "cell_type": "code",
   "execution_count": 17,
   "metadata": {},
   "outputs": [],
   "source": [
    "def calculate_day_duration(x):\n",
    "    temporal_range = pd.date_range(start = x.create_time.replace(hour=0, minute=0, second=0),\n",
    "                                   end = x.close_time.replace(hour=23, minute=59, second=0),\n",
    "                                   freq='T')\n",
    "    # print(x['event_id'])\n",
    "    duration_list = [1 if t>x.create_time and t<=x.close_time else 0 for t in temporal_range]\n",
    "    day_duration_temporal_range = [1 if (t.hour>=6 and t.hour<18) else 0 for t in temporal_range]\n",
    "    return np.dot(np.array(duration_list), np.array(day_duration_temporal_range))/60       "
   ]
  },
  {
   "cell_type": "code",
   "execution_count": 18,
   "metadata": {},
   "outputs": [
    {
     "name": "stderr",
     "output_type": "stream",
     "text": [
      "<ipython-input-18-d84dac15c59d>:1: SettingWithCopyWarning: \n",
      "A value is trying to be set on a copy of a slice from a DataFrame.\n",
      "Try using .loc[row_indexer,col_indexer] = value instead\n",
      "\n",
      "See the caveats in the documentation: https://pandas.pydata.org/pandas-docs/stable/user_guide/indexing.html#returning-a-view-versus-a-copy\n",
      "  df_511_lion_crash_filtered['daylight_duration'] = df_511_lion_crash_filtered.apply(lambda x: calculate_day_duration(x), axis=1)\n"
     ]
    }
   ],
   "source": [
    "df_511_lion_crash_filtered['daylight_duration'] = df_511_lion_crash_filtered.apply(lambda x: calculate_day_duration(x), axis=1)"
   ]
  },
  {
   "cell_type": "code",
   "execution_count": 19,
   "metadata": {},
   "outputs": [
    {
     "name": "stderr",
     "output_type": "stream",
     "text": [
      "<ipython-input-19-e77dbf154ceb>:1: SettingWithCopyWarning: \n",
      "A value is trying to be set on a copy of a slice from a DataFrame.\n",
      "Try using .loc[row_indexer,col_indexer] = value instead\n",
      "\n",
      "See the caveats in the documentation: https://pandas.pydata.org/pandas-docs/stable/user_guide/indexing.html#returning-a-view-versus-a-copy\n",
      "  df_511_lion_crash_filtered['nightlight_duration'] = df_511_lion_crash_filtered['duration'] - df_511_lion_crash_filtered['daylight_duration']\n"
     ]
    }
   ],
   "source": [
    "df_511_lion_crash_filtered['nightlight_duration'] = df_511_lion_crash_filtered['duration'] - df_511_lion_crash_filtered['daylight_duration']"
   ]
  },
  {
   "cell_type": "code",
   "execution_count": 20,
   "metadata": {},
   "outputs": [
    {
     "name": "stderr",
     "output_type": "stream",
     "text": [
      "<ipython-input-20-e9b40246ba57>:1: SettingWithCopyWarning: \n",
      "A value is trying to be set on a copy of a slice from a DataFrame.\n",
      "Try using .loc[row_indexer,col_indexer] = value instead\n",
      "\n",
      "See the caveats in the documentation: https://pandas.pydata.org/pandas-docs/stable/user_guide/indexing.html#returning-a-view-versus-a-copy\n",
      "  df_511_lion_crash_filtered['daylight_ratio'] = df_511_lion_crash_filtered['daylight_duration']/df_511_lion_crash_filtered['duration']\n"
     ]
    }
   ],
   "source": [
    "df_511_lion_crash_filtered['daylight_ratio'] = df_511_lion_crash_filtered['daylight_duration']/df_511_lion_crash_filtered['duration']"
   ]
  },
  {
   "cell_type": "markdown",
   "metadata": {},
   "source": [
    "# 3. Weekend or not"
   ]
  },
  {
   "cell_type": "code",
   "execution_count": 21,
   "metadata": {},
   "outputs": [],
   "source": [
    "def is_weekday(x):\n",
    "    if x.weekday() == 5 or x.weekday() == 6:\n",
    "        return 1\n",
    "    else:\n",
    "        return 0"
   ]
  },
  {
   "cell_type": "code",
   "execution_count": 22,
   "metadata": {},
   "outputs": [
    {
     "name": "stderr",
     "output_type": "stream",
     "text": [
      "<ipython-input-22-c6a2464808b5>:1: SettingWithCopyWarning: \n",
      "A value is trying to be set on a copy of a slice from a DataFrame.\n",
      "Try using .loc[row_indexer,col_indexer] = value instead\n",
      "\n",
      "See the caveats in the documentation: https://pandas.pydata.org/pandas-docs/stable/user_guide/indexing.html#returning-a-view-versus-a-copy\n",
      "  df_511_lion_crash_filtered['create_time_weekend'] = df_511_lion_crash_filtered['create_time'].apply(lambda x: is_weekday(x))\n"
     ]
    }
   ],
   "source": [
    "df_511_lion_crash_filtered['create_time_weekend'] = df_511_lion_crash_filtered['create_time'].apply(lambda x: is_weekday(x))"
   ]
  },
  {
   "cell_type": "code",
   "execution_count": 23,
   "metadata": {},
   "outputs": [
    {
     "name": "stderr",
     "output_type": "stream",
     "text": [
      "<ipython-input-23-77bfa8c52b61>:1: SettingWithCopyWarning: \n",
      "A value is trying to be set on a copy of a slice from a DataFrame.\n",
      "Try using .loc[row_indexer,col_indexer] = value instead\n",
      "\n",
      "See the caveats in the documentation: https://pandas.pydata.org/pandas-docs/stable/user_guide/indexing.html#returning-a-view-versus-a-copy\n",
      "  df_511_lion_crash_filtered['close_time_weekend'] = df_511_lion_crash_filtered['close_time'].apply(lambda x: is_weekday(x))\n"
     ]
    }
   ],
   "source": [
    "df_511_lion_crash_filtered['close_time_weekend'] = df_511_lion_crash_filtered['close_time'].apply(lambda x: is_weekday(x))"
   ]
  },
  {
   "cell_type": "code",
   "execution_count": 24,
   "metadata": {},
   "outputs": [
    {
     "data": {
      "text/plain": [
       "(20718, 35)"
      ]
     },
     "execution_count": 24,
     "metadata": {},
     "output_type": "execute_result"
    }
   ],
   "source": [
    "df_511_lion_crash_filtered.shape"
   ]
  },
  {
   "cell_type": "markdown",
   "metadata": {},
   "source": [
    "# 4. Weekday"
   ]
  },
  {
   "cell_type": "code",
   "execution_count": 25,
   "metadata": {},
   "outputs": [
    {
     "name": "stderr",
     "output_type": "stream",
     "text": [
      "<ipython-input-25-03b020f5ca41>:1: SettingWithCopyWarning: \n",
      "A value is trying to be set on a copy of a slice from a DataFrame.\n",
      "Try using .loc[row_indexer,col_indexer] = value instead\n",
      "\n",
      "See the caveats in the documentation: https://pandas.pydata.org/pandas-docs/stable/user_guide/indexing.html#returning-a-view-versus-a-copy\n",
      "  df_511_lion_crash_filtered['day_of_week']  = df_511_lion_crash_filtered['create_time'].dt.day_name()\n"
     ]
    }
   ],
   "source": [
    "df_511_lion_crash_filtered['day_of_week']  = df_511_lion_crash_filtered['create_time'].dt.day_name()"
   ]
  },
  {
   "cell_type": "markdown",
   "metadata": {},
   "source": [
    "# 5. Peak Time duration"
   ]
  },
  {
   "cell_type": "code",
   "execution_count": 32,
   "metadata": {},
   "outputs": [],
   "source": [
    "def calculate_peak_duration(x):\n",
    "    temporal_range = pd.date_range(start = x.create_time.replace(hour=0, minute=0, second=0),\n",
    "                                   end = x.close_time.replace(hour=23, minute=59, second=0),\n",
    "                                   freq='T')\n",
    "    # print(x['event_id'])\n",
    "    duration_list = [1 if t>x.create_time and t<=x.close_time else 0 for t in temporal_range]\n",
    "    peak_duration_temporal_range = [1 if (t.hour>=7 and t.hour<9) or (t.hour>=16 and t.hour<18) else 0 for t in temporal_range]\n",
    "    return np.dot(np.array(duration_list), np.array(peak_duration_temporal_range))/60         "
   ]
  },
  {
   "cell_type": "code",
   "execution_count": 33,
   "metadata": {},
   "outputs": [
    {
     "name": "stderr",
     "output_type": "stream",
     "text": [
      "<ipython-input-33-22c5f74291d1>:1: SettingWithCopyWarning: \n",
      "A value is trying to be set on a copy of a slice from a DataFrame.\n",
      "Try using .loc[row_indexer,col_indexer] = value instead\n",
      "\n",
      "See the caveats in the documentation: https://pandas.pydata.org/pandas-docs/stable/user_guide/indexing.html#returning-a-view-versus-a-copy\n",
      "  df_511_lion_crash_filtered['peak_duration'] = df_511_lion_crash_filtered.apply(lambda x:calculate_peak_duration(x), axis=1)\n"
     ]
    }
   ],
   "source": [
    "df_511_lion_crash_filtered['peak_duration'] = df_511_lion_crash_filtered.apply(lambda x:calculate_peak_duration(x), axis=1)"
   ]
  },
  {
   "cell_type": "code",
   "execution_count": 34,
   "metadata": {},
   "outputs": [
    {
     "name": "stderr",
     "output_type": "stream",
     "text": [
      "<ipython-input-34-2a9a4348e3a2>:1: SettingWithCopyWarning: \n",
      "A value is trying to be set on a copy of a slice from a DataFrame.\n",
      "Try using .loc[row_indexer,col_indexer] = value instead\n",
      "\n",
      "See the caveats in the documentation: https://pandas.pydata.org/pandas-docs/stable/user_guide/indexing.html#returning-a-view-versus-a-copy\n",
      "  df_511_lion_crash_filtered['peak_ratio'] = df_511_lion_crash_filtered['peak_duration']/df_511_lion_crash_filtered['duration']\n"
     ]
    }
   ],
   "source": [
    "df_511_lion_crash_filtered['peak_ratio'] = df_511_lion_crash_filtered['peak_duration']/df_511_lion_crash_filtered['duration']"
   ]
  },
  {
   "cell_type": "code",
   "execution_count": 37,
   "metadata": {},
   "outputs": [
    {
     "data": {
      "text/plain": [
       "Index(['event_id', 'county', 'create_time', 'close_time', 'duration',\n",
       "       'geometry_id', 'geometry', 'crash_list_900ft', 'crash_list_1800ft',\n",
       "       'crash_list_2700ft', 'crash_list_3600ft', 'segment_type',\n",
       "       'roadway_type', 'traffic_direction', 'loc_status', 'curve_flag',\n",
       "       'radius', 'street_width', 'bike_lane', 'bike_traffic_direction',\n",
       "       'number_travel', 'number_park', 'number_total_lane', 'posted_speed',\n",
       "       'snow_prior', 'crash_count_900ft', 'crash_count_1800ft',\n",
       "       'crash_count_2700ft', 'crash_count_3600ft', 'season',\n",
       "       'daylight_duration', 'nightlight_duration', 'daylight_ratio',\n",
       "       'create_time_weekend', 'close_time_weekend', 'day_of_week',\n",
       "       'peak_duration', 'peak_ratio'],\n",
       "      dtype='object')"
      ]
     },
     "execution_count": 37,
     "metadata": {},
     "output_type": "execute_result"
    }
   ],
   "source": [
    "df_511_lion_crash_filtered.columns"
   ]
  },
  {
   "cell_type": "code",
   "execution_count": 40,
   "metadata": {},
   "outputs": [],
   "source": [
    "# preparing dataset for dashboard\n",
    "list_columns_dashboard = ['event_id','create_time', 'close_time', 'duration','crash_count_900ft', 'crash_count_1800ft',\n",
    "       'roadway_type', 'number_total_lane', 'street_width', 'posted_speed', 'crash_count_2700ft', 'crash_count_3600ft', 'daylight_duration', 'nightlight_duration', 'day_of_week',\n",
    "       'peak_duration', 'peak_ratio', 'daylight_duration', 'nightlight_duration', 'daylight_ratio']"
   ]
  },
  {
   "cell_type": "code",
   "execution_count": 44,
   "metadata": {},
   "outputs": [
    {
     "name": "stderr",
     "output_type": "stream",
     "text": [
      "<ipython-input-44-3df4e5b28c7d>:20: SettingWithCopyWarning: \n",
      "A value is trying to be set on a copy of a slice from a DataFrame.\n",
      "Try using .loc[row_indexer,col_indexer] = value instead\n",
      "\n",
      "See the caveats in the documentation: https://pandas.pydata.org/pandas-docs/stable/user_guide/indexing.html#returning-a-view-versus-a-copy\n",
      "  df_511_dashboard['roadway_type'] = df_511_dashboard['roadway_type'].apply(lambda x: dict_roadway_type[int(x)])\n"
     ]
    }
   ],
   "source": [
    "dict_roadway_type = {\n",
    "-1:'Unknown',    \n",
    "1:'Street',\n",
    "2:'Highway',\n",
    "3:'Bridge',\n",
    "4: 'Tunnel',\n",
    "5: 'Boardwalk',\n",
    "6: 'Path/Trail',\n",
    "7: 'Step Street',\n",
    "8: 'Driveway',\n",
    "9: 'Ramp',\n",
    "10: 'Alley',\n",
    "11: 'Unknown',\n",
    "12: 'Non-Physical Street Segment',\n",
    "13: 'U-Turn',\n",
    "14: 'Ferry Route'\n",
    "}\n",
    "\n",
    "df_511_dashboard = df_511_lion_crash_filtered[list_columns_dashboard]\n",
    "df_511_dashboard['roadway_type'] = df_511_dashboard['roadway_type'].apply(lambda x: dict_roadway_type[int(x)])"
   ]
  },
  {
   "cell_type": "code",
   "execution_count": 45,
   "metadata": {},
   "outputs": [],
   "source": [
    "df_511_dashboard .to_csv('../data/cleaned_data/511_crash_lion_processed_with_null_0630.csv', index=False)"
   ]
  },
  {
   "cell_type": "markdown",
   "metadata": {},
   "source": [
    "# 6 Null values"
   ]
  },
  {
   "cell_type": "code",
   "execution_count": 35,
   "metadata": {},
   "outputs": [],
   "source": [
    "# replace null values to np.nan\n",
    "df_511_lion_crash_filtered = df_511_lion_crash_filtered.replace(-1, np.nan)"
   ]
  },
  {
   "cell_type": "code",
   "execution_count": 36,
   "metadata": {},
   "outputs": [],
   "source": [
    "# replace null values to np.nan\n",
    "df_511_lion_crash_filtered = df_511_lion_crash_filtered.replace('-1', np.nan)"
   ]
  },
  {
   "cell_type": "code",
   "execution_count": 37,
   "metadata": {},
   "outputs": [],
   "source": [
    "# replace null values to np.nan\n",
    "df_511_lion_crash_filtered = df_511_lion_crash_filtered.fillna(np.nan)"
   ]
  },
  {
   "cell_type": "code",
   "execution_count": 38,
   "metadata": {},
   "outputs": [
    {
     "data": {
      "text/plain": [
       "event_id                      0\n",
       "county                        0\n",
       "create_time                   0\n",
       "close_time                    0\n",
       "duration                      0\n",
       "geometry_id                   0\n",
       "geometry                      0\n",
       "crash_list_900ft              0\n",
       "crash_list_1800ft             0\n",
       "crash_list_2700ft             0\n",
       "crash_list_3600ft             0\n",
       "segment_type                  0\n",
       "roadway_type                  0\n",
       "traffic_direction             0\n",
       "loc_status                18872\n",
       "curve_flag                18654\n",
       "radius                        0\n",
       "street_width                481\n",
       "bike_lane                 19646\n",
       "bike_traffic_direction    19647\n",
       "number_travel               383\n",
       "number_park               17925\n",
       "number_total_lane           383\n",
       "posted_speed               1867\n",
       "snow_prior                   13\n",
       "crash_count_900ft             0\n",
       "crash_count_1800ft            0\n",
       "crash_count_2700ft            0\n",
       "crash_count_3600ft            0\n",
       "season                        0\n",
       "daylight_duration             0\n",
       "nightlight_duration           0\n",
       "daylight_ratio                1\n",
       "create_time_weekend           0\n",
       "close_time_weekend            0\n",
       "day_of_week                   0\n",
       "peak_duration                 0\n",
       "peak_ratio                    1\n",
       "dtype: int64"
      ]
     },
     "execution_count": 38,
     "metadata": {},
     "output_type": "execute_result"
    }
   ],
   "source": [
    "# check the number of null values in each column\n",
    "df_511_lion_crash_filtered.isnull().sum()"
   ]
  },
  {
   "cell_type": "code",
   "execution_count": 39,
   "metadata": {},
   "outputs": [],
   "source": [
    "# drop the column which has more than 15000 null values\n",
    "df_511_lion_crash_filtered = df_511_lion_crash_filtered.drop(['bike_lane',\n",
    "                                                              'loc_status',\n",
    "                                                              'curve_flag',\n",
    "                                                              'bike_traffic_direction',\n",
    "                                                              'number_park'], axis=1)"
   ]
  },
  {
   "cell_type": "markdown",
   "metadata": {},
   "source": [
    "In terms of 'snow prior' column, most frequent value is 'C' whatever the roadway type is. So we will replace null values as 'C'"
   ]
  },
  {
   "cell_type": "code",
   "execution_count": 40,
   "metadata": {},
   "outputs": [
    {
     "data": {
      "text/plain": [
       "array([1, 9], dtype=int64)"
      ]
     },
     "execution_count": 40,
     "metadata": {},
     "output_type": "execute_result"
    }
   ],
   "source": [
    "df_511_lion_crash_filtered.loc[df_511_lion_crash_filtered['snow_prior'].isnull()]['roadway_type'].unique()"
   ]
  },
  {
   "cell_type": "code",
   "execution_count": 41,
   "metadata": {},
   "outputs": [
    {
     "data": {
      "text/plain": [
       "C    3822\n",
       "V     628\n",
       "S     530\n",
       "H     416\n",
       "Name: snow_prior, dtype: int64"
      ]
     },
     "execution_count": 41,
     "metadata": {},
     "output_type": "execute_result"
    }
   ],
   "source": [
    "df_511_lion_crash_filtered.loc[df_511_lion_crash_filtered['roadway_type']==1]['snow_prior'].value_counts()"
   ]
  },
  {
   "cell_type": "code",
   "execution_count": 42,
   "metadata": {},
   "outputs": [
    {
     "data": {
      "text/plain": [
       "C    1751\n",
       "V     277\n",
       "S       7\n",
       "Name: snow_prior, dtype: int64"
      ]
     },
     "execution_count": 42,
     "metadata": {},
     "output_type": "execute_result"
    }
   ],
   "source": [
    "df_511_lion_crash_filtered.loc[df_511_lion_crash_filtered['roadway_type']==9]['snow_prior'].value_counts()"
   ]
  },
  {
   "cell_type": "code",
   "execution_count": 43,
   "metadata": {},
   "outputs": [],
   "source": [
    "df_511_lion_crash_filtered['snow_prior'] = df_511_lion_crash_filtered['snow_prior'].fillna('C')"
   ]
  },
  {
   "cell_type": "code",
   "execution_count": 44,
   "metadata": {},
   "outputs": [],
   "source": [
    "# make a list of columns that have missing values\n",
    "target_columns = ['street_width',\n",
    "                   'number_travel',\n",
    "                   'number_total_lane',\n",
    "                   'posted_speed']"
   ]
  },
  {
   "cell_type": "code",
   "execution_count": 45,
   "metadata": {},
   "outputs": [],
   "source": [
    "# peak the avearge number of columns per each roadway type\n",
    "df_attributes_mean_by_rwtype = df_511_lion_crash_filtered.groupby('roadway_type').mean()"
   ]
  },
  {
   "cell_type": "code",
   "execution_count": 46,
   "metadata": {},
   "outputs": [
    {
     "data": {
      "text/html": [
       "<div>\n",
       "<style scoped>\n",
       "    .dataframe tbody tr th:only-of-type {\n",
       "        vertical-align: middle;\n",
       "    }\n",
       "\n",
       "    .dataframe tbody tr th {\n",
       "        vertical-align: top;\n",
       "    }\n",
       "\n",
       "    .dataframe thead th {\n",
       "        text-align: right;\n",
       "    }\n",
       "</style>\n",
       "<table border=\"1\" class=\"dataframe\">\n",
       "  <thead>\n",
       "    <tr style=\"text-align: right;\">\n",
       "      <th></th>\n",
       "      <th>street_width</th>\n",
       "      <th>number_travel</th>\n",
       "      <th>number_total_lane</th>\n",
       "      <th>posted_speed</th>\n",
       "    </tr>\n",
       "    <tr>\n",
       "      <th>roadway_type</th>\n",
       "      <th></th>\n",
       "      <th></th>\n",
       "      <th></th>\n",
       "      <th></th>\n",
       "    </tr>\n",
       "  </thead>\n",
       "  <tbody>\n",
       "    <tr>\n",
       "      <th>1</th>\n",
       "      <td>39.526306</td>\n",
       "      <td>2.427319</td>\n",
       "      <td>3.289925</td>\n",
       "      <td>25.849197</td>\n",
       "    </tr>\n",
       "    <tr>\n",
       "      <th>2</th>\n",
       "      <td>34.858378</td>\n",
       "      <td>2.942172</td>\n",
       "      <td>2.952225</td>\n",
       "      <td>47.154881</td>\n",
       "    </tr>\n",
       "    <tr>\n",
       "      <th>3</th>\n",
       "      <td>37.196028</td>\n",
       "      <td>3.531520</td>\n",
       "      <td>3.532383</td>\n",
       "      <td>39.809935</td>\n",
       "    </tr>\n",
       "    <tr>\n",
       "      <th>4</th>\n",
       "      <td>26.957555</td>\n",
       "      <td>2.000000</td>\n",
       "      <td>2.000000</td>\n",
       "      <td>32.283531</td>\n",
       "    </tr>\n",
       "    <tr>\n",
       "      <th>9</th>\n",
       "      <td>22.146812</td>\n",
       "      <td>1.652668</td>\n",
       "      <td>1.662383</td>\n",
       "      <td>47.361111</td>\n",
       "    </tr>\n",
       "  </tbody>\n",
       "</table>\n",
       "</div>"
      ],
      "text/plain": [
       "              street_width  number_travel  number_total_lane  posted_speed\n",
       "roadway_type                                                              \n",
       "1                39.526306       2.427319           3.289925     25.849197\n",
       "2                34.858378       2.942172           2.952225     47.154881\n",
       "3                37.196028       3.531520           3.532383     39.809935\n",
       "4                26.957555       2.000000           2.000000     32.283531\n",
       "9                22.146812       1.652668           1.662383     47.361111"
      ]
     },
     "execution_count": 46,
     "metadata": {},
     "output_type": "execute_result"
    }
   ],
   "source": [
    "df_attributes_mean_by_rwtype[target_columns].head()"
   ]
  },
  {
   "cell_type": "code",
   "execution_count": 47,
   "metadata": {},
   "outputs": [],
   "source": [
    "# create function that replace null values as the average value of columns per roadway type\n",
    "def replace_null_values(x, column):\n",
    "    if np.isnan(x[column]): \n",
    "        return int(df_attributes_mean_by_rwtype.loc[x['roadway_type'],column])\n",
    "    else:\n",
    "        return x[column]"
   ]
  },
  {
   "cell_type": "code",
   "execution_count": 48,
   "metadata": {},
   "outputs": [
    {
     "name": "stdout",
     "output_type": "stream",
     "text": [
      "street_width\n",
      "number_travel\n",
      "number_total_lane\n",
      "posted_speed\n"
     ]
    }
   ],
   "source": [
    "# replace null values\n",
    "for c in target_columns:\n",
    "    df_511_lion_crash_filtered[c] = df_511_lion_crash_filtered.apply(lambda x:replace_null_values(x,c), axis=1)\n",
    "    print(c)"
   ]
  },
  {
   "cell_type": "markdown",
   "metadata": {},
   "source": [
    "Here, we found that the case that duration is 0, we will drop this row because the daylight ratio and peak time ratio is impossible to calculate"
   ]
  },
  {
   "cell_type": "code",
   "execution_count": 49,
   "metadata": {},
   "outputs": [
    {
     "data": {
      "text/html": [
       "<div>\n",
       "<style scoped>\n",
       "    .dataframe tbody tr th:only-of-type {\n",
       "        vertical-align: middle;\n",
       "    }\n",
       "\n",
       "    .dataframe tbody tr th {\n",
       "        vertical-align: top;\n",
       "    }\n",
       "\n",
       "    .dataframe thead th {\n",
       "        text-align: right;\n",
       "    }\n",
       "</style>\n",
       "<table border=\"1\" class=\"dataframe\">\n",
       "  <thead>\n",
       "    <tr style=\"text-align: right;\">\n",
       "      <th></th>\n",
       "      <th>event_id</th>\n",
       "      <th>county</th>\n",
       "      <th>create_time</th>\n",
       "      <th>close_time</th>\n",
       "      <th>duration</th>\n",
       "      <th>geometry_id</th>\n",
       "      <th>geometry</th>\n",
       "      <th>crash_list_900ft</th>\n",
       "      <th>crash_list_1800ft</th>\n",
       "      <th>crash_list_2700ft</th>\n",
       "      <th>...</th>\n",
       "      <th>crash_count_3600ft</th>\n",
       "      <th>season</th>\n",
       "      <th>daylight_duration</th>\n",
       "      <th>nightlight_duration</th>\n",
       "      <th>daylight_ratio</th>\n",
       "      <th>create_time_weekend</th>\n",
       "      <th>close_time_weekend</th>\n",
       "      <th>day_of_week</th>\n",
       "      <th>peak_duration</th>\n",
       "      <th>peak_ratio</th>\n",
       "    </tr>\n",
       "  </thead>\n",
       "  <tbody>\n",
       "    <tr>\n",
       "      <th>22554</th>\n",
       "      <td>23460</td>\n",
       "      <td>Kings</td>\n",
       "      <td>2018-12-10 11:57:00</td>\n",
       "      <td>2018-12-10 11:57:00</td>\n",
       "      <td>0.0</td>\n",
       "      <td>92c2d97cc4f73a2fcf93371e9d546782</td>\n",
       "      <td>POINT (-74.01681427725235 40.63540681610351)</td>\n",
       "      <td>[]</td>\n",
       "      <td>[]</td>\n",
       "      <td>[]</td>\n",
       "      <td>...</td>\n",
       "      <td>0</td>\n",
       "      <td>winter</td>\n",
       "      <td>0.0</td>\n",
       "      <td>0.0</td>\n",
       "      <td>NaN</td>\n",
       "      <td>0</td>\n",
       "      <td>0</td>\n",
       "      <td>Monday</td>\n",
       "      <td>0.0</td>\n",
       "      <td>NaN</td>\n",
       "    </tr>\n",
       "  </tbody>\n",
       "</table>\n",
       "<p>1 rows × 33 columns</p>\n",
       "</div>"
      ],
      "text/plain": [
       "       event_id county         create_time          close_time  duration  \\\n",
       "22554     23460  Kings 2018-12-10 11:57:00 2018-12-10 11:57:00       0.0   \n",
       "\n",
       "                            geometry_id  \\\n",
       "22554  92c2d97cc4f73a2fcf93371e9d546782   \n",
       "\n",
       "                                           geometry crash_list_900ft  \\\n",
       "22554  POINT (-74.01681427725235 40.63540681610351)               []   \n",
       "\n",
       "      crash_list_1800ft crash_list_2700ft  ... crash_count_3600ft  season  \\\n",
       "22554                []                []  ...                  0  winter   \n",
       "\n",
       "       daylight_duration nightlight_duration  daylight_ratio  \\\n",
       "22554                0.0                 0.0             NaN   \n",
       "\n",
       "       create_time_weekend  close_time_weekend  day_of_week  peak_duration  \\\n",
       "22554                    0                   0       Monday            0.0   \n",
       "\n",
       "      peak_ratio  \n",
       "22554        NaN  \n",
       "\n",
       "[1 rows x 33 columns]"
      ]
     },
     "execution_count": 49,
     "metadata": {},
     "output_type": "execute_result"
    }
   ],
   "source": [
    "df_511_lion_crash_filtered.loc[df_511_lion_crash_filtered['peak_ratio'].isnull()]"
   ]
  },
  {
   "cell_type": "code",
   "execution_count": 50,
   "metadata": {},
   "outputs": [
    {
     "data": {
      "text/html": [
       "<div>\n",
       "<style scoped>\n",
       "    .dataframe tbody tr th:only-of-type {\n",
       "        vertical-align: middle;\n",
       "    }\n",
       "\n",
       "    .dataframe tbody tr th {\n",
       "        vertical-align: top;\n",
       "    }\n",
       "\n",
       "    .dataframe thead th {\n",
       "        text-align: right;\n",
       "    }\n",
       "</style>\n",
       "<table border=\"1\" class=\"dataframe\">\n",
       "  <thead>\n",
       "    <tr style=\"text-align: right;\">\n",
       "      <th></th>\n",
       "      <th>event_id</th>\n",
       "      <th>county</th>\n",
       "      <th>create_time</th>\n",
       "      <th>close_time</th>\n",
       "      <th>duration</th>\n",
       "      <th>geometry_id</th>\n",
       "      <th>geometry</th>\n",
       "      <th>crash_list_900ft</th>\n",
       "      <th>crash_list_1800ft</th>\n",
       "      <th>crash_list_2700ft</th>\n",
       "      <th>...</th>\n",
       "      <th>crash_count_3600ft</th>\n",
       "      <th>season</th>\n",
       "      <th>daylight_duration</th>\n",
       "      <th>nightlight_duration</th>\n",
       "      <th>daylight_ratio</th>\n",
       "      <th>create_time_weekend</th>\n",
       "      <th>close_time_weekend</th>\n",
       "      <th>day_of_week</th>\n",
       "      <th>peak_duration</th>\n",
       "      <th>peak_ratio</th>\n",
       "    </tr>\n",
       "  </thead>\n",
       "  <tbody>\n",
       "    <tr>\n",
       "      <th>22554</th>\n",
       "      <td>23460</td>\n",
       "      <td>Kings</td>\n",
       "      <td>2018-12-10 11:57:00</td>\n",
       "      <td>2018-12-10 11:57:00</td>\n",
       "      <td>0.0</td>\n",
       "      <td>92c2d97cc4f73a2fcf93371e9d546782</td>\n",
       "      <td>POINT (-74.01681427725235 40.63540681610351)</td>\n",
       "      <td>[]</td>\n",
       "      <td>[]</td>\n",
       "      <td>[]</td>\n",
       "      <td>...</td>\n",
       "      <td>0</td>\n",
       "      <td>winter</td>\n",
       "      <td>0.0</td>\n",
       "      <td>0.0</td>\n",
       "      <td>NaN</td>\n",
       "      <td>0</td>\n",
       "      <td>0</td>\n",
       "      <td>Monday</td>\n",
       "      <td>0.0</td>\n",
       "      <td>NaN</td>\n",
       "    </tr>\n",
       "  </tbody>\n",
       "</table>\n",
       "<p>1 rows × 33 columns</p>\n",
       "</div>"
      ],
      "text/plain": [
       "       event_id county         create_time          close_time  duration  \\\n",
       "22554     23460  Kings 2018-12-10 11:57:00 2018-12-10 11:57:00       0.0   \n",
       "\n",
       "                            geometry_id  \\\n",
       "22554  92c2d97cc4f73a2fcf93371e9d546782   \n",
       "\n",
       "                                           geometry crash_list_900ft  \\\n",
       "22554  POINT (-74.01681427725235 40.63540681610351)               []   \n",
       "\n",
       "      crash_list_1800ft crash_list_2700ft  ... crash_count_3600ft  season  \\\n",
       "22554                []                []  ...                  0  winter   \n",
       "\n",
       "       daylight_duration nightlight_duration  daylight_ratio  \\\n",
       "22554                0.0                 0.0             NaN   \n",
       "\n",
       "       create_time_weekend  close_time_weekend  day_of_week  peak_duration  \\\n",
       "22554                    0                   0       Monday            0.0   \n",
       "\n",
       "      peak_ratio  \n",
       "22554        NaN  \n",
       "\n",
       "[1 rows x 33 columns]"
      ]
     },
     "execution_count": 50,
     "metadata": {},
     "output_type": "execute_result"
    }
   ],
   "source": [
    "df_511_lion_crash_filtered.loc[df_511_lion_crash_filtered['daylight_ratio'].isnull()]"
   ]
  },
  {
   "cell_type": "code",
   "execution_count": 51,
   "metadata": {},
   "outputs": [],
   "source": [
    "df_511_lion_crash_filtered = df_511_lion_crash_filtered.loc[df_511_lion_crash_filtered['duration']>0]"
   ]
  },
  {
   "cell_type": "code",
   "execution_count": 52,
   "metadata": {},
   "outputs": [],
   "source": [
    "# export the processed dataset\n",
    "df_511_lion_crash_filtered.to_csv('../data/cleaned_data/511_crash_lion_processed_0630.csv', index=False)"
   ]
  }
 ],
 "metadata": {
  "kernelspec": {
   "display_name": "Python 3",
   "language": "python",
   "name": "python3"
  },
  "language_info": {
   "codemirror_mode": {
    "name": "ipython",
    "version": 3
   },
   "file_extension": ".py",
   "mimetype": "text/x-python",
   "name": "python",
   "nbconvert_exporter": "python",
   "pygments_lexer": "ipython3",
   "version": "3.8.2"
  }
 },
 "nbformat": 4,
 "nbformat_minor": 4
}
