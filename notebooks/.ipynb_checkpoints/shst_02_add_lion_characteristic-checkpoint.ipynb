{
 "cells": [
  {
   "cell_type": "markdown",
   "metadata": {},
   "source": [
    "# shst_02_add_lion_characteristic"
   ]
  },
  {
   "cell_type": "markdown",
   "metadata": {},
   "source": [
    "In this notebook, we will add street characteristics into sharedstreet segments and node point from the LION dataset. As a result of the notebook, csv files that contain street characteristics for the sharedstreets segment and node point will be created. "
   ]
  },
  {
   "cell_type": "markdown",
   "metadata": {},
   "source": [
    "## 1. Calculate street characteristic for Segment and Short Segment"
   ]
  },
  {
   "cell_type": "code",
   "execution_count": 3,
   "metadata": {},
   "outputs": [],
   "source": [
    "import pandas as pd\n",
    "import numpy as np\n",
    "import geopandas as gpd"
   ]
  },
  {
   "cell_type": "code",
   "execution_count": 4,
   "metadata": {},
   "outputs": [],
   "source": [
    "# make sure that you run the 'lion_01_lookup_table_between_LION_Shst.ipynb' notebook to get the 'shst_lion_lookuptable.csv'\n",
    "# import the lookup table\n",
    "df_shst_lion_lookup = pd.read_csv('../data/cleaned_data/shst_lion_lookuptable.csv')"
   ]
  },
  {
   "cell_type": "code",
   "execution_count": 5,
   "metadata": {},
   "outputs": [],
   "source": [
    "# drop unnecessary columns\n",
    "df_shst_lion_lookup = df_shst_lion_lookup[['shstGeometryId','pp_segment_id']]"
   ]
  },
  {
   "cell_type": "code",
   "execution_count": 6,
   "metadata": {},
   "outputs": [],
   "source": [
    "def get_lion_segment_id(geometryid):\n",
    "    '''\n",
    "    This function returns list of the lion segments id from shst geometry id.\n",
    "    \n",
    "    ------\n",
    "    Input :\n",
    "        geometryid (string): Sharedstreet geometryid    \n",
    "    \n",
    "    -----\n",
    "    Output :\n",
    "        list_segment_id (list): list of lion segment id that matched to sharedstreet segment\n",
    "    \n",
    "    '''\n",
    "    list_segment_id = df_shst_lion_lookup.loc[df_shst_lion_lookup['shstGeometryId']==geometryid]['pp_segment_id'].tolist()\n",
    "    return list_segment_id"
   ]
  },
  {
   "cell_type": "code",
   "execution_count": 7,
   "metadata": {},
   "outputs": [],
   "source": [
    "# make sure that you run the 'shst_00_processing_sharedstreets_geometry' notebook to get the 'shst_segment.shp'\n",
    "# import the sharedstreet segments\n",
    "gdf_segment = gpd.read_file('../data/sharedstreets_geometry/segment/shst_segment.shp')"
   ]
  },
  {
   "cell_type": "code",
   "execution_count": 8,
   "metadata": {},
   "outputs": [],
   "source": [
    "# create an empty dataframe of sharedstreet segment\n",
    "df_segment = pd.DataFrame(gdf_segment.loc[:,'id'])"
   ]
  },
  {
   "cell_type": "code",
   "execution_count": 9,
   "metadata": {},
   "outputs": [],
   "source": [
    "# get list of lion segment ids from shstgeometry ID \n",
    "df_segment['lion_segment_list'] = df_segment['id'].apply(lambda x:get_lion_segment_id(x))"
   ]
  },
  {
   "cell_type": "code",
   "execution_count": 10,
   "metadata": {},
   "outputs": [],
   "source": [
    "# explode the dataframe. \n",
    "df_segment_unstack = df_segment.explode('lion_segment_list')"
   ]
  },
  {
   "cell_type": "code",
   "execution_count": 11,
   "metadata": {},
   "outputs": [],
   "source": [
    "# rename the column and fillna values as -1\n",
    "df_segment_unstack = df_segment_unstack.rename(columns={'lion_segment_list':'lion_segment_id'})\n",
    "df_segment_unstack['lion_segment_id']= df_segment_unstack['lion_segment_id'].fillna(-1)\n",
    "df_segment_unstack['lion_segment_id'] = df_segment_unstack['lion_segment_id'].astype(int)"
   ]
  },
  {
   "cell_type": "code",
   "execution_count": 12,
   "metadata": {},
   "outputs": [],
   "source": [
    "# make sure that you run the 'lion_00_data_wrangling_&_filtration.ipynb' notebook to get the 'lion_filtered.shp'\n",
    "# import the lion dataset\n",
    "gdf_lion_filtered = gpd.read_file('../data/cleaned_data/lion_filtered/lion_filtered.shp')"
   ]
  },
  {
   "cell_type": "code",
   "execution_count": 13,
   "metadata": {},
   "outputs": [],
   "source": [
    "# Extract useful columns as a different geodataframe\n",
    "gdf_lion_simplified = gdf_lion_filtered[['segment_id',\n",
    "                                        'segment_ty',\n",
    "                                        'rw_type',\n",
    "                                        'traf_dir',\n",
    "                                        'loc_status',\n",
    "                                        'curve_flag',\n",
    "                                        'radius',\n",
    "                                        'street_wid',\n",
    "                                        'bike_lane',\n",
    "                                        'bike_trafd',\n",
    "                                        'number_tra',\n",
    "                                        'number_par',\n",
    "                                        'number_tot',\n",
    "                                        'posted_spe',\n",
    "                                        'snow_prior']]"
   ]
  },
  {
   "cell_type": "code",
   "execution_count": 14,
   "metadata": {},
   "outputs": [],
   "source": [
    "# correct column names\n",
    "gdf_lion_simplified = gdf_lion_simplified.rename(columns={'segment_ty':'segment_type',\n",
    "                                                          'rw_type': 'roadway_type',\n",
    "                                                          'traf_dir':'traffic_direction',\n",
    "                                                          'bike_trafd':'bike_traffic_direction',\n",
    "                                                          'number_par':'number_park',\n",
    "                                                          'number_tra':'number_travel',\n",
    "                                                          'number_tot':'number_total',\n",
    "                                                          'posted_spe': 'posted_speed',\n",
    "                                                          'street_wid': 'street_width'})"
   ]
  },
  {
   "cell_type": "code",
   "execution_count": 15,
   "metadata": {},
   "outputs": [],
   "source": [
    "# change a type of segment id from string to int\n",
    "gdf_lion_simplified['segment_id'] = gdf_lion_simplified['segment_id'].astype(int)"
   ]
  },
  {
   "cell_type": "code",
   "execution_count": 16,
   "metadata": {},
   "outputs": [],
   "source": [
    "# change lion geodataframe's index as segment id\n",
    "gdf_lion_simplified = gdf_lion_simplified.set_index('segment_id')"
   ]
  },
  {
   "cell_type": "code",
   "execution_count": 17,
   "metadata": {},
   "outputs": [],
   "source": [
    "# merge above geodataframe with lion geodataframe based on the segment id\n",
    "df_segment_unstack  = df_segment_unstack.merge(gdf_lion_simplified, left_on='lion_segment_id', right_index=True, how='left')"
   ]
  },
  {
   "cell_type": "code",
   "execution_count": 18,
   "metadata": {},
   "outputs": [],
   "source": [
    "# drop an unnecessary column\n",
    "df_segment_unstack = df_segment_unstack.drop('lion_segment_id', axis=1)"
   ]
  },
  {
   "cell_type": "code",
   "execution_count": 19,
   "metadata": {},
   "outputs": [],
   "source": [
    "# fill NaN values as -1\n",
    "df_segment_unstack = df_segment_unstack.fillna(-1)"
   ]
  },
  {
   "cell_type": "code",
   "execution_count": 20,
   "metadata": {},
   "outputs": [],
   "source": [
    "# drop unnecessary columns\n",
    "df_segment_unstack = df_segment_unstack[['id','roadway_type', 'street_width','posted_speed', 'number_total', 'number_travel', 'number_park']]"
   ]
  },
  {
   "cell_type": "code",
   "execution_count": 21,
   "metadata": {},
   "outputs": [],
   "source": [
    "# groupby columns were in the 511 datasets. we will pick the most frequent value\n",
    "df_segment_lion = df_segment_unstack.groupby('id', as_index=False).agg(lambda x:x.value_counts().index[0])"
   ]
  },
  {
   "cell_type": "code",
   "execution_count": 22,
   "metadata": {},
   "outputs": [],
   "source": [
    "# create a dictionary for transforming int numbers to street types\n",
    "dict_roadway_type = {\n",
    "-1:'Unknown',    \n",
    "1:'Street',\n",
    "2:'Highway',\n",
    "3:'Bridge',\n",
    "4: 'Tunnel',\n",
    "5: 'Boardwalk',\n",
    "6: 'Path/Trail',\n",
    "7: 'Step Street',\n",
    "8: 'Driveway',\n",
    "9: 'Ramp',\n",
    "10: 'Alley',\n",
    "11: 'Unknown',\n",
    "12: 'Non-Physical Street Segment',\n",
    "13: 'U-Turn',\n",
    "14: 'Ferry Route'\n",
    "}"
   ]
  },
  {
   "cell_type": "code",
   "execution_count": 23,
   "metadata": {},
   "outputs": [
    {
     "data": {
      "text/html": [
       "<div>\n",
       "<style scoped>\n",
       "    .dataframe tbody tr th:only-of-type {\n",
       "        vertical-align: middle;\n",
       "    }\n",
       "\n",
       "    .dataframe tbody tr th {\n",
       "        vertical-align: top;\n",
       "    }\n",
       "\n",
       "    .dataframe thead th {\n",
       "        text-align: right;\n",
       "    }\n",
       "</style>\n",
       "<table border=\"1\" class=\"dataframe\">\n",
       "  <thead>\n",
       "    <tr style=\"text-align: right;\">\n",
       "      <th></th>\n",
       "      <th>id</th>\n",
       "      <th>roadway_type</th>\n",
       "      <th>street_width</th>\n",
       "      <th>posted_speed</th>\n",
       "      <th>number_total</th>\n",
       "      <th>number_travel</th>\n",
       "      <th>number_park</th>\n",
       "    </tr>\n",
       "  </thead>\n",
       "  <tbody>\n",
       "    <tr>\n",
       "      <th>0</th>\n",
       "      <td>0000b4f516894dfb309654e1a12bc7b1</td>\n",
       "      <td>1</td>\n",
       "      <td>30.0</td>\n",
       "      <td>25</td>\n",
       "      <td>3</td>\n",
       "      <td>1</td>\n",
       "      <td>2</td>\n",
       "    </tr>\n",
       "    <tr>\n",
       "      <th>1</th>\n",
       "      <td>00010fd3ee560483c21bb98e414741c7</td>\n",
       "      <td>1</td>\n",
       "      <td>34.0</td>\n",
       "      <td>25</td>\n",
       "      <td>2</td>\n",
       "      <td>2</td>\n",
       "      <td>-1</td>\n",
       "    </tr>\n",
       "    <tr>\n",
       "      <th>2</th>\n",
       "      <td>000115ffe0b626b4c1310827d7b28822</td>\n",
       "      <td>1</td>\n",
       "      <td>30.0</td>\n",
       "      <td>25</td>\n",
       "      <td>3</td>\n",
       "      <td>1</td>\n",
       "      <td>2</td>\n",
       "    </tr>\n",
       "    <tr>\n",
       "      <th>3</th>\n",
       "      <td>000182e6b337ab6b7c6053a7499de445</td>\n",
       "      <td>1</td>\n",
       "      <td>36.0</td>\n",
       "      <td>25</td>\n",
       "      <td>4</td>\n",
       "      <td>2</td>\n",
       "      <td>2</td>\n",
       "    </tr>\n",
       "    <tr>\n",
       "      <th>4</th>\n",
       "      <td>0001f6598a4739e7244d278eb317cb39</td>\n",
       "      <td>1</td>\n",
       "      <td>28.0</td>\n",
       "      <td>25</td>\n",
       "      <td>2</td>\n",
       "      <td>1</td>\n",
       "      <td>1</td>\n",
       "    </tr>\n",
       "  </tbody>\n",
       "</table>\n",
       "</div>"
      ],
      "text/plain": [
       "                                 id roadway_type  street_width posted_speed  \\\n",
       "0  0000b4f516894dfb309654e1a12bc7b1            1          30.0           25   \n",
       "1  00010fd3ee560483c21bb98e414741c7            1          34.0           25   \n",
       "2  000115ffe0b626b4c1310827d7b28822            1          30.0           25   \n",
       "3  000182e6b337ab6b7c6053a7499de445            1          36.0           25   \n",
       "4  0001f6598a4739e7244d278eb317cb39            1          28.0           25   \n",
       "\n",
       "  number_total number_travel number_park  \n",
       "0            3             1           2  \n",
       "1            2             2          -1  \n",
       "2            3             1           2  \n",
       "3            4             2           2  \n",
       "4            2             1           1  "
      ]
     },
     "execution_count": 23,
     "metadata": {},
     "output_type": "execute_result"
    }
   ],
   "source": [
    "df_segment_lion.head()"
   ]
  },
  {
   "cell_type": "code",
   "execution_count": 24,
   "metadata": {},
   "outputs": [
    {
     "name": "stdout",
     "output_type": "stream",
     "text": [
      "<class 'pandas.core.frame.DataFrame'>\n",
      "Int64Index: 92795 entries, 0 to 92794\n",
      "Data columns (total 7 columns):\n",
      " #   Column         Non-Null Count  Dtype  \n",
      "---  ------         --------------  -----  \n",
      " 0   id             92795 non-null  object \n",
      " 1   roadway_type   92795 non-null  object \n",
      " 2   street_width   92795 non-null  float64\n",
      " 3   posted_speed   92795 non-null  object \n",
      " 4   number_total   92795 non-null  object \n",
      " 5   number_travel  92795 non-null  object \n",
      " 6   number_park    92795 non-null  object \n",
      "dtypes: float64(1), object(6)\n",
      "memory usage: 5.7+ MB\n"
     ]
    }
   ],
   "source": [
    "df_segment_lion.info()"
   ]
  },
  {
   "cell_type": "code",
   "execution_count": 25,
   "metadata": {},
   "outputs": [],
   "source": [
    "# transform the int number to string\n",
    "df_segment_lion['roadway_type'] = df_segment_lion['roadway_type'].apply(lambda x: dict_roadway_type[int(x)])"
   ]
  },
  {
   "cell_type": "code",
   "execution_count": 27,
   "metadata": {},
   "outputs": [],
   "source": [
    "df_segment_lion.to_csv('../data/cleaned_data/shared_street_with_attribute.csv', index=False)"
   ]
  },
  {
   "cell_type": "markdown",
   "metadata": {},
   "source": [
    "## 2. Calculate street characteristic for Node"
   ]
  },
  {
   "cell_type": "code",
   "execution_count": 30,
   "metadata": {},
   "outputs": [],
   "source": [
    "# make sure that you run the 'shst_00_processing_sharedstreets_geometry' notebook to get the 'shst_segment.shp'\n",
    "# import the sharedstreet segments\n",
    "gdf_segment = gpd.read_file('../data/sharedstreets_geometry/segment/shst_segment.shp')"
   ]
  },
  {
   "cell_type": "code",
   "execution_count": 31,
   "metadata": {},
   "outputs": [
    {
     "data": {
      "text/html": [
       "<div>\n",
       "<style scoped>\n",
       "    .dataframe tbody tr th:only-of-type {\n",
       "        vertical-align: middle;\n",
       "    }\n",
       "\n",
       "    .dataframe tbody tr th {\n",
       "        vertical-align: top;\n",
       "    }\n",
       "\n",
       "    .dataframe thead th {\n",
       "        text-align: right;\n",
       "    }\n",
       "</style>\n",
       "<table border=\"1\" class=\"dataframe\">\n",
       "  <thead>\n",
       "    <tr style=\"text-align: right;\">\n",
       "      <th></th>\n",
       "      <th>id</th>\n",
       "      <th>fromInters</th>\n",
       "      <th>toIntersec</th>\n",
       "      <th>forwardRef</th>\n",
       "      <th>backRefere</th>\n",
       "      <th>roadClass</th>\n",
       "      <th>length</th>\n",
       "      <th>geometry</th>\n",
       "    </tr>\n",
       "  </thead>\n",
       "  <tbody>\n",
       "    <tr>\n",
       "      <th>0</th>\n",
       "      <td>db6792075ebbddc84479fda26174ca30</td>\n",
       "      <td>374b01a56e64379b8d7198962eaede90</td>\n",
       "      <td>2922a5babc5f921116a9fed4131a5bb1</td>\n",
       "      <td>48b7ab8e4cbafb2c1893cd682ded6704</td>\n",
       "      <td>a8475c8bd67f9e0ec8ce6a404aae41c1</td>\n",
       "      <td>Residential</td>\n",
       "      <td>299.421958</td>\n",
       "      <td>LINESTRING (-73.91694 40.64668, -73.91625 40.6...</td>\n",
       "    </tr>\n",
       "    <tr>\n",
       "      <th>1</th>\n",
       "      <td>42ccdc2b9ebc38f98c22bb0035045628</td>\n",
       "      <td>37db438d57f16f92e5ba91f1ad1793bb</td>\n",
       "      <td>374b01a56e64379b8d7198962eaede90</td>\n",
       "      <td>febaf06db79d8a16588d1c387a62fdb2</td>\n",
       "      <td>9db38906c3d8ae5df463e297be4e2b9b</td>\n",
       "      <td>Residential</td>\n",
       "      <td>256.577253</td>\n",
       "      <td>LINESTRING (-73.91765 40.64623, -73.91732 40.6...</td>\n",
       "    </tr>\n",
       "    <tr>\n",
       "      <th>2</th>\n",
       "      <td>84afb6627019b793945a7aab1feefe77</td>\n",
       "      <td>374b01a56e64379b8d7198962eaede90</td>\n",
       "      <td>5b6e4972c82ad4eb6d24c17b94b33b59</td>\n",
       "      <td>3f53ec240fc39c6b6810243b5b6fc830</td>\n",
       "      <td>fbbb71d35b794421e030d3ec9e1dcede</td>\n",
       "      <td>Residential</td>\n",
       "      <td>264.356932</td>\n",
       "      <td>LINESTRING (-73.91694 40.64668, -73.91662 40.6...</td>\n",
       "    </tr>\n",
       "    <tr>\n",
       "      <th>3</th>\n",
       "      <td>cce2402bd9841cb406b283d10a814940</td>\n",
       "      <td>5b6e4972c82ad4eb6d24c17b94b33b59</td>\n",
       "      <td>a3e9299f85dbecb22e829acc84c10e0e</td>\n",
       "      <td>3087b5f676af0e0026291f350b24859f</td>\n",
       "      <td>2b5b359caf490894be2d52ac51ebd0aa</td>\n",
       "      <td>Residential</td>\n",
       "      <td>256.824988</td>\n",
       "      <td>LINESTRING (-73.91621 40.64715, -73.91550 40.6...</td>\n",
       "    </tr>\n",
       "    <tr>\n",
       "      <th>4</th>\n",
       "      <td>9fed2268f9da5e9d263fdec0cb322aaa</td>\n",
       "      <td>5b6e4972c82ad4eb6d24c17b94b33b59</td>\n",
       "      <td>4701018d0dd721de27e208b19f0b20b6</td>\n",
       "      <td>4e2b3b2e438d9d7d504c1f0c76a5e4b0</td>\n",
       "      <td>564d3c4d11cb8340bfa4cc2b1ac2e6ff</td>\n",
       "      <td>Residential</td>\n",
       "      <td>378.440368</td>\n",
       "      <td>LINESTRING (-73.91621 40.64715, -73.91611 40.6...</td>\n",
       "    </tr>\n",
       "  </tbody>\n",
       "</table>\n",
       "</div>"
      ],
      "text/plain": [
       "                                 id                        fromInters  \\\n",
       "0  db6792075ebbddc84479fda26174ca30  374b01a56e64379b8d7198962eaede90   \n",
       "1  42ccdc2b9ebc38f98c22bb0035045628  37db438d57f16f92e5ba91f1ad1793bb   \n",
       "2  84afb6627019b793945a7aab1feefe77  374b01a56e64379b8d7198962eaede90   \n",
       "3  cce2402bd9841cb406b283d10a814940  5b6e4972c82ad4eb6d24c17b94b33b59   \n",
       "4  9fed2268f9da5e9d263fdec0cb322aaa  5b6e4972c82ad4eb6d24c17b94b33b59   \n",
       "\n",
       "                         toIntersec                        forwardRef  \\\n",
       "0  2922a5babc5f921116a9fed4131a5bb1  48b7ab8e4cbafb2c1893cd682ded6704   \n",
       "1  374b01a56e64379b8d7198962eaede90  febaf06db79d8a16588d1c387a62fdb2   \n",
       "2  5b6e4972c82ad4eb6d24c17b94b33b59  3f53ec240fc39c6b6810243b5b6fc830   \n",
       "3  a3e9299f85dbecb22e829acc84c10e0e  3087b5f676af0e0026291f350b24859f   \n",
       "4  4701018d0dd721de27e208b19f0b20b6  4e2b3b2e438d9d7d504c1f0c76a5e4b0   \n",
       "\n",
       "                         backRefere    roadClass      length  \\\n",
       "0  a8475c8bd67f9e0ec8ce6a404aae41c1  Residential  299.421958   \n",
       "1  9db38906c3d8ae5df463e297be4e2b9b  Residential  256.577253   \n",
       "2  fbbb71d35b794421e030d3ec9e1dcede  Residential  264.356932   \n",
       "3  2b5b359caf490894be2d52ac51ebd0aa  Residential  256.824988   \n",
       "4  564d3c4d11cb8340bfa4cc2b1ac2e6ff  Residential  378.440368   \n",
       "\n",
       "                                            geometry  \n",
       "0  LINESTRING (-73.91694 40.64668, -73.91625 40.6...  \n",
       "1  LINESTRING (-73.91765 40.64623, -73.91732 40.6...  \n",
       "2  LINESTRING (-73.91694 40.64668, -73.91662 40.6...  \n",
       "3  LINESTRING (-73.91621 40.64715, -73.91550 40.6...  \n",
       "4  LINESTRING (-73.91621 40.64715, -73.91611 40.6...  "
      ]
     },
     "execution_count": 31,
     "metadata": {},
     "output_type": "execute_result"
    }
   ],
   "source": [
    "gdf_segment.head()"
   ]
  },
  {
   "cell_type": "code",
   "execution_count": 29,
   "metadata": {},
   "outputs": [
    {
     "data": {
      "text/html": [
       "<div>\n",
       "<style scoped>\n",
       "    .dataframe tbody tr th:only-of-type {\n",
       "        vertical-align: middle;\n",
       "    }\n",
       "\n",
       "    .dataframe tbody tr th {\n",
       "        vertical-align: top;\n",
       "    }\n",
       "\n",
       "    .dataframe thead th {\n",
       "        text-align: right;\n",
       "    }\n",
       "</style>\n",
       "<table border=\"1\" class=\"dataframe\">\n",
       "  <thead>\n",
       "    <tr style=\"text-align: right;\">\n",
       "      <th></th>\n",
       "      <th>id</th>\n",
       "      <th>roadway_type</th>\n",
       "      <th>street_width</th>\n",
       "      <th>posted_speed</th>\n",
       "      <th>number_total</th>\n",
       "      <th>number_travel</th>\n",
       "      <th>number_park</th>\n",
       "    </tr>\n",
       "  </thead>\n",
       "  <tbody>\n",
       "    <tr>\n",
       "      <th>0</th>\n",
       "      <td>0000b4f516894dfb309654e1a12bc7b1</td>\n",
       "      <td>Street</td>\n",
       "      <td>30.0</td>\n",
       "      <td>25</td>\n",
       "      <td>3</td>\n",
       "      <td>1</td>\n",
       "      <td>2</td>\n",
       "    </tr>\n",
       "    <tr>\n",
       "      <th>1</th>\n",
       "      <td>00010fd3ee560483c21bb98e414741c7</td>\n",
       "      <td>Street</td>\n",
       "      <td>34.0</td>\n",
       "      <td>25</td>\n",
       "      <td>2</td>\n",
       "      <td>2</td>\n",
       "      <td>-1</td>\n",
       "    </tr>\n",
       "    <tr>\n",
       "      <th>2</th>\n",
       "      <td>000115ffe0b626b4c1310827d7b28822</td>\n",
       "      <td>Street</td>\n",
       "      <td>30.0</td>\n",
       "      <td>25</td>\n",
       "      <td>3</td>\n",
       "      <td>1</td>\n",
       "      <td>2</td>\n",
       "    </tr>\n",
       "    <tr>\n",
       "      <th>3</th>\n",
       "      <td>000182e6b337ab6b7c6053a7499de445</td>\n",
       "      <td>Street</td>\n",
       "      <td>36.0</td>\n",
       "      <td>25</td>\n",
       "      <td>4</td>\n",
       "      <td>2</td>\n",
       "      <td>2</td>\n",
       "    </tr>\n",
       "    <tr>\n",
       "      <th>4</th>\n",
       "      <td>0001f6598a4739e7244d278eb317cb39</td>\n",
       "      <td>Street</td>\n",
       "      <td>28.0</td>\n",
       "      <td>25</td>\n",
       "      <td>2</td>\n",
       "      <td>1</td>\n",
       "      <td>1</td>\n",
       "    </tr>\n",
       "  </tbody>\n",
       "</table>\n",
       "</div>"
      ],
      "text/plain": [
       "                                 id roadway_type  street_width posted_speed  \\\n",
       "0  0000b4f516894dfb309654e1a12bc7b1       Street          30.0           25   \n",
       "1  00010fd3ee560483c21bb98e414741c7       Street          34.0           25   \n",
       "2  000115ffe0b626b4c1310827d7b28822       Street          30.0           25   \n",
       "3  000182e6b337ab6b7c6053a7499de445       Street          36.0           25   \n",
       "4  0001f6598a4739e7244d278eb317cb39       Street          28.0           25   \n",
       "\n",
       "  number_total number_travel number_park  \n",
       "0            3             1           2  \n",
       "1            2             2          -1  \n",
       "2            3             1           2  \n",
       "3            4             2           2  \n",
       "4            2             1           1  "
      ]
     },
     "execution_count": 29,
     "metadata": {},
     "output_type": "execute_result"
    }
   ],
   "source": [
    "df_segment_lion.head()"
   ]
  },
  {
   "cell_type": "code",
   "execution_count": 33,
   "metadata": {},
   "outputs": [],
   "source": [
    "# extract 'from node id' and 'segment_id'\n",
    "df_from_node = gdf_segment[['fromInters','id']]\n",
    "\n",
    "# extract 'to node id' and 'segment_id'\n",
    "df_to_node = gdf_segment[['toIntersec','id']]"
   ]
  },
  {
   "cell_type": "code",
   "execution_count": 34,
   "metadata": {},
   "outputs": [],
   "source": [
    "# change the column names \n",
    "df_from_node = df_from_node.rename(columns={'fromInters':'node_id',\n",
    "                                            'id':'segment_id'})  \n",
    "\n",
    "df_to_node = df_to_node.rename(columns={'toIntersec':'node_id',\n",
    "                                        'id':'segment_id'})"
   ]
  },
  {
   "cell_type": "code",
   "execution_count": 35,
   "metadata": {},
   "outputs": [],
   "source": [
    "# merge (concatenate) the datasets\n",
    "df_node = pd.concat([df_from_node,df_to_node], axis=0, ignore_index=True)"
   ]
  },
  {
   "cell_type": "code",
   "execution_count": 38,
   "metadata": {},
   "outputs": [],
   "source": [
    "# drop duplicates\n",
    "df_node = df_node.drop_duplicates()"
   ]
  },
  {
   "cell_type": "code",
   "execution_count": 42,
   "metadata": {},
   "outputs": [],
   "source": [
    "# add lion characteristic from 'df_segment_lion' dataframe\n",
    "df_node = df_node.merge(df_segment_lion, left_on = 'segment_id', right_on='id')"
   ]
  },
  {
   "cell_type": "code",
   "execution_count": 45,
   "metadata": {},
   "outputs": [],
   "source": [
    "# drop unnecessary columns\n",
    "df_node = df_node.drop(['segment_id','id'], axis=1)"
   ]
  },
  {
   "cell_type": "code",
   "execution_count": 47,
   "metadata": {},
   "outputs": [
    {
     "data": {
      "text/html": [
       "<div>\n",
       "<style scoped>\n",
       "    .dataframe tbody tr th:only-of-type {\n",
       "        vertical-align: middle;\n",
       "    }\n",
       "\n",
       "    .dataframe tbody tr th {\n",
       "        vertical-align: top;\n",
       "    }\n",
       "\n",
       "    .dataframe thead th {\n",
       "        text-align: right;\n",
       "    }\n",
       "</style>\n",
       "<table border=\"1\" class=\"dataframe\">\n",
       "  <thead>\n",
       "    <tr style=\"text-align: right;\">\n",
       "      <th></th>\n",
       "      <th>node_id</th>\n",
       "      <th>roadway_type</th>\n",
       "      <th>street_width</th>\n",
       "      <th>posted_speed</th>\n",
       "      <th>number_total</th>\n",
       "      <th>number_travel</th>\n",
       "      <th>number_park</th>\n",
       "    </tr>\n",
       "  </thead>\n",
       "  <tbody>\n",
       "    <tr>\n",
       "      <th>0</th>\n",
       "      <td>374b01a56e64379b8d7198962eaede90</td>\n",
       "      <td>Street</td>\n",
       "      <td>40.0</td>\n",
       "      <td>25</td>\n",
       "      <td>4</td>\n",
       "      <td>2</td>\n",
       "      <td>2</td>\n",
       "    </tr>\n",
       "    <tr>\n",
       "      <th>1</th>\n",
       "      <td>2922a5babc5f921116a9fed4131a5bb1</td>\n",
       "      <td>Street</td>\n",
       "      <td>40.0</td>\n",
       "      <td>25</td>\n",
       "      <td>4</td>\n",
       "      <td>2</td>\n",
       "      <td>2</td>\n",
       "    </tr>\n",
       "    <tr>\n",
       "      <th>2</th>\n",
       "      <td>37db438d57f16f92e5ba91f1ad1793bb</td>\n",
       "      <td>Street</td>\n",
       "      <td>44.0</td>\n",
       "      <td>25</td>\n",
       "      <td>4</td>\n",
       "      <td>2</td>\n",
       "      <td>2</td>\n",
       "    </tr>\n",
       "    <tr>\n",
       "      <th>3</th>\n",
       "      <td>374b01a56e64379b8d7198962eaede90</td>\n",
       "      <td>Street</td>\n",
       "      <td>44.0</td>\n",
       "      <td>25</td>\n",
       "      <td>4</td>\n",
       "      <td>2</td>\n",
       "      <td>2</td>\n",
       "    </tr>\n",
       "    <tr>\n",
       "      <th>4</th>\n",
       "      <td>374b01a56e64379b8d7198962eaede90</td>\n",
       "      <td>Street</td>\n",
       "      <td>44.0</td>\n",
       "      <td>25</td>\n",
       "      <td>4</td>\n",
       "      <td>2</td>\n",
       "      <td>2</td>\n",
       "    </tr>\n",
       "  </tbody>\n",
       "</table>\n",
       "</div>"
      ],
      "text/plain": [
       "                            node_id roadway_type  street_width posted_speed  \\\n",
       "0  374b01a56e64379b8d7198962eaede90       Street          40.0           25   \n",
       "1  2922a5babc5f921116a9fed4131a5bb1       Street          40.0           25   \n",
       "2  37db438d57f16f92e5ba91f1ad1793bb       Street          44.0           25   \n",
       "3  374b01a56e64379b8d7198962eaede90       Street          44.0           25   \n",
       "4  374b01a56e64379b8d7198962eaede90       Street          44.0           25   \n",
       "\n",
       "  number_total number_travel number_park  \n",
       "0            4             2           2  \n",
       "1            4             2           2  \n",
       "2            4             2           2  \n",
       "3            4             2           2  \n",
       "4            4             2           2  "
      ]
     },
     "execution_count": 47,
     "metadata": {},
     "output_type": "execute_result"
    }
   ],
   "source": [
    "df_node.head()"
   ]
  },
  {
   "cell_type": "code",
   "execution_count": 48,
   "metadata": {},
   "outputs": [],
   "source": [
    "# groupby columns based on node_id. we will pick the most frequent value\n",
    "df_node_lion = df_node.groupby('node_id', as_index=False).agg(lambda x:x.value_counts().index[0])"
   ]
  },
  {
   "cell_type": "code",
   "execution_count": 50,
   "metadata": {},
   "outputs": [
    {
     "data": {
      "text/html": [
       "<div>\n",
       "<style scoped>\n",
       "    .dataframe tbody tr th:only-of-type {\n",
       "        vertical-align: middle;\n",
       "    }\n",
       "\n",
       "    .dataframe tbody tr th {\n",
       "        vertical-align: top;\n",
       "    }\n",
       "\n",
       "    .dataframe thead th {\n",
       "        text-align: right;\n",
       "    }\n",
       "</style>\n",
       "<table border=\"1\" class=\"dataframe\">\n",
       "  <thead>\n",
       "    <tr style=\"text-align: right;\">\n",
       "      <th></th>\n",
       "      <th>node_id</th>\n",
       "      <th>roadway_type</th>\n",
       "      <th>street_width</th>\n",
       "      <th>posted_speed</th>\n",
       "      <th>number_total</th>\n",
       "      <th>number_travel</th>\n",
       "      <th>number_park</th>\n",
       "    </tr>\n",
       "  </thead>\n",
       "  <tbody>\n",
       "    <tr>\n",
       "      <th>0</th>\n",
       "      <td>0002db54439476ed731ba50bf7dcdb76</td>\n",
       "      <td>Street</td>\n",
       "      <td>30.0</td>\n",
       "      <td>25</td>\n",
       "      <td>3</td>\n",
       "      <td>2</td>\n",
       "      <td>-1</td>\n",
       "    </tr>\n",
       "    <tr>\n",
       "      <th>1</th>\n",
       "      <td>0005ae85e017c72c69cbdcd38f986f04</td>\n",
       "      <td>Street</td>\n",
       "      <td>26.0</td>\n",
       "      <td>25</td>\n",
       "      <td>3</td>\n",
       "      <td>2</td>\n",
       "      <td>1</td>\n",
       "    </tr>\n",
       "    <tr>\n",
       "      <th>2</th>\n",
       "      <td>0005f85368f314bfb0c82b84d0208b9f</td>\n",
       "      <td>Street</td>\n",
       "      <td>55.0</td>\n",
       "      <td>25</td>\n",
       "      <td>3</td>\n",
       "      <td>1</td>\n",
       "      <td>2</td>\n",
       "    </tr>\n",
       "    <tr>\n",
       "      <th>3</th>\n",
       "      <td>00069e55a187497605fe946926934e4b</td>\n",
       "      <td>Street</td>\n",
       "      <td>34.0</td>\n",
       "      <td>25</td>\n",
       "      <td>3</td>\n",
       "      <td>3</td>\n",
       "      <td>-1</td>\n",
       "    </tr>\n",
       "    <tr>\n",
       "      <th>4</th>\n",
       "      <td>0008525ffca74a2e2af21a2acc91458e</td>\n",
       "      <td>Street</td>\n",
       "      <td>50.0</td>\n",
       "      <td>20</td>\n",
       "      <td>3</td>\n",
       "      <td>1</td>\n",
       "      <td>2</td>\n",
       "    </tr>\n",
       "  </tbody>\n",
       "</table>\n",
       "</div>"
      ],
      "text/plain": [
       "                            node_id roadway_type  street_width posted_speed  \\\n",
       "0  0002db54439476ed731ba50bf7dcdb76       Street          30.0           25   \n",
       "1  0005ae85e017c72c69cbdcd38f986f04       Street          26.0           25   \n",
       "2  0005f85368f314bfb0c82b84d0208b9f       Street          55.0           25   \n",
       "3  00069e55a187497605fe946926934e4b       Street          34.0           25   \n",
       "4  0008525ffca74a2e2af21a2acc91458e       Street          50.0           20   \n",
       "\n",
       "  number_total number_travel number_park  \n",
       "0            3             2          -1  \n",
       "1            3             2           1  \n",
       "2            3             1           2  \n",
       "3            3             3          -1  \n",
       "4            3             1           2  "
      ]
     },
     "execution_count": 50,
     "metadata": {},
     "output_type": "execute_result"
    }
   ],
   "source": [
    "df_node_lion.head()"
   ]
  },
  {
   "cell_type": "code",
   "execution_count": 51,
   "metadata": {},
   "outputs": [],
   "source": [
    "df_node_lion.to_csv('../data/cleaned_data/shared_node_with_attribute.csv', index=False)"
   ]
  }
 ],
 "metadata": {
  "kernelspec": {
   "display_name": "Python 3",
   "language": "python",
   "name": "python3"
  },
  "language_info": {
   "codemirror_mode": {
    "name": "ipython",
    "version": 3
   },
   "file_extension": ".py",
   "mimetype": "text/x-python",
   "name": "python",
   "nbconvert_exporter": "python",
   "pygments_lexer": "ipython3",
   "version": "3.8.2"
  }
 },
 "nbformat": 4,
 "nbformat_minor": 4
}
