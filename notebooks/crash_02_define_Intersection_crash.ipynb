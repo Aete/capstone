{
 "cells": [
  {
   "cell_type": "markdown",
   "metadata": {},
   "source": [
    "# crash_02_define_Intersection_crash"
   ]
  },
  {
   "cell_type": "markdown",
   "metadata": {},
   "source": [
    "In this notebook, we will separate 'matched' crashes (the result of 'crash_02_data_wrangling_with_shst.ipynb') into intersection and segment crashes. The intersection crashes are located nearby Sharedstreet node points and 'short segment' (please check 'shst_02_extract_short_segments.ipynb)' and 'segment crashes'  means crashes that are located on Sharedstreet segment but not located near to intersections and short segments. <br>\n",
    "\n",
    "This notebook contains chapters like below:\n",
    "\n",
    "- 1. Filtering crashes which occurred nearby short segment\n",
    "- 2. Filtering crashes which occurred nearby Sharedstreets nodes\n",
    "- 3. Filtering crashes which occurred nearby Sharedstreets segments"
   ]
  },
  {
   "cell_type": "code",
   "execution_count": 1,
   "metadata": {},
   "outputs": [],
   "source": [
    "import pandas as pd\n",
    "import geopandas as gpd\n",
    "import numpy as np\n",
    "import seaborn as sns\n",
    "import matplotlib.pyplot as plt\n",
    "from fiona.crs import from_epsg\n",
    "from shapely.geometry import LineString"
   ]
  },
  {
   "cell_type": "code",
   "execution_count": 2,
   "metadata": {},
   "outputs": [],
   "source": [
    "# make sure that you run the 'crash_01_data_wrangling' notebook to get the '511_mv_collisions.csv'\n",
    "# import matched crash dataset\n",
    "gdf_crashes = gpd.read_file('../data/cleaned_data/mv_collisions_shst_matched.geojson')"
   ]
  },
  {
   "cell_type": "code",
   "execution_count": 3,
   "metadata": {},
   "outputs": [
    {
     "data": {
      "text/html": [
       "<div>\n",
       "<style scoped>\n",
       "    .dataframe tbody tr th:only-of-type {\n",
       "        vertical-align: middle;\n",
       "    }\n",
       "\n",
       "    .dataframe tbody tr th {\n",
       "        vertical-align: top;\n",
       "    }\n",
       "\n",
       "    .dataframe thead th {\n",
       "        text-align: right;\n",
       "    }\n",
       "</style>\n",
       "<table border=\"1\" class=\"dataframe\">\n",
       "  <thead>\n",
       "    <tr style=\"text-align: right;\">\n",
       "      <th></th>\n",
       "      <th>collision_id</th>\n",
       "      <th>geometry_id</th>\n",
       "      <th>crash_date</th>\n",
       "      <th>crash_time</th>\n",
       "      <th>borough</th>\n",
       "      <th>zip_code</th>\n",
       "      <th>on_street_name</th>\n",
       "      <th>cross_street_name</th>\n",
       "      <th>off_street_name</th>\n",
       "      <th>number_of_persons_injured</th>\n",
       "      <th>...</th>\n",
       "      <th>contributing_factor_vehicle_2</th>\n",
       "      <th>contributing_factor_vehicle_3</th>\n",
       "      <th>contributing_factor_vehicle_4</th>\n",
       "      <th>contributing_factor_vehicle_5</th>\n",
       "      <th>vehicle_type_code_1</th>\n",
       "      <th>vehicle_type_code_2</th>\n",
       "      <th>vehicle_type_code_3</th>\n",
       "      <th>vehicle_type_code_4</th>\n",
       "      <th>vehicle_type_code_5</th>\n",
       "      <th>geometry</th>\n",
       "    </tr>\n",
       "  </thead>\n",
       "  <tbody>\n",
       "    <tr>\n",
       "      <th>0</th>\n",
       "      <td>3531327</td>\n",
       "      <td>ba4520777941a56b87f97a1d35dc2e20</td>\n",
       "      <td>2016-10-01</td>\n",
       "      <td>20:20:00</td>\n",
       "      <td>manhattan</td>\n",
       "      <td>10038.0</td>\n",
       "      <td>None</td>\n",
       "      <td>None</td>\n",
       "      <td>20        park row</td>\n",
       "      <td>0.0</td>\n",
       "      <td>...</td>\n",
       "      <td>unspecified</td>\n",
       "      <td>None</td>\n",
       "      <td>None</td>\n",
       "      <td>None</td>\n",
       "      <td>PASSENGER VEHICLE</td>\n",
       "      <td>PASSENGER VEHICLE</td>\n",
       "      <td>None</td>\n",
       "      <td>None</td>\n",
       "      <td>None</td>\n",
       "      <td>POINT (-74.00772 40.71152)</td>\n",
       "    </tr>\n",
       "    <tr>\n",
       "      <th>1</th>\n",
       "      <td>3530538</td>\n",
       "      <td>da0bde3c3c147e230387851d1679e6bc</td>\n",
       "      <td>2016-10-01</td>\n",
       "      <td>01:40:00</td>\n",
       "      <td>None</td>\n",
       "      <td>NaN</td>\n",
       "      <td>gowanus expy (bqe)</td>\n",
       "      <td>None</td>\n",
       "      <td>None</td>\n",
       "      <td>0.0</td>\n",
       "      <td>...</td>\n",
       "      <td>None</td>\n",
       "      <td>None</td>\n",
       "      <td>None</td>\n",
       "      <td>None</td>\n",
       "      <td>PASSENGER VEHICLE</td>\n",
       "      <td>None</td>\n",
       "      <td>None</td>\n",
       "      <td>None</td>\n",
       "      <td>None</td>\n",
       "      <td>POINT (-74.00712 40.65499)</td>\n",
       "    </tr>\n",
       "    <tr>\n",
       "      <th>2</th>\n",
       "      <td>3534839</td>\n",
       "      <td>aff3547e8a39ef2c07ad433655ca4d61</td>\n",
       "      <td>2016-10-01</td>\n",
       "      <td>22:30:00</td>\n",
       "      <td>manhattan</td>\n",
       "      <td>10032.0</td>\n",
       "      <td>west 163 street</td>\n",
       "      <td>broadway</td>\n",
       "      <td>None</td>\n",
       "      <td>0.0</td>\n",
       "      <td>...</td>\n",
       "      <td>None</td>\n",
       "      <td>None</td>\n",
       "      <td>None</td>\n",
       "      <td>None</td>\n",
       "      <td>PASSENGER VEHICLE</td>\n",
       "      <td>PASSENGER VEHICLE</td>\n",
       "      <td>None</td>\n",
       "      <td>None</td>\n",
       "      <td>None</td>\n",
       "      <td>POINT (-73.94216 40.83779)</td>\n",
       "    </tr>\n",
       "  </tbody>\n",
       "</table>\n",
       "<p>3 rows × 28 columns</p>\n",
       "</div>"
      ],
      "text/plain": [
       "   collision_id                       geometry_id  crash_date crash_time  \\\n",
       "0       3531327  ba4520777941a56b87f97a1d35dc2e20  2016-10-01   20:20:00   \n",
       "1       3530538  da0bde3c3c147e230387851d1679e6bc  2016-10-01   01:40:00   \n",
       "2       3534839  aff3547e8a39ef2c07ad433655ca4d61  2016-10-01   22:30:00   \n",
       "\n",
       "     borough  zip_code                    on_street_name cross_street_name  \\\n",
       "0  manhattan   10038.0                              None              None   \n",
       "1       None       NaN  gowanus expy (bqe)                            None   \n",
       "2  manhattan   10032.0  west 163 street                           broadway   \n",
       "\n",
       "                            off_street_name  number_of_persons_injured  ...  \\\n",
       "0  20        park row                                              0.0  ...   \n",
       "1                                      None                        0.0  ...   \n",
       "2                                      None                        0.0  ...   \n",
       "\n",
       "   contributing_factor_vehicle_2  contributing_factor_vehicle_3  \\\n",
       "0                    unspecified                           None   \n",
       "1                           None                           None   \n",
       "2                           None                           None   \n",
       "\n",
       "   contributing_factor_vehicle_4  contributing_factor_vehicle_5  \\\n",
       "0                           None                           None   \n",
       "1                           None                           None   \n",
       "2                           None                           None   \n",
       "\n",
       "   vehicle_type_code_1  vehicle_type_code_2  vehicle_type_code_3  \\\n",
       "0    PASSENGER VEHICLE    PASSENGER VEHICLE                 None   \n",
       "1    PASSENGER VEHICLE                 None                 None   \n",
       "2    PASSENGER VEHICLE    PASSENGER VEHICLE                 None   \n",
       "\n",
       "  vehicle_type_code_4 vehicle_type_code_5                    geometry  \n",
       "0                None                None  POINT (-74.00772 40.71152)  \n",
       "1                None                None  POINT (-74.00712 40.65499)  \n",
       "2                None                None  POINT (-73.94216 40.83779)  \n",
       "\n",
       "[3 rows x 28 columns]"
      ]
     },
     "execution_count": 3,
     "metadata": {},
     "output_type": "execute_result"
    }
   ],
   "source": [
    "gdf_crashes.head(3)"
   ]
  },
  {
   "cell_type": "code",
   "execution_count": 4,
   "metadata": {},
   "outputs": [],
   "source": [
    "# make sure that you run the 'shst_01_processing_sharedstreets_geometry' notebook to get the 'shst_segment.shp'\n",
    "# import sharedstreet segment \n",
    "gdf_shst_segment = gpd.read_file('../data/sharedstreets_geometry/segment/shst_segment.shp')"
   ]
  },
  {
   "cell_type": "code",
   "execution_count": 5,
   "metadata": {},
   "outputs": [],
   "source": [
    "# extract a list of the segment id \n",
    "list_shst_segment = gdf_shst_segment['id'].tolist()"
   ]
  },
  {
   "cell_type": "code",
   "execution_count": 6,
   "metadata": {},
   "outputs": [],
   "source": [
    "# drop the crashes that were matched on segment id which were not in shst_segment.shp \n",
    "gdf_crashes = gdf_crashes.loc[gdf_crashes['geometry_id'].isin(list_shst_segment)]"
   ]
  },
  {
   "cell_type": "code",
   "execution_count": 7,
   "metadata": {},
   "outputs": [
    {
     "name": "stderr",
     "output_type": "stream",
     "text": [
      "C:\\Users\\hsg82\\AppData\\Local\\Continuum\\anaconda3\\envs\\capstone2020\\lib\\site-packages\\pyproj\\crs\\crs.py:53: FutureWarning: '+init=<authority>:<code>' syntax is deprecated. '<authority>:<code>' is the preferred initialization method. When making the change, be mindful of axis order changes: https://pyproj4.github.io/pyproj/stable/gotchas.html#axis-order-changes-in-proj-6\n",
      "  return _prepare_from_string(\" \".join(pjargs))\n"
     ]
    }
   ],
   "source": [
    "# copy crash dataset with projection systme egsg 2263 (us-ft)\n",
    "gdf_crashes_2263 = gdf_crashes.copy()\n",
    "gdf_crashes_2263.crs = from_epsg(4326)\n",
    "gdf_crashes_2263 = gdf_crashes_2263.to_crs(epsg=2263)  "
   ]
  },
  {
   "cell_type": "markdown",
   "metadata": {},
   "source": [
    "## 1. Filtering crashes which occurred nearby short segment"
   ]
  },
  {
   "cell_type": "code",
   "execution_count": 8,
   "metadata": {},
   "outputs": [],
   "source": [
    "# make sure that you run the 'shst_02_extract_short_segments' notebook to get the 'shst_short_segment.shp'\n",
    "# import a shapefile of the short segment\n",
    "gdf_short_segment = gpd.read_file('../data/sharedstreets_geometry/short_segment/shst_short_segment.shp')"
   ]
  },
  {
   "cell_type": "code",
   "execution_count": 9,
   "metadata": {},
   "outputs": [],
   "source": [
    "# make sure that you run the 'shst_02_extract_short_segments' notebook to get the '/shst_short_segment_centroid.shp'\n",
    "# import a shapefile of the short segment centroid\n",
    "gdf_short_segment_centroid = gpd.read_file('../data/sharedstreets_geometry/short_segment/shst_short_segment_centroid.shp')"
   ]
  },
  {
   "cell_type": "code",
   "execution_count": 10,
   "metadata": {},
   "outputs": [],
   "source": [
    "# drop unnecessary columns\n",
    "gdf_short_segment = gdf_short_segment[['id','geometry']]"
   ]
  },
  {
   "cell_type": "code",
   "execution_count": 11,
   "metadata": {},
   "outputs": [
    {
     "name": "stderr",
     "output_type": "stream",
     "text": [
      "C:\\Users\\hsg82\\AppData\\Local\\Continuum\\anaconda3\\envs\\capstone2020\\lib\\site-packages\\pyproj\\crs\\crs.py:53: FutureWarning: '+init=<authority>:<code>' syntax is deprecated. '<authority>:<code>' is the preferred initialization method. When making the change, be mindful of axis order changes: https://pyproj4.github.io/pyproj/stable/gotchas.html#axis-order-changes-in-proj-6\n",
      "  return _prepare_from_string(\" \".join(pjargs))\n"
     ]
    }
   ],
   "source": [
    "# create a geodataframe of the sharedstreets that projected to epsg2263\n",
    "gdf_short_segment_2263 = gdf_short_segment.copy()\n",
    "\n",
    "# change coordinate system from epsg4326 to epsg2263\n",
    "# epsg2263 is based on us-ft.\n",
    "gdf_short_segment_2263.crs = from_epsg(4326)\n",
    "gdf_short_segment_2263 = gdf_short_segment_2263.to_crs(epsg=2263)  "
   ]
  },
  {
   "cell_type": "code",
   "execution_count": 12,
   "metadata": {},
   "outputs": [],
   "source": [
    "# buffer 30ft\n",
    "gdf_short_segment_2263['geometry'] = gdf_short_segment_2263['geometry'].buffer(30)"
   ]
  },
  {
   "cell_type": "code",
   "execution_count": 13,
   "metadata": {},
   "outputs": [],
   "source": [
    "# using sjoin function, find crashes which occured buffer zone.\n",
    "gdf_crashes_2263_short_segment = gpd.sjoin(gdf_crashes_2263, gdf_short_segment_2263, op='within')"
   ]
  },
  {
   "cell_type": "code",
   "execution_count": 14,
   "metadata": {},
   "outputs": [],
   "source": [
    "# drop unnecessary columns\n",
    "df_crashes_short_segment = gdf_crashes_2263_short_segment[['collision_id','id']]"
   ]
  },
  {
   "cell_type": "code",
   "execution_count": 15,
   "metadata": {},
   "outputs": [
    {
     "data": {
      "text/html": [
       "<div>\n",
       "<style scoped>\n",
       "    .dataframe tbody tr th:only-of-type {\n",
       "        vertical-align: middle;\n",
       "    }\n",
       "\n",
       "    .dataframe tbody tr th {\n",
       "        vertical-align: top;\n",
       "    }\n",
       "\n",
       "    .dataframe thead th {\n",
       "        text-align: right;\n",
       "    }\n",
       "</style>\n",
       "<table border=\"1\" class=\"dataframe\">\n",
       "  <thead>\n",
       "    <tr style=\"text-align: right;\">\n",
       "      <th></th>\n",
       "      <th>collision_id</th>\n",
       "      <th>id</th>\n",
       "    </tr>\n",
       "  </thead>\n",
       "  <tbody>\n",
       "    <tr>\n",
       "      <th>2</th>\n",
       "      <td>3534839</td>\n",
       "      <td>aff3547e8a39ef2c07ad433655ca4d61</td>\n",
       "    </tr>\n",
       "    <tr>\n",
       "      <th>94085</th>\n",
       "      <td>3631813</td>\n",
       "      <td>aff3547e8a39ef2c07ad433655ca4d61</td>\n",
       "    </tr>\n",
       "    <tr>\n",
       "      <th>94285</th>\n",
       "      <td>3632703</td>\n",
       "      <td>aff3547e8a39ef2c07ad433655ca4d61</td>\n",
       "    </tr>\n",
       "    <tr>\n",
       "      <th>100490</th>\n",
       "      <td>3638615</td>\n",
       "      <td>aff3547e8a39ef2c07ad433655ca4d61</td>\n",
       "    </tr>\n",
       "    <tr>\n",
       "      <th>109310</th>\n",
       "      <td>3648160</td>\n",
       "      <td>aff3547e8a39ef2c07ad433655ca4d61</td>\n",
       "    </tr>\n",
       "  </tbody>\n",
       "</table>\n",
       "</div>"
      ],
      "text/plain": [
       "        collision_id                                id\n",
       "2            3534839  aff3547e8a39ef2c07ad433655ca4d61\n",
       "94085        3631813  aff3547e8a39ef2c07ad433655ca4d61\n",
       "94285        3632703  aff3547e8a39ef2c07ad433655ca4d61\n",
       "100490       3638615  aff3547e8a39ef2c07ad433655ca4d61\n",
       "109310       3648160  aff3547e8a39ef2c07ad433655ca4d61"
      ]
     },
     "execution_count": 15,
     "metadata": {},
     "output_type": "execute_result"
    }
   ],
   "source": [
    "df_crashes_short_segment.head()"
   ]
  },
  {
   "cell_type": "markdown",
   "metadata": {},
   "source": [
    "Because some crashes matched with multiple short segments, we will assign the nearest short segment to each crash "
   ]
  },
  {
   "cell_type": "code",
   "execution_count": 16,
   "metadata": {},
   "outputs": [],
   "source": [
    "# this cell will create the dataframe that contains list of sharedstreet id for each collision id\n",
    "df_crashes_short_segment = df_crashes_short_segment.groupby('collision_id')['id'].apply(list)\n",
    "df_crashes_short_segment = df_crashes_short_segment.reset_index()"
   ]
  },
  {
   "cell_type": "code",
   "execution_count": 17,
   "metadata": {},
   "outputs": [],
   "source": [
    "# add 'geometry' column that contains coordinates of crashes\n",
    "df_crashes_short_segment = df_crashes_short_segment.merge(gdf_crashes[['collision_id','geometry']], on='collision_id', how='left')"
   ]
  },
  {
   "cell_type": "code",
   "execution_count": 18,
   "metadata": {},
   "outputs": [
    {
     "data": {
      "text/html": [
       "<div>\n",
       "<style scoped>\n",
       "    .dataframe tbody tr th:only-of-type {\n",
       "        vertical-align: middle;\n",
       "    }\n",
       "\n",
       "    .dataframe tbody tr th {\n",
       "        vertical-align: top;\n",
       "    }\n",
       "\n",
       "    .dataframe thead th {\n",
       "        text-align: right;\n",
       "    }\n",
       "</style>\n",
       "<table border=\"1\" class=\"dataframe\">\n",
       "  <thead>\n",
       "    <tr style=\"text-align: right;\">\n",
       "      <th></th>\n",
       "      <th>collision_id</th>\n",
       "      <th>id</th>\n",
       "      <th>geometry</th>\n",
       "    </tr>\n",
       "  </thead>\n",
       "  <tbody>\n",
       "    <tr>\n",
       "      <th>0</th>\n",
       "      <td>3530528</td>\n",
       "      <td>[e95045cba4602b73447ed579683d85ae]</td>\n",
       "      <td>POINT (-73.96137 40.68047)</td>\n",
       "    </tr>\n",
       "    <tr>\n",
       "      <th>1</th>\n",
       "      <td>3530535</td>\n",
       "      <td>[3aa91910e5f2525ab515c94f695c57b4]</td>\n",
       "      <td>POINT (-73.96822 40.79978)</td>\n",
       "    </tr>\n",
       "    <tr>\n",
       "      <th>2</th>\n",
       "      <td>3530542</td>\n",
       "      <td>[67df749077fafca15d9c8b493fdf54d0]</td>\n",
       "      <td>POINT (-73.76844 40.68620)</td>\n",
       "    </tr>\n",
       "    <tr>\n",
       "      <th>3</th>\n",
       "      <td>3530561</td>\n",
       "      <td>[f8c6d0bea790a5f71cd04a4e1401751d]</td>\n",
       "      <td>POINT (-73.78581 40.68900)</td>\n",
       "    </tr>\n",
       "    <tr>\n",
       "      <th>4</th>\n",
       "      <td>3530570</td>\n",
       "      <td>[511c9d6a42a91f2abda9eb8ab1f476fd]</td>\n",
       "      <td>POINT (-73.75181 40.68240)</td>\n",
       "    </tr>\n",
       "  </tbody>\n",
       "</table>\n",
       "</div>"
      ],
      "text/plain": [
       "   collision_id                                  id  \\\n",
       "0       3530528  [e95045cba4602b73447ed579683d85ae]   \n",
       "1       3530535  [3aa91910e5f2525ab515c94f695c57b4]   \n",
       "2       3530542  [67df749077fafca15d9c8b493fdf54d0]   \n",
       "3       3530561  [f8c6d0bea790a5f71cd04a4e1401751d]   \n",
       "4       3530570  [511c9d6a42a91f2abda9eb8ab1f476fd]   \n",
       "\n",
       "                     geometry  \n",
       "0  POINT (-73.96137 40.68047)  \n",
       "1  POINT (-73.96822 40.79978)  \n",
       "2  POINT (-73.76844 40.68620)  \n",
       "3  POINT (-73.78581 40.68900)  \n",
       "4  POINT (-73.75181 40.68240)  "
      ]
     },
     "execution_count": 18,
     "metadata": {},
     "output_type": "execute_result"
    }
   ],
   "source": [
    "df_crashes_short_segment.head()"
   ]
  },
  {
   "cell_type": "code",
   "execution_count": 19,
   "metadata": {},
   "outputs": [],
   "source": [
    "def calculate_distance(point1,point2):\n",
    "    '''\n",
    "    This function is for calculating a distance between two points\n",
    "    -----\n",
    "    Input:\n",
    "        point1 (Shapely.geometry.Point): a point (x,y)\n",
    "        point2 (Shapely.geometry.Point): a point (x,y)\n",
    "    -----\n",
    "    Output:    \n",
    "        distance (float): a distance between point1 and point2\n",
    "    \n",
    "    '''\n",
    "    return LineString(tuple(point1.coords)+tuple(point2.coords)).length"
   ]
  },
  {
   "cell_type": "code",
   "execution_count": 20,
   "metadata": {},
   "outputs": [],
   "source": [
    "def most_nearest_short_segment(x):\n",
    "    '''\n",
    "    This function returns an id of the nearest short segment\n",
    "    -----\n",
    "    Input:\n",
    "        x (pd.DataFrame): df_crashes_short_segment\n",
    "    -----\n",
    "    Output:    \n",
    "        id (string) : an id of the nearest short segment\n",
    "    \n",
    "    '''\n",
    "    # crash point (coordinate of crash event)\n",
    "    point = x['geometry']\n",
    "    \n",
    "    # list of short segment\n",
    "    list_node = x['id']\n",
    "    \n",
    "    # if a crash matched with one short segment\n",
    "    if len(list_node) == 1:\n",
    "        \n",
    "        # return an id of that short segment\n",
    "        return list_node[0]\n",
    "    else:\n",
    "        # make a dataframe of short segment\n",
    "        df_node = pd.DataFrame(list_node).rename(columns={0:'id'})\n",
    "        \n",
    "        # add a 'geometry' column that contains a centroid of each short segment\n",
    "        df_node = df_node.merge(gdf_short_segment_centroid[['id','geometry']], on='id', how='left') \n",
    "        \n",
    "        # calculate distance between the centroids and crash point\n",
    "        df_node['distance'] = df_node['geometry'].apply(lambda x: calculate_distance(point,x))\n",
    "        \n",
    "        # return an id of the nearest short segment\n",
    "        return df_node.sort_values(by='distance').iloc[0]['id']"
   ]
  },
  {
   "cell_type": "code",
   "execution_count": 21,
   "metadata": {},
   "outputs": [],
   "source": [
    "# get the nearest short segment\n",
    "df_crashes_short_segment['nearest_id'] = df_crashes_short_segment.apply(lambda x:most_nearest_short_segment(x), axis=1)"
   ]
  },
  {
   "cell_type": "code",
   "execution_count": 22,
   "metadata": {},
   "outputs": [],
   "source": [
    "# drop unnecessary columns\n",
    "df_crashes_short_segment = df_crashes_short_segment.drop(['id','geometry'], axis=1)"
   ]
  },
  {
   "cell_type": "code",
   "execution_count": 23,
   "metadata": {},
   "outputs": [],
   "source": [
    "# set the geometry as the centroid of the nearest short segment\n",
    "df_crashes_short_segment = df_crashes_short_segment.merge(gdf_short_segment_centroid[['id','geometry']],\n",
    "                                                          left_on = 'nearest_id',\n",
    "                                                          right_on = 'id')\n",
    "df_crashes_short_segment = df_crashes_short_segment.drop('id', axis=1)"
   ]
  },
  {
   "cell_type": "code",
   "execution_count": 24,
   "metadata": {},
   "outputs": [],
   "source": [
    "# add crash characteristics\n",
    "df_crashes_short_segment = df_crashes_short_segment.merge(gdf_crashes.drop(['geometry_id',\n",
    "                                                                            'geometry'], axis=1),\n",
    "                                                          on='collision_id',\n",
    "                                                          how='left')"
   ]
  },
  {
   "cell_type": "code",
   "execution_count": 25,
   "metadata": {},
   "outputs": [],
   "source": [
    "# set the type of GeoDataFrame\n",
    "gdf_crashes_short_segment = gpd.GeoDataFrame(df_crashes_short_segment, geometry='geometry') "
   ]
  },
  {
   "cell_type": "code",
   "execution_count": 26,
   "metadata": {},
   "outputs": [
    {
     "name": "stderr",
     "output_type": "stream",
     "text": [
      "C:\\Users\\hsg82\\AppData\\Local\\Continuum\\anaconda3\\envs\\capstone2020\\lib\\site-packages\\pyproj\\crs\\crs.py:53: FutureWarning: '+init=<authority>:<code>' syntax is deprecated. '<authority>:<code>' is the preferred initialization method. When making the change, be mindful of axis order changes: https://pyproj4.github.io/pyproj/stable/gotchas.html#axis-order-changes-in-proj-6\n",
      "  return _prepare_from_string(\" \".join(pjargs))\n"
     ]
    }
   ],
   "source": [
    "# set the projection system\n",
    "gdf_crashes_short_segment.crs = from_epsg(4326)"
   ]
  },
  {
   "cell_type": "code",
   "execution_count": 51,
   "metadata": {},
   "outputs": [
    {
     "data": {
      "text/html": [
       "<div>\n",
       "<style scoped>\n",
       "    .dataframe tbody tr th:only-of-type {\n",
       "        vertical-align: middle;\n",
       "    }\n",
       "\n",
       "    .dataframe tbody tr th {\n",
       "        vertical-align: top;\n",
       "    }\n",
       "\n",
       "    .dataframe thead th {\n",
       "        text-align: right;\n",
       "    }\n",
       "</style>\n",
       "<table border=\"1\" class=\"dataframe\">\n",
       "  <thead>\n",
       "    <tr style=\"text-align: right;\">\n",
       "      <th></th>\n",
       "      <th>collision_id</th>\n",
       "      <th>nearest_id</th>\n",
       "      <th>geometry</th>\n",
       "      <th>crash_date</th>\n",
       "      <th>crash_time</th>\n",
       "      <th>borough</th>\n",
       "      <th>zip_code</th>\n",
       "      <th>on_street_name</th>\n",
       "      <th>cross_street_name</th>\n",
       "      <th>off_street_name</th>\n",
       "      <th>...</th>\n",
       "      <th>contributing_factor_vehicle_1</th>\n",
       "      <th>contributing_factor_vehicle_2</th>\n",
       "      <th>contributing_factor_vehicle_3</th>\n",
       "      <th>contributing_factor_vehicle_4</th>\n",
       "      <th>contributing_factor_vehicle_5</th>\n",
       "      <th>vehicle_type_code_1</th>\n",
       "      <th>vehicle_type_code_2</th>\n",
       "      <th>vehicle_type_code_3</th>\n",
       "      <th>vehicle_type_code_4</th>\n",
       "      <th>vehicle_type_code_5</th>\n",
       "    </tr>\n",
       "  </thead>\n",
       "  <tbody>\n",
       "    <tr>\n",
       "      <th>0</th>\n",
       "      <td>3530528</td>\n",
       "      <td>e95045cba4602b73447ed579683d85ae</td>\n",
       "      <td>POINT (-73.96137 40.68047)</td>\n",
       "      <td>2016-10-01</td>\n",
       "      <td>03:18:00</td>\n",
       "      <td>brooklyn</td>\n",
       "      <td>11238.0</td>\n",
       "      <td>None</td>\n",
       "      <td>None</td>\n",
       "      <td>986       atlantic avenue</td>\n",
       "      <td>...</td>\n",
       "      <td>following too closely</td>\n",
       "      <td>unspecified</td>\n",
       "      <td>None</td>\n",
       "      <td>None</td>\n",
       "      <td>None</td>\n",
       "      <td>TAXI</td>\n",
       "      <td>SPORT UTILITY / STATION WAGON</td>\n",
       "      <td>TAXI</td>\n",
       "      <td>SPORT UTILITY / STATION WAGON</td>\n",
       "      <td>None</td>\n",
       "    </tr>\n",
       "    <tr>\n",
       "      <th>1</th>\n",
       "      <td>3553471</td>\n",
       "      <td>e95045cba4602b73447ed579683d85ae</td>\n",
       "      <td>POINT (-73.96137 40.68047)</td>\n",
       "      <td>2016-11-02</td>\n",
       "      <td>05:54:00</td>\n",
       "      <td>None</td>\n",
       "      <td>NaN</td>\n",
       "      <td>grand avenue</td>\n",
       "      <td>None</td>\n",
       "      <td>None</td>\n",
       "      <td>...</td>\n",
       "      <td>unspecified</td>\n",
       "      <td>None</td>\n",
       "      <td>None</td>\n",
       "      <td>None</td>\n",
       "      <td>None</td>\n",
       "      <td>PASSENGER VEHICLE</td>\n",
       "      <td>None</td>\n",
       "      <td>None</td>\n",
       "      <td>None</td>\n",
       "      <td>None</td>\n",
       "    </tr>\n",
       "    <tr>\n",
       "      <th>2</th>\n",
       "      <td>3562630</td>\n",
       "      <td>e95045cba4602b73447ed579683d85ae</td>\n",
       "      <td>POINT (-73.96137 40.68047)</td>\n",
       "      <td>2016-11-17</td>\n",
       "      <td>00:00:00</td>\n",
       "      <td>None</td>\n",
       "      <td>NaN</td>\n",
       "      <td>atlantic avenue</td>\n",
       "      <td>None</td>\n",
       "      <td>None</td>\n",
       "      <td>...</td>\n",
       "      <td>following too closely</td>\n",
       "      <td>unspecified</td>\n",
       "      <td>None</td>\n",
       "      <td>None</td>\n",
       "      <td>None</td>\n",
       "      <td>PK</td>\n",
       "      <td>Van</td>\n",
       "      <td>None</td>\n",
       "      <td>None</td>\n",
       "      <td>None</td>\n",
       "    </tr>\n",
       "  </tbody>\n",
       "</table>\n",
       "<p>3 rows × 28 columns</p>\n",
       "</div>"
      ],
      "text/plain": [
       "   collision_id                        nearest_id                    geometry  \\\n",
       "0       3530528  e95045cba4602b73447ed579683d85ae  POINT (-73.96137 40.68047)   \n",
       "1       3553471  e95045cba4602b73447ed579683d85ae  POINT (-73.96137 40.68047)   \n",
       "2       3562630  e95045cba4602b73447ed579683d85ae  POINT (-73.96137 40.68047)   \n",
       "\n",
       "   crash_date crash_time   borough  zip_code  \\\n",
       "0  2016-10-01   03:18:00  brooklyn   11238.0   \n",
       "1  2016-11-02   05:54:00      None       NaN   \n",
       "2  2016-11-17   00:00:00      None       NaN   \n",
       "\n",
       "                     on_street_name cross_street_name  \\\n",
       "0                              None              None   \n",
       "1  grand avenue                                  None   \n",
       "2  atlantic avenue                               None   \n",
       "\n",
       "                            off_street_name  ...  \\\n",
       "0  986       atlantic avenue                 ...   \n",
       "1                                      None  ...   \n",
       "2                                      None  ...   \n",
       "\n",
       "   contributing_factor_vehicle_1  contributing_factor_vehicle_2  \\\n",
       "0          following too closely                    unspecified   \n",
       "1                    unspecified                           None   \n",
       "2          following too closely                    unspecified   \n",
       "\n",
       "   contributing_factor_vehicle_3  contributing_factor_vehicle_4  \\\n",
       "0                           None                           None   \n",
       "1                           None                           None   \n",
       "2                           None                           None   \n",
       "\n",
       "   contributing_factor_vehicle_5  vehicle_type_code_1  \\\n",
       "0                           None                 TAXI   \n",
       "1                           None    PASSENGER VEHICLE   \n",
       "2                           None                   PK   \n",
       "\n",
       "             vehicle_type_code_2  vehicle_type_code_3  \\\n",
       "0  SPORT UTILITY / STATION WAGON                 TAXI   \n",
       "1                           None                 None   \n",
       "2                            Van                 None   \n",
       "\n",
       "             vehicle_type_code_4 vehicle_type_code_5  \n",
       "0  SPORT UTILITY / STATION WAGON                None  \n",
       "1                           None                None  \n",
       "2                           None                None  \n",
       "\n",
       "[3 rows x 28 columns]"
      ]
     },
     "execution_count": 51,
     "metadata": {},
     "output_type": "execute_result"
    }
   ],
   "source": [
    "gdf_crashes_short_segment.head(3)"
   ]
  },
  {
   "cell_type": "code",
   "execution_count": 27,
   "metadata": {},
   "outputs": [],
   "source": [
    "# export the filtered datasets\n",
    "gdf_crashes_short_segment.to_file('../data/cleaned_data/crash_seperated/crash_short_segment/crash_short_segment.shp',  encoding='utf-8')\n",
    "gdf_crashes_short_segment.to_file('../data/cleaned_data/crash_seperated/crash_short_segment/crash_short_segment.geojson', driver='GeoJSON',  encoding='utf-8')"
   ]
  },
  {
   "cell_type": "code",
   "execution_count": 28,
   "metadata": {},
   "outputs": [],
   "source": [
    "# extract the list of crashes that occurred nearby the short segments\n",
    "list_crashes_short_segment = gdf_crashes_short_segment['collision_id'].tolist()"
   ]
  },
  {
   "cell_type": "code",
   "execution_count": 29,
   "metadata": {},
   "outputs": [],
   "source": [
    "# drop crashes that occurred nearby the short segments\n",
    "gdf_crashes_long_segment_2263 = gdf_crashes_2263.loc[~gdf_crashes_2263['collision_id'].isin(list_crashes_short_segment)]"
   ]
  },
  {
   "cell_type": "markdown",
   "metadata": {},
   "source": [
    "## 2. Filtering crashes which occurred nearby Sharedstreets nodes"
   ]
  },
  {
   "cell_type": "code",
   "execution_count": 30,
   "metadata": {},
   "outputs": [],
   "source": [
    "# make sure that you run the 'shst_02_extract_short_segments' notebook to get the 'shst_node_filtered.shp'\n",
    "# import a shapefile of the node point\n",
    "gdf_shst_node = gpd.read_file('../data/sharedstreets_geometry/node_filtered/shst_node_filtered.shp')"
   ]
  },
  {
   "cell_type": "code",
   "execution_count": 31,
   "metadata": {},
   "outputs": [],
   "source": [
    "# create a geodataframe of the sharedstreets that projected to epsg2263\n",
    "gdf_shst_node_2263 = gdf_shst_node.copy()\n",
    "\n",
    "# change coordinate system from epsg4326 to epsg2263\n",
    "# epsg2263 is based on us-ft.\n",
    "gdf_shst_node_2263.crs = from_epsg(4326)\n",
    "gdf_shst_node_2263 = gdf_shst_node_2263.to_crs(epsg=2263)  "
   ]
  },
  {
   "cell_type": "code",
   "execution_count": 32,
   "metadata": {},
   "outputs": [],
   "source": [
    "# buffer 30ft\n",
    "gdf_shst_node_2263['geometry'] = gdf_shst_node_2263['geometry'].buffer(30)"
   ]
  },
  {
   "cell_type": "code",
   "execution_count": 33,
   "metadata": {},
   "outputs": [],
   "source": [
    "# using sjoin function, find crashes which occured buffer zone.\n",
    "gdf_crashes_2263_intersection = gpd.sjoin(gdf_crashes_long_segment_2263, gdf_shst_node_2263, op='within')"
   ]
  },
  {
   "cell_type": "code",
   "execution_count": 34,
   "metadata": {},
   "outputs": [],
   "source": [
    "# drop unnecessary columns\n",
    "gdf_crashes_intersection = gdf_crashes_2263_intersection[['collision_id','node_id']]"
   ]
  },
  {
   "cell_type": "code",
   "execution_count": 35,
   "metadata": {},
   "outputs": [],
   "source": [
    "# this cell will create the dataframe that contains list of node id for each collision id\n",
    "df_crashes_intersection = gdf_crashes_intersection.groupby('collision_id')['node_id'].apply(list)\n",
    "df_crashes_intersection = df_crashes_intersection.reset_index()"
   ]
  },
  {
   "cell_type": "code",
   "execution_count": 36,
   "metadata": {},
   "outputs": [],
   "source": [
    "# add 'geometry' column that contains coordinates of crashes\n",
    "df_crashes_intersection = df_crashes_intersection.merge(gdf_crashes[['collision_id','geometry']], on='collision_id', how='left')"
   ]
  },
  {
   "cell_type": "code",
   "execution_count": 37,
   "metadata": {},
   "outputs": [],
   "source": [
    "def most_nearest_node(x):\n",
    "    '''\n",
    "    This function returns an id of the nearest Sharedstreet node. \n",
    "    Entire process in this function is same with the most_nearest_short_segment function\n",
    "    -----\n",
    "    Input:\n",
    "        x (pd.DataFrame): df_crashes_intersection\n",
    "    -----\n",
    "    Output:    \n",
    "        id (string) : an id of the nearest Sharedstreet node\n",
    "    \n",
    "    '''\n",
    "    \n",
    "    point = x['geometry']\n",
    "    list_node = x['node_id']\n",
    "    if len(list_node) == 1:\n",
    "        return list_node[0]\n",
    "    else:\n",
    "        df_node = pd.DataFrame(list_node).rename(columns={0:'node_id'})\n",
    "        df_node = df_node.merge(gdf_shst_node[['node_id','geometry']], on='node_id', how='left') \n",
    "        df_node['distance'] = df_node['geometry'].apply(lambda x: calculate_distance(point,x))\n",
    "        return df_node.sort_values(by='distance').iloc[0]['node_id']"
   ]
  },
  {
   "cell_type": "code",
   "execution_count": 38,
   "metadata": {},
   "outputs": [],
   "source": [
    "# get the nearest sharedstreet node point\n",
    "df_crashes_intersection['nearest_id'] = df_crashes_intersection.apply(lambda x:most_nearest_node(x), axis=1)"
   ]
  },
  {
   "cell_type": "code",
   "execution_count": 39,
   "metadata": {},
   "outputs": [],
   "source": [
    "# drop unnecessary columns\n",
    "df_crashes_intersection = df_crashes_intersection.drop(['node_id','geometry'], axis=1)"
   ]
  },
  {
   "cell_type": "code",
   "execution_count": 40,
   "metadata": {},
   "outputs": [],
   "source": [
    "# set the geometry as the centroid of the nearest node\n",
    "df_crashes_intersection = df_crashes_intersection.merge(gdf_shst_node[['node_id','geometry']],\n",
    "                                                        left_on = 'nearest_id',\n",
    "                                                        right_on = 'node_id')\n",
    "df_crashes_intersection = df_crashes_intersection.drop('node_id', axis=1)"
   ]
  },
  {
   "cell_type": "code",
   "execution_count": 41,
   "metadata": {},
   "outputs": [],
   "source": [
    "# add crash characteristics\n",
    "df_crashes_intersection = df_crashes_intersection.merge(gdf_crashes.drop(['geometry_id',\n",
    "                                                                          'geometry'], axis=1),\n",
    "                                                          on='collision_id',\n",
    "                                                          how='left')"
   ]
  },
  {
   "cell_type": "code",
   "execution_count": 42,
   "metadata": {},
   "outputs": [],
   "source": [
    "# rename a nearest_id column\n",
    "df_crashes_intersection = df_crashes_intersection.rename(columns={'nearest_id':'nearest_node_id'})"
   ]
  },
  {
   "cell_type": "code",
   "execution_count": 43,
   "metadata": {},
   "outputs": [],
   "source": [
    "# set the type of GeoDataFrame\n",
    "gdf_crashes_intersection = gpd.GeoDataFrame(df_crashes_intersection, geometry='geometry') "
   ]
  },
  {
   "cell_type": "code",
   "execution_count": 44,
   "metadata": {},
   "outputs": [
    {
     "name": "stderr",
     "output_type": "stream",
     "text": [
      "C:\\Users\\hsg82\\AppData\\Local\\Continuum\\anaconda3\\envs\\capstone2020\\lib\\site-packages\\pyproj\\crs\\crs.py:53: FutureWarning: '+init=<authority>:<code>' syntax is deprecated. '<authority>:<code>' is the preferred initialization method. When making the change, be mindful of axis order changes: https://pyproj4.github.io/pyproj/stable/gotchas.html#axis-order-changes-in-proj-6\n",
      "  return _prepare_from_string(\" \".join(pjargs))\n"
     ]
    }
   ],
   "source": [
    "# set the projection system\n",
    "gdf_crashes_intersection.crs = from_epsg(4326)"
   ]
  },
  {
   "cell_type": "code",
   "execution_count": 45,
   "metadata": {},
   "outputs": [],
   "source": [
    "# export the filtered datasets\n",
    "gdf_crashes_intersection.to_file('../data/cleaned_data/crash_seperated/crash_intersection/crash_intersection.shp', encoding='utf-8')\n",
    "gdf_crashes_intersection.to_file('../data/cleaned_data/crash_seperated/crash_intersection/crash_intersection.geojson', encoding='utf-8', driver='GeoJSON')"
   ]
  },
  {
   "cell_type": "code",
   "execution_count": 46,
   "metadata": {},
   "outputs": [],
   "source": [
    "# extract the list of crashes that occurred nearby the intersections\n",
    "list_intersection_crash = gdf_crashes_intersection['collision_id'].tolist()"
   ]
  },
  {
   "cell_type": "markdown",
   "metadata": {},
   "source": [
    "## Filtering crashes which occurred nearby Sharedstreets segments"
   ]
  },
  {
   "cell_type": "markdown",
   "metadata": {},
   "source": [
    "The segment crashes are crashes that are not classified as 'short segment' crashes or 'intersection' crashes"
   ]
  },
  {
   "cell_type": "code",
   "execution_count": 47,
   "metadata": {},
   "outputs": [],
   "source": [
    "# drop crashes that occurred nearby the short segments and intersections\n",
    "gdf_crashes_segment = gdf_crashes.loc[~gdf_crashes['collision_id'].isin(list_intersection_crash)]\n",
    "gdf_crashes_segment = gdf_crashes_segment.loc[~gdf_crashes_segment['collision_id'].isin(list_crashes_short_segment)]"
   ]
  },
  {
   "cell_type": "code",
   "execution_count": 48,
   "metadata": {},
   "outputs": [],
   "source": [
    "# export the filtered datasets\n",
    "gdf_crashes_segment.to_file('../data/cleaned_data/crash_seperated/crash_segment/crash_segment.shp',  encoding='utf-8')\n",
    "gdf_crashes_segment.to_file('../data/cleaned_data/crash_seperated/crash_segment/crash_segment.geojson', driver='GeoJSON',  encoding='utf-8')"
   ]
  },
  {
   "cell_type": "markdown",
   "metadata": {},
   "source": [
    "## Check the numbers of each dataset, to check duplicated values or errors"
   ]
  },
  {
   "cell_type": "markdown",
   "metadata": {},
   "source": [
    "This is for checking every crashes was assigned correctly"
   ]
  },
  {
   "cell_type": "code",
   "execution_count": 49,
   "metadata": {},
   "outputs": [
    {
     "data": {
      "text/plain": [
       "649881"
      ]
     },
     "execution_count": 49,
     "metadata": {},
     "output_type": "execute_result"
    }
   ],
   "source": [
    "gdf_crashes_segment.shape[0] + gdf_crashes_intersection.shape[0]\\\n",
    "+ gdf_crashes_short_segment.shape[0]"
   ]
  },
  {
   "cell_type": "code",
   "execution_count": 50,
   "metadata": {},
   "outputs": [
    {
     "data": {
      "text/plain": [
       "(649881, 28)"
      ]
     },
     "execution_count": 50,
     "metadata": {},
     "output_type": "execute_result"
    }
   ],
   "source": [
    "gdf_crashes.shape"
   ]
  }
 ],
 "metadata": {
  "kernelspec": {
   "display_name": "Python 3",
   "language": "python",
   "name": "python3"
  },
  "language_info": {
   "codemirror_mode": {
    "name": "ipython",
    "version": 3
   },
   "file_extension": ".py",
   "mimetype": "text/x-python",
   "name": "python",
   "nbconvert_exporter": "python",
   "pygments_lexer": "ipython3",
   "version": "3.8.2"
  }
 },
 "nbformat": 4,
 "nbformat_minor": 4
}
