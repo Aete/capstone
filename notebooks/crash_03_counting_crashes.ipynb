{
 "cells": [
  {
   "cell_type": "markdown",
   "metadata": {},
   "source": [
    "## Counting crashes"
   ]
  },
  {
   "cell_type": "markdown",
   "metadata": {},
   "source": [
    "This notebook is for counting crashes per intersection and segment. In the notebook, we will follow chapters like below: <br>\n",
    "- 1. Counting crashes\n",
    "- 2. Counting crahses per month\n",
    "- 3. Counting crashes per hour in the day <br>\n",
    "\n",
    "From this notebook, we will export geojson files that contain the number of crashes per each intersections and segments. A map in the dashboard (https://workzone-collision-analysis.github.io/capstone/dashboard/) was made with the geojson file. <br>\n",
    "Also we will export csv files about the number of crasehs per month and the time in a day on certain segment and intersections too. Charts in the dashboard was drawn based on this datasets."
   ]
  },
  {
   "cell_type": "code",
   "execution_count": 1,
   "metadata": {},
   "outputs": [],
   "source": [
    "# import libraries\n",
    "import pandas as pd\n",
    "import numpy as np\n",
    "import geopandas as gpd"
   ]
  },
  {
   "cell_type": "markdown",
   "metadata": {},
   "source": [
    "## 1. Counting Crashes"
   ]
  },
  {
   "cell_type": "markdown",
   "metadata": {},
   "source": [
    "### 1-1. Short segment"
   ]
  },
  {
   "cell_type": "code",
   "execution_count": 2,
   "metadata": {},
   "outputs": [],
   "source": [
    "# make sure that you run the 'shst_02_extract_short_segments' notebook to get the 'shst_short_segment_centroid.shp'\n",
    "# import a shapefile of the short segment centroid\n",
    "gdf_short_segment = gpd.read_file('../data/sharedstreets_geometry/short_segment/shst_short_segment_centroid.shp')"
   ]
  },
  {
   "cell_type": "code",
   "execution_count": 3,
   "metadata": {},
   "outputs": [],
   "source": [
    "# drop unnecessary columns\n",
    "gdf_short_segment = gdf_short_segment[['id','geometry']]"
   ]
  },
  {
   "cell_type": "code",
   "execution_count": 4,
   "metadata": {},
   "outputs": [],
   "source": [
    "# make sure that you run the 'crash_02_define_Intersection_crash' notebook to get the 'crash_short_segment.shpp'\n",
    "# import crash dataset\n",
    "gdf_crash_short_segment = gpd.read_file('../data/cleaned_data/crash_seperated/crash_short_segment/crash_short_segment.shp')"
   ]
  },
  {
   "cell_type": "code",
   "execution_count": 5,
   "metadata": {},
   "outputs": [],
   "source": [
    "# drop unnecessary columns and rename\n",
    "gdf_crash_short_segment = gdf_crash_short_segment.rename(columns={'collision_':'collision_id'})[['collision_id',\n",
    "                                                                                                'nearest_id',\n",
    "                                                                                                'crash_date',\n",
    "                                                                                                'crash_time']]"
   ]
  },
  {
   "cell_type": "code",
   "execution_count": 6,
   "metadata": {},
   "outputs": [
    {
     "data": {
      "text/html": [
       "<div>\n",
       "<style scoped>\n",
       "    .dataframe tbody tr th:only-of-type {\n",
       "        vertical-align: middle;\n",
       "    }\n",
       "\n",
       "    .dataframe tbody tr th {\n",
       "        vertical-align: top;\n",
       "    }\n",
       "\n",
       "    .dataframe thead th {\n",
       "        text-align: right;\n",
       "    }\n",
       "</style>\n",
       "<table border=\"1\" class=\"dataframe\">\n",
       "  <thead>\n",
       "    <tr style=\"text-align: right;\">\n",
       "      <th></th>\n",
       "      <th>collision_id</th>\n",
       "      <th>nearest_id</th>\n",
       "      <th>crash_date</th>\n",
       "      <th>crash_time</th>\n",
       "    </tr>\n",
       "  </thead>\n",
       "  <tbody>\n",
       "    <tr>\n",
       "      <th>0</th>\n",
       "      <td>3530528</td>\n",
       "      <td>e95045cba4602b73447ed579683d85ae</td>\n",
       "      <td>2016-10-01</td>\n",
       "      <td>03:18:00</td>\n",
       "    </tr>\n",
       "    <tr>\n",
       "      <th>1</th>\n",
       "      <td>3553471</td>\n",
       "      <td>e95045cba4602b73447ed579683d85ae</td>\n",
       "      <td>2016-11-02</td>\n",
       "      <td>05:54:00</td>\n",
       "    </tr>\n",
       "    <tr>\n",
       "      <th>2</th>\n",
       "      <td>3562630</td>\n",
       "      <td>e95045cba4602b73447ed579683d85ae</td>\n",
       "      <td>2016-11-17</td>\n",
       "      <td>00:00:00</td>\n",
       "    </tr>\n",
       "    <tr>\n",
       "      <th>3</th>\n",
       "      <td>3585815</td>\n",
       "      <td>e95045cba4602b73447ed579683d85ae</td>\n",
       "      <td>2016-12-23</td>\n",
       "      <td>11:45:00</td>\n",
       "    </tr>\n",
       "    <tr>\n",
       "      <th>4</th>\n",
       "      <td>3589594</td>\n",
       "      <td>e95045cba4602b73447ed579683d85ae</td>\n",
       "      <td>2016-12-30</td>\n",
       "      <td>00:30:00</td>\n",
       "    </tr>\n",
       "  </tbody>\n",
       "</table>\n",
       "</div>"
      ],
      "text/plain": [
       "   collision_id                        nearest_id  crash_date crash_time\n",
       "0       3530528  e95045cba4602b73447ed579683d85ae  2016-10-01   03:18:00\n",
       "1       3553471  e95045cba4602b73447ed579683d85ae  2016-11-02   05:54:00\n",
       "2       3562630  e95045cba4602b73447ed579683d85ae  2016-11-17   00:00:00\n",
       "3       3585815  e95045cba4602b73447ed579683d85ae  2016-12-23   11:45:00\n",
       "4       3589594  e95045cba4602b73447ed579683d85ae  2016-12-30   00:30:00"
      ]
     },
     "execution_count": 6,
     "metadata": {},
     "output_type": "execute_result"
    }
   ],
   "source": [
    "gdf_crash_short_segment.head()"
   ]
  },
  {
   "cell_type": "code",
   "execution_count": 7,
   "metadata": {},
   "outputs": [],
   "source": [
    "# group by 'nearest_id' ('nearest_id' is an Sharedstreet geometry id of the short segment) and count the crashes\n",
    "gdf_crash_count_short_segment = gdf_crash_short_segment[['nearest_id','collision_id']].groupby('nearest_id', as_index=False).count()"
   ]
  },
  {
   "cell_type": "code",
   "execution_count": 8,
   "metadata": {},
   "outputs": [],
   "source": [
    "# rename a column\n",
    "gdf_crash_count_short_segment = gdf_crash_count_short_segment.rename(columns={'collision_id':'count'})"
   ]
  },
  {
   "cell_type": "code",
   "execution_count": 9,
   "metadata": {},
   "outputs": [
    {
     "data": {
      "text/html": [
       "<div>\n",
       "<style scoped>\n",
       "    .dataframe tbody tr th:only-of-type {\n",
       "        vertical-align: middle;\n",
       "    }\n",
       "\n",
       "    .dataframe tbody tr th {\n",
       "        vertical-align: top;\n",
       "    }\n",
       "\n",
       "    .dataframe thead th {\n",
       "        text-align: right;\n",
       "    }\n",
       "</style>\n",
       "<table border=\"1\" class=\"dataframe\">\n",
       "  <thead>\n",
       "    <tr style=\"text-align: right;\">\n",
       "      <th></th>\n",
       "      <th>nearest_id</th>\n",
       "      <th>count</th>\n",
       "    </tr>\n",
       "  </thead>\n",
       "  <tbody>\n",
       "    <tr>\n",
       "      <th>0</th>\n",
       "      <td>00010fd3ee560483c21bb98e414741c7</td>\n",
       "      <td>52</td>\n",
       "    </tr>\n",
       "    <tr>\n",
       "      <th>1</th>\n",
       "      <td>0006da955dbe286a729ac6847ec22e6f</td>\n",
       "      <td>35</td>\n",
       "    </tr>\n",
       "    <tr>\n",
       "      <th>2</th>\n",
       "      <td>00520114b0a7f9d36eafa7e42f03196e</td>\n",
       "      <td>27</td>\n",
       "    </tr>\n",
       "    <tr>\n",
       "      <th>3</th>\n",
       "      <td>0059632c4bd2f573e9c2beed50983686</td>\n",
       "      <td>19</td>\n",
       "    </tr>\n",
       "    <tr>\n",
       "      <th>4</th>\n",
       "      <td>007c733edcc1bb5d03125cf15a69cf0d</td>\n",
       "      <td>1</td>\n",
       "    </tr>\n",
       "  </tbody>\n",
       "</table>\n",
       "</div>"
      ],
      "text/plain": [
       "                         nearest_id  count\n",
       "0  00010fd3ee560483c21bb98e414741c7     52\n",
       "1  0006da955dbe286a729ac6847ec22e6f     35\n",
       "2  00520114b0a7f9d36eafa7e42f03196e     27\n",
       "3  0059632c4bd2f573e9c2beed50983686     19\n",
       "4  007c733edcc1bb5d03125cf15a69cf0d      1"
      ]
     },
     "execution_count": 9,
     "metadata": {},
     "output_type": "execute_result"
    }
   ],
   "source": [
    "gdf_crash_count_short_segment.head()"
   ]
  },
  {
   "cell_type": "code",
   "execution_count": 10,
   "metadata": {},
   "outputs": [],
   "source": [
    "# merge two datasets\n",
    "gdf_short_segment = gdf_short_segment.merge(gdf_crash_count_short_segment, left_on='id', right_on='nearest_id', how='left')"
   ]
  },
  {
   "cell_type": "code",
   "execution_count": 11,
   "metadata": {},
   "outputs": [
    {
     "data": {
      "text/html": [
       "<div>\n",
       "<style scoped>\n",
       "    .dataframe tbody tr th:only-of-type {\n",
       "        vertical-align: middle;\n",
       "    }\n",
       "\n",
       "    .dataframe tbody tr th {\n",
       "        vertical-align: top;\n",
       "    }\n",
       "\n",
       "    .dataframe thead th {\n",
       "        text-align: right;\n",
       "    }\n",
       "</style>\n",
       "<table border=\"1\" class=\"dataframe\">\n",
       "  <thead>\n",
       "    <tr style=\"text-align: right;\">\n",
       "      <th></th>\n",
       "      <th>id</th>\n",
       "      <th>geometry</th>\n",
       "      <th>nearest_id</th>\n",
       "      <th>count</th>\n",
       "    </tr>\n",
       "  </thead>\n",
       "  <tbody>\n",
       "    <tr>\n",
       "      <th>0</th>\n",
       "      <td>22e99b05de3720ee9abcae8b330251ca</td>\n",
       "      <td>POINT (-73.92000 40.64622)</td>\n",
       "      <td>22e99b05de3720ee9abcae8b330251ca</td>\n",
       "      <td>2.0</td>\n",
       "    </tr>\n",
       "    <tr>\n",
       "      <th>1</th>\n",
       "      <td>aa26db6c30765ab841c89d8a4480ac05</td>\n",
       "      <td>POINT (-73.91664 40.64195)</td>\n",
       "      <td>aa26db6c30765ab841c89d8a4480ac05</td>\n",
       "      <td>37.0</td>\n",
       "    </tr>\n",
       "    <tr>\n",
       "      <th>2</th>\n",
       "      <td>d15b64f9e9cf8e2b78b48d0f6a052d4d</td>\n",
       "      <td>POINT (-73.91742 40.64151)</td>\n",
       "      <td>d15b64f9e9cf8e2b78b48d0f6a052d4d</td>\n",
       "      <td>8.0</td>\n",
       "    </tr>\n",
       "    <tr>\n",
       "      <th>3</th>\n",
       "      <td>0325e4c47ae1f644a9c1389acd663273</td>\n",
       "      <td>POINT (-73.91895 40.64058)</td>\n",
       "      <td>0325e4c47ae1f644a9c1389acd663273</td>\n",
       "      <td>31.0</td>\n",
       "    </tr>\n",
       "    <tr>\n",
       "      <th>4</th>\n",
       "      <td>d52b58d1e43c0e2f5b8cfed941a7b7da</td>\n",
       "      <td>POINT (-73.91818 40.64107)</td>\n",
       "      <td>d52b58d1e43c0e2f5b8cfed941a7b7da</td>\n",
       "      <td>6.0</td>\n",
       "    </tr>\n",
       "    <tr>\n",
       "      <th>...</th>\n",
       "      <td>...</td>\n",
       "      <td>...</td>\n",
       "      <td>...</td>\n",
       "      <td>...</td>\n",
       "    </tr>\n",
       "    <tr>\n",
       "      <th>5335</th>\n",
       "      <td>2095c3f8d4bf944c203c0da5cde064f0</td>\n",
       "      <td>POINT (-74.25145 40.51075)</td>\n",
       "      <td>2095c3f8d4bf944c203c0da5cde064f0</td>\n",
       "      <td>3.0</td>\n",
       "    </tr>\n",
       "    <tr>\n",
       "      <th>5336</th>\n",
       "      <td>aaab531b8d25cf88a5b53a009dd27c55</td>\n",
       "      <td>POINT (-74.25135 40.50285)</td>\n",
       "      <td>aaab531b8d25cf88a5b53a009dd27c55</td>\n",
       "      <td>1.0</td>\n",
       "    </tr>\n",
       "    <tr>\n",
       "      <th>5337</th>\n",
       "      <td>2544ebb02493c6aff14386c7a23b0be6</td>\n",
       "      <td>POINT (-74.23166 40.50272)</td>\n",
       "      <td>NaN</td>\n",
       "      <td>NaN</td>\n",
       "    </tr>\n",
       "    <tr>\n",
       "      <th>5338</th>\n",
       "      <td>2948f6c8665d68544e636ff141111494</td>\n",
       "      <td>POINT (-74.23512 40.50168)</td>\n",
       "      <td>NaN</td>\n",
       "      <td>NaN</td>\n",
       "    </tr>\n",
       "    <tr>\n",
       "      <th>5339</th>\n",
       "      <td>e1d1059bd19e53ceb14134957c2db321</td>\n",
       "      <td>POINT (-74.23729 40.50279)</td>\n",
       "      <td>NaN</td>\n",
       "      <td>NaN</td>\n",
       "    </tr>\n",
       "  </tbody>\n",
       "</table>\n",
       "<p>5340 rows × 4 columns</p>\n",
       "</div>"
      ],
      "text/plain": [
       "                                    id                    geometry  \\\n",
       "0     22e99b05de3720ee9abcae8b330251ca  POINT (-73.92000 40.64622)   \n",
       "1     aa26db6c30765ab841c89d8a4480ac05  POINT (-73.91664 40.64195)   \n",
       "2     d15b64f9e9cf8e2b78b48d0f6a052d4d  POINT (-73.91742 40.64151)   \n",
       "3     0325e4c47ae1f644a9c1389acd663273  POINT (-73.91895 40.64058)   \n",
       "4     d52b58d1e43c0e2f5b8cfed941a7b7da  POINT (-73.91818 40.64107)   \n",
       "...                                ...                         ...   \n",
       "5335  2095c3f8d4bf944c203c0da5cde064f0  POINT (-74.25145 40.51075)   \n",
       "5336  aaab531b8d25cf88a5b53a009dd27c55  POINT (-74.25135 40.50285)   \n",
       "5337  2544ebb02493c6aff14386c7a23b0be6  POINT (-74.23166 40.50272)   \n",
       "5338  2948f6c8665d68544e636ff141111494  POINT (-74.23512 40.50168)   \n",
       "5339  e1d1059bd19e53ceb14134957c2db321  POINT (-74.23729 40.50279)   \n",
       "\n",
       "                            nearest_id  count  \n",
       "0     22e99b05de3720ee9abcae8b330251ca    2.0  \n",
       "1     aa26db6c30765ab841c89d8a4480ac05   37.0  \n",
       "2     d15b64f9e9cf8e2b78b48d0f6a052d4d    8.0  \n",
       "3     0325e4c47ae1f644a9c1389acd663273   31.0  \n",
       "4     d52b58d1e43c0e2f5b8cfed941a7b7da    6.0  \n",
       "...                                ...    ...  \n",
       "5335  2095c3f8d4bf944c203c0da5cde064f0    3.0  \n",
       "5336  aaab531b8d25cf88a5b53a009dd27c55    1.0  \n",
       "5337                               NaN    NaN  \n",
       "5338                               NaN    NaN  \n",
       "5339                               NaN    NaN  \n",
       "\n",
       "[5340 rows x 4 columns]"
      ]
     },
     "execution_count": 11,
     "metadata": {},
     "output_type": "execute_result"
    }
   ],
   "source": [
    "gdf_short_segment"
   ]
  },
  {
   "cell_type": "code",
   "execution_count": 12,
   "metadata": {},
   "outputs": [],
   "source": [
    "# drop a unnecessary column\n",
    "gdf_short_segment = gdf_short_segment.drop('nearest_id', axis=1)"
   ]
  },
  {
   "cell_type": "code",
   "execution_count": 13,
   "metadata": {},
   "outputs": [],
   "source": [
    "# replace NaN values to 0, (the Nan value means the short segment didn't have any crash )\n",
    "gdf_short_segment = gdf_short_segment.fillna(0)"
   ]
  },
  {
   "cell_type": "code",
   "execution_count": 14,
   "metadata": {},
   "outputs": [
    {
     "data": {
      "text/html": [
       "<div>\n",
       "<style scoped>\n",
       "    .dataframe tbody tr th:only-of-type {\n",
       "        vertical-align: middle;\n",
       "    }\n",
       "\n",
       "    .dataframe tbody tr th {\n",
       "        vertical-align: top;\n",
       "    }\n",
       "\n",
       "    .dataframe thead th {\n",
       "        text-align: right;\n",
       "    }\n",
       "</style>\n",
       "<table border=\"1\" class=\"dataframe\">\n",
       "  <thead>\n",
       "    <tr style=\"text-align: right;\">\n",
       "      <th></th>\n",
       "      <th>count</th>\n",
       "    </tr>\n",
       "  </thead>\n",
       "  <tbody>\n",
       "    <tr>\n",
       "      <th>0.0</th>\n",
       "      <td>1.0</td>\n",
       "    </tr>\n",
       "    <tr>\n",
       "      <th>0.1</th>\n",
       "      <td>1.0</td>\n",
       "    </tr>\n",
       "    <tr>\n",
       "      <th>0.2</th>\n",
       "      <td>3.0</td>\n",
       "    </tr>\n",
       "    <tr>\n",
       "      <th>0.3</th>\n",
       "      <td>5.0</td>\n",
       "    </tr>\n",
       "    <tr>\n",
       "      <th>0.4</th>\n",
       "      <td>8.0</td>\n",
       "    </tr>\n",
       "    <tr>\n",
       "      <th>0.5</th>\n",
       "      <td>11.0</td>\n",
       "    </tr>\n",
       "    <tr>\n",
       "      <th>0.6</th>\n",
       "      <td>16.0</td>\n",
       "    </tr>\n",
       "    <tr>\n",
       "      <th>0.7</th>\n",
       "      <td>22.0</td>\n",
       "    </tr>\n",
       "    <tr>\n",
       "      <th>0.8</th>\n",
       "      <td>32.0</td>\n",
       "    </tr>\n",
       "    <tr>\n",
       "      <th>0.9</th>\n",
       "      <td>54.0</td>\n",
       "    </tr>\n",
       "  </tbody>\n",
       "</table>\n",
       "</div>"
      ],
      "text/plain": [
       "     count\n",
       "0.0    1.0\n",
       "0.1    1.0\n",
       "0.2    3.0\n",
       "0.3    5.0\n",
       "0.4    8.0\n",
       "0.5   11.0\n",
       "0.6   16.0\n",
       "0.7   22.0\n",
       "0.8   32.0\n",
       "0.9   54.0"
      ]
     },
     "execution_count": 14,
     "metadata": {},
     "output_type": "execute_result"
    }
   ],
   "source": [
    "# check distribution\n",
    "gdf_short_segment.loc[gdf_short_segment['count']!=0].quantile([0,0.1,0.2,0.3,0.4,0.5,0.6,0.7,0.8,0.9])"
   ]
  },
  {
   "cell_type": "code",
   "execution_count": 15,
   "metadata": {},
   "outputs": [],
   "source": [
    "gdf_short_segment.to_file('../data/cleaned_data/crash_aggregation/short_segment_centroid.geojson', driver='GeoJSON')"
   ]
  },
  {
   "cell_type": "markdown",
   "metadata": {},
   "source": [
    "### 2. node"
   ]
  },
  {
   "cell_type": "markdown",
   "metadata": {},
   "source": [
    "Process in this part is same as '1-1. short segment'. Here we count the crashed per node point"
   ]
  },
  {
   "cell_type": "code",
   "execution_count": 16,
   "metadata": {},
   "outputs": [],
   "source": [
    "# make sure that you run the 'shst_02_extract_short_segments' notebook to get the 'shst_node_filtered.shp'\n",
    "# import a shapefile of the node point\n",
    "gdf_node = gpd.read_file('../data/sharedstreets_geometry/node_filtered/shst_node_filtered.shp')"
   ]
  },
  {
   "cell_type": "markdown",
   "metadata": {},
   "source": [
    "Here, we need to filter the node points based on the NYU boundary"
   ]
  },
  {
   "cell_type": "code",
   "execution_count": 17,
   "metadata": {},
   "outputs": [],
   "source": [
    "# import nyc boundary shapefile\n",
    "gdf_nyc = gpd.read_file('../data/borough_boundaries_w_water/geo_export_b872bcc2-4115-4a61-9581-5cdb4e9449e6.shp')"
   ]
  },
  {
   "cell_type": "code",
   "execution_count": 18,
   "metadata": {},
   "outputs": [
    {
     "data": {
      "text/plain": [
       "(46448, 2)"
      ]
     },
     "execution_count": 18,
     "metadata": {},
     "output_type": "execute_result"
    }
   ],
   "source": [
    "gdf_node.shape"
   ]
  },
  {
   "cell_type": "code",
   "execution_count": 19,
   "metadata": {},
   "outputs": [
    {
     "name": "stderr",
     "output_type": "stream",
     "text": [
      "C:\\Users\\hsg82\\AppData\\Local\\Continuum\\anaconda3\\envs\\capstone2020\\lib\\site-packages\\geopandas\\tools\\sjoin.py:58: UserWarning: CRS of frames being joined does not match!(None != epsg:4326)\n",
      "  warn(\n"
     ]
    }
   ],
   "source": [
    "# filter the sharedstreets segments\n",
    "gdf_node = gpd.sjoin(gdf_node, gdf_nyc, op='intersects').drop(['index_right',\n",
    "                                                              'boro_code',\n",
    "                                                              'boro_name',\n",
    "                                                              'shape_area',\n",
    "                                                              'shape_leng'], axis=1) "
   ]
  },
  {
   "cell_type": "code",
   "execution_count": 20,
   "metadata": {},
   "outputs": [
    {
     "data": {
      "text/html": [
       "<div>\n",
       "<style scoped>\n",
       "    .dataframe tbody tr th:only-of-type {\n",
       "        vertical-align: middle;\n",
       "    }\n",
       "\n",
       "    .dataframe tbody tr th {\n",
       "        vertical-align: top;\n",
       "    }\n",
       "\n",
       "    .dataframe thead th {\n",
       "        text-align: right;\n",
       "    }\n",
       "</style>\n",
       "<table border=\"1\" class=\"dataframe\">\n",
       "  <thead>\n",
       "    <tr style=\"text-align: right;\">\n",
       "      <th></th>\n",
       "      <th>node_id</th>\n",
       "      <th>geometry</th>\n",
       "    </tr>\n",
       "  </thead>\n",
       "  <tbody>\n",
       "    <tr>\n",
       "      <th>0</th>\n",
       "      <td>374b01a56e64379b8d7198962eaede90</td>\n",
       "      <td>POINT (-73.91694 40.64668)</td>\n",
       "    </tr>\n",
       "    <tr>\n",
       "      <th>1</th>\n",
       "      <td>37db438d57f16f92e5ba91f1ad1793bb</td>\n",
       "      <td>POINT (-73.91765 40.64623)</td>\n",
       "    </tr>\n",
       "    <tr>\n",
       "      <th>2</th>\n",
       "      <td>5b6e4972c82ad4eb6d24c17b94b33b59</td>\n",
       "      <td>POINT (-73.91621 40.64715)</td>\n",
       "    </tr>\n",
       "    <tr>\n",
       "      <th>3</th>\n",
       "      <td>c8dd8ecf9b57214609ecead610eef9cb</td>\n",
       "      <td>POINT (-73.91715 40.64387)</td>\n",
       "    </tr>\n",
       "    <tr>\n",
       "      <th>4</th>\n",
       "      <td>a19ad445993732ebd6b49a61801b9547</td>\n",
       "      <td>POINT (-73.91665 40.64342)</td>\n",
       "    </tr>\n",
       "    <tr>\n",
       "      <th>...</th>\n",
       "      <td>...</td>\n",
       "      <td>...</td>\n",
       "    </tr>\n",
       "    <tr>\n",
       "      <th>45418</th>\n",
       "      <td>016e4f9296c38e065099f993128762c8</td>\n",
       "      <td>POINT (-73.92334 40.81100)</td>\n",
       "    </tr>\n",
       "    <tr>\n",
       "      <th>45419</th>\n",
       "      <td>a4f4b6c170995cf6c619a488a915f065</td>\n",
       "      <td>POINT (-73.92658 40.80984)</td>\n",
       "    </tr>\n",
       "    <tr>\n",
       "      <th>45420</th>\n",
       "      <td>2b529042ddf4f71035f5f01e0b555662</td>\n",
       "      <td>POINT (-73.92474 40.80899)</td>\n",
       "    </tr>\n",
       "    <tr>\n",
       "      <th>45421</th>\n",
       "      <td>ac17794c8738a19d35677ed9e7071da4</td>\n",
       "      <td>POINT (-73.91729 40.80322)</td>\n",
       "    </tr>\n",
       "    <tr>\n",
       "      <th>45422</th>\n",
       "      <td>71e772fdc495b0919b369e3207b64cb0</td>\n",
       "      <td>POINT (-73.92560 40.80519)</td>\n",
       "    </tr>\n",
       "  </tbody>\n",
       "</table>\n",
       "<p>46254 rows × 2 columns</p>\n",
       "</div>"
      ],
      "text/plain": [
       "                                node_id                    geometry\n",
       "0      374b01a56e64379b8d7198962eaede90  POINT (-73.91694 40.64668)\n",
       "1      37db438d57f16f92e5ba91f1ad1793bb  POINT (-73.91765 40.64623)\n",
       "2      5b6e4972c82ad4eb6d24c17b94b33b59  POINT (-73.91621 40.64715)\n",
       "3      c8dd8ecf9b57214609ecead610eef9cb  POINT (-73.91715 40.64387)\n",
       "4      a19ad445993732ebd6b49a61801b9547  POINT (-73.91665 40.64342)\n",
       "...                                 ...                         ...\n",
       "45418  016e4f9296c38e065099f993128762c8  POINT (-73.92334 40.81100)\n",
       "45419  a4f4b6c170995cf6c619a488a915f065  POINT (-73.92658 40.80984)\n",
       "45420  2b529042ddf4f71035f5f01e0b555662  POINT (-73.92474 40.80899)\n",
       "45421  ac17794c8738a19d35677ed9e7071da4  POINT (-73.91729 40.80322)\n",
       "45422  71e772fdc495b0919b369e3207b64cb0  POINT (-73.92560 40.80519)\n",
       "\n",
       "[46254 rows x 2 columns]"
      ]
     },
     "execution_count": 20,
     "metadata": {},
     "output_type": "execute_result"
    }
   ],
   "source": [
    "gdf_node"
   ]
  },
  {
   "cell_type": "code",
   "execution_count": 21,
   "metadata": {},
   "outputs": [],
   "source": [
    "# make sure that you run the 'crash_02_define_Intersection_crash' notebook to get the 'crash_intersection.shp'\n",
    "# import crash dataset\n",
    "gdf_crash_node = gpd.read_file('../data/cleaned_data/crash_seperated/crash_intersection/crash_intersection.shp')"
   ]
  },
  {
   "cell_type": "code",
   "execution_count": 22,
   "metadata": {},
   "outputs": [],
   "source": [
    "# drop unnecessary columns and rename\n",
    "gdf_crash_node = gdf_crash_node.rename(columns={'collision_':'collision_id',\n",
    "                                                'nearest_no':'node_id'})[['collision_id',\n",
    "                                                                          'node_id',\n",
    "                                                                          'crash_date',\n",
    "                                                                          'crash_time']] "
   ]
  },
  {
   "cell_type": "code",
   "execution_count": 23,
   "metadata": {},
   "outputs": [
    {
     "data": {
      "text/html": [
       "<div>\n",
       "<style scoped>\n",
       "    .dataframe tbody tr th:only-of-type {\n",
       "        vertical-align: middle;\n",
       "    }\n",
       "\n",
       "    .dataframe tbody tr th {\n",
       "        vertical-align: top;\n",
       "    }\n",
       "\n",
       "    .dataframe thead th {\n",
       "        text-align: right;\n",
       "    }\n",
       "</style>\n",
       "<table border=\"1\" class=\"dataframe\">\n",
       "  <thead>\n",
       "    <tr style=\"text-align: right;\">\n",
       "      <th></th>\n",
       "      <th>collision_id</th>\n",
       "      <th>node_id</th>\n",
       "      <th>crash_date</th>\n",
       "      <th>crash_time</th>\n",
       "    </tr>\n",
       "  </thead>\n",
       "  <tbody>\n",
       "    <tr>\n",
       "      <th>0</th>\n",
       "      <td>3530470</td>\n",
       "      <td>3417fa2d8bcda5154d51fc800439527c</td>\n",
       "      <td>2016-10-01</td>\n",
       "      <td>00:30:00</td>\n",
       "    </tr>\n",
       "    <tr>\n",
       "      <th>1</th>\n",
       "      <td>3562305</td>\n",
       "      <td>3417fa2d8bcda5154d51fc800439527c</td>\n",
       "      <td>2016-11-16</td>\n",
       "      <td>17:03:00</td>\n",
       "    </tr>\n",
       "    <tr>\n",
       "      <th>2</th>\n",
       "      <td>3577626</td>\n",
       "      <td>3417fa2d8bcda5154d51fc800439527c</td>\n",
       "      <td>2016-12-10</td>\n",
       "      <td>14:00:00</td>\n",
       "    </tr>\n",
       "  </tbody>\n",
       "</table>\n",
       "</div>"
      ],
      "text/plain": [
       "   collision_id                           node_id  crash_date crash_time\n",
       "0       3530470  3417fa2d8bcda5154d51fc800439527c  2016-10-01   00:30:00\n",
       "1       3562305  3417fa2d8bcda5154d51fc800439527c  2016-11-16   17:03:00\n",
       "2       3577626  3417fa2d8bcda5154d51fc800439527c  2016-12-10   14:00:00"
      ]
     },
     "execution_count": 23,
     "metadata": {},
     "output_type": "execute_result"
    }
   ],
   "source": [
    "gdf_crash_node.head(3)"
   ]
  },
  {
   "cell_type": "code",
   "execution_count": 24,
   "metadata": {},
   "outputs": [],
   "source": [
    "# group by 'node_id' and count the crashes\n",
    "gdf_crash_count_node = gdf_crash_node[['node_id','collision_id']].groupby('node_id', as_index=False).count()"
   ]
  },
  {
   "cell_type": "code",
   "execution_count": 25,
   "metadata": {},
   "outputs": [],
   "source": [
    "# rename a column\n",
    "gdf_crash_count_node = gdf_crash_count_node.rename(columns={'collision_id':'count'})"
   ]
  },
  {
   "cell_type": "code",
   "execution_count": 26,
   "metadata": {},
   "outputs": [
    {
     "data": {
      "text/html": [
       "<div>\n",
       "<style scoped>\n",
       "    .dataframe tbody tr th:only-of-type {\n",
       "        vertical-align: middle;\n",
       "    }\n",
       "\n",
       "    .dataframe tbody tr th {\n",
       "        vertical-align: top;\n",
       "    }\n",
       "\n",
       "    .dataframe thead th {\n",
       "        text-align: right;\n",
       "    }\n",
       "</style>\n",
       "<table border=\"1\" class=\"dataframe\">\n",
       "  <thead>\n",
       "    <tr style=\"text-align: right;\">\n",
       "      <th></th>\n",
       "      <th>node_id</th>\n",
       "      <th>count</th>\n",
       "    </tr>\n",
       "  </thead>\n",
       "  <tbody>\n",
       "    <tr>\n",
       "      <th>0</th>\n",
       "      <td>0005ae85e017c72c69cbdcd38f986f04</td>\n",
       "      <td>19</td>\n",
       "    </tr>\n",
       "    <tr>\n",
       "      <th>1</th>\n",
       "      <td>0005f85368f314bfb0c82b84d0208b9f</td>\n",
       "      <td>1</td>\n",
       "    </tr>\n",
       "    <tr>\n",
       "      <th>2</th>\n",
       "      <td>0008525ffca74a2e2af21a2acc91458e</td>\n",
       "      <td>10</td>\n",
       "    </tr>\n",
       "    <tr>\n",
       "      <th>3</th>\n",
       "      <td>000c4a68b5f33e69f5de1ed89ad88dfc</td>\n",
       "      <td>7</td>\n",
       "    </tr>\n",
       "    <tr>\n",
       "      <th>4</th>\n",
       "      <td>000f29cb12236672cf87a364528139a2</td>\n",
       "      <td>37</td>\n",
       "    </tr>\n",
       "  </tbody>\n",
       "</table>\n",
       "</div>"
      ],
      "text/plain": [
       "                            node_id  count\n",
       "0  0005ae85e017c72c69cbdcd38f986f04     19\n",
       "1  0005f85368f314bfb0c82b84d0208b9f      1\n",
       "2  0008525ffca74a2e2af21a2acc91458e     10\n",
       "3  000c4a68b5f33e69f5de1ed89ad88dfc      7\n",
       "4  000f29cb12236672cf87a364528139a2     37"
      ]
     },
     "execution_count": 26,
     "metadata": {},
     "output_type": "execute_result"
    }
   ],
   "source": [
    "gdf_crash_count_node.head()"
   ]
  },
  {
   "cell_type": "code",
   "execution_count": 27,
   "metadata": {},
   "outputs": [],
   "source": [
    "# merge two datasets\n",
    "gdf_node = gdf_node.merge(gdf_crash_count_node, on= 'node_id' ,how='left')"
   ]
  },
  {
   "cell_type": "code",
   "execution_count": 28,
   "metadata": {},
   "outputs": [],
   "source": [
    "# replace NaN values to 0, (the Nan value means the short segment didn't have any crash )\n",
    "gdf_node = gdf_node.fillna(0)"
   ]
  },
  {
   "cell_type": "code",
   "execution_count": 29,
   "metadata": {},
   "outputs": [
    {
     "data": {
      "text/html": [
       "<div>\n",
       "<style scoped>\n",
       "    .dataframe tbody tr th:only-of-type {\n",
       "        vertical-align: middle;\n",
       "    }\n",
       "\n",
       "    .dataframe tbody tr th {\n",
       "        vertical-align: top;\n",
       "    }\n",
       "\n",
       "    .dataframe thead th {\n",
       "        text-align: right;\n",
       "    }\n",
       "</style>\n",
       "<table border=\"1\" class=\"dataframe\">\n",
       "  <thead>\n",
       "    <tr style=\"text-align: right;\">\n",
       "      <th></th>\n",
       "      <th>count</th>\n",
       "    </tr>\n",
       "  </thead>\n",
       "  <tbody>\n",
       "    <tr>\n",
       "      <th>0.0</th>\n",
       "      <td>1.0</td>\n",
       "    </tr>\n",
       "    <tr>\n",
       "      <th>0.1</th>\n",
       "      <td>1.0</td>\n",
       "    </tr>\n",
       "    <tr>\n",
       "      <th>0.2</th>\n",
       "      <td>2.0</td>\n",
       "    </tr>\n",
       "    <tr>\n",
       "      <th>0.3</th>\n",
       "      <td>3.0</td>\n",
       "    </tr>\n",
       "    <tr>\n",
       "      <th>0.4</th>\n",
       "      <td>4.0</td>\n",
       "    </tr>\n",
       "    <tr>\n",
       "      <th>0.5</th>\n",
       "      <td>6.0</td>\n",
       "    </tr>\n",
       "    <tr>\n",
       "      <th>0.6</th>\n",
       "      <td>8.0</td>\n",
       "    </tr>\n",
       "    <tr>\n",
       "      <th>0.7</th>\n",
       "      <td>11.0</td>\n",
       "    </tr>\n",
       "    <tr>\n",
       "      <th>0.8</th>\n",
       "      <td>15.0</td>\n",
       "    </tr>\n",
       "    <tr>\n",
       "      <th>0.9</th>\n",
       "      <td>24.0</td>\n",
       "    </tr>\n",
       "  </tbody>\n",
       "</table>\n",
       "</div>"
      ],
      "text/plain": [
       "     count\n",
       "0.0    1.0\n",
       "0.1    1.0\n",
       "0.2    2.0\n",
       "0.3    3.0\n",
       "0.4    4.0\n",
       "0.5    6.0\n",
       "0.6    8.0\n",
       "0.7   11.0\n",
       "0.8   15.0\n",
       "0.9   24.0"
      ]
     },
     "execution_count": 29,
     "metadata": {},
     "output_type": "execute_result"
    }
   ],
   "source": [
    "# check distribution\n",
    "gdf_node.loc[gdf_node['count']!=0].quantile([0,0.1,0.2,0.3,0.4,0.5,0.6,0.7,0.8,0.9])"
   ]
  },
  {
   "cell_type": "code",
   "execution_count": 30,
   "metadata": {},
   "outputs": [],
   "source": [
    "gdf_node.to_file('../data/cleaned_data/crash_aggregation/node.geojson', driver='GeoJSON')"
   ]
  },
  {
   "cell_type": "markdown",
   "metadata": {},
   "source": [
    "### 3. segment"
   ]
  },
  {
   "cell_type": "markdown",
   "metadata": {},
   "source": [
    "A process of this part is same with 1.short segment and 2. node"
   ]
  },
  {
   "cell_type": "code",
   "execution_count": 31,
   "metadata": {},
   "outputs": [],
   "source": [
    "# make sure that you run the 'shst_02_extract_short_segments' notebook to get the 'shst_segment_filtered.shp'\n",
    "# import a shapefile of the short segment centroid\n",
    "gdf_segment = gpd.read_file('../data/sharedstreets_geometry/segment_filtered/shst_segment_filtered.shp')"
   ]
  },
  {
   "cell_type": "code",
   "execution_count": 32,
   "metadata": {},
   "outputs": [],
   "source": [
    "# drop unnecessary columns\n",
    "gdf_segment = gdf_segment[['id','geometry']]"
   ]
  },
  {
   "cell_type": "code",
   "execution_count": 33,
   "metadata": {},
   "outputs": [],
   "source": [
    "# make sure that you run the 'crash_02_define_Intersection_crash' notebook to get the 'crash_segment.shp'\n",
    "# import crash dataset\n",
    "gdf_crash_segment = gpd.read_file('../data/cleaned_data/crash_seperated/crash_segment/crash_segment.shp')"
   ]
  },
  {
   "cell_type": "code",
   "execution_count": 34,
   "metadata": {},
   "outputs": [],
   "source": [
    "#  rename\n",
    "gdf_crash_segment = gdf_crash_segment.rename(columns={'collision_':'collision_id',\n",
    "                                                      'geometry_i':'geometry_id'})[['collision_id',\n",
    "                                                                                    'geometry_id',\n",
    "                                                                                    'crash_date',\n",
    "                                                                                    'crash_time']] "
   ]
  },
  {
   "cell_type": "code",
   "execution_count": 35,
   "metadata": {},
   "outputs": [
    {
     "data": {
      "text/html": [
       "<div>\n",
       "<style scoped>\n",
       "    .dataframe tbody tr th:only-of-type {\n",
       "        vertical-align: middle;\n",
       "    }\n",
       "\n",
       "    .dataframe tbody tr th {\n",
       "        vertical-align: top;\n",
       "    }\n",
       "\n",
       "    .dataframe thead th {\n",
       "        text-align: right;\n",
       "    }\n",
       "</style>\n",
       "<table border=\"1\" class=\"dataframe\">\n",
       "  <thead>\n",
       "    <tr style=\"text-align: right;\">\n",
       "      <th></th>\n",
       "      <th>collision_id</th>\n",
       "      <th>geometry_id</th>\n",
       "      <th>crash_date</th>\n",
       "      <th>crash_time</th>\n",
       "    </tr>\n",
       "  </thead>\n",
       "  <tbody>\n",
       "    <tr>\n",
       "      <th>0</th>\n",
       "      <td>3531327</td>\n",
       "      <td>ba4520777941a56b87f97a1d35dc2e20</td>\n",
       "      <td>2016-10-01</td>\n",
       "      <td>20:20:00</td>\n",
       "    </tr>\n",
       "    <tr>\n",
       "      <th>1</th>\n",
       "      <td>3530538</td>\n",
       "      <td>da0bde3c3c147e230387851d1679e6bc</td>\n",
       "      <td>2016-10-01</td>\n",
       "      <td>01:40:00</td>\n",
       "    </tr>\n",
       "    <tr>\n",
       "      <th>2</th>\n",
       "      <td>3531662</td>\n",
       "      <td>3cf56bacd5522948619990790426e93a</td>\n",
       "      <td>2016-10-01</td>\n",
       "      <td>21:30:00</td>\n",
       "    </tr>\n",
       "    <tr>\n",
       "      <th>3</th>\n",
       "      <td>3533597</td>\n",
       "      <td>4f2d7b279a2a4afe38fffab8a5e018c9</td>\n",
       "      <td>2016-10-01</td>\n",
       "      <td>06:30:00</td>\n",
       "    </tr>\n",
       "    <tr>\n",
       "      <th>4</th>\n",
       "      <td>3531918</td>\n",
       "      <td>04a23f1a32ca88089f4ca72fd8d259b7</td>\n",
       "      <td>2016-10-01</td>\n",
       "      <td>10:00:00</td>\n",
       "    </tr>\n",
       "  </tbody>\n",
       "</table>\n",
       "</div>"
      ],
      "text/plain": [
       "   collision_id                       geometry_id  crash_date crash_time\n",
       "0       3531327  ba4520777941a56b87f97a1d35dc2e20  2016-10-01   20:20:00\n",
       "1       3530538  da0bde3c3c147e230387851d1679e6bc  2016-10-01   01:40:00\n",
       "2       3531662  3cf56bacd5522948619990790426e93a  2016-10-01   21:30:00\n",
       "3       3533597  4f2d7b279a2a4afe38fffab8a5e018c9  2016-10-01   06:30:00\n",
       "4       3531918  04a23f1a32ca88089f4ca72fd8d259b7  2016-10-01   10:00:00"
      ]
     },
     "execution_count": 35,
     "metadata": {},
     "output_type": "execute_result"
    }
   ],
   "source": [
    "gdf_crash_segment.head()"
   ]
  },
  {
   "cell_type": "code",
   "execution_count": 36,
   "metadata": {},
   "outputs": [],
   "source": [
    "# group by 'geometry_id' and count the crashes\n",
    "gdf_crash_count_segment = gdf_crash_segment[['geometry_id','collision_id']].groupby('geometry_id', as_index=False).count()"
   ]
  },
  {
   "cell_type": "code",
   "execution_count": 37,
   "metadata": {},
   "outputs": [],
   "source": [
    "#  rename\n",
    "gdf_crash_count_segment = gdf_crash_count_segment.rename(columns={'collision_id':'count'})"
   ]
  },
  {
   "cell_type": "code",
   "execution_count": 38,
   "metadata": {},
   "outputs": [
    {
     "data": {
      "text/html": [
       "<div>\n",
       "<style scoped>\n",
       "    .dataframe tbody tr th:only-of-type {\n",
       "        vertical-align: middle;\n",
       "    }\n",
       "\n",
       "    .dataframe tbody tr th {\n",
       "        vertical-align: top;\n",
       "    }\n",
       "\n",
       "    .dataframe thead th {\n",
       "        text-align: right;\n",
       "    }\n",
       "</style>\n",
       "<table border=\"1\" class=\"dataframe\">\n",
       "  <thead>\n",
       "    <tr style=\"text-align: right;\">\n",
       "      <th></th>\n",
       "      <th>geometry_id</th>\n",
       "      <th>count</th>\n",
       "    </tr>\n",
       "  </thead>\n",
       "  <tbody>\n",
       "    <tr>\n",
       "      <th>0</th>\n",
       "      <td>000182e6b337ab6b7c6053a7499de445</td>\n",
       "      <td>6</td>\n",
       "    </tr>\n",
       "    <tr>\n",
       "      <th>1</th>\n",
       "      <td>0002d35fe99ef772e991f4f78b338f0f</td>\n",
       "      <td>7</td>\n",
       "    </tr>\n",
       "    <tr>\n",
       "      <th>2</th>\n",
       "      <td>0004c29ad411e1df57c0bd30aebf751e</td>\n",
       "      <td>2</td>\n",
       "    </tr>\n",
       "    <tr>\n",
       "      <th>3</th>\n",
       "      <td>00065f29c5928a427d1da7074b3af66b</td>\n",
       "      <td>7</td>\n",
       "    </tr>\n",
       "    <tr>\n",
       "      <th>4</th>\n",
       "      <td>0006fe158c203a51cda960f5c4c766ee</td>\n",
       "      <td>6</td>\n",
       "    </tr>\n",
       "  </tbody>\n",
       "</table>\n",
       "</div>"
      ],
      "text/plain": [
       "                        geometry_id  count\n",
       "0  000182e6b337ab6b7c6053a7499de445      6\n",
       "1  0002d35fe99ef772e991f4f78b338f0f      7\n",
       "2  0004c29ad411e1df57c0bd30aebf751e      2\n",
       "3  00065f29c5928a427d1da7074b3af66b      7\n",
       "4  0006fe158c203a51cda960f5c4c766ee      6"
      ]
     },
     "execution_count": 38,
     "metadata": {},
     "output_type": "execute_result"
    }
   ],
   "source": [
    "gdf_crash_count_segment.head()"
   ]
  },
  {
   "cell_type": "code",
   "execution_count": 39,
   "metadata": {},
   "outputs": [],
   "source": [
    "# merge two datasets\n",
    "gdf_segment = gdf_segment.merge(gdf_crash_count_segment, left_on = 'id', right_on = 'geometry_id', how='left')"
   ]
  },
  {
   "cell_type": "code",
   "execution_count": 40,
   "metadata": {},
   "outputs": [],
   "source": [
    "# drop unnecessary columns\n",
    "gdf_segment = gdf_segment.drop('geometry_id', axis=1)"
   ]
  },
  {
   "cell_type": "code",
   "execution_count": 41,
   "metadata": {},
   "outputs": [],
   "source": [
    "# replace NaN values to 0, (the Nan value means the short segment didn't have any crash )\n",
    "gdf_segment = gdf_segment.fillna(0)"
   ]
  },
  {
   "cell_type": "code",
   "execution_count": 42,
   "metadata": {},
   "outputs": [
    {
     "data": {
      "text/plain": [
       "(87455, 3)"
      ]
     },
     "execution_count": 42,
     "metadata": {},
     "output_type": "execute_result"
    }
   ],
   "source": [
    "gdf_segment.shape"
   ]
  },
  {
   "cell_type": "code",
   "execution_count": 43,
   "metadata": {},
   "outputs": [
    {
     "data": {
      "text/plain": [
       "0.0     1.0\n",
       "0.1     1.0\n",
       "0.2     1.0\n",
       "0.3     1.0\n",
       "0.4     2.0\n",
       "0.5     2.0\n",
       "0.6     3.0\n",
       "0.7     4.0\n",
       "0.8     6.0\n",
       "0.9    11.0\n",
       "Name: count, dtype: float64"
      ]
     },
     "execution_count": 43,
     "metadata": {},
     "output_type": "execute_result"
    }
   ],
   "source": [
    "# check distribution\n",
    "gdf_segment['count'].loc[gdf_segment['count']!=0].quantile([0,0.1,0.2,0.3,0.4,0.5,0.6,0.7,0.8,0.9])"
   ]
  },
  {
   "cell_type": "code",
   "execution_count": 44,
   "metadata": {},
   "outputs": [],
   "source": [
    "gdf_segment.to_file('../data/cleaned_data/crash_aggregation/segment.geojson', driver='GeoJSON')"
   ]
  },
  {
   "cell_type": "markdown",
   "metadata": {},
   "source": [
    "# 2. Calculate monthly crashes"
   ]
  },
  {
   "cell_type": "markdown",
   "metadata": {},
   "source": [
    "## 2.1 short segment"
   ]
  },
  {
   "cell_type": "code",
   "execution_count": 45,
   "metadata": {},
   "outputs": [],
   "source": [
    "# change datatype of crash_date as np.datetime64\n",
    "gdf_crash_short_segment['crash_date'] = pd.to_datetime(gdf_crash_short_segment['crash_date'])"
   ]
  },
  {
   "cell_type": "code",
   "execution_count": 46,
   "metadata": {},
   "outputs": [],
   "source": [
    "# extract month\n",
    "gdf_crash_short_segment['crash_month'] = gdf_crash_short_segment['crash_date'].dt.to_period('M').dt.to_timestamp()"
   ]
  },
  {
   "cell_type": "code",
   "execution_count": 47,
   "metadata": {},
   "outputs": [
    {
     "data": {
      "text/html": [
       "<div>\n",
       "<style scoped>\n",
       "    .dataframe tbody tr th:only-of-type {\n",
       "        vertical-align: middle;\n",
       "    }\n",
       "\n",
       "    .dataframe tbody tr th {\n",
       "        vertical-align: top;\n",
       "    }\n",
       "\n",
       "    .dataframe thead th {\n",
       "        text-align: right;\n",
       "    }\n",
       "</style>\n",
       "<table border=\"1\" class=\"dataframe\">\n",
       "  <thead>\n",
       "    <tr style=\"text-align: right;\">\n",
       "      <th></th>\n",
       "      <th>collision_id</th>\n",
       "      <th>nearest_id</th>\n",
       "      <th>crash_date</th>\n",
       "      <th>crash_time</th>\n",
       "      <th>crash_month</th>\n",
       "    </tr>\n",
       "  </thead>\n",
       "  <tbody>\n",
       "    <tr>\n",
       "      <th>0</th>\n",
       "      <td>3530528</td>\n",
       "      <td>e95045cba4602b73447ed579683d85ae</td>\n",
       "      <td>2016-10-01</td>\n",
       "      <td>03:18:00</td>\n",
       "      <td>2016-10-01</td>\n",
       "    </tr>\n",
       "    <tr>\n",
       "      <th>1</th>\n",
       "      <td>3553471</td>\n",
       "      <td>e95045cba4602b73447ed579683d85ae</td>\n",
       "      <td>2016-11-02</td>\n",
       "      <td>05:54:00</td>\n",
       "      <td>2016-11-01</td>\n",
       "    </tr>\n",
       "    <tr>\n",
       "      <th>2</th>\n",
       "      <td>3562630</td>\n",
       "      <td>e95045cba4602b73447ed579683d85ae</td>\n",
       "      <td>2016-11-17</td>\n",
       "      <td>00:00:00</td>\n",
       "      <td>2016-11-01</td>\n",
       "    </tr>\n",
       "    <tr>\n",
       "      <th>3</th>\n",
       "      <td>3585815</td>\n",
       "      <td>e95045cba4602b73447ed579683d85ae</td>\n",
       "      <td>2016-12-23</td>\n",
       "      <td>11:45:00</td>\n",
       "      <td>2016-12-01</td>\n",
       "    </tr>\n",
       "    <tr>\n",
       "      <th>4</th>\n",
       "      <td>3589594</td>\n",
       "      <td>e95045cba4602b73447ed579683d85ae</td>\n",
       "      <td>2016-12-30</td>\n",
       "      <td>00:30:00</td>\n",
       "      <td>2016-12-01</td>\n",
       "    </tr>\n",
       "  </tbody>\n",
       "</table>\n",
       "</div>"
      ],
      "text/plain": [
       "   collision_id                        nearest_id crash_date crash_time  \\\n",
       "0       3530528  e95045cba4602b73447ed579683d85ae 2016-10-01   03:18:00   \n",
       "1       3553471  e95045cba4602b73447ed579683d85ae 2016-11-02   05:54:00   \n",
       "2       3562630  e95045cba4602b73447ed579683d85ae 2016-11-17   00:00:00   \n",
       "3       3585815  e95045cba4602b73447ed579683d85ae 2016-12-23   11:45:00   \n",
       "4       3589594  e95045cba4602b73447ed579683d85ae 2016-12-30   00:30:00   \n",
       "\n",
       "  crash_month  \n",
       "0  2016-10-01  \n",
       "1  2016-11-01  \n",
       "2  2016-11-01  \n",
       "3  2016-12-01  \n",
       "4  2016-12-01  "
      ]
     },
     "execution_count": 47,
     "metadata": {},
     "output_type": "execute_result"
    }
   ],
   "source": [
    "gdf_crash_short_segment.head()"
   ]
  },
  {
   "cell_type": "code",
   "execution_count": 48,
   "metadata": {},
   "outputs": [],
   "source": [
    "# count the crashes per short segment and month\n",
    "df_crash_short_segment_monthly_count =  gdf_crash_short_segment[['nearest_id',\n",
    "                                                                  'crash_month',\n",
    "                                                                  'collision_id']].groupby(['nearest_id',\n",
    "                                                                                           'crash_month'],\n",
    "                                                                                            as_index=False).count()\n",
    "\n",
    "# rename\n",
    "df_crash_short_segment_monthly_count = df_crash_short_segment_monthly_count.rename(columns={'collision_id':'count'})"
   ]
  },
  {
   "cell_type": "code",
   "execution_count": 49,
   "metadata": {},
   "outputs": [],
   "source": [
    "# make a list of month and segment id\n",
    "monthly_range = pd.date_range(start='2016-10-01', end='2019-10-01', freq='MS')\n",
    "list_short_segment_id = gdf_short_segment['id'].unique().tolist()"
   ]
  },
  {
   "cell_type": "code",
   "execution_count": 50,
   "metadata": {},
   "outputs": [],
   "source": [
    "# create the list of empty dataframe per segment\n",
    "list_empty_dataframe = []\n",
    "for i in list_short_segment_id:\n",
    "    temp_ = pd.DataFrame(monthly_range).rename(columns={0:'month'})\n",
    "    temp_['id'] = i\n",
    "    list_empty_dataframe.append(temp_)"
   ]
  },
  {
   "cell_type": "code",
   "execution_count": 51,
   "metadata": {},
   "outputs": [],
   "source": [
    "# concatenate the empty dataframes\n",
    "df_monthly_crash = pd.concat(list_empty_dataframe, axis=0)"
   ]
  },
  {
   "cell_type": "code",
   "execution_count": 52,
   "metadata": {},
   "outputs": [],
   "source": [
    "# merge dataframe. By doing this, we will get the number of crashes per each short segment, \n",
    "# and there will be NaN values if there is no crashes at a certain segment and month\n",
    "df_monthly_crash = df_monthly_crash.merge(df_crash_short_segment_monthly_count,\n",
    "                                         left_on=['id','month'],\n",
    "                                         right_on=['nearest_id','crash_month'],\n",
    "                                         how='left')"
   ]
  },
  {
   "cell_type": "code",
   "execution_count": 53,
   "metadata": {},
   "outputs": [],
   "source": [
    "# drop unnecessary columns, fill NaN values as 0\n",
    "df_monthly_crash = df_monthly_crash.drop(['nearest_id','crash_month'], axis=1)\n",
    "df_monthly_crash = df_monthly_crash.fillna(0)"
   ]
  },
  {
   "cell_type": "code",
   "execution_count": 54,
   "metadata": {},
   "outputs": [],
   "source": [
    "# change datatype to int\n",
    "df_monthly_crash['count'] = df_monthly_crash['count'].astype(int)"
   ]
  },
  {
   "cell_type": "code",
   "execution_count": 55,
   "metadata": {},
   "outputs": [],
   "source": [
    "# export datasets of monthly array, this will be used in the datasets.\n",
    "pd.Series(monthly_range).to_csv('../data/cleaned_data/crash_aggregation/month_array.csv', index=False)"
   ]
  },
  {
   "cell_type": "markdown",
   "metadata": {},
   "source": [
    "To minimize the size of the csv file, we will save the number of crashes as a list"
   ]
  },
  {
   "cell_type": "code",
   "execution_count": 56,
   "metadata": {},
   "outputs": [],
   "source": [
    "df_monthly_crash_count_list = df_monthly_crash[['id','count']].groupby('id')['count'].apply(list)"
   ]
  },
  {
   "cell_type": "code",
   "execution_count": 57,
   "metadata": {},
   "outputs": [
    {
     "data": {
      "text/html": [
       "<div>\n",
       "<style scoped>\n",
       "    .dataframe tbody tr th:only-of-type {\n",
       "        vertical-align: middle;\n",
       "    }\n",
       "\n",
       "    .dataframe tbody tr th {\n",
       "        vertical-align: top;\n",
       "    }\n",
       "\n",
       "    .dataframe thead th {\n",
       "        text-align: right;\n",
       "    }\n",
       "</style>\n",
       "<table border=\"1\" class=\"dataframe\">\n",
       "  <thead>\n",
       "    <tr style=\"text-align: right;\">\n",
       "      <th></th>\n",
       "      <th>month</th>\n",
       "      <th>id</th>\n",
       "      <th>count</th>\n",
       "    </tr>\n",
       "  </thead>\n",
       "  <tbody>\n",
       "    <tr>\n",
       "      <th>31783</th>\n",
       "      <td>2016-10-01</td>\n",
       "      <td>00010fd3ee560483c21bb98e414741c7</td>\n",
       "      <td>2</td>\n",
       "    </tr>\n",
       "    <tr>\n",
       "      <th>31784</th>\n",
       "      <td>2016-11-01</td>\n",
       "      <td>00010fd3ee560483c21bb98e414741c7</td>\n",
       "      <td>1</td>\n",
       "    </tr>\n",
       "    <tr>\n",
       "      <th>31785</th>\n",
       "      <td>2016-12-01</td>\n",
       "      <td>00010fd3ee560483c21bb98e414741c7</td>\n",
       "      <td>4</td>\n",
       "    </tr>\n",
       "    <tr>\n",
       "      <th>31786</th>\n",
       "      <td>2017-01-01</td>\n",
       "      <td>00010fd3ee560483c21bb98e414741c7</td>\n",
       "      <td>1</td>\n",
       "    </tr>\n",
       "    <tr>\n",
       "      <th>31787</th>\n",
       "      <td>2017-02-01</td>\n",
       "      <td>00010fd3ee560483c21bb98e414741c7</td>\n",
       "      <td>1</td>\n",
       "    </tr>\n",
       "    <tr>\n",
       "      <th>31788</th>\n",
       "      <td>2017-03-01</td>\n",
       "      <td>00010fd3ee560483c21bb98e414741c7</td>\n",
       "      <td>3</td>\n",
       "    </tr>\n",
       "    <tr>\n",
       "      <th>31789</th>\n",
       "      <td>2017-04-01</td>\n",
       "      <td>00010fd3ee560483c21bb98e414741c7</td>\n",
       "      <td>0</td>\n",
       "    </tr>\n",
       "    <tr>\n",
       "      <th>31790</th>\n",
       "      <td>2017-05-01</td>\n",
       "      <td>00010fd3ee560483c21bb98e414741c7</td>\n",
       "      <td>2</td>\n",
       "    </tr>\n",
       "    <tr>\n",
       "      <th>31791</th>\n",
       "      <td>2017-06-01</td>\n",
       "      <td>00010fd3ee560483c21bb98e414741c7</td>\n",
       "      <td>1</td>\n",
       "    </tr>\n",
       "    <tr>\n",
       "      <th>31792</th>\n",
       "      <td>2017-07-01</td>\n",
       "      <td>00010fd3ee560483c21bb98e414741c7</td>\n",
       "      <td>2</td>\n",
       "    </tr>\n",
       "    <tr>\n",
       "      <th>31793</th>\n",
       "      <td>2017-08-01</td>\n",
       "      <td>00010fd3ee560483c21bb98e414741c7</td>\n",
       "      <td>2</td>\n",
       "    </tr>\n",
       "    <tr>\n",
       "      <th>31794</th>\n",
       "      <td>2017-09-01</td>\n",
       "      <td>00010fd3ee560483c21bb98e414741c7</td>\n",
       "      <td>2</td>\n",
       "    </tr>\n",
       "    <tr>\n",
       "      <th>31795</th>\n",
       "      <td>2017-10-01</td>\n",
       "      <td>00010fd3ee560483c21bb98e414741c7</td>\n",
       "      <td>1</td>\n",
       "    </tr>\n",
       "    <tr>\n",
       "      <th>31796</th>\n",
       "      <td>2017-11-01</td>\n",
       "      <td>00010fd3ee560483c21bb98e414741c7</td>\n",
       "      <td>0</td>\n",
       "    </tr>\n",
       "    <tr>\n",
       "      <th>31797</th>\n",
       "      <td>2017-12-01</td>\n",
       "      <td>00010fd3ee560483c21bb98e414741c7</td>\n",
       "      <td>2</td>\n",
       "    </tr>\n",
       "    <tr>\n",
       "      <th>31798</th>\n",
       "      <td>2018-01-01</td>\n",
       "      <td>00010fd3ee560483c21bb98e414741c7</td>\n",
       "      <td>1</td>\n",
       "    </tr>\n",
       "    <tr>\n",
       "      <th>31799</th>\n",
       "      <td>2018-02-01</td>\n",
       "      <td>00010fd3ee560483c21bb98e414741c7</td>\n",
       "      <td>2</td>\n",
       "    </tr>\n",
       "    <tr>\n",
       "      <th>31800</th>\n",
       "      <td>2018-03-01</td>\n",
       "      <td>00010fd3ee560483c21bb98e414741c7</td>\n",
       "      <td>3</td>\n",
       "    </tr>\n",
       "    <tr>\n",
       "      <th>31801</th>\n",
       "      <td>2018-04-01</td>\n",
       "      <td>00010fd3ee560483c21bb98e414741c7</td>\n",
       "      <td>1</td>\n",
       "    </tr>\n",
       "    <tr>\n",
       "      <th>31802</th>\n",
       "      <td>2018-05-01</td>\n",
       "      <td>00010fd3ee560483c21bb98e414741c7</td>\n",
       "      <td>0</td>\n",
       "    </tr>\n",
       "    <tr>\n",
       "      <th>31803</th>\n",
       "      <td>2018-06-01</td>\n",
       "      <td>00010fd3ee560483c21bb98e414741c7</td>\n",
       "      <td>0</td>\n",
       "    </tr>\n",
       "    <tr>\n",
       "      <th>31804</th>\n",
       "      <td>2018-07-01</td>\n",
       "      <td>00010fd3ee560483c21bb98e414741c7</td>\n",
       "      <td>0</td>\n",
       "    </tr>\n",
       "    <tr>\n",
       "      <th>31805</th>\n",
       "      <td>2018-08-01</td>\n",
       "      <td>00010fd3ee560483c21bb98e414741c7</td>\n",
       "      <td>3</td>\n",
       "    </tr>\n",
       "    <tr>\n",
       "      <th>31806</th>\n",
       "      <td>2018-09-01</td>\n",
       "      <td>00010fd3ee560483c21bb98e414741c7</td>\n",
       "      <td>2</td>\n",
       "    </tr>\n",
       "    <tr>\n",
       "      <th>31807</th>\n",
       "      <td>2018-10-01</td>\n",
       "      <td>00010fd3ee560483c21bb98e414741c7</td>\n",
       "      <td>0</td>\n",
       "    </tr>\n",
       "    <tr>\n",
       "      <th>31808</th>\n",
       "      <td>2018-11-01</td>\n",
       "      <td>00010fd3ee560483c21bb98e414741c7</td>\n",
       "      <td>1</td>\n",
       "    </tr>\n",
       "    <tr>\n",
       "      <th>31809</th>\n",
       "      <td>2018-12-01</td>\n",
       "      <td>00010fd3ee560483c21bb98e414741c7</td>\n",
       "      <td>3</td>\n",
       "    </tr>\n",
       "    <tr>\n",
       "      <th>31810</th>\n",
       "      <td>2019-01-01</td>\n",
       "      <td>00010fd3ee560483c21bb98e414741c7</td>\n",
       "      <td>2</td>\n",
       "    </tr>\n",
       "    <tr>\n",
       "      <th>31811</th>\n",
       "      <td>2019-02-01</td>\n",
       "      <td>00010fd3ee560483c21bb98e414741c7</td>\n",
       "      <td>2</td>\n",
       "    </tr>\n",
       "    <tr>\n",
       "      <th>31812</th>\n",
       "      <td>2019-03-01</td>\n",
       "      <td>00010fd3ee560483c21bb98e414741c7</td>\n",
       "      <td>0</td>\n",
       "    </tr>\n",
       "    <tr>\n",
       "      <th>31813</th>\n",
       "      <td>2019-04-01</td>\n",
       "      <td>00010fd3ee560483c21bb98e414741c7</td>\n",
       "      <td>3</td>\n",
       "    </tr>\n",
       "    <tr>\n",
       "      <th>31814</th>\n",
       "      <td>2019-05-01</td>\n",
       "      <td>00010fd3ee560483c21bb98e414741c7</td>\n",
       "      <td>2</td>\n",
       "    </tr>\n",
       "    <tr>\n",
       "      <th>31815</th>\n",
       "      <td>2019-06-01</td>\n",
       "      <td>00010fd3ee560483c21bb98e414741c7</td>\n",
       "      <td>1</td>\n",
       "    </tr>\n",
       "    <tr>\n",
       "      <th>31816</th>\n",
       "      <td>2019-07-01</td>\n",
       "      <td>00010fd3ee560483c21bb98e414741c7</td>\n",
       "      <td>1</td>\n",
       "    </tr>\n",
       "    <tr>\n",
       "      <th>31817</th>\n",
       "      <td>2019-08-01</td>\n",
       "      <td>00010fd3ee560483c21bb98e414741c7</td>\n",
       "      <td>0</td>\n",
       "    </tr>\n",
       "    <tr>\n",
       "      <th>31818</th>\n",
       "      <td>2019-09-01</td>\n",
       "      <td>00010fd3ee560483c21bb98e414741c7</td>\n",
       "      <td>0</td>\n",
       "    </tr>\n",
       "    <tr>\n",
       "      <th>31819</th>\n",
       "      <td>2019-10-01</td>\n",
       "      <td>00010fd3ee560483c21bb98e414741c7</td>\n",
       "      <td>1</td>\n",
       "    </tr>\n",
       "  </tbody>\n",
       "</table>\n",
       "</div>"
      ],
      "text/plain": [
       "           month                                id  count\n",
       "31783 2016-10-01  00010fd3ee560483c21bb98e414741c7      2\n",
       "31784 2016-11-01  00010fd3ee560483c21bb98e414741c7      1\n",
       "31785 2016-12-01  00010fd3ee560483c21bb98e414741c7      4\n",
       "31786 2017-01-01  00010fd3ee560483c21bb98e414741c7      1\n",
       "31787 2017-02-01  00010fd3ee560483c21bb98e414741c7      1\n",
       "31788 2017-03-01  00010fd3ee560483c21bb98e414741c7      3\n",
       "31789 2017-04-01  00010fd3ee560483c21bb98e414741c7      0\n",
       "31790 2017-05-01  00010fd3ee560483c21bb98e414741c7      2\n",
       "31791 2017-06-01  00010fd3ee560483c21bb98e414741c7      1\n",
       "31792 2017-07-01  00010fd3ee560483c21bb98e414741c7      2\n",
       "31793 2017-08-01  00010fd3ee560483c21bb98e414741c7      2\n",
       "31794 2017-09-01  00010fd3ee560483c21bb98e414741c7      2\n",
       "31795 2017-10-01  00010fd3ee560483c21bb98e414741c7      1\n",
       "31796 2017-11-01  00010fd3ee560483c21bb98e414741c7      0\n",
       "31797 2017-12-01  00010fd3ee560483c21bb98e414741c7      2\n",
       "31798 2018-01-01  00010fd3ee560483c21bb98e414741c7      1\n",
       "31799 2018-02-01  00010fd3ee560483c21bb98e414741c7      2\n",
       "31800 2018-03-01  00010fd3ee560483c21bb98e414741c7      3\n",
       "31801 2018-04-01  00010fd3ee560483c21bb98e414741c7      1\n",
       "31802 2018-05-01  00010fd3ee560483c21bb98e414741c7      0\n",
       "31803 2018-06-01  00010fd3ee560483c21bb98e414741c7      0\n",
       "31804 2018-07-01  00010fd3ee560483c21bb98e414741c7      0\n",
       "31805 2018-08-01  00010fd3ee560483c21bb98e414741c7      3\n",
       "31806 2018-09-01  00010fd3ee560483c21bb98e414741c7      2\n",
       "31807 2018-10-01  00010fd3ee560483c21bb98e414741c7      0\n",
       "31808 2018-11-01  00010fd3ee560483c21bb98e414741c7      1\n",
       "31809 2018-12-01  00010fd3ee560483c21bb98e414741c7      3\n",
       "31810 2019-01-01  00010fd3ee560483c21bb98e414741c7      2\n",
       "31811 2019-02-01  00010fd3ee560483c21bb98e414741c7      2\n",
       "31812 2019-03-01  00010fd3ee560483c21bb98e414741c7      0\n",
       "31813 2019-04-01  00010fd3ee560483c21bb98e414741c7      3\n",
       "31814 2019-05-01  00010fd3ee560483c21bb98e414741c7      2\n",
       "31815 2019-06-01  00010fd3ee560483c21bb98e414741c7      1\n",
       "31816 2019-07-01  00010fd3ee560483c21bb98e414741c7      1\n",
       "31817 2019-08-01  00010fd3ee560483c21bb98e414741c7      0\n",
       "31818 2019-09-01  00010fd3ee560483c21bb98e414741c7      0\n",
       "31819 2019-10-01  00010fd3ee560483c21bb98e414741c7      1"
      ]
     },
     "execution_count": 57,
     "metadata": {},
     "output_type": "execute_result"
    }
   ],
   "source": [
    "# check the list was created by time order\n",
    "df_monthly_crash.loc[df_monthly_crash['id']=='00010fd3ee560483c21bb98e414741c7']"
   ]
  },
  {
   "cell_type": "code",
   "execution_count": 58,
   "metadata": {},
   "outputs": [],
   "source": [
    "# export the dataset\n",
    "df_monthly_crash_count_list.to_csv('../data/cleaned_data/crash_aggregation/crash_short_segment_monthly.csv')"
   ]
  },
  {
   "cell_type": "markdown",
   "metadata": {},
   "source": [
    "## 2.2 Node"
   ]
  },
  {
   "cell_type": "markdown",
   "metadata": {},
   "source": [
    "Same process as the short segment parts."
   ]
  },
  {
   "cell_type": "code",
   "execution_count": 59,
   "metadata": {},
   "outputs": [],
   "source": [
    "# change datatype of crash_date as np.datetime64\n",
    "gdf_crash_node['crash_date'] = pd.to_datetime(gdf_crash_node['crash_date'])"
   ]
  },
  {
   "cell_type": "code",
   "execution_count": 60,
   "metadata": {},
   "outputs": [],
   "source": [
    "# extract month\n",
    "gdf_crash_node['crash_month'] = gdf_crash_node['crash_date'].dt.to_period('M').dt.to_timestamp()"
   ]
  },
  {
   "cell_type": "code",
   "execution_count": 61,
   "metadata": {},
   "outputs": [
    {
     "data": {
      "text/html": [
       "<div>\n",
       "<style scoped>\n",
       "    .dataframe tbody tr th:only-of-type {\n",
       "        vertical-align: middle;\n",
       "    }\n",
       "\n",
       "    .dataframe tbody tr th {\n",
       "        vertical-align: top;\n",
       "    }\n",
       "\n",
       "    .dataframe thead th {\n",
       "        text-align: right;\n",
       "    }\n",
       "</style>\n",
       "<table border=\"1\" class=\"dataframe\">\n",
       "  <thead>\n",
       "    <tr style=\"text-align: right;\">\n",
       "      <th></th>\n",
       "      <th>collision_id</th>\n",
       "      <th>node_id</th>\n",
       "      <th>crash_date</th>\n",
       "      <th>crash_time</th>\n",
       "      <th>crash_month</th>\n",
       "    </tr>\n",
       "  </thead>\n",
       "  <tbody>\n",
       "    <tr>\n",
       "      <th>0</th>\n",
       "      <td>3530470</td>\n",
       "      <td>3417fa2d8bcda5154d51fc800439527c</td>\n",
       "      <td>2016-10-01</td>\n",
       "      <td>00:30:00</td>\n",
       "      <td>2016-10-01</td>\n",
       "    </tr>\n",
       "    <tr>\n",
       "      <th>1</th>\n",
       "      <td>3562305</td>\n",
       "      <td>3417fa2d8bcda5154d51fc800439527c</td>\n",
       "      <td>2016-11-16</td>\n",
       "      <td>17:03:00</td>\n",
       "      <td>2016-11-01</td>\n",
       "    </tr>\n",
       "    <tr>\n",
       "      <th>2</th>\n",
       "      <td>3577626</td>\n",
       "      <td>3417fa2d8bcda5154d51fc800439527c</td>\n",
       "      <td>2016-12-10</td>\n",
       "      <td>14:00:00</td>\n",
       "      <td>2016-12-01</td>\n",
       "    </tr>\n",
       "    <tr>\n",
       "      <th>3</th>\n",
       "      <td>3582823</td>\n",
       "      <td>3417fa2d8bcda5154d51fc800439527c</td>\n",
       "      <td>2016-12-19</td>\n",
       "      <td>05:45:00</td>\n",
       "      <td>2016-12-01</td>\n",
       "    </tr>\n",
       "    <tr>\n",
       "      <th>4</th>\n",
       "      <td>3594234</td>\n",
       "      <td>3417fa2d8bcda5154d51fc800439527c</td>\n",
       "      <td>2017-01-07</td>\n",
       "      <td>09:50:00</td>\n",
       "      <td>2017-01-01</td>\n",
       "    </tr>\n",
       "  </tbody>\n",
       "</table>\n",
       "</div>"
      ],
      "text/plain": [
       "   collision_id                           node_id crash_date crash_time  \\\n",
       "0       3530470  3417fa2d8bcda5154d51fc800439527c 2016-10-01   00:30:00   \n",
       "1       3562305  3417fa2d8bcda5154d51fc800439527c 2016-11-16   17:03:00   \n",
       "2       3577626  3417fa2d8bcda5154d51fc800439527c 2016-12-10   14:00:00   \n",
       "3       3582823  3417fa2d8bcda5154d51fc800439527c 2016-12-19   05:45:00   \n",
       "4       3594234  3417fa2d8bcda5154d51fc800439527c 2017-01-07   09:50:00   \n",
       "\n",
       "  crash_month  \n",
       "0  2016-10-01  \n",
       "1  2016-11-01  \n",
       "2  2016-12-01  \n",
       "3  2016-12-01  \n",
       "4  2017-01-01  "
      ]
     },
     "execution_count": 61,
     "metadata": {},
     "output_type": "execute_result"
    }
   ],
   "source": [
    "gdf_crash_node.head()"
   ]
  },
  {
   "cell_type": "code",
   "execution_count": 62,
   "metadata": {},
   "outputs": [],
   "source": [
    "# count the crashes per node and month\n",
    "df_crash_node_monthly_count =  gdf_crash_node[['node_id',\n",
    "                                               'crash_month',\n",
    "                                               'collision_id']].groupby(['node_id',\n",
    "                                                                         'crash_month'],\n",
    "                                                                         as_index=False).count()\n",
    "\n",
    "df_crash_node_monthly_count = df_crash_node_monthly_count.rename(columns={'collision_id':'count'})"
   ]
  },
  {
   "cell_type": "code",
   "execution_count": 63,
   "metadata": {},
   "outputs": [],
   "source": [
    "# make a list of month and node id\n",
    "monthly_range = pd.date_range(start='2016-10-01', end='2019-10-01', freq='MS')\n",
    "list_node_id = gdf_node['node_id'].unique().tolist()"
   ]
  },
  {
   "cell_type": "code",
   "execution_count": 64,
   "metadata": {},
   "outputs": [],
   "source": [
    "# create the list of empty dataframe per node\n",
    "list_empty_dataframe = []\n",
    "for i in list_node_id:\n",
    "    temp_ = pd.DataFrame(monthly_range).rename(columns={0:'month'})\n",
    "    temp_['id'] = i\n",
    "    list_empty_dataframe.append(temp_)"
   ]
  },
  {
   "cell_type": "code",
   "execution_count": 65,
   "metadata": {},
   "outputs": [],
   "source": [
    "# concatenate the empty dataframes\n",
    "df_monthly_crash = pd.concat(list_empty_dataframe, axis=0)"
   ]
  },
  {
   "cell_type": "code",
   "execution_count": 66,
   "metadata": {},
   "outputs": [],
   "source": [
    "# merge dataframe. By doing this, we will get the number of crashes per each node, \n",
    "# and there will be NaN values if there is no crashes at a certain node and month\n",
    "df_monthly_crash = df_monthly_crash.merge(df_crash_node_monthly_count,\n",
    "                                         left_on=['id','month'],\n",
    "                                         right_on=['node_id','crash_month'],\n",
    "                                         how='left')"
   ]
  },
  {
   "cell_type": "code",
   "execution_count": 67,
   "metadata": {},
   "outputs": [],
   "source": [
    "# drop unnecessary columns, fill NaN values as 0\n",
    "df_monthly_crash = df_monthly_crash.drop(['node_id','crash_month'], axis=1)\n",
    "df_monthly_crash = df_monthly_crash.fillna(0)"
   ]
  },
  {
   "cell_type": "code",
   "execution_count": 68,
   "metadata": {},
   "outputs": [],
   "source": [
    "# change datatype to int\n",
    "df_monthly_crash['count'] = df_monthly_crash['count'].astype(int)"
   ]
  },
  {
   "cell_type": "code",
   "execution_count": 69,
   "metadata": {},
   "outputs": [],
   "source": [
    "# To minimize the size of the csv file, we will save the number of crashes as a list\n",
    "df_monthly_crash_count_list = df_monthly_crash[['id','count']].groupby('id')['count'].apply(list)"
   ]
  },
  {
   "cell_type": "code",
   "execution_count": 70,
   "metadata": {},
   "outputs": [],
   "source": [
    "# export the dataset\n",
    "df_monthly_crash_count_list.to_csv('../data/cleaned_data/crash_aggregation/crash_node_monthly.csv')"
   ]
  },
  {
   "cell_type": "markdown",
   "metadata": {},
   "source": [
    "## 2.3 Segment"
   ]
  },
  {
   "cell_type": "markdown",
   "metadata": {},
   "source": [
    "Same process as the short segment and node parts."
   ]
  },
  {
   "cell_type": "code",
   "execution_count": 71,
   "metadata": {},
   "outputs": [],
   "source": [
    "# change datatype of crash_date as np.datetime64\n",
    "gdf_crash_segment['crash_date'] = pd.to_datetime(gdf_crash_segment['crash_date'])"
   ]
  },
  {
   "cell_type": "code",
   "execution_count": 72,
   "metadata": {},
   "outputs": [],
   "source": [
    "# extract month\n",
    "gdf_crash_segment['crash_month'] = gdf_crash_segment['crash_date'].dt.to_period('M').dt.to_timestamp()"
   ]
  },
  {
   "cell_type": "code",
   "execution_count": 73,
   "metadata": {},
   "outputs": [
    {
     "data": {
      "text/html": [
       "<div>\n",
       "<style scoped>\n",
       "    .dataframe tbody tr th:only-of-type {\n",
       "        vertical-align: middle;\n",
       "    }\n",
       "\n",
       "    .dataframe tbody tr th {\n",
       "        vertical-align: top;\n",
       "    }\n",
       "\n",
       "    .dataframe thead th {\n",
       "        text-align: right;\n",
       "    }\n",
       "</style>\n",
       "<table border=\"1\" class=\"dataframe\">\n",
       "  <thead>\n",
       "    <tr style=\"text-align: right;\">\n",
       "      <th></th>\n",
       "      <th>collision_id</th>\n",
       "      <th>geometry_id</th>\n",
       "      <th>crash_date</th>\n",
       "      <th>crash_time</th>\n",
       "      <th>crash_month</th>\n",
       "    </tr>\n",
       "  </thead>\n",
       "  <tbody>\n",
       "    <tr>\n",
       "      <th>0</th>\n",
       "      <td>3531327</td>\n",
       "      <td>ba4520777941a56b87f97a1d35dc2e20</td>\n",
       "      <td>2016-10-01</td>\n",
       "      <td>20:20:00</td>\n",
       "      <td>2016-10-01</td>\n",
       "    </tr>\n",
       "    <tr>\n",
       "      <th>1</th>\n",
       "      <td>3530538</td>\n",
       "      <td>da0bde3c3c147e230387851d1679e6bc</td>\n",
       "      <td>2016-10-01</td>\n",
       "      <td>01:40:00</td>\n",
       "      <td>2016-10-01</td>\n",
       "    </tr>\n",
       "    <tr>\n",
       "      <th>2</th>\n",
       "      <td>3531662</td>\n",
       "      <td>3cf56bacd5522948619990790426e93a</td>\n",
       "      <td>2016-10-01</td>\n",
       "      <td>21:30:00</td>\n",
       "      <td>2016-10-01</td>\n",
       "    </tr>\n",
       "    <tr>\n",
       "      <th>3</th>\n",
       "      <td>3533597</td>\n",
       "      <td>4f2d7b279a2a4afe38fffab8a5e018c9</td>\n",
       "      <td>2016-10-01</td>\n",
       "      <td>06:30:00</td>\n",
       "      <td>2016-10-01</td>\n",
       "    </tr>\n",
       "    <tr>\n",
       "      <th>4</th>\n",
       "      <td>3531918</td>\n",
       "      <td>04a23f1a32ca88089f4ca72fd8d259b7</td>\n",
       "      <td>2016-10-01</td>\n",
       "      <td>10:00:00</td>\n",
       "      <td>2016-10-01</td>\n",
       "    </tr>\n",
       "    <tr>\n",
       "      <th>...</th>\n",
       "      <td>...</td>\n",
       "      <td>...</td>\n",
       "      <td>...</td>\n",
       "      <td>...</td>\n",
       "      <td>...</td>\n",
       "    </tr>\n",
       "    <tr>\n",
       "      <th>250029</th>\n",
       "      <td>4232681</td>\n",
       "      <td>dd9128bb0ba0537752c5f8b63a04a220</td>\n",
       "      <td>2019-10-31</td>\n",
       "      <td>05:00:00</td>\n",
       "      <td>2019-10-01</td>\n",
       "    </tr>\n",
       "    <tr>\n",
       "      <th>250030</th>\n",
       "      <td>4236430</td>\n",
       "      <td>a3396534bd98ea8552b8b982cd17a510</td>\n",
       "      <td>2019-10-31</td>\n",
       "      <td>13:00:00</td>\n",
       "      <td>2019-10-01</td>\n",
       "    </tr>\n",
       "    <tr>\n",
       "      <th>250031</th>\n",
       "      <td>4233134</td>\n",
       "      <td>f4ce05d8cd482c68af3eb4bfb90fc106</td>\n",
       "      <td>2019-10-31</td>\n",
       "      <td>14:20:00</td>\n",
       "      <td>2019-10-01</td>\n",
       "    </tr>\n",
       "    <tr>\n",
       "      <th>250032</th>\n",
       "      <td>4234695</td>\n",
       "      <td>f2a11635cbcf17ecb1ebe7c938f09bdc</td>\n",
       "      <td>2019-10-31</td>\n",
       "      <td>14:20:00</td>\n",
       "      <td>2019-10-01</td>\n",
       "    </tr>\n",
       "    <tr>\n",
       "      <th>250033</th>\n",
       "      <td>4235690</td>\n",
       "      <td>15b3bfd1cd429b15eaf52a402f0beec3</td>\n",
       "      <td>2019-10-31</td>\n",
       "      <td>17:25:00</td>\n",
       "      <td>2019-10-01</td>\n",
       "    </tr>\n",
       "  </tbody>\n",
       "</table>\n",
       "<p>250034 rows × 5 columns</p>\n",
       "</div>"
      ],
      "text/plain": [
       "        collision_id                       geometry_id crash_date crash_time  \\\n",
       "0            3531327  ba4520777941a56b87f97a1d35dc2e20 2016-10-01   20:20:00   \n",
       "1            3530538  da0bde3c3c147e230387851d1679e6bc 2016-10-01   01:40:00   \n",
       "2            3531662  3cf56bacd5522948619990790426e93a 2016-10-01   21:30:00   \n",
       "3            3533597  4f2d7b279a2a4afe38fffab8a5e018c9 2016-10-01   06:30:00   \n",
       "4            3531918  04a23f1a32ca88089f4ca72fd8d259b7 2016-10-01   10:00:00   \n",
       "...              ...                               ...        ...        ...   \n",
       "250029       4232681  dd9128bb0ba0537752c5f8b63a04a220 2019-10-31   05:00:00   \n",
       "250030       4236430  a3396534bd98ea8552b8b982cd17a510 2019-10-31   13:00:00   \n",
       "250031       4233134  f4ce05d8cd482c68af3eb4bfb90fc106 2019-10-31   14:20:00   \n",
       "250032       4234695  f2a11635cbcf17ecb1ebe7c938f09bdc 2019-10-31   14:20:00   \n",
       "250033       4235690  15b3bfd1cd429b15eaf52a402f0beec3 2019-10-31   17:25:00   \n",
       "\n",
       "       crash_month  \n",
       "0       2016-10-01  \n",
       "1       2016-10-01  \n",
       "2       2016-10-01  \n",
       "3       2016-10-01  \n",
       "4       2016-10-01  \n",
       "...            ...  \n",
       "250029  2019-10-01  \n",
       "250030  2019-10-01  \n",
       "250031  2019-10-01  \n",
       "250032  2019-10-01  \n",
       "250033  2019-10-01  \n",
       "\n",
       "[250034 rows x 5 columns]"
      ]
     },
     "execution_count": 73,
     "metadata": {},
     "output_type": "execute_result"
    }
   ],
   "source": [
    "gdf_crash_segment"
   ]
  },
  {
   "cell_type": "code",
   "execution_count": 74,
   "metadata": {},
   "outputs": [],
   "source": [
    "# count the crashes per segment and month\n",
    "df_crash_segment_monthly_count =  gdf_crash_segment[['geometry_id',\n",
    "                                                     'crash_month',\n",
    "                                                     'collision_id']].groupby(['geometry_id',\n",
    "                                                                               'crash_month'],\n",
    "                                                                                as_index=False).count()\n",
    "  \n",
    "df_crash_segment_monthly_count = df_crash_segment_monthly_count.rename(columns={'collision_id':'count'})"
   ]
  },
  {
   "cell_type": "code",
   "execution_count": 75,
   "metadata": {},
   "outputs": [],
   "source": [
    "# make a list of month and segment id\n",
    "monthly_range = pd.date_range(start='2016-10-01', end='2019-10-01', freq='MS')\n",
    "list_segment_id = gdf_segment['id'].unique().tolist()"
   ]
  },
  {
   "cell_type": "code",
   "execution_count": 76,
   "metadata": {},
   "outputs": [],
   "source": [
    "# create the list of empty dataframe per segment\n",
    "list_empty_dataframe = []\n",
    "for i in list_segment_id:\n",
    "    temp_ = pd.DataFrame(monthly_range).rename(columns={0:'month'})\n",
    "    temp_['id'] = i\n",
    "    list_empty_dataframe.append(temp_)"
   ]
  },
  {
   "cell_type": "code",
   "execution_count": 77,
   "metadata": {},
   "outputs": [],
   "source": [
    "# concatenate the empty dataframes\n",
    "df_monthly_crash = pd.concat(list_empty_dataframe, axis=0)"
   ]
  },
  {
   "cell_type": "code",
   "execution_count": 78,
   "metadata": {},
   "outputs": [],
   "source": [
    "# merge dataframe. By doing this, we will get the number of crashes per each segment, \n",
    "# and there will be NaN values if there is no crashes at a certain segment and month\n",
    "df_monthly_crash = df_monthly_crash.merge(df_crash_segment_monthly_count,\n",
    "                                         left_on=['id','month'],\n",
    "                                         right_on=['geometry_id','crash_month'],\n",
    "                                         how='left')"
   ]
  },
  {
   "cell_type": "code",
   "execution_count": 79,
   "metadata": {},
   "outputs": [],
   "source": [
    "# drop unnecessary columns, fill NaN values as 0\n",
    "df_monthly_crash = df_monthly_crash.drop(['geometry_id','crash_month'], axis=1)\n",
    "df_monthly_crash = df_monthly_crash.fillna(0)"
   ]
  },
  {
   "cell_type": "code",
   "execution_count": 80,
   "metadata": {},
   "outputs": [],
   "source": [
    "# change datatype to int\n",
    "df_monthly_crash['count'] = df_monthly_crash['count'].astype(int)"
   ]
  },
  {
   "cell_type": "code",
   "execution_count": 81,
   "metadata": {},
   "outputs": [],
   "source": [
    "# To minimize the size of the csv file, we will save the number of crashes as a list\n",
    "df_monthly_crash_count_list = df_monthly_crash[['id','count']].groupby('id')['count'].apply(list)"
   ]
  },
  {
   "cell_type": "code",
   "execution_count": 82,
   "metadata": {},
   "outputs": [
    {
     "data": {
      "text/plain": [
       "id\n",
       "0000b4f516894dfb309654e1a12bc7b1    [0, 0, 0, 0, 0, 0, 0, 0, 0, 0, 0, 0, 0, 0, 0, ...\n",
       "000115ffe0b626b4c1310827d7b28822    [0, 0, 0, 0, 0, 0, 0, 0, 0, 0, 0, 0, 0, 0, 0, ...\n",
       "000182e6b337ab6b7c6053a7499de445    [0, 0, 1, 0, 0, 0, 0, 0, 1, 1, 0, 0, 0, 0, 0, ...\n",
       "0001f6598a4739e7244d278eb317cb39    [0, 0, 0, 0, 0, 0, 0, 0, 0, 0, 0, 0, 0, 0, 0, ...\n",
       "0002985acfe74fd5ff37d246e5509fe4    [0, 0, 0, 0, 0, 0, 0, 0, 0, 0, 0, 0, 0, 0, 0, ...\n",
       "Name: count, dtype: object"
      ]
     },
     "execution_count": 82,
     "metadata": {},
     "output_type": "execute_result"
    }
   ],
   "source": [
    "# check the list was created by time order\n",
    "df_monthly_crash_count_list.head()"
   ]
  },
  {
   "cell_type": "code",
   "execution_count": 83,
   "metadata": {},
   "outputs": [
    {
     "data": {
      "text/html": [
       "<div>\n",
       "<style scoped>\n",
       "    .dataframe tbody tr th:only-of-type {\n",
       "        vertical-align: middle;\n",
       "    }\n",
       "\n",
       "    .dataframe tbody tr th {\n",
       "        vertical-align: top;\n",
       "    }\n",
       "\n",
       "    .dataframe thead th {\n",
       "        text-align: right;\n",
       "    }\n",
       "</style>\n",
       "<table border=\"1\" class=\"dataframe\">\n",
       "  <thead>\n",
       "    <tr style=\"text-align: right;\">\n",
       "      <th></th>\n",
       "      <th>month</th>\n",
       "      <th>id</th>\n",
       "      <th>count</th>\n",
       "    </tr>\n",
       "  </thead>\n",
       "  <tbody>\n",
       "    <tr>\n",
       "      <th>674769</th>\n",
       "      <td>2016-10-01</td>\n",
       "      <td>000182e6b337ab6b7c6053a7499de445</td>\n",
       "      <td>0</td>\n",
       "    </tr>\n",
       "    <tr>\n",
       "      <th>674770</th>\n",
       "      <td>2016-11-01</td>\n",
       "      <td>000182e6b337ab6b7c6053a7499de445</td>\n",
       "      <td>0</td>\n",
       "    </tr>\n",
       "    <tr>\n",
       "      <th>674771</th>\n",
       "      <td>2016-12-01</td>\n",
       "      <td>000182e6b337ab6b7c6053a7499de445</td>\n",
       "      <td>1</td>\n",
       "    </tr>\n",
       "    <tr>\n",
       "      <th>674772</th>\n",
       "      <td>2017-01-01</td>\n",
       "      <td>000182e6b337ab6b7c6053a7499de445</td>\n",
       "      <td>0</td>\n",
       "    </tr>\n",
       "    <tr>\n",
       "      <th>674773</th>\n",
       "      <td>2017-02-01</td>\n",
       "      <td>000182e6b337ab6b7c6053a7499de445</td>\n",
       "      <td>0</td>\n",
       "    </tr>\n",
       "    <tr>\n",
       "      <th>674774</th>\n",
       "      <td>2017-03-01</td>\n",
       "      <td>000182e6b337ab6b7c6053a7499de445</td>\n",
       "      <td>0</td>\n",
       "    </tr>\n",
       "    <tr>\n",
       "      <th>674775</th>\n",
       "      <td>2017-04-01</td>\n",
       "      <td>000182e6b337ab6b7c6053a7499de445</td>\n",
       "      <td>0</td>\n",
       "    </tr>\n",
       "    <tr>\n",
       "      <th>674776</th>\n",
       "      <td>2017-05-01</td>\n",
       "      <td>000182e6b337ab6b7c6053a7499de445</td>\n",
       "      <td>0</td>\n",
       "    </tr>\n",
       "    <tr>\n",
       "      <th>674777</th>\n",
       "      <td>2017-06-01</td>\n",
       "      <td>000182e6b337ab6b7c6053a7499de445</td>\n",
       "      <td>1</td>\n",
       "    </tr>\n",
       "    <tr>\n",
       "      <th>674778</th>\n",
       "      <td>2017-07-01</td>\n",
       "      <td>000182e6b337ab6b7c6053a7499de445</td>\n",
       "      <td>1</td>\n",
       "    </tr>\n",
       "    <tr>\n",
       "      <th>674779</th>\n",
       "      <td>2017-08-01</td>\n",
       "      <td>000182e6b337ab6b7c6053a7499de445</td>\n",
       "      <td>0</td>\n",
       "    </tr>\n",
       "    <tr>\n",
       "      <th>674780</th>\n",
       "      <td>2017-09-01</td>\n",
       "      <td>000182e6b337ab6b7c6053a7499de445</td>\n",
       "      <td>0</td>\n",
       "    </tr>\n",
       "    <tr>\n",
       "      <th>674781</th>\n",
       "      <td>2017-10-01</td>\n",
       "      <td>000182e6b337ab6b7c6053a7499de445</td>\n",
       "      <td>0</td>\n",
       "    </tr>\n",
       "    <tr>\n",
       "      <th>674782</th>\n",
       "      <td>2017-11-01</td>\n",
       "      <td>000182e6b337ab6b7c6053a7499de445</td>\n",
       "      <td>0</td>\n",
       "    </tr>\n",
       "    <tr>\n",
       "      <th>674783</th>\n",
       "      <td>2017-12-01</td>\n",
       "      <td>000182e6b337ab6b7c6053a7499de445</td>\n",
       "      <td>0</td>\n",
       "    </tr>\n",
       "    <tr>\n",
       "      <th>674784</th>\n",
       "      <td>2018-01-01</td>\n",
       "      <td>000182e6b337ab6b7c6053a7499de445</td>\n",
       "      <td>0</td>\n",
       "    </tr>\n",
       "    <tr>\n",
       "      <th>674785</th>\n",
       "      <td>2018-02-01</td>\n",
       "      <td>000182e6b337ab6b7c6053a7499de445</td>\n",
       "      <td>0</td>\n",
       "    </tr>\n",
       "    <tr>\n",
       "      <th>674786</th>\n",
       "      <td>2018-03-01</td>\n",
       "      <td>000182e6b337ab6b7c6053a7499de445</td>\n",
       "      <td>0</td>\n",
       "    </tr>\n",
       "    <tr>\n",
       "      <th>674787</th>\n",
       "      <td>2018-04-01</td>\n",
       "      <td>000182e6b337ab6b7c6053a7499de445</td>\n",
       "      <td>0</td>\n",
       "    </tr>\n",
       "    <tr>\n",
       "      <th>674788</th>\n",
       "      <td>2018-05-01</td>\n",
       "      <td>000182e6b337ab6b7c6053a7499de445</td>\n",
       "      <td>0</td>\n",
       "    </tr>\n",
       "    <tr>\n",
       "      <th>674789</th>\n",
       "      <td>2018-06-01</td>\n",
       "      <td>000182e6b337ab6b7c6053a7499de445</td>\n",
       "      <td>0</td>\n",
       "    </tr>\n",
       "    <tr>\n",
       "      <th>674790</th>\n",
       "      <td>2018-07-01</td>\n",
       "      <td>000182e6b337ab6b7c6053a7499de445</td>\n",
       "      <td>1</td>\n",
       "    </tr>\n",
       "    <tr>\n",
       "      <th>674791</th>\n",
       "      <td>2018-08-01</td>\n",
       "      <td>000182e6b337ab6b7c6053a7499de445</td>\n",
       "      <td>0</td>\n",
       "    </tr>\n",
       "    <tr>\n",
       "      <th>674792</th>\n",
       "      <td>2018-09-01</td>\n",
       "      <td>000182e6b337ab6b7c6053a7499de445</td>\n",
       "      <td>0</td>\n",
       "    </tr>\n",
       "    <tr>\n",
       "      <th>674793</th>\n",
       "      <td>2018-10-01</td>\n",
       "      <td>000182e6b337ab6b7c6053a7499de445</td>\n",
       "      <td>0</td>\n",
       "    </tr>\n",
       "    <tr>\n",
       "      <th>674794</th>\n",
       "      <td>2018-11-01</td>\n",
       "      <td>000182e6b337ab6b7c6053a7499de445</td>\n",
       "      <td>0</td>\n",
       "    </tr>\n",
       "    <tr>\n",
       "      <th>674795</th>\n",
       "      <td>2018-12-01</td>\n",
       "      <td>000182e6b337ab6b7c6053a7499de445</td>\n",
       "      <td>0</td>\n",
       "    </tr>\n",
       "    <tr>\n",
       "      <th>674796</th>\n",
       "      <td>2019-01-01</td>\n",
       "      <td>000182e6b337ab6b7c6053a7499de445</td>\n",
       "      <td>0</td>\n",
       "    </tr>\n",
       "    <tr>\n",
       "      <th>674797</th>\n",
       "      <td>2019-02-01</td>\n",
       "      <td>000182e6b337ab6b7c6053a7499de445</td>\n",
       "      <td>0</td>\n",
       "    </tr>\n",
       "    <tr>\n",
       "      <th>674798</th>\n",
       "      <td>2019-03-01</td>\n",
       "      <td>000182e6b337ab6b7c6053a7499de445</td>\n",
       "      <td>0</td>\n",
       "    </tr>\n",
       "    <tr>\n",
       "      <th>674799</th>\n",
       "      <td>2019-04-01</td>\n",
       "      <td>000182e6b337ab6b7c6053a7499de445</td>\n",
       "      <td>2</td>\n",
       "    </tr>\n",
       "    <tr>\n",
       "      <th>674800</th>\n",
       "      <td>2019-05-01</td>\n",
       "      <td>000182e6b337ab6b7c6053a7499de445</td>\n",
       "      <td>0</td>\n",
       "    </tr>\n",
       "    <tr>\n",
       "      <th>674801</th>\n",
       "      <td>2019-06-01</td>\n",
       "      <td>000182e6b337ab6b7c6053a7499de445</td>\n",
       "      <td>0</td>\n",
       "    </tr>\n",
       "    <tr>\n",
       "      <th>674802</th>\n",
       "      <td>2019-07-01</td>\n",
       "      <td>000182e6b337ab6b7c6053a7499de445</td>\n",
       "      <td>0</td>\n",
       "    </tr>\n",
       "    <tr>\n",
       "      <th>674803</th>\n",
       "      <td>2019-08-01</td>\n",
       "      <td>000182e6b337ab6b7c6053a7499de445</td>\n",
       "      <td>0</td>\n",
       "    </tr>\n",
       "    <tr>\n",
       "      <th>674804</th>\n",
       "      <td>2019-09-01</td>\n",
       "      <td>000182e6b337ab6b7c6053a7499de445</td>\n",
       "      <td>0</td>\n",
       "    </tr>\n",
       "    <tr>\n",
       "      <th>674805</th>\n",
       "      <td>2019-10-01</td>\n",
       "      <td>000182e6b337ab6b7c6053a7499de445</td>\n",
       "      <td>0</td>\n",
       "    </tr>\n",
       "  </tbody>\n",
       "</table>\n",
       "</div>"
      ],
      "text/plain": [
       "            month                                id  count\n",
       "674769 2016-10-01  000182e6b337ab6b7c6053a7499de445      0\n",
       "674770 2016-11-01  000182e6b337ab6b7c6053a7499de445      0\n",
       "674771 2016-12-01  000182e6b337ab6b7c6053a7499de445      1\n",
       "674772 2017-01-01  000182e6b337ab6b7c6053a7499de445      0\n",
       "674773 2017-02-01  000182e6b337ab6b7c6053a7499de445      0\n",
       "674774 2017-03-01  000182e6b337ab6b7c6053a7499de445      0\n",
       "674775 2017-04-01  000182e6b337ab6b7c6053a7499de445      0\n",
       "674776 2017-05-01  000182e6b337ab6b7c6053a7499de445      0\n",
       "674777 2017-06-01  000182e6b337ab6b7c6053a7499de445      1\n",
       "674778 2017-07-01  000182e6b337ab6b7c6053a7499de445      1\n",
       "674779 2017-08-01  000182e6b337ab6b7c6053a7499de445      0\n",
       "674780 2017-09-01  000182e6b337ab6b7c6053a7499de445      0\n",
       "674781 2017-10-01  000182e6b337ab6b7c6053a7499de445      0\n",
       "674782 2017-11-01  000182e6b337ab6b7c6053a7499de445      0\n",
       "674783 2017-12-01  000182e6b337ab6b7c6053a7499de445      0\n",
       "674784 2018-01-01  000182e6b337ab6b7c6053a7499de445      0\n",
       "674785 2018-02-01  000182e6b337ab6b7c6053a7499de445      0\n",
       "674786 2018-03-01  000182e6b337ab6b7c6053a7499de445      0\n",
       "674787 2018-04-01  000182e6b337ab6b7c6053a7499de445      0\n",
       "674788 2018-05-01  000182e6b337ab6b7c6053a7499de445      0\n",
       "674789 2018-06-01  000182e6b337ab6b7c6053a7499de445      0\n",
       "674790 2018-07-01  000182e6b337ab6b7c6053a7499de445      1\n",
       "674791 2018-08-01  000182e6b337ab6b7c6053a7499de445      0\n",
       "674792 2018-09-01  000182e6b337ab6b7c6053a7499de445      0\n",
       "674793 2018-10-01  000182e6b337ab6b7c6053a7499de445      0\n",
       "674794 2018-11-01  000182e6b337ab6b7c6053a7499de445      0\n",
       "674795 2018-12-01  000182e6b337ab6b7c6053a7499de445      0\n",
       "674796 2019-01-01  000182e6b337ab6b7c6053a7499de445      0\n",
       "674797 2019-02-01  000182e6b337ab6b7c6053a7499de445      0\n",
       "674798 2019-03-01  000182e6b337ab6b7c6053a7499de445      0\n",
       "674799 2019-04-01  000182e6b337ab6b7c6053a7499de445      2\n",
       "674800 2019-05-01  000182e6b337ab6b7c6053a7499de445      0\n",
       "674801 2019-06-01  000182e6b337ab6b7c6053a7499de445      0\n",
       "674802 2019-07-01  000182e6b337ab6b7c6053a7499de445      0\n",
       "674803 2019-08-01  000182e6b337ab6b7c6053a7499de445      0\n",
       "674804 2019-09-01  000182e6b337ab6b7c6053a7499de445      0\n",
       "674805 2019-10-01  000182e6b337ab6b7c6053a7499de445      0"
      ]
     },
     "execution_count": 83,
     "metadata": {},
     "output_type": "execute_result"
    }
   ],
   "source": [
    "# check the list was created by time order\n",
    "df_monthly_crash.loc[df_monthly_crash['id']=='000182e6b337ab6b7c6053a7499de445']"
   ]
  },
  {
   "cell_type": "code",
   "execution_count": 84,
   "metadata": {},
   "outputs": [],
   "source": [
    "# export the dataset\n",
    "df_monthly_crash_count_list.to_csv('../data/cleaned_data/crash_aggregation/crash_segment_monthly.csv')"
   ]
  },
  {
   "cell_type": "markdown",
   "metadata": {},
   "source": [
    "# 3. Calculate hourly crash counts"
   ]
  },
  {
   "cell_type": "markdown",
   "metadata": {},
   "source": [
    "## 3.1 short segment"
   ]
  },
  {
   "cell_type": "markdown",
   "metadata": {},
   "source": [
    "Same process as monthly crash counts chapter, but change the unit of time as an hour "
   ]
  },
  {
   "cell_type": "code",
   "execution_count": 85,
   "metadata": {},
   "outputs": [],
   "source": [
    "# change datatype of crash_date as np.datetime64\n",
    "gdf_crash_short_segment['crash_time'] = pd.to_datetime(gdf_crash_short_segment['crash_time'])"
   ]
  },
  {
   "cell_type": "code",
   "execution_count": 86,
   "metadata": {},
   "outputs": [],
   "source": [
    "# extract hour\n",
    "gdf_crash_short_segment['hour'] = gdf_crash_short_segment['crash_time'].dt.hour"
   ]
  },
  {
   "cell_type": "code",
   "execution_count": 87,
   "metadata": {},
   "outputs": [],
   "source": [
    "# count the crashes per segment and hour\n",
    "df_crash_short_segment_hourly_count =  gdf_crash_short_segment[['nearest_id',\n",
    "                                                                'hour',\n",
    "                                                                'collision_id']].groupby(['nearest_id',\n",
    "                                                                                          'hour'],\n",
    "                                                                                            as_index=False).count()\n",
    "\n",
    "df_crash_short_segment_hourly_count = df_crash_short_segment_hourly_count.rename(columns={'collision_id':'count'})"
   ]
  },
  {
   "cell_type": "code",
   "execution_count": 88,
   "metadata": {},
   "outputs": [],
   "source": [
    "# make a list of hour and segment id\n",
    "hourly_range = list(range(0,24))\n",
    "list_short_segment_id = df_crash_short_segment_monthly_count['nearest_id'].unique().tolist()"
   ]
  },
  {
   "cell_type": "code",
   "execution_count": 89,
   "metadata": {},
   "outputs": [],
   "source": [
    "# create the list of empty dataframe per segment\n",
    "list_empty_dataframe = []\n",
    "for i in list_short_segment_id:\n",
    "    temp_ = pd.DataFrame(hourly_range).rename(columns={0:'hour'})\n",
    "    temp_['id'] = i\n",
    "    list_empty_dataframe.append(temp_)"
   ]
  },
  {
   "cell_type": "code",
   "execution_count": 90,
   "metadata": {},
   "outputs": [],
   "source": [
    "# concatenate the empty dataframes\n",
    "df_hourly_crash = pd.concat(list_empty_dataframe, axis=0)"
   ]
  },
  {
   "cell_type": "code",
   "execution_count": 91,
   "metadata": {},
   "outputs": [],
   "source": [
    "# merge dataframe. By doing this, we will get the number of crashes per each segment, \n",
    "# and there will be NaN values if there is no crashes at a certain segment and hour\n",
    "df_hourly_crash = df_hourly_crash.merge(df_crash_short_segment_hourly_count,\n",
    "                                         left_on=['id','hour'],\n",
    "                                         right_on=['nearest_id','hour'],\n",
    "                                         how='left')"
   ]
  },
  {
   "cell_type": "code",
   "execution_count": 92,
   "metadata": {},
   "outputs": [],
   "source": [
    "# drop unnecessary columns, fill NaN values as 0\n",
    "df_hourly_crash = df_hourly_crash.drop('nearest_id', axis=1)\n",
    "df_hourly_crash = df_hourly_crash.fillna(0)"
   ]
  },
  {
   "cell_type": "code",
   "execution_count": 93,
   "metadata": {},
   "outputs": [],
   "source": [
    "# change datatype to int\n",
    "df_hourly_crash['count'] = df_hourly_crash['count'].astype(int)"
   ]
  },
  {
   "cell_type": "code",
   "execution_count": 94,
   "metadata": {},
   "outputs": [],
   "source": [
    "# To minimize the size of the csv file, we will save the number of crashes as a list\n",
    "df_hourly_crash_count_list = df_hourly_crash[['id','count']].groupby('id')['count'].apply(list)"
   ]
  },
  {
   "cell_type": "code",
   "execution_count": 95,
   "metadata": {},
   "outputs": [
    {
     "data": {
      "text/html": [
       "<div>\n",
       "<style scoped>\n",
       "    .dataframe tbody tr th:only-of-type {\n",
       "        vertical-align: middle;\n",
       "    }\n",
       "\n",
       "    .dataframe tbody tr th {\n",
       "        vertical-align: top;\n",
       "    }\n",
       "\n",
       "    .dataframe thead th {\n",
       "        text-align: right;\n",
       "    }\n",
       "</style>\n",
       "<table border=\"1\" class=\"dataframe\">\n",
       "  <thead>\n",
       "    <tr style=\"text-align: right;\">\n",
       "      <th></th>\n",
       "      <th>hour</th>\n",
       "      <th>id</th>\n",
       "      <th>count</th>\n",
       "    </tr>\n",
       "  </thead>\n",
       "  <tbody>\n",
       "    <tr>\n",
       "      <th>0</th>\n",
       "      <td>0</td>\n",
       "      <td>00010fd3ee560483c21bb98e414741c7</td>\n",
       "      <td>3</td>\n",
       "    </tr>\n",
       "    <tr>\n",
       "      <th>1</th>\n",
       "      <td>1</td>\n",
       "      <td>00010fd3ee560483c21bb98e414741c7</td>\n",
       "      <td>2</td>\n",
       "    </tr>\n",
       "    <tr>\n",
       "      <th>2</th>\n",
       "      <td>2</td>\n",
       "      <td>00010fd3ee560483c21bb98e414741c7</td>\n",
       "      <td>0</td>\n",
       "    </tr>\n",
       "    <tr>\n",
       "      <th>3</th>\n",
       "      <td>3</td>\n",
       "      <td>00010fd3ee560483c21bb98e414741c7</td>\n",
       "      <td>1</td>\n",
       "    </tr>\n",
       "    <tr>\n",
       "      <th>4</th>\n",
       "      <td>4</td>\n",
       "      <td>00010fd3ee560483c21bb98e414741c7</td>\n",
       "      <td>0</td>\n",
       "    </tr>\n",
       "    <tr>\n",
       "      <th>5</th>\n",
       "      <td>5</td>\n",
       "      <td>00010fd3ee560483c21bb98e414741c7</td>\n",
       "      <td>0</td>\n",
       "    </tr>\n",
       "    <tr>\n",
       "      <th>6</th>\n",
       "      <td>6</td>\n",
       "      <td>00010fd3ee560483c21bb98e414741c7</td>\n",
       "      <td>1</td>\n",
       "    </tr>\n",
       "    <tr>\n",
       "      <th>7</th>\n",
       "      <td>7</td>\n",
       "      <td>00010fd3ee560483c21bb98e414741c7</td>\n",
       "      <td>6</td>\n",
       "    </tr>\n",
       "    <tr>\n",
       "      <th>8</th>\n",
       "      <td>8</td>\n",
       "      <td>00010fd3ee560483c21bb98e414741c7</td>\n",
       "      <td>6</td>\n",
       "    </tr>\n",
       "    <tr>\n",
       "      <th>9</th>\n",
       "      <td>9</td>\n",
       "      <td>00010fd3ee560483c21bb98e414741c7</td>\n",
       "      <td>4</td>\n",
       "    </tr>\n",
       "    <tr>\n",
       "      <th>10</th>\n",
       "      <td>10</td>\n",
       "      <td>00010fd3ee560483c21bb98e414741c7</td>\n",
       "      <td>3</td>\n",
       "    </tr>\n",
       "    <tr>\n",
       "      <th>11</th>\n",
       "      <td>11</td>\n",
       "      <td>00010fd3ee560483c21bb98e414741c7</td>\n",
       "      <td>2</td>\n",
       "    </tr>\n",
       "    <tr>\n",
       "      <th>12</th>\n",
       "      <td>12</td>\n",
       "      <td>00010fd3ee560483c21bb98e414741c7</td>\n",
       "      <td>0</td>\n",
       "    </tr>\n",
       "    <tr>\n",
       "      <th>13</th>\n",
       "      <td>13</td>\n",
       "      <td>00010fd3ee560483c21bb98e414741c7</td>\n",
       "      <td>4</td>\n",
       "    </tr>\n",
       "    <tr>\n",
       "      <th>14</th>\n",
       "      <td>14</td>\n",
       "      <td>00010fd3ee560483c21bb98e414741c7</td>\n",
       "      <td>4</td>\n",
       "    </tr>\n",
       "    <tr>\n",
       "      <th>15</th>\n",
       "      <td>15</td>\n",
       "      <td>00010fd3ee560483c21bb98e414741c7</td>\n",
       "      <td>5</td>\n",
       "    </tr>\n",
       "    <tr>\n",
       "      <th>16</th>\n",
       "      <td>16</td>\n",
       "      <td>00010fd3ee560483c21bb98e414741c7</td>\n",
       "      <td>2</td>\n",
       "    </tr>\n",
       "    <tr>\n",
       "      <th>17</th>\n",
       "      <td>17</td>\n",
       "      <td>00010fd3ee560483c21bb98e414741c7</td>\n",
       "      <td>1</td>\n",
       "    </tr>\n",
       "    <tr>\n",
       "      <th>18</th>\n",
       "      <td>18</td>\n",
       "      <td>00010fd3ee560483c21bb98e414741c7</td>\n",
       "      <td>3</td>\n",
       "    </tr>\n",
       "    <tr>\n",
       "      <th>19</th>\n",
       "      <td>19</td>\n",
       "      <td>00010fd3ee560483c21bb98e414741c7</td>\n",
       "      <td>0</td>\n",
       "    </tr>\n",
       "    <tr>\n",
       "      <th>20</th>\n",
       "      <td>20</td>\n",
       "      <td>00010fd3ee560483c21bb98e414741c7</td>\n",
       "      <td>2</td>\n",
       "    </tr>\n",
       "    <tr>\n",
       "      <th>21</th>\n",
       "      <td>21</td>\n",
       "      <td>00010fd3ee560483c21bb98e414741c7</td>\n",
       "      <td>0</td>\n",
       "    </tr>\n",
       "    <tr>\n",
       "      <th>22</th>\n",
       "      <td>22</td>\n",
       "      <td>00010fd3ee560483c21bb98e414741c7</td>\n",
       "      <td>2</td>\n",
       "    </tr>\n",
       "    <tr>\n",
       "      <th>23</th>\n",
       "      <td>23</td>\n",
       "      <td>00010fd3ee560483c21bb98e414741c7</td>\n",
       "      <td>1</td>\n",
       "    </tr>\n",
       "  </tbody>\n",
       "</table>\n",
       "</div>"
      ],
      "text/plain": [
       "    hour                                id  count\n",
       "0      0  00010fd3ee560483c21bb98e414741c7      3\n",
       "1      1  00010fd3ee560483c21bb98e414741c7      2\n",
       "2      2  00010fd3ee560483c21bb98e414741c7      0\n",
       "3      3  00010fd3ee560483c21bb98e414741c7      1\n",
       "4      4  00010fd3ee560483c21bb98e414741c7      0\n",
       "5      5  00010fd3ee560483c21bb98e414741c7      0\n",
       "6      6  00010fd3ee560483c21bb98e414741c7      1\n",
       "7      7  00010fd3ee560483c21bb98e414741c7      6\n",
       "8      8  00010fd3ee560483c21bb98e414741c7      6\n",
       "9      9  00010fd3ee560483c21bb98e414741c7      4\n",
       "10    10  00010fd3ee560483c21bb98e414741c7      3\n",
       "11    11  00010fd3ee560483c21bb98e414741c7      2\n",
       "12    12  00010fd3ee560483c21bb98e414741c7      0\n",
       "13    13  00010fd3ee560483c21bb98e414741c7      4\n",
       "14    14  00010fd3ee560483c21bb98e414741c7      4\n",
       "15    15  00010fd3ee560483c21bb98e414741c7      5\n",
       "16    16  00010fd3ee560483c21bb98e414741c7      2\n",
       "17    17  00010fd3ee560483c21bb98e414741c7      1\n",
       "18    18  00010fd3ee560483c21bb98e414741c7      3\n",
       "19    19  00010fd3ee560483c21bb98e414741c7      0\n",
       "20    20  00010fd3ee560483c21bb98e414741c7      2\n",
       "21    21  00010fd3ee560483c21bb98e414741c7      0\n",
       "22    22  00010fd3ee560483c21bb98e414741c7      2\n",
       "23    23  00010fd3ee560483c21bb98e414741c7      1"
      ]
     },
     "execution_count": 95,
     "metadata": {},
     "output_type": "execute_result"
    }
   ],
   "source": [
    "# check the list was created by time order\n",
    "df_hourly_crash.loc[df_hourly_crash['id']=='00010fd3ee560483c21bb98e414741c7'] "
   ]
  },
  {
   "cell_type": "code",
   "execution_count": 96,
   "metadata": {},
   "outputs": [
    {
     "data": {
      "text/plain": [
       "[3, 2, 0, 1, 0, 0, 1, 6, 6, 4, 3, 2, 0, 4, 4, 5, 2, 1, 3, 0, 2, 0, 2, 1]"
      ]
     },
     "execution_count": 96,
     "metadata": {},
     "output_type": "execute_result"
    }
   ],
   "source": [
    "# check the list was created by time order\n",
    "df_hourly_crash_count_list.iloc[0]"
   ]
  },
  {
   "cell_type": "code",
   "execution_count": 97,
   "metadata": {},
   "outputs": [],
   "source": [
    "# export the dataset\n",
    "df_hourly_crash_count_list.to_csv('../data/cleaned_data/crash_aggregation/crash_short_segment_hourly.csv')"
   ]
  },
  {
   "cell_type": "markdown",
   "metadata": {},
   "source": [
    "## 3.2 node"
   ]
  },
  {
   "cell_type": "code",
   "execution_count": 98,
   "metadata": {},
   "outputs": [],
   "source": [
    "# change datatype of crash_date as np.datetime64\n",
    "gdf_crash_node['crash_time'] = pd.to_datetime(gdf_crash_node['crash_time'])"
   ]
  },
  {
   "cell_type": "code",
   "execution_count": 99,
   "metadata": {},
   "outputs": [],
   "source": [
    "# extract hour\n",
    "gdf_crash_node['hour'] = gdf_crash_node['crash_time'].dt.hour"
   ]
  },
  {
   "cell_type": "code",
   "execution_count": 100,
   "metadata": {},
   "outputs": [],
   "source": [
    "# count the crashes per node and hour\n",
    "df_crash_node_hourly_count =  gdf_crash_node[['node_id',\n",
    "                                              'hour',\n",
    "                                              'collision_id']].groupby(['node_id',\n",
    "                                                                        'hour'],\n",
    "                                                                        as_index=False).count()\n",
    "\n",
    "df_crash_node_hourly_count = df_crash_node_hourly_count.rename(columns={'collision_id':'count'})"
   ]
  },
  {
   "cell_type": "code",
   "execution_count": 101,
   "metadata": {},
   "outputs": [],
   "source": [
    "# make a list of hour and node id\n",
    "hourly_range = list(range(0,24))\n",
    "list_node_id = gdf_node['node_id'].unique().tolist()"
   ]
  },
  {
   "cell_type": "code",
   "execution_count": null,
   "metadata": {},
   "outputs": [],
   "source": [
    "# create the list of empty dataframe per segment\n",
    "list_empty_dataframe = []\n",
    "for i in list_node_id:\n",
    "    temp_ = pd.DataFrame(hourly_range).rename(columns={0:'hour'})\n",
    "    temp_['id'] = i\n",
    "    list_empty_dataframe.append(temp_)"
   ]
  },
  {
   "cell_type": "code",
   "execution_count": null,
   "metadata": {},
   "outputs": [],
   "source": [
    "# concatenate the empty dataframes\n",
    "df_hourly_crash = pd.concat(list_empty_dataframe, axis=0)"
   ]
  },
  {
   "cell_type": "code",
   "execution_count": null,
   "metadata": {},
   "outputs": [],
   "source": [
    "# merge dataframe. By doing this, we will get the number of crashes per each node, \n",
    "# and there will be NaN values if there is no crashes at a certain segment and hour\n",
    "df_hourly_crash = df_hourly_crash.merge(df_crash_node_hourly_count,\n",
    "                                         left_on=['id','hour'],\n",
    "                                         right_on=['node_id','hour'],\n",
    "                                         how='left')"
   ]
  },
  {
   "cell_type": "code",
   "execution_count": null,
   "metadata": {},
   "outputs": [],
   "source": [
    "# drop unnecessary columns, fill NaN values as 0\n",
    "df_hourly_crash = df_hourly_crash.drop('node_id', axis=1)\n",
    "df_hourly_crash = df_hourly_crash.fillna(0)"
   ]
  },
  {
   "cell_type": "code",
   "execution_count": null,
   "metadata": {},
   "outputs": [],
   "source": [
    "# change datatype to int\n",
    "df_hourly_crash['count'] = df_hourly_crash['count'].astype(int)"
   ]
  },
  {
   "cell_type": "code",
   "execution_count": null,
   "metadata": {},
   "outputs": [],
   "source": [
    "# To minimize the size of the csv file, we will save the number of crashes as a list\n",
    "df_hourly_crash_count_list = df_hourly_crash[['id','count']].groupby('id')['count'].apply(list)"
   ]
  },
  {
   "cell_type": "code",
   "execution_count": null,
   "metadata": {},
   "outputs": [],
   "source": [
    "# export the dataset\n",
    "df_hourly_crash_count_list.to_csv('../data/cleaned_data/crash_aggregation/crash_node_hourly.csv')"
   ]
  },
  {
   "cell_type": "markdown",
   "metadata": {},
   "source": [
    "## 3.3 Segment"
   ]
  },
  {
   "cell_type": "code",
   "execution_count": null,
   "metadata": {},
   "outputs": [],
   "source": [
    "# change datatype of crash_date as np.datetime64\n",
    "gdf_crash_segment['crash_time'] = pd.to_datetime(gdf_crash_segment['crash_time'])"
   ]
  },
  {
   "cell_type": "code",
   "execution_count": null,
   "metadata": {},
   "outputs": [],
   "source": [
    "# extract hour\n",
    "gdf_crash_segment['hour'] = gdf_crash_segment['crash_time'].dt.hour"
   ]
  },
  {
   "cell_type": "code",
   "execution_count": null,
   "metadata": {},
   "outputs": [],
   "source": [
    "# count the crashes per segment and hour\n",
    "df_crash_segment_hourly_count =  gdf_crash_segment[['geometry_id',\n",
    "                                                    'hour',\n",
    "                                                    'collision_id']].groupby(['geometry_id',\n",
    "                                                                              'hour'],\n",
    "                                                                              as_index=False).count()\n",
    "\n",
    "df_crash_segment_hourly_count = df_crash_segment_hourly_count.rename(columns={'collision_id':'count'})"
   ]
  },
  {
   "cell_type": "code",
   "execution_count": null,
   "metadata": {},
   "outputs": [],
   "source": [
    "# make a list of hour and segment id\n",
    "hourly_range = list(range(0,24))\n",
    "list_segment_id = gdf_segment['id'].unique().tolist()"
   ]
  },
  {
   "cell_type": "code",
   "execution_count": null,
   "metadata": {},
   "outputs": [],
   "source": [
    "# create the list of empty dataframe per segment\n",
    "list_empty_dataframe = []\n",
    "for i in list_segment_id:\n",
    "    temp_ = pd.DataFrame(hourly_range).rename(columns={0:'hour'})\n",
    "    temp_['id'] = i\n",
    "    list_empty_dataframe.append(temp_)"
   ]
  },
  {
   "cell_type": "code",
   "execution_count": null,
   "metadata": {},
   "outputs": [],
   "source": [
    "# concatenate the empty dataframes\n",
    "df_hourly_crash = pd.concat(list_empty_dataframe, axis=0)"
   ]
  },
  {
   "cell_type": "code",
   "execution_count": null,
   "metadata": {},
   "outputs": [],
   "source": [
    "# merge dataframe. By doing this, we will get the number of crashes per each segment, \n",
    "# and there will be NaN values if there is no crashes at a certain segment and hour\n",
    "df_hourly_crash = df_hourly_crash.merge(df_crash_segment_hourly_count,\n",
    "                                        left_on=['id','hour'],\n",
    "                                        right_on=['geometry_id','hour'],\n",
    "                                        how='left')"
   ]
  },
  {
   "cell_type": "code",
   "execution_count": null,
   "metadata": {},
   "outputs": [],
   "source": [
    "# drop unnecessary columns, fill NaN values as 0\n",
    "df_hourly_crash = df_hourly_crash.drop('geometry_id', axis=1)\n",
    "df_hourly_crash = df_hourly_crash.fillna(0)"
   ]
  },
  {
   "cell_type": "code",
   "execution_count": null,
   "metadata": {},
   "outputs": [],
   "source": [
    "# change datatype to int\n",
    "df_hourly_crash['count'] = df_hourly_crash['count'].astype(int)"
   ]
  },
  {
   "cell_type": "code",
   "execution_count": null,
   "metadata": {},
   "outputs": [],
   "source": [
    "# To minimize the size of the csv file, we will save the number of crashes as a list\n",
    "df_hourly_crash_count_list = df_hourly_crash[['id','count']].groupby('id')['count'].apply(list)"
   ]
  },
  {
   "cell_type": "code",
   "execution_count": null,
   "metadata": {},
   "outputs": [],
   "source": [
    "# export the dataset\n",
    "df_hourly_crash_count_list.to_csv('../data/cleaned_data/crash_aggregation/crash_segment_hourly.csv')"
   ]
  }
 ],
 "metadata": {
  "kernelspec": {
   "display_name": "Python 3",
   "language": "python",
   "name": "python3"
  },
  "language_info": {
   "codemirror_mode": {
    "name": "ipython",
    "version": 3
   },
   "file_extension": ".py",
   "mimetype": "text/x-python",
   "name": "python",
   "nbconvert_exporter": "python",
   "pygments_lexer": "ipython3",
   "version": "3.8.2"
  }
 },
 "nbformat": 4,
 "nbformat_minor": 4
}
