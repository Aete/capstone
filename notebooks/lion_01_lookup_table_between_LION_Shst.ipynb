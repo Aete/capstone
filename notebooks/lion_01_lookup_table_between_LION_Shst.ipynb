{
 "cells": [
  {
   "cell_type": "markdown",
   "metadata": {},
   "source": [
    "# lion_01_data_wrangling_with_shst"
   ]
  },
  {
   "cell_type": "markdown",
   "metadata": {},
   "source": [
    "This notebook is for creating a lookup table for connecting Sharedstreets segments and LION segments"
   ]
  },
  {
   "cell_type": "markdown",
   "metadata": {},
   "source": [
    "## 0. Making small batches"
   ]
  },
  {
   "cell_type": "markdown",
   "metadata": {},
   "source": [
    "Because the processed lion dataset is too big to apply Sharedstreet API in the local machine, we will divide the dataset into small batches to solve the problem. Each batch will contain less than 60000 lion segments."
   ]
  },
  {
   "cell_type": "code",
   "execution_count": 1,
   "metadata": {},
   "outputs": [],
   "source": [
    "import geopandas as gpd\n",
    "import pandas as pd"
   ]
  },
  {
   "cell_type": "code",
   "execution_count": 2,
   "metadata": {},
   "outputs": [],
   "source": [
    "# make sure that you run the 'lion_00_data_wrangling_&_filtration' notebook to get the 'lion_filtered.shp'\n",
    "# import the sharedstreet segments\n",
    "gdf_lion = gpd.read_file('../data/cleaned_data/lion_filtered/lion_filtered.shp')"
   ]
  },
  {
   "cell_type": "code",
   "execution_count": 3,
   "metadata": {},
   "outputs": [],
   "source": [
    "# drop unnecessary columns\n",
    "gdf_lion_simplified = gdf_lion[['objectid','segment_id','geometry']]"
   ]
  },
  {
   "cell_type": "code",
   "execution_count": 4,
   "metadata": {},
   "outputs": [
    {
     "name": "stderr",
     "output_type": "stream",
     "text": [
      "<ipython-input-4-eb695b516079>:2: SettingWithCopyWarning: \n",
      "A value is trying to be set on a copy of a slice from a DataFrame.\n",
      "Try using .loc[row_indexer,col_indexer] = value instead\n",
      "\n",
      "See the caveats in the documentation: https://pandas.pydata.org/pandas-docs/stable/user_guide/indexing.html#returning-a-view-versus-a-copy\n",
      "  gdf_lion_simplified['objectid'] = gdf_lion_simplified['objectid'].astype(int)\n"
     ]
    }
   ],
   "source": [
    "# change datatype of 'objectid'\n",
    "gdf_lion_simplified['objectid'] = gdf_lion_simplified['objectid'].astype(int)"
   ]
  },
  {
   "cell_type": "code",
   "execution_count": 5,
   "metadata": {},
   "outputs": [
    {
     "data": {
      "text/html": [
       "<div>\n",
       "<style scoped>\n",
       "    .dataframe tbody tr th:only-of-type {\n",
       "        vertical-align: middle;\n",
       "    }\n",
       "\n",
       "    .dataframe tbody tr th {\n",
       "        vertical-align: top;\n",
       "    }\n",
       "\n",
       "    .dataframe thead th {\n",
       "        text-align: right;\n",
       "    }\n",
       "</style>\n",
       "<table border=\"1\" class=\"dataframe\">\n",
       "  <thead>\n",
       "    <tr style=\"text-align: right;\">\n",
       "      <th></th>\n",
       "      <th>objectid</th>\n",
       "      <th>segment_id</th>\n",
       "      <th>geometry</th>\n",
       "    </tr>\n",
       "  </thead>\n",
       "  <tbody>\n",
       "    <tr>\n",
       "      <th>0</th>\n",
       "      <td>1</td>\n",
       "      <td>0078126</td>\n",
       "      <td>LINESTRING (-73.90347 40.83035, -73.90238 40.8...</td>\n",
       "    </tr>\n",
       "    <tr>\n",
       "      <th>1</th>\n",
       "      <td>2</td>\n",
       "      <td>0079796</td>\n",
       "      <td>LINESTRING (-73.90120 40.86661, -73.90207 40.8...</td>\n",
       "    </tr>\n",
       "    <tr>\n",
       "      <th>2</th>\n",
       "      <td>3</td>\n",
       "      <td>0077356</td>\n",
       "      <td>LINESTRING (-73.90118 40.82439, -73.90051 40.8...</td>\n",
       "    </tr>\n",
       "    <tr>\n",
       "      <th>3</th>\n",
       "      <td>5</td>\n",
       "      <td>0073490</td>\n",
       "      <td>LINESTRING (-73.90696 40.89361, -73.90696 40.8...</td>\n",
       "    </tr>\n",
       "    <tr>\n",
       "      <th>4</th>\n",
       "      <td>6</td>\n",
       "      <td>0174633</td>\n",
       "      <td>LINESTRING (-73.90707 40.89927, -73.90712 40.8...</td>\n",
       "    </tr>\n",
       "  </tbody>\n",
       "</table>\n",
       "</div>"
      ],
      "text/plain": [
       "   objectid segment_id                                           geometry\n",
       "0         1    0078126  LINESTRING (-73.90347 40.83035, -73.90238 40.8...\n",
       "1         2    0079796  LINESTRING (-73.90120 40.86661, -73.90207 40.8...\n",
       "2         3    0077356  LINESTRING (-73.90118 40.82439, -73.90051 40.8...\n",
       "3         5    0073490  LINESTRING (-73.90696 40.89361, -73.90696 40.8...\n",
       "4         6    0174633  LINESTRING (-73.90707 40.89927, -73.90712 40.8..."
      ]
     },
     "execution_count": 5,
     "metadata": {},
     "output_type": "execute_result"
    }
   ],
   "source": [
    "gdf_lion_simplified.head()"
   ]
  },
  {
   "cell_type": "code",
   "execution_count": 6,
   "metadata": {},
   "outputs": [],
   "source": [
    "# split the dataset into small batches\n",
    "gdf_lion_simplified_0_60000 = gdf_lion_simplified.iloc[:60000]\n",
    "gdf_lion_simplified_60000_120000 = gdf_lion_simplified.iloc[60000:120000]\n",
    "gdf_lion_simplified_120000_ = gdf_lion_simplified.iloc[120000:]"
   ]
  },
  {
   "cell_type": "code",
   "execution_count": 7,
   "metadata": {},
   "outputs": [],
   "source": [
    "# export the small batches\n",
    "gdf_lion_simplified_0_60000.to_file('../data/sharedstreets_results/lion/before_applying/lion_street_filtered_0_60000.geojson', driver='GeoJSON')\n",
    "gdf_lion_simplified_60000_120000.to_file('../data/sharedstreets_results/lion/before_applying/lion_street_filtered_60000_120000.geojson', driver='GeoJSON')\n",
    "gdf_lion_simplified_120000_.to_file('../data/sharedstreets_results/lion/before_applying/lion_street_filtered_120000_.geojson', driver='GeoJSON')"
   ]
  },
  {
   "cell_type": "markdown",
   "metadata": {},
   "source": [
    "## 1. Processing with SharedStreet API"
   ]
  },
  {
   "cell_type": "markdown",
   "metadata": {},
   "source": [
    "Please check 'how_to_use_sharedstreets_api' document. We will use search-radius=10m to map lion segments on the Sharedstreet geometry."
   ]
  },
  {
   "cell_type": "markdown",
   "metadata": {},
   "source": [
    "## 2. Create Sharedstreets - LION lookup table "
   ]
  },
  {
   "cell_type": "code",
   "execution_count": 8,
   "metadata": {},
   "outputs": [],
   "source": [
    "# import matched lion geojson files\n",
    "gdf_lion_matched_1 = gpd.read_file('../data/sharedstreets_results/lion/radius10/lion_street_filtered_0_60000.matched.geojson')\n",
    "gdf_lion_matched_2 = gpd.read_file('../data/sharedstreets_results/lion/radius10/lion_street_filtered_60000_120000.matched.geojson')\n",
    "gdf_lion_matched_3 = gpd.read_file('../data/sharedstreets_results/lion/radius10/lion_street_filtered_120000_.matched.geojson')"
   ]
  },
  {
   "cell_type": "code",
   "execution_count": 9,
   "metadata": {},
   "outputs": [],
   "source": [
    "# merge the matched lion geodataframes\n",
    "gdf_lion_matched = pd.concat([gdf_lion_matched_1,gdf_lion_matched_2,gdf_lion_matched_3], axis=0, ignore_index=True)"
   ]
  },
  {
   "cell_type": "code",
   "execution_count": 10,
   "metadata": {},
   "outputs": [
    {
     "data": {
      "text/html": [
       "<div>\n",
       "<style scoped>\n",
       "    .dataframe tbody tr th:only-of-type {\n",
       "        vertical-align: middle;\n",
       "    }\n",
       "\n",
       "    .dataframe tbody tr th {\n",
       "        vertical-align: top;\n",
       "    }\n",
       "\n",
       "    .dataframe thead th {\n",
       "        text-align: right;\n",
       "    }\n",
       "</style>\n",
       "<table border=\"1\" class=\"dataframe\">\n",
       "  <thead>\n",
       "    <tr style=\"text-align: right;\">\n",
       "      <th></th>\n",
       "      <th>shstReferenceId</th>\n",
       "      <th>shstGeometryId</th>\n",
       "      <th>shstFromIntersectionId</th>\n",
       "      <th>shstToIntersectionId</th>\n",
       "      <th>referenceLength</th>\n",
       "      <th>gisReferenceId</th>\n",
       "      <th>gisGeometryId</th>\n",
       "      <th>gisTotalSegments</th>\n",
       "      <th>gisSegmentIndex</th>\n",
       "      <th>gisFromIntersectionId</th>\n",
       "      <th>gisToIntersectionId</th>\n",
       "      <th>startSideOfStreet</th>\n",
       "      <th>endSideOfStreet</th>\n",
       "      <th>sideOfStreet</th>\n",
       "      <th>score</th>\n",
       "      <th>matchType</th>\n",
       "      <th>pp_objectid</th>\n",
       "      <th>pp_segment_id</th>\n",
       "      <th>geometry</th>\n",
       "    </tr>\n",
       "  </thead>\n",
       "  <tbody>\n",
       "    <tr>\n",
       "      <th>0</th>\n",
       "      <td>d4e6f420ffc4636cf17051f0e9f6120a</td>\n",
       "      <td>a5c5f21851e81c507b141aecc2c6235e</td>\n",
       "      <td>bd6c80b61b92580a0312999f9ccba3bc</td>\n",
       "      <td>1b0e08342f1185f0aef62f19564a5101</td>\n",
       "      <td>132.47</td>\n",
       "      <td>7109a952974a536de71e0f1de86e2789</td>\n",
       "      <td>b3f402083c371b3e696e860ae241c169</td>\n",
       "      <td>1</td>\n",
       "      <td>1</td>\n",
       "      <td>2884568468e16e1660364ee1d3258e96</td>\n",
       "      <td>6045bb5dac9fc1493586bb9b79ba0948</td>\n",
       "      <td>left</td>\n",
       "      <td>right</td>\n",
       "      <td>unknown</td>\n",
       "      <td>3.94</td>\n",
       "      <td>hmm</td>\n",
       "      <td>1</td>\n",
       "      <td>0078126</td>\n",
       "      <td>LINESTRING (-73.90345 40.83034, -73.90233 40.8...</td>\n",
       "    </tr>\n",
       "    <tr>\n",
       "      <th>1</th>\n",
       "      <td>f3b73d2b6332e52694779f4f3b14e300</td>\n",
       "      <td>a5c5f21851e81c507b141aecc2c6235e</td>\n",
       "      <td>1b0e08342f1185f0aef62f19564a5101</td>\n",
       "      <td>bd6c80b61b92580a0312999f9ccba3bc</td>\n",
       "      <td>132.47</td>\n",
       "      <td>df65652fc6fd576a1857c5596d205321</td>\n",
       "      <td>b3f402083c371b3e696e860ae241c169</td>\n",
       "      <td>1</td>\n",
       "      <td>1</td>\n",
       "      <td>6045bb5dac9fc1493586bb9b79ba0948</td>\n",
       "      <td>2884568468e16e1660364ee1d3258e96</td>\n",
       "      <td>left</td>\n",
       "      <td>right</td>\n",
       "      <td>unknown</td>\n",
       "      <td>3.94</td>\n",
       "      <td>hmm</td>\n",
       "      <td>1</td>\n",
       "      <td>0078126</td>\n",
       "      <td>LINESTRING (-73.90233 40.82970, -73.90345 40.8...</td>\n",
       "    </tr>\n",
       "    <tr>\n",
       "      <th>2</th>\n",
       "      <td>15e9092333bd832a0cd0a4ae937b208c</td>\n",
       "      <td>8486febe149b7fbeba3b499188f5bc2a</td>\n",
       "      <td>e55a0b052bd17c485e92e3df182ec0ae</td>\n",
       "      <td>368c367d565d1c6c7c9a740c8194e0d4</td>\n",
       "      <td>84.94</td>\n",
       "      <td>d257eaabfe83d5e8749f8ca380b77da3</td>\n",
       "      <td>f8c936cc5c7b68f79d749a515c86ad72</td>\n",
       "      <td>1</td>\n",
       "      <td>1</td>\n",
       "      <td>d85303d7629a8f4c470648585a2c4449</td>\n",
       "      <td>4d306ac0bdf0417e26008b863be2eb0d</td>\n",
       "      <td>left</td>\n",
       "      <td>right</td>\n",
       "      <td>unknown</td>\n",
       "      <td>0.49</td>\n",
       "      <td>hmm</td>\n",
       "      <td>2</td>\n",
       "      <td>0079796</td>\n",
       "      <td>LINESTRING (-73.90120 40.86662, -73.90208 40.8...</td>\n",
       "    </tr>\n",
       "    <tr>\n",
       "      <th>3</th>\n",
       "      <td>af11ffc0c5f396bafdb166cd537ab5d6</td>\n",
       "      <td>8486febe149b7fbeba3b499188f5bc2a</td>\n",
       "      <td>368c367d565d1c6c7c9a740c8194e0d4</td>\n",
       "      <td>e55a0b052bd17c485e92e3df182ec0ae</td>\n",
       "      <td>84.94</td>\n",
       "      <td>4e8501efddb4fbd676f0cd22f7b6fc99</td>\n",
       "      <td>f8c936cc5c7b68f79d749a515c86ad72</td>\n",
       "      <td>1</td>\n",
       "      <td>1</td>\n",
       "      <td>4d306ac0bdf0417e26008b863be2eb0d</td>\n",
       "      <td>d85303d7629a8f4c470648585a2c4449</td>\n",
       "      <td>left</td>\n",
       "      <td>right</td>\n",
       "      <td>unknown</td>\n",
       "      <td>0.49</td>\n",
       "      <td>hmm</td>\n",
       "      <td>2</td>\n",
       "      <td>0079796</td>\n",
       "      <td>LINESTRING (-73.90208 40.86700, -73.90120 40.8...</td>\n",
       "    </tr>\n",
       "    <tr>\n",
       "      <th>4</th>\n",
       "      <td>13d62bc345a7eafeac31e3543049afca</td>\n",
       "      <td>300959ea23f9820fbe692a4a89a67396</td>\n",
       "      <td>f84ed4a470a558d3cda29402640076fa</td>\n",
       "      <td>7fc9495699f9d85b0c433544768b08e0</td>\n",
       "      <td>188.83</td>\n",
       "      <td>f77f4a297c4a5fd4523568a390eb4833</td>\n",
       "      <td>300959ea23f9820fbe692a4a89a67396</td>\n",
       "      <td>1</td>\n",
       "      <td>1</td>\n",
       "      <td>6b6630c99af2f236cba8fb24c4e7ef0c</td>\n",
       "      <td>2d09df71d6a739536b7cb8e20f73be50</td>\n",
       "      <td>left</td>\n",
       "      <td>right</td>\n",
       "      <td>unknown</td>\n",
       "      <td>0.52</td>\n",
       "      <td>hmm</td>\n",
       "      <td>3</td>\n",
       "      <td>0077356</td>\n",
       "      <td>LINESTRING (-73.90118 40.82439, -73.90051 40.8...</td>\n",
       "    </tr>\n",
       "  </tbody>\n",
       "</table>\n",
       "</div>"
      ],
      "text/plain": [
       "                    shstReferenceId                    shstGeometryId  \\\n",
       "0  d4e6f420ffc4636cf17051f0e9f6120a  a5c5f21851e81c507b141aecc2c6235e   \n",
       "1  f3b73d2b6332e52694779f4f3b14e300  a5c5f21851e81c507b141aecc2c6235e   \n",
       "2  15e9092333bd832a0cd0a4ae937b208c  8486febe149b7fbeba3b499188f5bc2a   \n",
       "3  af11ffc0c5f396bafdb166cd537ab5d6  8486febe149b7fbeba3b499188f5bc2a   \n",
       "4  13d62bc345a7eafeac31e3543049afca  300959ea23f9820fbe692a4a89a67396   \n",
       "\n",
       "             shstFromIntersectionId              shstToIntersectionId  \\\n",
       "0  bd6c80b61b92580a0312999f9ccba3bc  1b0e08342f1185f0aef62f19564a5101   \n",
       "1  1b0e08342f1185f0aef62f19564a5101  bd6c80b61b92580a0312999f9ccba3bc   \n",
       "2  e55a0b052bd17c485e92e3df182ec0ae  368c367d565d1c6c7c9a740c8194e0d4   \n",
       "3  368c367d565d1c6c7c9a740c8194e0d4  e55a0b052bd17c485e92e3df182ec0ae   \n",
       "4  f84ed4a470a558d3cda29402640076fa  7fc9495699f9d85b0c433544768b08e0   \n",
       "\n",
       "   referenceLength                    gisReferenceId  \\\n",
       "0           132.47  7109a952974a536de71e0f1de86e2789   \n",
       "1           132.47  df65652fc6fd576a1857c5596d205321   \n",
       "2            84.94  d257eaabfe83d5e8749f8ca380b77da3   \n",
       "3            84.94  4e8501efddb4fbd676f0cd22f7b6fc99   \n",
       "4           188.83  f77f4a297c4a5fd4523568a390eb4833   \n",
       "\n",
       "                      gisGeometryId  gisTotalSegments  gisSegmentIndex  \\\n",
       "0  b3f402083c371b3e696e860ae241c169                 1                1   \n",
       "1  b3f402083c371b3e696e860ae241c169                 1                1   \n",
       "2  f8c936cc5c7b68f79d749a515c86ad72                 1                1   \n",
       "3  f8c936cc5c7b68f79d749a515c86ad72                 1                1   \n",
       "4  300959ea23f9820fbe692a4a89a67396                 1                1   \n",
       "\n",
       "              gisFromIntersectionId               gisToIntersectionId  \\\n",
       "0  2884568468e16e1660364ee1d3258e96  6045bb5dac9fc1493586bb9b79ba0948   \n",
       "1  6045bb5dac9fc1493586bb9b79ba0948  2884568468e16e1660364ee1d3258e96   \n",
       "2  d85303d7629a8f4c470648585a2c4449  4d306ac0bdf0417e26008b863be2eb0d   \n",
       "3  4d306ac0bdf0417e26008b863be2eb0d  d85303d7629a8f4c470648585a2c4449   \n",
       "4  6b6630c99af2f236cba8fb24c4e7ef0c  2d09df71d6a739536b7cb8e20f73be50   \n",
       "\n",
       "  startSideOfStreet endSideOfStreet sideOfStreet  score matchType  \\\n",
       "0              left           right      unknown   3.94       hmm   \n",
       "1              left           right      unknown   3.94       hmm   \n",
       "2              left           right      unknown   0.49       hmm   \n",
       "3              left           right      unknown   0.49       hmm   \n",
       "4              left           right      unknown   0.52       hmm   \n",
       "\n",
       "   pp_objectid pp_segment_id  \\\n",
       "0            1       0078126   \n",
       "1            1       0078126   \n",
       "2            2       0079796   \n",
       "3            2       0079796   \n",
       "4            3       0077356   \n",
       "\n",
       "                                            geometry  \n",
       "0  LINESTRING (-73.90345 40.83034, -73.90233 40.8...  \n",
       "1  LINESTRING (-73.90233 40.82970, -73.90345 40.8...  \n",
       "2  LINESTRING (-73.90120 40.86662, -73.90208 40.8...  \n",
       "3  LINESTRING (-73.90208 40.86700, -73.90120 40.8...  \n",
       "4  LINESTRING (-73.90118 40.82439, -73.90051 40.8...  "
      ]
     },
     "execution_count": 10,
     "metadata": {},
     "output_type": "execute_result"
    }
   ],
   "source": [
    "gdf_lion_matched.head(5)"
   ]
  },
  {
   "cell_type": "code",
   "execution_count": 11,
   "metadata": {},
   "outputs": [],
   "source": [
    "# drop unnecessary columns\n",
    "gdf_lion_matched = gdf_lion_matched[['shstGeometryId','pp_objectid','pp_segment_id','geometry']]\n",
    "gdf_lion_matched_keys = gdf_lion_matched[['shstGeometryId','pp_objectid','pp_segment_id']]"
   ]
  },
  {
   "cell_type": "code",
   "execution_count": 12,
   "metadata": {},
   "outputs": [],
   "source": [
    "# drop duplicates\n",
    "gdf_lion_matched_keys = gdf_lion_matched_keys.drop_duplicates()"
   ]
  },
  {
   "cell_type": "code",
   "execution_count": 13,
   "metadata": {},
   "outputs": [
    {
     "data": {
      "text/html": [
       "<div>\n",
       "<style scoped>\n",
       "    .dataframe tbody tr th:only-of-type {\n",
       "        vertical-align: middle;\n",
       "    }\n",
       "\n",
       "    .dataframe tbody tr th {\n",
       "        vertical-align: top;\n",
       "    }\n",
       "\n",
       "    .dataframe thead th {\n",
       "        text-align: right;\n",
       "    }\n",
       "</style>\n",
       "<table border=\"1\" class=\"dataframe\">\n",
       "  <thead>\n",
       "    <tr style=\"text-align: right;\">\n",
       "      <th></th>\n",
       "      <th>shstGeometryId</th>\n",
       "      <th>pp_objectid</th>\n",
       "      <th>pp_segment_id</th>\n",
       "    </tr>\n",
       "  </thead>\n",
       "  <tbody>\n",
       "    <tr>\n",
       "      <th>0</th>\n",
       "      <td>a5c5f21851e81c507b141aecc2c6235e</td>\n",
       "      <td>1</td>\n",
       "      <td>0078126</td>\n",
       "    </tr>\n",
       "    <tr>\n",
       "      <th>2</th>\n",
       "      <td>8486febe149b7fbeba3b499188f5bc2a</td>\n",
       "      <td>2</td>\n",
       "      <td>0079796</td>\n",
       "    </tr>\n",
       "    <tr>\n",
       "      <th>4</th>\n",
       "      <td>300959ea23f9820fbe692a4a89a67396</td>\n",
       "      <td>3</td>\n",
       "      <td>0077356</td>\n",
       "    </tr>\n",
       "    <tr>\n",
       "      <th>5</th>\n",
       "      <td>d39717c7db5c64930d589e45414b839e</td>\n",
       "      <td>5</td>\n",
       "      <td>0073490</td>\n",
       "    </tr>\n",
       "    <tr>\n",
       "      <th>7</th>\n",
       "      <td>8af91954050b3b92b77dccfa206cfc19</td>\n",
       "      <td>6</td>\n",
       "      <td>0174633</td>\n",
       "    </tr>\n",
       "  </tbody>\n",
       "</table>\n",
       "</div>"
      ],
      "text/plain": [
       "                     shstGeometryId  pp_objectid pp_segment_id\n",
       "0  a5c5f21851e81c507b141aecc2c6235e            1       0078126\n",
       "2  8486febe149b7fbeba3b499188f5bc2a            2       0079796\n",
       "4  300959ea23f9820fbe692a4a89a67396            3       0077356\n",
       "5  d39717c7db5c64930d589e45414b839e            5       0073490\n",
       "7  8af91954050b3b92b77dccfa206cfc19            6       0174633"
      ]
     },
     "execution_count": 13,
     "metadata": {},
     "output_type": "execute_result"
    }
   ],
   "source": [
    "gdf_lion_matched_keys.head()"
   ]
  },
  {
   "cell_type": "code",
   "execution_count": 14,
   "metadata": {},
   "outputs": [],
   "source": [
    "# export the table\n",
    "gdf_lion_matched_keys.to_csv('shst_lion_lookuptable.csv', index=False)"
   ]
  }
 ],
 "metadata": {
  "kernelspec": {
   "display_name": "Python 3",
   "language": "python",
   "name": "python3"
  },
  "language_info": {
   "codemirror_mode": {
    "name": "ipython",
    "version": 3
   },
   "file_extension": ".py",
   "mimetype": "text/x-python",
   "name": "python",
   "nbconvert_exporter": "python",
   "pygments_lexer": "ipython3",
   "version": "3.8.2"
  }
 },
 "nbformat": 4,
 "nbformat_minor": 4
}
