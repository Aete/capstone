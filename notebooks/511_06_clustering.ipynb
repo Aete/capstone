{
 "cells": [
  {
   "cell_type": "markdown",
   "metadata": {},
   "source": [
    "# 511 Clustering Analysis\n",
    "\n",
    "### This notebook contains the clustering model and performance testing on the dataset of 511 work zone events. Data and features used in this clustering model can be created by running notebooks 511_00 through 511_04. "
   ]
  },
  {
   "cell_type": "code",
   "execution_count": 1,
   "metadata": {},
   "outputs": [
    {
     "name": "stderr",
     "output_type": "stream",
     "text": [
      "C:\\Users\\ps336\\Anaconda3\\envs\\Python37\\lib\\site-packages\\statsmodels\\tools\\_testing.py:19: FutureWarning: pandas.util.testing is deprecated. Use the functions in the public API at pandas.testing instead.\n",
      "  import pandas.util.testing as tm\n"
     ]
    }
   ],
   "source": [
    "import pandas as pd\n",
    "import geopandas as gpd\n",
    "import numpy as np\n",
    "import matplotlib.pyplot as plt\n",
    "import seaborn as sns\n",
    "# from tabulate import tabulate\n",
    "import matplotlib.pyplot as plt\n",
    "import matplotlib.cm as cm\n",
    "%matplotlib inline\n",
    "from sklearn.cluster import KMeans\n",
    "from sklearn.metrics import silhouette_samples, silhouette_score\n",
    "import seaborn as sns\n",
    "sns.set()\n",
    "from sklearn.preprocessing import MinMaxScaler\n",
    "min_max_scaler = MinMaxScaler()\n",
    "from sklearn.model_selection import train_test_split\n",
    "from sklearn.metrics import mean_absolute_error\n",
    "from pickle import dump\n",
    "\n",
    "\n",
    "# import dataset\n",
    "df_511 = pd.read_csv('511_crash_lion_processed_0630.csv')\n",
    "df_511 = df_511.dropna()\n",
    "df_511['crash_binary_900ft'] =  df_511['crash_count_900ft'].apply(lambda x: 1 if x>0 else 0)\n",
    "df_511['crash_binary_1800ft'] = df_511['crash_count_1800ft'].apply(lambda x: 1 if x>0 else 0)\n",
    "df_511['crash_binary_2700ft'] = df_511['crash_count_2700ft'].apply(lambda x: 1 if x>0 else 0)\n",
    "df_511['crash_binary_3600ft'] = df_511['crash_count_3600ft'].apply(lambda x: 1 if x>0 else 0)\n",
    "df_511['create_time'] = pd.to_datetime(df_511['create_time'])\n",
    "df_511 = df_511.sort_values(by='create_time')\n",
    "df_511_target = df_511[['event_id',\n",
    "                        'season',\n",
    "                        'roadway_type',\n",
    "                        'create_time_weekend',\n",
    "                        'street_width',\n",
    "                        'posted_speed',\n",
    "                        'daylight_ratio',\n",
    "                        'peak_ratio',\n",
    "                        'crash_binary_900ft',\n",
    "                        'crash_binary_1800ft',\n",
    "                        'crash_binary_2700ft',\n",
    "                        'crash_binary_3600ft',\n",
    "                        'geometry'\n",
    "                         ]]"
   ]
  },
  {
   "cell_type": "code",
   "execution_count": 2,
   "metadata": {},
   "outputs": [],
   "source": [
    "def split_train_test_setbaseLineScore(df):\n",
    "    from sklearn.model_selection import train_test_split\n",
    "    train, test = train_test_split(df, test_size=0.33, random_state = 10)\n",
    "    train = train.drop(['geometry'],axis=1)\n",
    "    test = test.drop(['geometry'],axis=1)\n",
    "    \n",
    "    prob_by_rwtype = train[['roadway_type',\n",
    "                        'crash_binary_900ft',\n",
    "                        'crash_binary_1800ft',\n",
    "                        'crash_binary_2700ft',\n",
    "                        'crash_binary_3600ft']].groupby('roadway_type').mean()\n",
    "    print(prob_by_rwtype.to_markdown())\n",
    "    test_df = test.copy()\n",
    "    test_df['y_pred'] = test_df['roadway_type'].apply(lambda x:prob_by_rwtype.loc[x,'crash_binary_900ft'])\n",
    "    \n",
    "    # calculating actual value in test data\n",
    "    prob_by_rwtype_test = test_df[['roadway_type',\n",
    "                            'crash_binary_900ft',\n",
    "                            'crash_binary_1800ft',\n",
    "                            'crash_binary_2700ft',\n",
    "                            'crash_binary_3600ft']].groupby('roadway_type').mean()\n",
    "    test_df['y_actual'] = test_df['roadway_type'].apply(lambda x:prob_by_rwtype_test.loc[x,'crash_binary_900ft'])\n",
    "    \n",
    "    # this code is from https://stackoverflow.com/questions/51439892/how-to-find-symmetric-mean-absolute-error-in-python\n",
    "    # smape: https://en.wikipedia.org/wiki/Symmetric_mean_absolute_percentage_error\n",
    "    def smape(A, F):\n",
    "        return 100/len(A) * np.sum(2 * np.abs(F - A) / (np.abs(A) + np.abs(F)))\n",
    "    \n",
    "    smape_score = smape(test_df['y_pred'],test_df['y_actual'])\n",
    "    mae_score = mean_absolute_error(test_df['y_pred'],test_df['y_actual'])\n",
    "    print('900ft')\n",
    "    print('SMAPE score: {}'.format(smape(test_df['y_pred'],test_df['y_actual'])))\n",
    "    print('MAE score: {}'.format(mean_absolute_error(test_df['y_pred'],test_df['y_actual']))) \n",
    "    \n",
    "    return train, test, smape_score, mae_score"
   ]
  },
  {
   "cell_type": "code",
   "execution_count": 3,
   "metadata": {},
   "outputs": [],
   "source": [
    "def cluster_analysis_measure_performance(train_with_all_features, numerical_features, categorical_features, index):\n",
    "    \n",
    "    X_train = train_with_all_features.drop(['crash_binary_900ft',\n",
    "                      'crash_binary_1800ft',\n",
    "                      'crash_binary_2700ft',\n",
    "                      'crash_binary_3600ft'], axis=1)\n",
    "    y_train = train_with_all_features.loc[:, ['crash_binary_900ft',\n",
    "                      'crash_binary_1800ft',\n",
    "                      'crash_binary_2700ft',\n",
    "                      'crash_binary_3600ft']]\n",
    "    # only using the train dataset for cluster Analysis\n",
    "    if index:\n",
    "        X_train = X_train.set_index(index)\n",
    "    \n",
    "    train = X_train[numerical_features + categorical_features]\n",
    "    \n",
    "    # normalizing the train dataset\n",
    "    train_norm = train.copy()\n",
    "    \n",
    "    # normalizing Numeric data\n",
    "    column_names_to_normalize = numerical_features\n",
    "    x = train_norm[column_names_to_normalize].values\n",
    "    x_scaled = min_max_scaler.fit_transform(x)\n",
    "    df_temp = pd.DataFrame(x_scaled, columns=column_names_to_normalize, index = train_norm.index)\n",
    "    train_norm[column_names_to_normalize] = df_temp\n",
    "    \n",
    "    #creating dummies for Categorical Variable\n",
    "    train_norm = pd.get_dummies(data=train_norm, columns=categorical_features)\n",
    "    \n",
    "    # K-means Clustering functions\n",
    "    def performKmeansClustering(df):\n",
    "        X = df.copy()\n",
    "        range_n_clusters = [2,3,4,5,6,7]\n",
    "        # algo_name = 'KMeans'\n",
    "        clustering_algo = ['KMeans']\n",
    "        for algo_name in clustering_algo:\n",
    "            plt.figure(figsize=(20,15))\n",
    "            print(\"\\n\")\n",
    "            for i, n_clusters in enumerate(range_n_clusters):\n",
    "\n",
    "                ax = plt.subplot(230 + i +1)\n",
    "\n",
    "                ax.set_xlim([-0.1, 1])\n",
    "                ax.set_ylim([0, len(X) + (n_clusters + 1) * 10])\n",
    "\n",
    "                if algo_name == 'KMeans':\n",
    "                    model = KMeans(n_clusters=n_clusters, random_state=10)\n",
    "\n",
    "                clusterer = model\n",
    "                cluster_labels = clusterer.fit_predict(X)\n",
    "\n",
    "                silhouette_avg = silhouette_score(X, cluster_labels)\n",
    "                print(\"For \" + algo_name + \" n_clusters =\", n_clusters,\n",
    "                      \"The average silhouette_score is :\", silhouette_avg)\n",
    "\n",
    "                sample_silhouette_values = silhouette_samples(X, cluster_labels)\n",
    "\n",
    "                y_lower = 10\n",
    "                for i in range(n_clusters):\n",
    "\n",
    "                    ith_cluster_silhouette_values = \\\n",
    "                        sample_silhouette_values[cluster_labels == i]\n",
    "\n",
    "                    ith_cluster_silhouette_values.sort()\n",
    "\n",
    "                    size_cluster_i = ith_cluster_silhouette_values.shape[0]\n",
    "                    y_upper = y_lower + size_cluster_i\n",
    "\n",
    "                    color = cm.nipy_spectral(float(i) / n_clusters)\n",
    "                    ax.fill_betweenx(np.arange(y_lower, y_upper),\n",
    "                                      0, ith_cluster_silhouette_values,\n",
    "                                      facecolor=color, edgecolor=color, alpha=0.7)\n",
    "\n",
    "                    ax.text(-0.05, y_lower + 0.5 * size_cluster_i, str(i))\n",
    "\n",
    "                    y_lower = y_upper + 10  \n",
    "\n",
    "                ax.set_title((algo_name +  \" clustering \"\n",
    "                              \"with n_clusters = %d\" % n_clusters),\n",
    "                             fontsize=14)\n",
    "                ax.set_xlabel(\"The silhouette coefficient values\")\n",
    "                ax.set_ylabel(\"Cluster label\")\n",
    "\n",
    "                ax.axvline(x=silhouette_avg, color=\"red\", linestyle=\"--\")\n",
    "\n",
    "                ax.set_yticks([])  # Clear the yaxis labels / ticks\n",
    "                ax.set_xticks([-0.1, 0, 0.2, 0.4, 0.6, 0.8, 1])\n",
    "\n",
    "            plt.show()\n",
    "            \n",
    "    performKmeansClustering(train_norm)\n"
   ]
  },
  {
   "cell_type": "code",
   "execution_count": 4,
   "metadata": {},
   "outputs": [],
   "source": [
    "def perform_Clustering_Visualization_Performance_Measurement(train_with_all_features, test, numerical_features, categorical_features, index, no_cluster):\n",
    "    \n",
    "    X_train = train_with_all_features.drop(['crash_binary_900ft',\n",
    "                      'crash_binary_1800ft',\n",
    "                      'crash_binary_2700ft',\n",
    "                      'crash_binary_3600ft'], axis=1)\n",
    "    y_train_norm = train_with_all_features.loc[:, ['crash_binary_900ft',\n",
    "                      'crash_binary_1800ft',\n",
    "                      'crash_binary_2700ft',\n",
    "                      'crash_binary_3600ft']]\n",
    "    \n",
    "    # only using the train dataset for cluster Analysis\n",
    "    if index:\n",
    "        X_train = X_train.set_index(index)\n",
    "    \n",
    "    train = X_train[numerical_features + categorical_features]\n",
    "    \n",
    "    # normalizing the train dataset\n",
    "    train_norm = train.copy()\n",
    "    \n",
    "    # normalizing Numeric data\n",
    "    column_names_to_normalize = numerical_features\n",
    "    x = train_norm[column_names_to_normalize].values\n",
    "    x_scaled = min_max_scaler.fit_transform(x)\n",
    "    df_temp = pd.DataFrame(x_scaled, columns=column_names_to_normalize, index = train_norm.index)\n",
    "    train_norm[column_names_to_normalize] = df_temp\n",
    "    \n",
    "    #creating dummies for Categorical Variable\n",
    "    train_norm = pd.get_dummies(data=train_norm, columns=categorical_features)\n",
    "    \n",
    "    # Trying with Number of Cluster= 6 for best Silhoutte Avg Score and normalized features\n",
    "    X = train_norm.copy()\n",
    "    kmodel = KMeans(n_clusters=no_cluster, random_state=10)\n",
    "    cluster_labels = kmodel.fit_predict(X)\n",
    "    train_norm['kmeans_cluster'] = cluster_labels\n",
    "    y_train_norm['cluster'] = cluster_labels\n",
    "    \n",
    "    \n",
    "    \n",
    "    # Visualizing the Cluster stats\n",
    "    print(\"Cluster size and distribution\")\n",
    "    print(train_norm.kmeans_cluster.value_counts().to_markdown())\n",
    "    \n",
    "    print(\"Visualizing the histograms for Numerical features Clusters\")\n",
    "    for i in range(no_cluster):\n",
    "        # visualzing the clusters for Numerical features\n",
    "        print(\"Visualizing Cluster {} Numerical features\", i)\n",
    "#         train_norm[train_norm.kmeans_cluster == i][[numerical_features].hist(figsize=(10,10))\n",
    "#         plt.show()\n",
    "    print(\"Visualizing the categorical features across clusters\")\n",
    "    Df_with_Clustering_Features_categorical = train[categorical_features]                                            \n",
    "    train_with_categorical = pd.merge(train_norm, Df_with_Clustering_Features_categorical, left_index=True, right_index=True)\n",
    "    for i in range(len(categorical_features)):\n",
    "        print(\"Categorical feature - {} across Clusters\".format(categorical_features[i]))\n",
    "        print(train_with_categorical.groupby(['kmeans_cluster', categorical_features[i]]).size().to_markdown())\n",
    "        \n",
    "                                                   \n",
    "    # Measure Performance\n",
    "    prob_by_cluster_norm = y_train_norm.groupby('cluster').mean()\n",
    "    print(prob_by_cluster_norm.to_markdown())\n",
    "    X_test = test.drop(['crash_binary_900ft',\n",
    "                      'crash_binary_1800ft',\n",
    "                      'crash_binary_2700ft',\n",
    "                      'crash_binary_3600ft'], axis=1)\n",
    "    X_test_with_crash = test.copy()\n",
    "    # only using the train dataset for cluster Analysis\n",
    "    if index:\n",
    "        X_test = X_test.set_index(index)\n",
    "    \n",
    "    X_test = X_test[numerical_features + categorical_features]\n",
    "    X_test_with_dummies = pd.get_dummies(data=X_test, columns=categorical_features)\n",
    "                                                   \n",
    "    column_names_to_normalize_test = numerical_features\n",
    "    x = X_test_with_dummies[column_names_to_normalize_test].values\n",
    "    x_scaled = min_max_scaler.transform(x)\n",
    "    df_temp = pd.DataFrame(x_scaled, columns=column_names_to_normalize_test, index = X_test_with_dummies.index)\n",
    "    X_test_with_dummies[column_names_to_normalize_test] = df_temp\n",
    "    \n",
    "#     print(list(X_test_with_dummies.columns))\n",
    "    clusterLabels= kmodel.predict(X_test_with_dummies)\n",
    "    X_test['cluster'] = clusterLabels\n",
    "    X_test_with_crash['cluster'] = clusterLabels\n",
    "    \n",
    "    X_test['crash_prob_900ft_pred'] = X_test['cluster'].apply(lambda x:prob_by_cluster_norm.loc[x,'crash_binary_900ft'])\n",
    "    \n",
    "#     Measure actual probabilities in test data by cluster\n",
    "    prob_by_cluster_norm_test = X_test_with_crash.groupby('cluster').mean()\n",
    "    X_test_with_crash['crash_prob_900ft_actual'] = X_test_with_crash['cluster'].apply(lambda x:prob_by_cluster_norm_test.loc[x,'crash_binary_900ft'])\n",
    "                                                   \n",
    "    # this code is from https://stackoverflow.com/questions/51439892/how-to-find-symmetric-mean-absolute-error-in-python\n",
    "    # smape: https://en.wikipedia.org/wiki/Symmetric_mean_absolute_percentage_error\n",
    "    def smape(A, F):\n",
    "        return 100/len(A) * np.sum(2 * np.abs(F - A) / (np.abs(A) + np.abs(F)))\n",
    "                                                   \n",
    "    smape_score = smape(X_test['crash_prob_900ft_pred'],X_test_with_crash['crash_prob_900ft_actual'])\n",
    "    mae_score = mean_absolute_error(X_test['crash_prob_900ft_pred'],X_test_with_crash['crash_prob_900ft_actual'])                                               \n",
    "    print('900 ft')\n",
    "    print('SMAPE score: {}'.format(smape(X_test['crash_prob_900ft_pred'],X_test_with_crash['crash_prob_900ft_actual'])))\n",
    "    print('MAE score: {}'.format(mean_absolute_error(X_test['crash_prob_900ft_pred'],X_test_with_crash['crash_prob_900ft_actual'])))\n",
    "    \n",
    "    dump(kmodel, open('model.pkl', 'wb'))\n",
    "    # save the scaler\n",
    "    dump(min_max_scaler, open('scaler.pkl', 'wb'))\n",
    "    return train_norm, X_test_with_crash, X_test, smape_score, mae_score\n",
    "\n"
   ]
  },
  {
   "cell_type": "code",
   "execution_count": 5,
   "metadata": {},
   "outputs": [],
   "source": [
    "# Assuming Input having atleast following features\n",
    "# [   'event_id',\n",
    "#     'season',\n",
    "#     'roadway_type',\n",
    "#     'create_time_weekend',\n",
    "#     'street_width',\n",
    "#     'posted_speed',\n",
    "#     'daylight_ratio',\n",
    "#     'peak_ratio',\n",
    "#     'crash_binary_900ft',\n",
    "#     'crash_binary_1800ft',\n",
    "#     'crash_binary_2700ft',\n",
    "#     'crash_binary_3600ft',\n",
    "#     'geometry'\n",
    "#      ]"
   ]
  },
  {
   "cell_type": "code",
   "execution_count": 6,
   "metadata": {},
   "outputs": [
    {
     "name": "stdout",
     "output_type": "stream",
     "text": [
      "|   roadway_type |   crash_binary_900ft |   crash_binary_1800ft |   crash_binary_2700ft |   crash_binary_3600ft |\n",
      "|---------------:|---------------------:|----------------------:|----------------------:|----------------------:|\n",
      "|              1 |             0.131448 |              0.274265 |              0.395729 |              0.492235 |\n",
      "|              2 |             0.156173 |              0.269846 |              0.391874 |              0.494309 |\n",
      "|              3 |             0.142038 |              0.264331 |              0.398726 |              0.540127 |\n",
      "|              4 |             0.235    |              0.4375   |              0.585    |              0.7175   |\n",
      "|              9 |             0.12179  |              0.24358  |              0.347762 |              0.448276 |\n",
      "900ft\n",
      "SMAPE score: 6.4442846777800336\n",
      "MAE score: 0.008550689218748188\n"
     ]
    }
   ],
   "source": [
    "# Call function 1 to split train test and set base line score\n",
    "train, test, base_smape, base_mae = split_train_test_setbaseLineScore(df_511_target)"
   ]
  },
  {
   "cell_type": "code",
   "execution_count": 7,
   "metadata": {},
   "outputs": [
    {
     "name": "stdout",
     "output_type": "stream",
     "text": [
      "\n",
      "\n",
      "For KMeans n_clusters = 2 The average silhouette_score is : 0.22859621256168733\n",
      "For KMeans n_clusters = 3 The average silhouette_score is : 0.24281869667690376\n",
      "For KMeans n_clusters = 4 The average silhouette_score is : 0.2824848284661057\n",
      "For KMeans n_clusters = 5 The average silhouette_score is : 0.29314365569991446\n",
      "For KMeans n_clusters = 6 The average silhouette_score is : 0.3377512726649937\n",
      "For KMeans n_clusters = 7 The average silhouette_score is : 0.366361782821961\n"
     ]
    },
    {
     "data": {
      "image/png": "[encoded data removed]",
      "text/plain": [
       "<Figure size 1440x1080 with 6 Axes>"
      ]
     },
     "metadata": {},
     "output_type": "display_data"
    }
   ],
   "source": [
    "# Call function 2 for Cluster Analysis\n",
    "numerical_features = ['posted_speed', 'street_width', 'daylight_ratio', 'peak_ratio' ]\n",
    "categorical_features = ['season', 'roadway_type', 'create_time_weekend']\n",
    "index = 'event_id'\n",
    "cluster_analysis_measure_performance(train, numerical_features, categorical_features, index)"
   ]
  },
  {
   "cell_type": "code",
   "execution_count": 8,
   "metadata": {},
   "outputs": [
    {
     "name": "stdout",
     "output_type": "stream",
     "text": [
      "--------------------------------------------------------------------------------------------------------------------\n",
      "Performance when number of cluster are 4\n",
      "Cluster size and distribution\n",
      "|    |   kmeans_cluster |\n",
      "|---:|-----------------:|\n",
      "|  2 |             4498 |\n",
      "|  3 |             4192 |\n",
      "|  1 |             3594 |\n",
      "|  0 |             1596 |\n",
      "Visualizing the histograms for Numerical features Clusters\n",
      "Visualizing Cluster {} Numerical features 0\n",
      "Visualizing Cluster {} Numerical features 1\n",
      "Visualizing Cluster {} Numerical features 2\n",
      "Visualizing Cluster {} Numerical features 3\n",
      "Visualizing the categorical features across clusters\n",
      "Categorical feature - season across Clusters\n",
      "|               |    0 |\n",
      "|:--------------|-----:|\n",
      "| (0, 'fall')   | 1596 |\n",
      "| (1, 'fall')   |  447 |\n",
      "| (1, 'spring') |  627 |\n",
      "| (1, 'summer') | 1527 |\n",
      "| (1, 'winter') |  993 |\n",
      "| (2, 'spring') | 1692 |\n",
      "| (2, 'winter') | 2806 |\n",
      "| (3, 'summer') | 4192 |\n",
      "Categorical feature - roadway_type across Clusters\n",
      "|        |    0 |\n",
      "|:-------|-----:|\n",
      "| (0, 1) |   12 |\n",
      "| (0, 2) | 1081 |\n",
      "| (0, 3) |  224 |\n",
      "| (0, 4) |   63 |\n",
      "| (0, 9) |  216 |\n",
      "| (1, 1) | 3594 |\n",
      "| (2, 2) | 3080 |\n",
      "| (2, 3) |  646 |\n",
      "| (2, 4) |  169 |\n",
      "| (2, 9) |  603 |\n",
      "| (3, 2) | 2780 |\n",
      "| (3, 3) |  700 |\n",
      "| (3, 4) |  168 |\n",
      "| (3, 9) |  544 |\n",
      "Categorical feature - create_time_weekend across Clusters\n",
      "|        |    0 |\n",
      "|:-------|-----:|\n",
      "| (0, 0) | 1447 |\n",
      "| (0, 1) |  149 |\n",
      "| (1, 0) | 3150 |\n",
      "| (1, 1) |  444 |\n",
      "| (2, 0) | 4086 |\n",
      "| (2, 1) |  412 |\n",
      "| (3, 0) | 3799 |\n",
      "| (3, 1) |  393 |\n",
      "|   cluster |   crash_binary_900ft |   crash_binary_1800ft |   crash_binary_2700ft |   crash_binary_3600ft |\n",
      "|----------:|---------------------:|----------------------:|----------------------:|----------------------:|\n",
      "|         0 |             0.160401 |              0.2901   |              0.396617 |              0.496241 |\n",
      "|         1 |             0.131052 |              0.274346 |              0.395938 |              0.492209 |\n",
      "|         2 |             0.138506 |              0.251667 |              0.368831 |              0.481103 |\n",
      "|         3 |             0.164838 |              0.286975 |              0.421279 |              0.53125  |\n",
      "900 ft\n",
      "SMAPE score: 3.836248844476921\n",
      "MAE score: 0.012144076787227513\n"
     ]
    }
   ],
   "source": [
    "# Call Function 3 to implement K-Means on train and measure performance on test\n",
    "no_cluster=4\n",
    "print(\"--------------------------------------------------------------------------------------------------------------------\")\n",
    "print(\"Performance when number of cluster are {}\".format(no_cluster))\n",
    "train_with_clusterlabels, test_with_clusterlabels, test_with_pred, final_smape, final_mae = perform_Clustering_Visualization_Performance_Measurement(train, test, numerical_features, categorical_features, index, no_cluster)"
   ]
  },
  {
   "cell_type": "markdown",
   "metadata": {},
   "source": [
    "#### Workzone with Cluster Labels"
   ]
  },
  {
   "cell_type": "code",
   "execution_count": 9,
   "metadata": {},
   "outputs": [
    {
     "data": {
      "text/html": [
       "<div>\n",
       "<style scoped>\n",
       "    .dataframe tbody tr th:only-of-type {\n",
       "        vertical-align: middle;\n",
       "    }\n",
       "\n",
       "    .dataframe tbody tr th {\n",
       "        vertical-align: top;\n",
       "    }\n",
       "\n",
       "    .dataframe thead th {\n",
       "        text-align: right;\n",
       "    }\n",
       "</style>\n",
       "<table border=\"1\" class=\"dataframe\">\n",
       "  <thead>\n",
       "    <tr style=\"text-align: right;\">\n",
       "      <th></th>\n",
       "      <th>posted_speed</th>\n",
       "      <th>street_width</th>\n",
       "      <th>daylight_ratio</th>\n",
       "      <th>peak_ratio</th>\n",
       "      <th>season_fall</th>\n",
       "      <th>season_spring</th>\n",
       "      <th>season_summer</th>\n",
       "      <th>season_winter</th>\n",
       "      <th>roadway_type_1</th>\n",
       "      <th>roadway_type_2</th>\n",
       "      <th>roadway_type_3</th>\n",
       "      <th>roadway_type_4</th>\n",
       "      <th>roadway_type_9</th>\n",
       "      <th>create_time_weekend_0</th>\n",
       "      <th>create_time_weekend_1</th>\n",
       "      <th>kmeans_cluster</th>\n",
       "    </tr>\n",
       "    <tr>\n",
       "      <th>event_id</th>\n",
       "      <th></th>\n",
       "      <th></th>\n",
       "      <th></th>\n",
       "      <th></th>\n",
       "      <th></th>\n",
       "      <th></th>\n",
       "      <th></th>\n",
       "      <th></th>\n",
       "      <th></th>\n",
       "      <th></th>\n",
       "      <th></th>\n",
       "      <th></th>\n",
       "      <th></th>\n",
       "      <th></th>\n",
       "      <th></th>\n",
       "      <th></th>\n",
       "    </tr>\n",
       "  </thead>\n",
       "  <tbody>\n",
       "    <tr>\n",
       "      <th>14593</th>\n",
       "      <td>0.166667</td>\n",
       "      <td>0.12</td>\n",
       "      <td>1.0</td>\n",
       "      <td>0.0</td>\n",
       "      <td>0</td>\n",
       "      <td>0</td>\n",
       "      <td>1</td>\n",
       "      <td>0</td>\n",
       "      <td>1</td>\n",
       "      <td>0</td>\n",
       "      <td>0</td>\n",
       "      <td>0</td>\n",
       "      <td>0</td>\n",
       "      <td>1</td>\n",
       "      <td>0</td>\n",
       "      <td>1</td>\n",
       "    </tr>\n",
       "    <tr>\n",
       "      <th>21174</th>\n",
       "      <td>0.166667</td>\n",
       "      <td>0.40</td>\n",
       "      <td>0.0</td>\n",
       "      <td>0.0</td>\n",
       "      <td>0</td>\n",
       "      <td>0</td>\n",
       "      <td>1</td>\n",
       "      <td>0</td>\n",
       "      <td>1</td>\n",
       "      <td>0</td>\n",
       "      <td>0</td>\n",
       "      <td>0</td>\n",
       "      <td>0</td>\n",
       "      <td>1</td>\n",
       "      <td>0</td>\n",
       "      <td>1</td>\n",
       "    </tr>\n",
       "    <tr>\n",
       "      <th>24497</th>\n",
       "      <td>0.833333</td>\n",
       "      <td>0.24</td>\n",
       "      <td>0.0</td>\n",
       "      <td>0.0</td>\n",
       "      <td>0</td>\n",
       "      <td>1</td>\n",
       "      <td>0</td>\n",
       "      <td>0</td>\n",
       "      <td>0</td>\n",
       "      <td>1</td>\n",
       "      <td>0</td>\n",
       "      <td>0</td>\n",
       "      <td>0</td>\n",
       "      <td>1</td>\n",
       "      <td>0</td>\n",
       "      <td>2</td>\n",
       "    </tr>\n",
       "    <tr>\n",
       "      <th>4086</th>\n",
       "      <td>0.833333</td>\n",
       "      <td>0.30</td>\n",
       "      <td>1.0</td>\n",
       "      <td>0.0</td>\n",
       "      <td>0</td>\n",
       "      <td>0</td>\n",
       "      <td>1</td>\n",
       "      <td>0</td>\n",
       "      <td>0</td>\n",
       "      <td>0</td>\n",
       "      <td>1</td>\n",
       "      <td>0</td>\n",
       "      <td>0</td>\n",
       "      <td>1</td>\n",
       "      <td>0</td>\n",
       "      <td>3</td>\n",
       "    </tr>\n",
       "    <tr>\n",
       "      <th>5014</th>\n",
       "      <td>0.166667</td>\n",
       "      <td>0.16</td>\n",
       "      <td>0.0</td>\n",
       "      <td>0.0</td>\n",
       "      <td>0</td>\n",
       "      <td>1</td>\n",
       "      <td>0</td>\n",
       "      <td>0</td>\n",
       "      <td>0</td>\n",
       "      <td>0</td>\n",
       "      <td>0</td>\n",
       "      <td>1</td>\n",
       "      <td>0</td>\n",
       "      <td>1</td>\n",
       "      <td>0</td>\n",
       "      <td>2</td>\n",
       "    </tr>\n",
       "  </tbody>\n",
       "</table>\n",
       "</div>"
      ],
      "text/plain": [
       "          posted_speed  street_width  daylight_ratio  peak_ratio  season_fall  \\\n",
       "event_id                                                                        \n",
       "14593         0.166667          0.12             1.0         0.0            0   \n",
       "21174         0.166667          0.40             0.0         0.0            0   \n",
       "24497         0.833333          0.24             0.0         0.0            0   \n",
       "4086          0.833333          0.30             1.0         0.0            0   \n",
       "5014          0.166667          0.16             0.0         0.0            0   \n",
       "\n",
       "          season_spring  season_summer  season_winter  roadway_type_1  \\\n",
       "event_id                                                                \n",
       "14593                 0              1              0               1   \n",
       "21174                 0              1              0               1   \n",
       "24497                 1              0              0               0   \n",
       "4086                  0              1              0               0   \n",
       "5014                  1              0              0               0   \n",
       "\n",
       "          roadway_type_2  roadway_type_3  roadway_type_4  roadway_type_9  \\\n",
       "event_id                                                                   \n",
       "14593                  0               0               0               0   \n",
       "21174                  0               0               0               0   \n",
       "24497                  1               0               0               0   \n",
       "4086                   0               1               0               0   \n",
       "5014                   0               0               1               0   \n",
       "\n",
       "          create_time_weekend_0  create_time_weekend_1  kmeans_cluster  \n",
       "event_id                                                                \n",
       "14593                         1                      0               1  \n",
       "21174                         1                      0               1  \n",
       "24497                         1                      0               2  \n",
       "4086                          1                      0               3  \n",
       "5014                          1                      0               2  "
      ]
     },
     "execution_count": 9,
     "metadata": {},
     "output_type": "execute_result"
    }
   ],
   "source": [
    "train_with_clusterlabels.head()"
   ]
  },
  {
   "cell_type": "code",
   "execution_count": 10,
   "metadata": {},
   "outputs": [],
   "source": [
    "train_data_with_labels = train_with_clusterlabels[['kmeans_cluster']]"
   ]
  },
  {
   "cell_type": "code",
   "execution_count": 11,
   "metadata": {},
   "outputs": [
    {
     "data": {
      "text/html": [
       "<div>\n",
       "<style scoped>\n",
       "    .dataframe tbody tr th:only-of-type {\n",
       "        vertical-align: middle;\n",
       "    }\n",
       "\n",
       "    .dataframe tbody tr th {\n",
       "        vertical-align: top;\n",
       "    }\n",
       "\n",
       "    .dataframe thead th {\n",
       "        text-align: right;\n",
       "    }\n",
       "</style>\n",
       "<table border=\"1\" class=\"dataframe\">\n",
       "  <thead>\n",
       "    <tr style=\"text-align: right;\">\n",
       "      <th></th>\n",
       "      <th>kmeans_cluster</th>\n",
       "    </tr>\n",
       "    <tr>\n",
       "      <th>event_id</th>\n",
       "      <th></th>\n",
       "    </tr>\n",
       "  </thead>\n",
       "  <tbody>\n",
       "    <tr>\n",
       "      <th>14593</th>\n",
       "      <td>1</td>\n",
       "    </tr>\n",
       "    <tr>\n",
       "      <th>21174</th>\n",
       "      <td>1</td>\n",
       "    </tr>\n",
       "    <tr>\n",
       "      <th>24497</th>\n",
       "      <td>2</td>\n",
       "    </tr>\n",
       "    <tr>\n",
       "      <th>4086</th>\n",
       "      <td>3</td>\n",
       "    </tr>\n",
       "    <tr>\n",
       "      <th>5014</th>\n",
       "      <td>2</td>\n",
       "    </tr>\n",
       "  </tbody>\n",
       "</table>\n",
       "</div>"
      ],
      "text/plain": [
       "          kmeans_cluster\n",
       "event_id                \n",
       "14593                  1\n",
       "21174                  1\n",
       "24497                  2\n",
       "4086                   3\n",
       "5014                   2"
      ]
     },
     "execution_count": 11,
     "metadata": {},
     "output_type": "execute_result"
    }
   ],
   "source": [
    "train_data_with_labels.head()"
   ]
  },
  {
   "cell_type": "code",
   "execution_count": 12,
   "metadata": {},
   "outputs": [],
   "source": [
    "train_data_with_labels = train_data_with_labels.rename({'kmeans_cluster': 'cluster'}, axis=1)"
   ]
  },
  {
   "cell_type": "code",
   "execution_count": 13,
   "metadata": {},
   "outputs": [
    {
     "data": {
      "text/html": [
       "<div>\n",
       "<style scoped>\n",
       "    .dataframe tbody tr th:only-of-type {\n",
       "        vertical-align: middle;\n",
       "    }\n",
       "\n",
       "    .dataframe tbody tr th {\n",
       "        vertical-align: top;\n",
       "    }\n",
       "\n",
       "    .dataframe thead th {\n",
       "        text-align: right;\n",
       "    }\n",
       "</style>\n",
       "<table border=\"1\" class=\"dataframe\">\n",
       "  <thead>\n",
       "    <tr style=\"text-align: right;\">\n",
       "      <th></th>\n",
       "      <th>cluster</th>\n",
       "    </tr>\n",
       "    <tr>\n",
       "      <th>event_id</th>\n",
       "      <th></th>\n",
       "    </tr>\n",
       "  </thead>\n",
       "  <tbody>\n",
       "    <tr>\n",
       "      <th>14593</th>\n",
       "      <td>1</td>\n",
       "    </tr>\n",
       "    <tr>\n",
       "      <th>21174</th>\n",
       "      <td>1</td>\n",
       "    </tr>\n",
       "    <tr>\n",
       "      <th>24497</th>\n",
       "      <td>2</td>\n",
       "    </tr>\n",
       "    <tr>\n",
       "      <th>4086</th>\n",
       "      <td>3</td>\n",
       "    </tr>\n",
       "    <tr>\n",
       "      <th>5014</th>\n",
       "      <td>2</td>\n",
       "    </tr>\n",
       "  </tbody>\n",
       "</table>\n",
       "</div>"
      ],
      "text/plain": [
       "          cluster\n",
       "event_id         \n",
       "14593           1\n",
       "21174           1\n",
       "24497           2\n",
       "4086            3\n",
       "5014            2"
      ]
     },
     "execution_count": 13,
     "metadata": {},
     "output_type": "execute_result"
    }
   ],
   "source": [
    "train_data_with_labels.head()"
   ]
  },
  {
   "cell_type": "code",
   "execution_count": 14,
   "metadata": {},
   "outputs": [],
   "source": [
    "test_data_with_labels = test_with_clusterlabels[['event_id','cluster']]"
   ]
  },
  {
   "cell_type": "code",
   "execution_count": 15,
   "metadata": {},
   "outputs": [],
   "source": [
    "test_data_with_labels = test_data_with_labels.set_index('event_id')"
   ]
  },
  {
   "cell_type": "code",
   "execution_count": 16,
   "metadata": {},
   "outputs": [
    {
     "data": {
      "text/html": [
       "<div>\n",
       "<style scoped>\n",
       "    .dataframe tbody tr th:only-of-type {\n",
       "        vertical-align: middle;\n",
       "    }\n",
       "\n",
       "    .dataframe tbody tr th {\n",
       "        vertical-align: top;\n",
       "    }\n",
       "\n",
       "    .dataframe thead th {\n",
       "        text-align: right;\n",
       "    }\n",
       "</style>\n",
       "<table border=\"1\" class=\"dataframe\">\n",
       "  <thead>\n",
       "    <tr style=\"text-align: right;\">\n",
       "      <th></th>\n",
       "      <th>cluster</th>\n",
       "    </tr>\n",
       "    <tr>\n",
       "      <th>event_id</th>\n",
       "      <th></th>\n",
       "    </tr>\n",
       "  </thead>\n",
       "  <tbody>\n",
       "    <tr>\n",
       "      <th>9305</th>\n",
       "      <td>2</td>\n",
       "    </tr>\n",
       "    <tr>\n",
       "      <th>1549</th>\n",
       "      <td>2</td>\n",
       "    </tr>\n",
       "    <tr>\n",
       "      <th>13190</th>\n",
       "      <td>3</td>\n",
       "    </tr>\n",
       "    <tr>\n",
       "      <th>14352</th>\n",
       "      <td>1</td>\n",
       "    </tr>\n",
       "    <tr>\n",
       "      <th>7183</th>\n",
       "      <td>1</td>\n",
       "    </tr>\n",
       "  </tbody>\n",
       "</table>\n",
       "</div>"
      ],
      "text/plain": [
       "          cluster\n",
       "event_id         \n",
       "9305            2\n",
       "1549            2\n",
       "13190           3\n",
       "14352           1\n",
       "7183            1"
      ]
     },
     "execution_count": 16,
     "metadata": {},
     "output_type": "execute_result"
    }
   ],
   "source": [
    "test_data_with_labels.head()"
   ]
  },
  {
   "cell_type": "code",
   "execution_count": 17,
   "metadata": {},
   "outputs": [],
   "source": [
    "data_with_labels = pd.concat([train_data_with_labels, test_data_with_labels])"
   ]
  },
  {
   "cell_type": "code",
   "execution_count": 18,
   "metadata": {},
   "outputs": [
    {
     "data": {
      "text/html": [
       "<div>\n",
       "<style scoped>\n",
       "    .dataframe tbody tr th:only-of-type {\n",
       "        vertical-align: middle;\n",
       "    }\n",
       "\n",
       "    .dataframe tbody tr th {\n",
       "        vertical-align: top;\n",
       "    }\n",
       "\n",
       "    .dataframe thead th {\n",
       "        text-align: right;\n",
       "    }\n",
       "</style>\n",
       "<table border=\"1\" class=\"dataframe\">\n",
       "  <thead>\n",
       "    <tr style=\"text-align: right;\">\n",
       "      <th></th>\n",
       "      <th>cluster</th>\n",
       "    </tr>\n",
       "    <tr>\n",
       "      <th>event_id</th>\n",
       "      <th></th>\n",
       "    </tr>\n",
       "  </thead>\n",
       "  <tbody>\n",
       "    <tr>\n",
       "      <th>14593</th>\n",
       "      <td>1</td>\n",
       "    </tr>\n",
       "    <tr>\n",
       "      <th>21174</th>\n",
       "      <td>1</td>\n",
       "    </tr>\n",
       "    <tr>\n",
       "      <th>24497</th>\n",
       "      <td>2</td>\n",
       "    </tr>\n",
       "    <tr>\n",
       "      <th>4086</th>\n",
       "      <td>3</td>\n",
       "    </tr>\n",
       "    <tr>\n",
       "      <th>5014</th>\n",
       "      <td>2</td>\n",
       "    </tr>\n",
       "  </tbody>\n",
       "</table>\n",
       "</div>"
      ],
      "text/plain": [
       "          cluster\n",
       "event_id         \n",
       "14593           1\n",
       "21174           1\n",
       "24497           2\n",
       "4086            3\n",
       "5014            2"
      ]
     },
     "execution_count": 18,
     "metadata": {},
     "output_type": "execute_result"
    }
   ],
   "source": [
    "data_with_labels.head()"
   ]
  },
  {
   "cell_type": "code",
   "execution_count": 19,
   "metadata": {},
   "outputs": [
    {
     "data": {
      "text/plain": [
       "(20717, 1)"
      ]
     },
     "execution_count": 19,
     "metadata": {},
     "output_type": "execute_result"
    }
   ],
   "source": [
    "data_with_labels.shape"
   ]
  },
  {
   "cell_type": "code",
   "execution_count": 20,
   "metadata": {},
   "outputs": [],
   "source": [
    "import geopandas as gp\n",
    "df_511_target_geo = gp.GeoDataFrame(df_511_target)"
   ]
  },
  {
   "cell_type": "code",
   "execution_count": 21,
   "metadata": {},
   "outputs": [],
   "source": [
    "df_511_target_geo = df_511_target_geo.set_index('event_id')"
   ]
  },
  {
   "cell_type": "code",
   "execution_count": 22,
   "metadata": {},
   "outputs": [],
   "source": [
    "df_511_target_geo['long'] = df_511_target_geo.geometry.apply(lambda x: float(x.split(\" \")[1].split(\"(\")[1]))"
   ]
  },
  {
   "cell_type": "code",
   "execution_count": 23,
   "metadata": {},
   "outputs": [],
   "source": [
    "df_511_target_geo['lat'] = df_511_target_geo.geometry.apply(lambda x: float(x.split(\" \")[2].split(\")\")[0]))"
   ]
  },
  {
   "cell_type": "code",
   "execution_count": 24,
   "metadata": {},
   "outputs": [
    {
     "data": {
      "text/html": [
       "<div>\n",
       "<style scoped>\n",
       "    .dataframe tbody tr th:only-of-type {\n",
       "        vertical-align: middle;\n",
       "    }\n",
       "\n",
       "    .dataframe tbody tr th {\n",
       "        vertical-align: top;\n",
       "    }\n",
       "\n",
       "    .dataframe thead th {\n",
       "        text-align: right;\n",
       "    }\n",
       "</style>\n",
       "<table border=\"1\" class=\"dataframe\">\n",
       "  <thead>\n",
       "    <tr style=\"text-align: right;\">\n",
       "      <th></th>\n",
       "      <th>season</th>\n",
       "      <th>roadway_type</th>\n",
       "      <th>create_time_weekend</th>\n",
       "      <th>street_width</th>\n",
       "      <th>posted_speed</th>\n",
       "      <th>daylight_ratio</th>\n",
       "      <th>peak_ratio</th>\n",
       "      <th>crash_binary_900ft</th>\n",
       "      <th>crash_binary_1800ft</th>\n",
       "      <th>crash_binary_2700ft</th>\n",
       "      <th>crash_binary_3600ft</th>\n",
       "      <th>geometry</th>\n",
       "      <th>long</th>\n",
       "      <th>lat</th>\n",
       "    </tr>\n",
       "    <tr>\n",
       "      <th>event_id</th>\n",
       "      <th></th>\n",
       "      <th></th>\n",
       "      <th></th>\n",
       "      <th></th>\n",
       "      <th></th>\n",
       "      <th></th>\n",
       "      <th></th>\n",
       "      <th></th>\n",
       "      <th></th>\n",
       "      <th></th>\n",
       "      <th></th>\n",
       "      <th></th>\n",
       "      <th></th>\n",
       "      <th></th>\n",
       "    </tr>\n",
       "  </thead>\n",
       "  <tbody>\n",
       "    <tr>\n",
       "      <th>9800</th>\n",
       "      <td>winter</td>\n",
       "      <td>1</td>\n",
       "      <td>0</td>\n",
       "      <td>70.0</td>\n",
       "      <td>25.0</td>\n",
       "      <td>0.278557</td>\n",
       "      <td>0.138277</td>\n",
       "      <td>0</td>\n",
       "      <td>0</td>\n",
       "      <td>1</td>\n",
       "      <td>1</td>\n",
       "      <td>POINT (-73.97039034710647 40.74801398263635)</td>\n",
       "      <td>-73.970390</td>\n",
       "      <td>40.748014</td>\n",
       "    </tr>\n",
       "    <tr>\n",
       "      <th>9799</th>\n",
       "      <td>winter</td>\n",
       "      <td>1</td>\n",
       "      <td>0</td>\n",
       "      <td>26.0</td>\n",
       "      <td>25.0</td>\n",
       "      <td>0.476232</td>\n",
       "      <td>0.105634</td>\n",
       "      <td>0</td>\n",
       "      <td>1</td>\n",
       "      <td>1</td>\n",
       "      <td>1</td>\n",
       "      <td>POINT (-74.01492756019137 40.70620793305534)</td>\n",
       "      <td>-74.014928</td>\n",
       "      <td>40.706208</td>\n",
       "    </tr>\n",
       "    <tr>\n",
       "      <th>22809</th>\n",
       "      <td>winter</td>\n",
       "      <td>2</td>\n",
       "      <td>0</td>\n",
       "      <td>60.0</td>\n",
       "      <td>50.0</td>\n",
       "      <td>0.000000</td>\n",
       "      <td>0.000000</td>\n",
       "      <td>1</td>\n",
       "      <td>1</td>\n",
       "      <td>1</td>\n",
       "      <td>1</td>\n",
       "      <td>POINT (-73.86818973240308 40.7701102900994)</td>\n",
       "      <td>-73.868190</td>\n",
       "      <td>40.770110</td>\n",
       "    </tr>\n",
       "    <tr>\n",
       "      <th>22808</th>\n",
       "      <td>winter</td>\n",
       "      <td>2</td>\n",
       "      <td>0</td>\n",
       "      <td>40.0</td>\n",
       "      <td>45.0</td>\n",
       "      <td>0.099558</td>\n",
       "      <td>0.000000</td>\n",
       "      <td>0</td>\n",
       "      <td>0</td>\n",
       "      <td>0</td>\n",
       "      <td>0</td>\n",
       "      <td>POINT (-73.94394974075671 40.74045499368583)</td>\n",
       "      <td>-73.943950</td>\n",
       "      <td>40.740455</td>\n",
       "    </tr>\n",
       "    <tr>\n",
       "      <th>9798</th>\n",
       "      <td>winter</td>\n",
       "      <td>1</td>\n",
       "      <td>1</td>\n",
       "      <td>60.0</td>\n",
       "      <td>25.0</td>\n",
       "      <td>0.036101</td>\n",
       "      <td>0.000000</td>\n",
       "      <td>0</td>\n",
       "      <td>0</td>\n",
       "      <td>0</td>\n",
       "      <td>0</td>\n",
       "      <td>POINT (-73.97477111619014 40.7353946906465)</td>\n",
       "      <td>-73.974771</td>\n",
       "      <td>40.735395</td>\n",
       "    </tr>\n",
       "  </tbody>\n",
       "</table>\n",
       "</div>"
      ],
      "text/plain": [
       "          season  roadway_type  create_time_weekend  street_width  \\\n",
       "event_id                                                            \n",
       "9800      winter             1                    0          70.0   \n",
       "9799      winter             1                    0          26.0   \n",
       "22809     winter             2                    0          60.0   \n",
       "22808     winter             2                    0          40.0   \n",
       "9798      winter             1                    1          60.0   \n",
       "\n",
       "          posted_speed  daylight_ratio  peak_ratio  crash_binary_900ft  \\\n",
       "event_id                                                                 \n",
       "9800              25.0        0.278557    0.138277                   0   \n",
       "9799              25.0        0.476232    0.105634                   0   \n",
       "22809             50.0        0.000000    0.000000                   1   \n",
       "22808             45.0        0.099558    0.000000                   0   \n",
       "9798              25.0        0.036101    0.000000                   0   \n",
       "\n",
       "          crash_binary_1800ft  crash_binary_2700ft  crash_binary_3600ft  \\\n",
       "event_id                                                                  \n",
       "9800                        0                    1                    1   \n",
       "9799                        1                    1                    1   \n",
       "22809                       1                    1                    1   \n",
       "22808                       0                    0                    0   \n",
       "9798                        0                    0                    0   \n",
       "\n",
       "                                              geometry       long        lat  \n",
       "event_id                                                                      \n",
       "9800      POINT (-73.97039034710647 40.74801398263635) -73.970390  40.748014  \n",
       "9799      POINT (-74.01492756019137 40.70620793305534) -74.014928  40.706208  \n",
       "22809      POINT (-73.86818973240308 40.7701102900994) -73.868190  40.770110  \n",
       "22808     POINT (-73.94394974075671 40.74045499368583) -73.943950  40.740455  \n",
       "9798       POINT (-73.97477111619014 40.7353946906465) -73.974771  40.735395  "
      ]
     },
     "execution_count": 24,
     "metadata": {},
     "output_type": "execute_result"
    }
   ],
   "source": [
    "df_511_target_geo.head()"
   ]
  },
  {
   "cell_type": "code",
   "execution_count": 25,
   "metadata": {},
   "outputs": [
    {
     "data": {
      "text/plain": [
       "(20717, 14)"
      ]
     },
     "execution_count": 25,
     "metadata": {},
     "output_type": "execute_result"
    }
   ],
   "source": [
    "df_511_target_geo.shape"
   ]
  },
  {
   "cell_type": "code",
   "execution_count": 26,
   "metadata": {},
   "outputs": [],
   "source": [
    "# Adding Cluster Labels to data\n",
    "df_511_target_geo_cluster = pd.merge(df_511_target_geo, data_with_labels, left_index=True, right_index=True)"
   ]
  },
  {
   "cell_type": "code",
   "execution_count": 27,
   "metadata": {},
   "outputs": [
    {
     "data": {
      "text/plain": [
       "(20717, 15)"
      ]
     },
     "execution_count": 27,
     "metadata": {},
     "output_type": "execute_result"
    }
   ],
   "source": [
    "df_511_target_geo_cluster.shape"
   ]
  },
  {
   "cell_type": "code",
   "execution_count": 28,
   "metadata": {},
   "outputs": [
    {
     "data": {
      "text/html": [
       "<div>\n",
       "<style scoped>\n",
       "    .dataframe tbody tr th:only-of-type {\n",
       "        vertical-align: middle;\n",
       "    }\n",
       "\n",
       "    .dataframe tbody tr th {\n",
       "        vertical-align: top;\n",
       "    }\n",
       "\n",
       "    .dataframe thead th {\n",
       "        text-align: right;\n",
       "    }\n",
       "</style>\n",
       "<table border=\"1\" class=\"dataframe\">\n",
       "  <thead>\n",
       "    <tr style=\"text-align: right;\">\n",
       "      <th></th>\n",
       "      <th>season</th>\n",
       "      <th>roadway_type</th>\n",
       "      <th>create_time_weekend</th>\n",
       "      <th>street_width</th>\n",
       "      <th>posted_speed</th>\n",
       "      <th>daylight_ratio</th>\n",
       "      <th>peak_ratio</th>\n",
       "      <th>crash_binary_900ft</th>\n",
       "      <th>crash_binary_1800ft</th>\n",
       "      <th>crash_binary_2700ft</th>\n",
       "      <th>crash_binary_3600ft</th>\n",
       "      <th>geometry</th>\n",
       "      <th>long</th>\n",
       "      <th>lat</th>\n",
       "      <th>cluster</th>\n",
       "    </tr>\n",
       "    <tr>\n",
       "      <th>event_id</th>\n",
       "      <th></th>\n",
       "      <th></th>\n",
       "      <th></th>\n",
       "      <th></th>\n",
       "      <th></th>\n",
       "      <th></th>\n",
       "      <th></th>\n",
       "      <th></th>\n",
       "      <th></th>\n",
       "      <th></th>\n",
       "      <th></th>\n",
       "      <th></th>\n",
       "      <th></th>\n",
       "      <th></th>\n",
       "      <th></th>\n",
       "    </tr>\n",
       "  </thead>\n",
       "  <tbody>\n",
       "    <tr>\n",
       "      <th>9800</th>\n",
       "      <td>winter</td>\n",
       "      <td>1</td>\n",
       "      <td>0</td>\n",
       "      <td>70.0</td>\n",
       "      <td>25.0</td>\n",
       "      <td>0.278557</td>\n",
       "      <td>0.138277</td>\n",
       "      <td>0</td>\n",
       "      <td>0</td>\n",
       "      <td>1</td>\n",
       "      <td>1</td>\n",
       "      <td>POINT (-73.97039034710647 40.74801398263635)</td>\n",
       "      <td>-73.970390</td>\n",
       "      <td>40.748014</td>\n",
       "      <td>1</td>\n",
       "    </tr>\n",
       "    <tr>\n",
       "      <th>9799</th>\n",
       "      <td>winter</td>\n",
       "      <td>1</td>\n",
       "      <td>0</td>\n",
       "      <td>26.0</td>\n",
       "      <td>25.0</td>\n",
       "      <td>0.476232</td>\n",
       "      <td>0.105634</td>\n",
       "      <td>0</td>\n",
       "      <td>1</td>\n",
       "      <td>1</td>\n",
       "      <td>1</td>\n",
       "      <td>POINT (-74.01492756019137 40.70620793305534)</td>\n",
       "      <td>-74.014928</td>\n",
       "      <td>40.706208</td>\n",
       "      <td>1</td>\n",
       "    </tr>\n",
       "    <tr>\n",
       "      <th>22809</th>\n",
       "      <td>winter</td>\n",
       "      <td>2</td>\n",
       "      <td>0</td>\n",
       "      <td>60.0</td>\n",
       "      <td>50.0</td>\n",
       "      <td>0.000000</td>\n",
       "      <td>0.000000</td>\n",
       "      <td>1</td>\n",
       "      <td>1</td>\n",
       "      <td>1</td>\n",
       "      <td>1</td>\n",
       "      <td>POINT (-73.86818973240308 40.7701102900994)</td>\n",
       "      <td>-73.868190</td>\n",
       "      <td>40.770110</td>\n",
       "      <td>2</td>\n",
       "    </tr>\n",
       "    <tr>\n",
       "      <th>22808</th>\n",
       "      <td>winter</td>\n",
       "      <td>2</td>\n",
       "      <td>0</td>\n",
       "      <td>40.0</td>\n",
       "      <td>45.0</td>\n",
       "      <td>0.099558</td>\n",
       "      <td>0.000000</td>\n",
       "      <td>0</td>\n",
       "      <td>0</td>\n",
       "      <td>0</td>\n",
       "      <td>0</td>\n",
       "      <td>POINT (-73.94394974075671 40.74045499368583)</td>\n",
       "      <td>-73.943950</td>\n",
       "      <td>40.740455</td>\n",
       "      <td>2</td>\n",
       "    </tr>\n",
       "    <tr>\n",
       "      <th>9798</th>\n",
       "      <td>winter</td>\n",
       "      <td>1</td>\n",
       "      <td>1</td>\n",
       "      <td>60.0</td>\n",
       "      <td>25.0</td>\n",
       "      <td>0.036101</td>\n",
       "      <td>0.000000</td>\n",
       "      <td>0</td>\n",
       "      <td>0</td>\n",
       "      <td>0</td>\n",
       "      <td>0</td>\n",
       "      <td>POINT (-73.97477111619014 40.7353946906465)</td>\n",
       "      <td>-73.974771</td>\n",
       "      <td>40.735395</td>\n",
       "      <td>1</td>\n",
       "    </tr>\n",
       "  </tbody>\n",
       "</table>\n",
       "</div>"
      ],
      "text/plain": [
       "          season  roadway_type  create_time_weekend  street_width  \\\n",
       "event_id                                                            \n",
       "9800      winter             1                    0          70.0   \n",
       "9799      winter             1                    0          26.0   \n",
       "22809     winter             2                    0          60.0   \n",
       "22808     winter             2                    0          40.0   \n",
       "9798      winter             1                    1          60.0   \n",
       "\n",
       "          posted_speed  daylight_ratio  peak_ratio  crash_binary_900ft  \\\n",
       "event_id                                                                 \n",
       "9800              25.0        0.278557    0.138277                   0   \n",
       "9799              25.0        0.476232    0.105634                   0   \n",
       "22809             50.0        0.000000    0.000000                   1   \n",
       "22808             45.0        0.099558    0.000000                   0   \n",
       "9798              25.0        0.036101    0.000000                   0   \n",
       "\n",
       "          crash_binary_1800ft  crash_binary_2700ft  crash_binary_3600ft  \\\n",
       "event_id                                                                  \n",
       "9800                        0                    1                    1   \n",
       "9799                        1                    1                    1   \n",
       "22809                       1                    1                    1   \n",
       "22808                       0                    0                    0   \n",
       "9798                        0                    0                    0   \n",
       "\n",
       "                                              geometry       long        lat  \\\n",
       "event_id                                                                       \n",
       "9800      POINT (-73.97039034710647 40.74801398263635) -73.970390  40.748014   \n",
       "9799      POINT (-74.01492756019137 40.70620793305534) -74.014928  40.706208   \n",
       "22809      POINT (-73.86818973240308 40.7701102900994) -73.868190  40.770110   \n",
       "22808     POINT (-73.94394974075671 40.74045499368583) -73.943950  40.740455   \n",
       "9798       POINT (-73.97477111619014 40.7353946906465) -73.974771  40.735395   \n",
       "\n",
       "          cluster  \n",
       "event_id           \n",
       "9800            1  \n",
       "9799            1  \n",
       "22809           2  \n",
       "22808           2  \n",
       "9798            1  "
      ]
     },
     "execution_count": 28,
     "metadata": {},
     "output_type": "execute_result"
    }
   ],
   "source": [
    "df_511_target_geo_cluster.head()"
   ]
  },
  {
   "cell_type": "markdown",
   "metadata": {},
   "source": [
    "## Saving the workzone with cluster and lat/long"
   ]
  },
  {
   "cell_type": "code",
   "execution_count": 29,
   "metadata": {},
   "outputs": [],
   "source": [
    "df_511_cluster_geom = df_511_target_geo_cluster[['lat', 'long', 'cluster']]"
   ]
  },
  {
   "cell_type": "code",
   "execution_count": 30,
   "metadata": {},
   "outputs": [],
   "source": [
    "df_511_cluster_geom.to_csv('511_06_workzone_with_clusterLabels.csv')"
   ]
  },
  {
   "cell_type": "code",
   "execution_count": 31,
   "metadata": {},
   "outputs": [
    {
     "data": {
      "text/plain": [
       "(20717, 3)"
      ]
     },
     "execution_count": 31,
     "metadata": {},
     "output_type": "execute_result"
    }
   ],
   "source": [
    "df_511_cluster_geom.shape"
   ]
  },
  {
   "cell_type": "markdown",
   "metadata": {},
   "source": [
    "## Cluster Characteristics"
   ]
  },
  {
   "cell_type": "markdown",
   "metadata": {},
   "source": [
    "##### Workzone distribution across cluster"
   ]
  },
  {
   "cell_type": "code",
   "execution_count": 32,
   "metadata": {},
   "outputs": [
    {
     "data": {
      "text/plain": [
       "2    6674\n",
       "3    6275\n",
       "1    5387\n",
       "0    2381\n",
       "Name: cluster, dtype: int64"
      ]
     },
     "execution_count": 32,
     "metadata": {},
     "output_type": "execute_result"
    }
   ],
   "source": [
    "df_511_target_geo_cluster.cluster.value_counts()"
   ]
  },
  {
   "cell_type": "markdown",
   "metadata": {},
   "source": [
    "##### Visualizing Numerical feature distribution for clusters"
   ]
  },
  {
   "cell_type": "code",
   "execution_count": 33,
   "metadata": {},
   "outputs": [
    {
     "data": {
      "image/png": "[encoded data removed]",
      "text/plain": [
       "<Figure size 720x720 with 4 Axes>"
      ]
     },
     "metadata": {},
     "output_type": "display_data"
    }
   ],
   "source": [
    "# # visualzing the clusters for Numerical features\n",
    "df_511_target_geo_cluster[df_511_target_geo_cluster.cluster == 0][['posted_speed', 'street_width', 'daylight_ratio', 'peak_ratio' ]].hist(figsize=(10,10))\n",
    "plt.show()"
   ]
  },
  {
   "cell_type": "code",
   "execution_count": 34,
   "metadata": {},
   "outputs": [
    {
     "data": {
      "image/png": "[encoded data removed]",
      "text/plain": [
       "<Figure size 720x720 with 4 Axes>"
      ]
     },
     "metadata": {},
     "output_type": "display_data"
    }
   ],
   "source": [
    "# # visualzing the clusters for Numerical features\n",
    "df_511_target_geo_cluster[df_511_target_geo_cluster.cluster == 1][['posted_speed', 'street_width', 'daylight_ratio', 'peak_ratio' ]].hist(figsize=(10,10))\n",
    "plt.show()"
   ]
  },
  {
   "cell_type": "code",
   "execution_count": 35,
   "metadata": {},
   "outputs": [
    {
     "data": {
      "image/png": "[encoded data removed]",
      "text/plain": [
       "<Figure size 720x720 with 4 Axes>"
      ]
     },
     "metadata": {},
     "output_type": "display_data"
    }
   ],
   "source": [
    "# # visualzing the clusters for Numerical features\n",
    "df_511_target_geo_cluster[df_511_target_geo_cluster.cluster == 2][['posted_speed', 'street_width', 'daylight_ratio', 'peak_ratio' ]].hist(figsize=(10,10))\n",
    "plt.show()"
   ]
  },
  {
   "cell_type": "code",
   "execution_count": 36,
   "metadata": {},
   "outputs": [
    {
     "data": {
      "image/png": "[encoded data removed]",
      "text/plain": [
       "<Figure size 720x720 with 4 Axes>"
      ]
     },
     "metadata": {},
     "output_type": "display_data"
    }
   ],
   "source": [
    "# # visualzing the clusters for Numerical features\n",
    "df_511_target_geo_cluster[df_511_target_geo_cluster.cluster == 3][['posted_speed', 'street_width', 'daylight_ratio', 'peak_ratio' ]].hist(figsize=(10,10))\n",
    "plt.show()"
   ]
  },
  {
   "cell_type": "markdown",
   "metadata": {},
   "source": [
    "##### Feature mean across each Cluster"
   ]
  },
  {
   "cell_type": "code",
   "execution_count": 37,
   "metadata": {},
   "outputs": [
    {
     "data": {
      "text/html": [
       "<div>\n",
       "<style scoped>\n",
       "    .dataframe tbody tr th:only-of-type {\n",
       "        vertical-align: middle;\n",
       "    }\n",
       "\n",
       "    .dataframe tbody tr th {\n",
       "        vertical-align: top;\n",
       "    }\n",
       "\n",
       "    .dataframe thead th {\n",
       "        text-align: right;\n",
       "    }\n",
       "</style>\n",
       "<table border=\"1\" class=\"dataframe\">\n",
       "  <thead>\n",
       "    <tr style=\"text-align: right;\">\n",
       "      <th></th>\n",
       "      <th>posted_speed</th>\n",
       "      <th>street_width</th>\n",
       "      <th>daylight_ratio</th>\n",
       "      <th>peak_ratio</th>\n",
       "    </tr>\n",
       "    <tr>\n",
       "      <th>cluster</th>\n",
       "      <th></th>\n",
       "      <th></th>\n",
       "      <th></th>\n",
       "      <th></th>\n",
       "    </tr>\n",
       "  </thead>\n",
       "  <tbody>\n",
       "    <tr>\n",
       "      <th>0</th>\n",
       "      <td>45.236035</td>\n",
       "      <td>33.199916</td>\n",
       "      <td>0.426877</td>\n",
       "      <td>0.031557</td>\n",
       "    </tr>\n",
       "    <tr>\n",
       "      <th>1</th>\n",
       "      <td>25.779655</td>\n",
       "      <td>39.530536</td>\n",
       "      <td>0.325529</td>\n",
       "      <td>0.029283</td>\n",
       "    </tr>\n",
       "    <tr>\n",
       "      <th>2</th>\n",
       "      <td>45.680701</td>\n",
       "      <td>33.314354</td>\n",
       "      <td>0.454791</td>\n",
       "      <td>0.029223</td>\n",
       "    </tr>\n",
       "    <tr>\n",
       "      <th>3</th>\n",
       "      <td>45.313625</td>\n",
       "      <td>33.059442</td>\n",
       "      <td>0.409725</td>\n",
       "      <td>0.030654</td>\n",
       "    </tr>\n",
       "  </tbody>\n",
       "</table>\n",
       "</div>"
      ],
      "text/plain": [
       "         posted_speed  street_width  daylight_ratio  peak_ratio\n",
       "cluster                                                        \n",
       "0           45.236035     33.199916        0.426877    0.031557\n",
       "1           25.779655     39.530536        0.325529    0.029283\n",
       "2           45.680701     33.314354        0.454791    0.029223\n",
       "3           45.313625     33.059442        0.409725    0.030654"
      ]
     },
     "execution_count": 37,
     "metadata": {},
     "output_type": "execute_result"
    }
   ],
   "source": [
    "Features_Mean_by_cluster = df_511_target_geo_cluster[['posted_speed', 'street_width', 'daylight_ratio', 'peak_ratio', 'cluster' ]].groupby('cluster').mean()\n",
    "Features_Mean_by_cluster"
   ]
  },
  {
   "cell_type": "markdown",
   "metadata": {},
   "source": [
    "##### Visualizing categorical features distribution across clusters"
   ]
  },
  {
   "cell_type": "code",
   "execution_count": 38,
   "metadata": {},
   "outputs": [
    {
     "data": {
      "text/plain": [
       "cluster  season\n",
       "0        fall      2381\n",
       "1        fall       693\n",
       "         spring     920\n",
       "         summer    2238\n",
       "         winter    1536\n",
       "2        spring    2482\n",
       "         winter    4192\n",
       "3        summer    6275\n",
       "dtype: int64"
      ]
     },
     "execution_count": 38,
     "metadata": {},
     "output_type": "execute_result"
    }
   ],
   "source": [
    "df_511_target_geo_cluster.groupby(['cluster', 'season']).size()"
   ]
  },
  {
   "cell_type": "code",
   "execution_count": 39,
   "metadata": {},
   "outputs": [
    {
     "data": {
      "text/plain": [
       "cluster  roadway_type\n",
       "0        1                 14\n",
       "         2               1628\n",
       "         3                336\n",
       "         4                 93\n",
       "         9                310\n",
       "1        1               5387\n",
       "2        2               4563\n",
       "         3                940\n",
       "         4                253\n",
       "         9                918\n",
       "3        2               4178\n",
       "         3               1040\n",
       "         4                243\n",
       "         9                814\n",
       "dtype: int64"
      ]
     },
     "execution_count": 39,
     "metadata": {},
     "output_type": "execute_result"
    }
   ],
   "source": [
    "df_511_target_geo_cluster.groupby(['cluster', 'roadway_type']).size()"
   ]
  },
  {
   "cell_type": "code",
   "execution_count": 40,
   "metadata": {},
   "outputs": [
    {
     "data": {
      "text/plain": [
       "cluster  create_time_weekend\n",
       "0        0                      2156\n",
       "         1                       225\n",
       "1        0                      4748\n",
       "         1                       639\n",
       "2        0                      6053\n",
       "         1                       621\n",
       "3        0                      5684\n",
       "         1                       591\n",
       "dtype: int64"
      ]
     },
     "execution_count": 40,
     "metadata": {},
     "output_type": "execute_result"
    }
   ],
   "source": [
    "df_511_target_geo_cluster.groupby(['cluster', 'create_time_weekend']).size()"
   ]
  },
  {
   "cell_type": "markdown",
   "metadata": {},
   "source": [
    "#### Cluster Definition when k=4 and Normalized Features\n",
    "\n",
    "                                Cluster 0:                                          Cluster 1:                                Cluster 2:                                       Cluster 3:                                            \n",
    "    daylight_ratio:    More Jobs in evening and night                          More weights to night WZ                    similar weights to both day/ night WZ            similar weights to both day/ night WZ            \n",
    "    peak_ratio:        Good weight to peak_time                                lesser wt to peak_time                      little weight to peak_time                       more weight to peak_time    \n",
    "    posted_speed:      more weight speed = 50                                  more wt to lesser speed(25)                 more wt to higher speed                          more wt to higher speed     \n",
    "    street_width:      more wieght to avg & lesser st width(40)                more wt to higher st width(40, 60)          more wt to lesser st width                       more wt to lesser st width  \n",
    "    \n",
    "    season:            mostly fall                                             mostly summer & winter                      mostly winter                                    summer                      \n",
    "    roadway_type:      2                                                       1                                           2                                                2                           \n",
    "    Weekend:           not important feature, mostly\n",
    "                       weekday for all clusters\n",
    "    "
   ]
  },
  {
   "cell_type": "markdown",
   "metadata": {},
   "source": [
    "#### Comparing Scores of Predicted and Actual Crash probability"
   ]
  },
  {
   "cell_type": "code",
   "execution_count": 45,
   "metadata": {},
   "outputs": [
    {
     "data": {
      "text/html": [
       "<div>\n",
       "<style scoped>\n",
       "    .dataframe tbody tr th:only-of-type {\n",
       "        vertical-align: middle;\n",
       "    }\n",
       "\n",
       "    .dataframe tbody tr th {\n",
       "        vertical-align: top;\n",
       "    }\n",
       "\n",
       "    .dataframe thead th {\n",
       "        text-align: right;\n",
       "    }\n",
       "</style>\n",
       "<table border=\"1\" class=\"dataframe\">\n",
       "  <thead>\n",
       "    <tr style=\"text-align: right;\">\n",
       "      <th></th>\n",
       "      <th>event_id</th>\n",
       "      <th>season</th>\n",
       "      <th>roadway_type</th>\n",
       "      <th>create_time_weekend</th>\n",
       "      <th>street_width</th>\n",
       "      <th>posted_speed</th>\n",
       "      <th>daylight_ratio</th>\n",
       "      <th>peak_ratio</th>\n",
       "      <th>crash_binary_900ft</th>\n",
       "      <th>crash_binary_1800ft</th>\n",
       "      <th>crash_binary_2700ft</th>\n",
       "      <th>crash_binary_3600ft</th>\n",
       "      <th>cluster</th>\n",
       "      <th>crash_prob_900ft_actual</th>\n",
       "    </tr>\n",
       "  </thead>\n",
       "  <tbody>\n",
       "    <tr>\n",
       "      <th>7293</th>\n",
       "      <td>9305</td>\n",
       "      <td>winter</td>\n",
       "      <td>2</td>\n",
       "      <td>0</td>\n",
       "      <td>34.0</td>\n",
       "      <td>50.0</td>\n",
       "      <td>1.0</td>\n",
       "      <td>0.0</td>\n",
       "      <td>1</td>\n",
       "      <td>1</td>\n",
       "      <td>1</td>\n",
       "      <td>1</td>\n",
       "      <td>2</td>\n",
       "      <td>0.142004</td>\n",
       "    </tr>\n",
       "    <tr>\n",
       "      <th>1193</th>\n",
       "      <td>1549</td>\n",
       "      <td>winter</td>\n",
       "      <td>2</td>\n",
       "      <td>0</td>\n",
       "      <td>20.0</td>\n",
       "      <td>40.0</td>\n",
       "      <td>1.0</td>\n",
       "      <td>0.0</td>\n",
       "      <td>0</td>\n",
       "      <td>0</td>\n",
       "      <td>1</td>\n",
       "      <td>1</td>\n",
       "      <td>2</td>\n",
       "      <td>0.142004</td>\n",
       "    </tr>\n",
       "    <tr>\n",
       "      <th>10324</th>\n",
       "      <td>13190</td>\n",
       "      <td>summer</td>\n",
       "      <td>2</td>\n",
       "      <td>0</td>\n",
       "      <td>38.0</td>\n",
       "      <td>50.0</td>\n",
       "      <td>0.0</td>\n",
       "      <td>0.0</td>\n",
       "      <td>0</td>\n",
       "      <td>1</td>\n",
       "      <td>1</td>\n",
       "      <td>1</td>\n",
       "      <td>3</td>\n",
       "      <td>0.149784</td>\n",
       "    </tr>\n",
       "    <tr>\n",
       "      <th>11223</th>\n",
       "      <td>14352</td>\n",
       "      <td>summer</td>\n",
       "      <td>1</td>\n",
       "      <td>0</td>\n",
       "      <td>50.0</td>\n",
       "      <td>25.0</td>\n",
       "      <td>0.0</td>\n",
       "      <td>0.0</td>\n",
       "      <td>0</td>\n",
       "      <td>0</td>\n",
       "      <td>0</td>\n",
       "      <td>0</td>\n",
       "      <td>1</td>\n",
       "      <td>0.113776</td>\n",
       "    </tr>\n",
       "    <tr>\n",
       "      <th>5561</th>\n",
       "      <td>7183</td>\n",
       "      <td>summer</td>\n",
       "      <td>1</td>\n",
       "      <td>0</td>\n",
       "      <td>20.0</td>\n",
       "      <td>25.0</td>\n",
       "      <td>0.0</td>\n",
       "      <td>0.0</td>\n",
       "      <td>0</td>\n",
       "      <td>0</td>\n",
       "      <td>1</td>\n",
       "      <td>1</td>\n",
       "      <td>1</td>\n",
       "      <td>0.113776</td>\n",
       "    </tr>\n",
       "  </tbody>\n",
       "</table>\n",
       "</div>"
      ],
      "text/plain": [
       "       event_id  season  roadway_type  create_time_weekend  street_width  \\\n",
       "7293       9305  winter             2                    0          34.0   \n",
       "1193       1549  winter             2                    0          20.0   \n",
       "10324     13190  summer             2                    0          38.0   \n",
       "11223     14352  summer             1                    0          50.0   \n",
       "5561       7183  summer             1                    0          20.0   \n",
       "\n",
       "       posted_speed  daylight_ratio  peak_ratio  crash_binary_900ft  \\\n",
       "7293           50.0             1.0         0.0                   1   \n",
       "1193           40.0             1.0         0.0                   0   \n",
       "10324          50.0             0.0         0.0                   0   \n",
       "11223          25.0             0.0         0.0                   0   \n",
       "5561           25.0             0.0         0.0                   0   \n",
       "\n",
       "       crash_binary_1800ft  crash_binary_2700ft  crash_binary_3600ft  cluster  \\\n",
       "7293                     1                    1                    1        2   \n",
       "1193                     0                    1                    1        2   \n",
       "10324                    1                    1                    1        3   \n",
       "11223                    0                    0                    0        1   \n",
       "5561                     0                    1                    1        1   \n",
       "\n",
       "       crash_prob_900ft_actual  \n",
       "7293                  0.142004  \n",
       "1193                  0.142004  \n",
       "10324                 0.149784  \n",
       "11223                 0.113776  \n",
       "5561                  0.113776  "
      ]
     },
     "execution_count": 45,
     "metadata": {},
     "output_type": "execute_result"
    }
   ],
   "source": [
    "test_with_clusterlabels.head()"
   ]
  },
  {
   "cell_type": "code",
   "execution_count": 48,
   "metadata": {},
   "outputs": [],
   "source": [
    "test_with_pred_df = test_with_pred.reset_index()"
   ]
  },
  {
   "cell_type": "code",
   "execution_count": 49,
   "metadata": {},
   "outputs": [
    {
     "data": {
      "text/html": [
       "<div>\n",
       "<style scoped>\n",
       "    .dataframe tbody tr th:only-of-type {\n",
       "        vertical-align: middle;\n",
       "    }\n",
       "\n",
       "    .dataframe tbody tr th {\n",
       "        vertical-align: top;\n",
       "    }\n",
       "\n",
       "    .dataframe thead th {\n",
       "        text-align: right;\n",
       "    }\n",
       "</style>\n",
       "<table border=\"1\" class=\"dataframe\">\n",
       "  <thead>\n",
       "    <tr style=\"text-align: right;\">\n",
       "      <th></th>\n",
       "      <th>event_id</th>\n",
       "      <th>posted_speed</th>\n",
       "      <th>street_width</th>\n",
       "      <th>daylight_ratio</th>\n",
       "      <th>peak_ratio</th>\n",
       "      <th>season</th>\n",
       "      <th>roadway_type</th>\n",
       "      <th>create_time_weekend</th>\n",
       "      <th>cluster</th>\n",
       "      <th>crash_prob_900ft_pred</th>\n",
       "    </tr>\n",
       "  </thead>\n",
       "  <tbody>\n",
       "    <tr>\n",
       "      <th>0</th>\n",
       "      <td>9305</td>\n",
       "      <td>50.0</td>\n",
       "      <td>34.0</td>\n",
       "      <td>1.0</td>\n",
       "      <td>0.0</td>\n",
       "      <td>winter</td>\n",
       "      <td>2</td>\n",
       "      <td>0</td>\n",
       "      <td>2</td>\n",
       "      <td>0.138506</td>\n",
       "    </tr>\n",
       "    <tr>\n",
       "      <th>1</th>\n",
       "      <td>1549</td>\n",
       "      <td>40.0</td>\n",
       "      <td>20.0</td>\n",
       "      <td>1.0</td>\n",
       "      <td>0.0</td>\n",
       "      <td>winter</td>\n",
       "      <td>2</td>\n",
       "      <td>0</td>\n",
       "      <td>2</td>\n",
       "      <td>0.138506</td>\n",
       "    </tr>\n",
       "  </tbody>\n",
       "</table>\n",
       "</div>"
      ],
      "text/plain": [
       "   event_id  posted_speed  street_width  daylight_ratio  peak_ratio  season  \\\n",
       "0      9305          50.0          34.0             1.0         0.0  winter   \n",
       "1      1549          40.0          20.0             1.0         0.0  winter   \n",
       "\n",
       "   roadway_type  create_time_weekend  cluster  crash_prob_900ft_pred  \n",
       "0             2                    0        2               0.138506  \n",
       "1             2                    0        2               0.138506  "
      ]
     },
     "execution_count": 49,
     "metadata": {},
     "output_type": "execute_result"
    }
   ],
   "source": [
    "test_with_pred_df.head(2)"
   ]
  },
  {
   "cell_type": "code",
   "execution_count": 50,
   "metadata": {},
   "outputs": [],
   "source": [
    "test_merged_plot = pd.merge(test_with_clusterlabels[['event_id', 'crash_prob_900ft_actual', 'cluster']], test_with_pred_df[['event_id', 'crash_prob_900ft_pred']], on='event_id')"
   ]
  },
  {
   "cell_type": "code",
   "execution_count": 51,
   "metadata": {},
   "outputs": [
    {
     "data": {
      "text/html": [
       "<div>\n",
       "<style scoped>\n",
       "    .dataframe tbody tr th:only-of-type {\n",
       "        vertical-align: middle;\n",
       "    }\n",
       "\n",
       "    .dataframe tbody tr th {\n",
       "        vertical-align: top;\n",
       "    }\n",
       "\n",
       "    .dataframe thead th {\n",
       "        text-align: right;\n",
       "    }\n",
       "</style>\n",
       "<table border=\"1\" class=\"dataframe\">\n",
       "  <thead>\n",
       "    <tr style=\"text-align: right;\">\n",
       "      <th></th>\n",
       "      <th>event_id</th>\n",
       "      <th>crash_prob_900ft_actual</th>\n",
       "      <th>cluster</th>\n",
       "      <th>crash_prob_900ft_pred</th>\n",
       "    </tr>\n",
       "  </thead>\n",
       "  <tbody>\n",
       "    <tr>\n",
       "      <th>0</th>\n",
       "      <td>9305</td>\n",
       "      <td>0.142004</td>\n",
       "      <td>2</td>\n",
       "      <td>0.138506</td>\n",
       "    </tr>\n",
       "    <tr>\n",
       "      <th>1</th>\n",
       "      <td>1549</td>\n",
       "      <td>0.142004</td>\n",
       "      <td>2</td>\n",
       "      <td>0.138506</td>\n",
       "    </tr>\n",
       "  </tbody>\n",
       "</table>\n",
       "</div>"
      ],
      "text/plain": [
       "   event_id  crash_prob_900ft_actual  cluster  crash_prob_900ft_pred\n",
       "0      9305                 0.142004        2               0.138506\n",
       "1      1549                 0.142004        2               0.138506"
      ]
     },
     "execution_count": 51,
     "metadata": {},
     "output_type": "execute_result"
    }
   ],
   "source": [
    "test_merged_plot.head(2)"
   ]
  },
  {
   "cell_type": "code",
   "execution_count": 52,
   "metadata": {},
   "outputs": [
    {
     "data": {
      "text/plain": [
       "(6837, 4)"
      ]
     },
     "execution_count": 52,
     "metadata": {},
     "output_type": "execute_result"
    }
   ],
   "source": [
    "test_merged_plot.shape"
   ]
  },
  {
   "cell_type": "code",
   "execution_count": null,
   "metadata": {},
   "outputs": [],
   "source": [
    "plt.scatter"
   ]
  },
  {
   "cell_type": "code",
   "execution_count": 64,
   "metadata": {},
   "outputs": [
    {
     "data": {
      "text/plain": [
       "<matplotlib.axes._subplots.AxesSubplot at 0x1ed62780f88>"
      ]
     },
     "execution_count": 64,
     "metadata": {},
     "output_type": "execute_result"
    },
    {
     "data": {
      "image/png": "[encoded data removed]",
      "text/plain": [
       "<Figure size 720x720 with 1 Axes>"
      ]
     },
     "metadata": {},
     "output_type": "display_data"
    }
   ],
   "source": [
    "test_merged_plot.groupby('cluster').agg({'crash_prob_900ft_actual':'mean', 'crash_prob_900ft_pred':'mean'}).plot.bar(figsize=(10,10), color=['teal', 'purple'], title=\"Crash Probabilities by Clusters\")"
   ]
  },
  {
   "cell_type": "code",
   "execution_count": 65,
   "metadata": {},
   "outputs": [
    {
     "data": {
      "image/png": "[encoded data removed]",
      "text/plain": [
       "<Figure size 720x720 with 1 Axes>"
      ]
     },
     "metadata": {},
     "output_type": "display_data"
    }
   ],
   "source": [
    "BaseLine = [base_smape ]\n",
    "Final = [final_smape]\n",
    "index = ['SMAPE']\n",
    "df = pd.DataFrame({'BaseLine': BaseLine,\n",
    "                   'Final': Final}, index=index)\n",
    "ax = df.plot.bar(figsize=(10,10), color=['teal', 'purple' ], title=\"Baseline SMAPE vs Final SMAPE\")"
   ]
  },
  {
   "cell_type": "code",
   "execution_count": null,
   "metadata": {},
   "outputs": [],
   "source": []
  }
 ],
 "metadata": {
  "kernelspec": {
   "display_name": "Python 3",
   "language": "python",
   "name": "python3"
  },
  "language_info": {
   "codemirror_mode": {
    "name": "ipython",
    "version": 3
   },
   "file_extension": ".py",
   "mimetype": "text/x-python",
   "name": "python",
   "nbconvert_exporter": "python",
   "pygments_lexer": "ipython3",
   "version": "3.8.2"
  }
 },
 "nbformat": 4,
 "nbformat_minor": 4
}
