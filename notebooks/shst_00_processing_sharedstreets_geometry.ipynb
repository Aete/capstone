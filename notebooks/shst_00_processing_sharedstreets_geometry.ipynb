{
 "cells": [
  {
   "cell_type": "markdown",
   "metadata": {},
   "source": [
    "# shst_00_processing_sharedstreets_geometry"
   ]
  },
  {
   "cell_type": "markdown",
   "metadata": {},
   "source": [
    "This notebook is for processing Sharedstreets geometry geojson file that was created by 'Extract' command in Sharedstreet API (Please check 'how_to_use_sharedstreet_api.pdf').\n",
    "\n",
    "The chapters and objectives in the notebook like below: <br>\n",
    "- 0. Filter by NYC Boundary\n",
    "- 1. Extract node points\n",
    "- 2. Drop duplicated segments & Calculate length of each segments (unit: feet)\n"
   ]
  },
  {
   "cell_type": "markdown",
   "metadata": {},
   "source": [
    "## 0. Filter by NYC Boundary"
   ]
  },
  {
   "cell_type": "markdown",
   "metadata": {},
   "source": [
    "This chapter aims to filter the Sharedstreets geometry (segments) by NYC boundary. We will use 'sjoin' function in Geopandas."
   ]
  },
  {
   "cell_type": "code",
   "execution_count": 1,
   "metadata": {},
   "outputs": [],
   "source": [
    "import geopandas as gpd\n",
    "import pandas as pd\n",
    "import numpy as np\n",
    "from shapely.geometry import Point\n",
    "from fiona.crs import from_epsg"
   ]
  },
  {
   "cell_type": "code",
   "execution_count": 2,
   "metadata": {},
   "outputs": [],
   "source": [
    "# import nyc boundary shapefile\n",
    "gdf_nyc = gpd.read_file('../data/borough_boundaries_w_water/geo_export_b872bcc2-4115-4a61-9581-5cdb4e9449e6.shp')"
   ]
  },
  {
   "cell_type": "code",
   "execution_count": 3,
   "metadata": {},
   "outputs": [],
   "source": [
    "# make sure that you run the Sharedstreet extract command with bbox.geojson file in 'folder'\n",
    "# import the Sharedstreets geometry\n",
    "gdf_shst_segment = gpd.read_file('../data/sharedstreets_geometry/bbox.out.geojson')"
   ]
  },
  {
   "cell_type": "code",
   "execution_count": 4,
   "metadata": {},
   "outputs": [],
   "source": [
    "# filter the sharedstreets segments\n",
    "gdf_shst_segment_filtered = gpd.sjoin(gdf_shst_segment, gdf_nyc, op='intersects').drop(['index_right',\n",
    "                                                                                        'boro_code',\n",
    "                                                                                        'boro_name',\n",
    "                                                                                        'shape_area',\n",
    "                                                                                        'shape_leng'], axis=1)"
   ]
  },
  {
   "cell_type": "code",
   "execution_count": 5,
   "metadata": {},
   "outputs": [
    {
     "data": {
      "text/html": [
       "<div>\n",
       "<style scoped>\n",
       "    .dataframe tbody tr th:only-of-type {\n",
       "        vertical-align: middle;\n",
       "    }\n",
       "\n",
       "    .dataframe tbody tr th {\n",
       "        vertical-align: top;\n",
       "    }\n",
       "\n",
       "    .dataframe thead th {\n",
       "        text-align: right;\n",
       "    }\n",
       "</style>\n",
       "<table border=\"1\" class=\"dataframe\">\n",
       "  <thead>\n",
       "    <tr style=\"text-align: right;\">\n",
       "      <th></th>\n",
       "      <th>id</th>\n",
       "      <th>fromIntersectionId</th>\n",
       "      <th>toIntersectionId</th>\n",
       "      <th>forwardReferenceId</th>\n",
       "      <th>backReferenceId</th>\n",
       "      <th>roadClass</th>\n",
       "      <th>geometry</th>\n",
       "    </tr>\n",
       "  </thead>\n",
       "  <tbody>\n",
       "    <tr>\n",
       "      <th>0</th>\n",
       "      <td>db6792075ebbddc84479fda26174ca30</td>\n",
       "      <td>374b01a56e64379b8d7198962eaede90</td>\n",
       "      <td>2922a5babc5f921116a9fed4131a5bb1</td>\n",
       "      <td>48b7ab8e4cbafb2c1893cd682ded6704</td>\n",
       "      <td>a8475c8bd67f9e0ec8ce6a404aae41c1</td>\n",
       "      <td>Residential</td>\n",
       "      <td>LINESTRING (-73.91694 40.64668, -73.91625 40.6...</td>\n",
       "    </tr>\n",
       "    <tr>\n",
       "      <th>1</th>\n",
       "      <td>42ccdc2b9ebc38f98c22bb0035045628</td>\n",
       "      <td>37db438d57f16f92e5ba91f1ad1793bb</td>\n",
       "      <td>374b01a56e64379b8d7198962eaede90</td>\n",
       "      <td>febaf06db79d8a16588d1c387a62fdb2</td>\n",
       "      <td>9db38906c3d8ae5df463e297be4e2b9b</td>\n",
       "      <td>Residential</td>\n",
       "      <td>LINESTRING (-73.91765 40.64623, -73.91732 40.6...</td>\n",
       "    </tr>\n",
       "    <tr>\n",
       "      <th>2</th>\n",
       "      <td>84afb6627019b793945a7aab1feefe77</td>\n",
       "      <td>374b01a56e64379b8d7198962eaede90</td>\n",
       "      <td>5b6e4972c82ad4eb6d24c17b94b33b59</td>\n",
       "      <td>3f53ec240fc39c6b6810243b5b6fc830</td>\n",
       "      <td>fbbb71d35b794421e030d3ec9e1dcede</td>\n",
       "      <td>Residential</td>\n",
       "      <td>LINESTRING (-73.91694 40.64668, -73.91662 40.6...</td>\n",
       "    </tr>\n",
       "  </tbody>\n",
       "</table>\n",
       "</div>"
      ],
      "text/plain": [
       "                                 id                fromIntersectionId  \\\n",
       "0  db6792075ebbddc84479fda26174ca30  374b01a56e64379b8d7198962eaede90   \n",
       "1  42ccdc2b9ebc38f98c22bb0035045628  37db438d57f16f92e5ba91f1ad1793bb   \n",
       "2  84afb6627019b793945a7aab1feefe77  374b01a56e64379b8d7198962eaede90   \n",
       "\n",
       "                   toIntersectionId                forwardReferenceId  \\\n",
       "0  2922a5babc5f921116a9fed4131a5bb1  48b7ab8e4cbafb2c1893cd682ded6704   \n",
       "1  374b01a56e64379b8d7198962eaede90  febaf06db79d8a16588d1c387a62fdb2   \n",
       "2  5b6e4972c82ad4eb6d24c17b94b33b59  3f53ec240fc39c6b6810243b5b6fc830   \n",
       "\n",
       "                    backReferenceId    roadClass  \\\n",
       "0  a8475c8bd67f9e0ec8ce6a404aae41c1  Residential   \n",
       "1  9db38906c3d8ae5df463e297be4e2b9b  Residential   \n",
       "2  fbbb71d35b794421e030d3ec9e1dcede  Residential   \n",
       "\n",
       "                                            geometry  \n",
       "0  LINESTRING (-73.91694 40.64668, -73.91625 40.6...  \n",
       "1  LINESTRING (-73.91765 40.64623, -73.91732 40.6...  \n",
       "2  LINESTRING (-73.91694 40.64668, -73.91662 40.6...  "
      ]
     },
     "execution_count": 5,
     "metadata": {},
     "output_type": "execute_result"
    }
   ],
   "source": [
    "gdf_shst_segment_filtered.head(3)"
   ]
  },
  {
   "cell_type": "markdown",
   "metadata": {},
   "source": [
    "## 1. Extract node points"
   ]
  },
  {
   "cell_type": "markdown",
   "metadata": {},
   "source": [
    "From line segments, the position of 'from_node' and 'to_node' will be extracted at this part."
   ]
  },
  {
   "cell_type": "markdown",
   "metadata": {},
   "source": [
    "#### 1-1 from_node"
   ]
  },
  {
   "cell_type": "code",
   "execution_count": 6,
   "metadata": {},
   "outputs": [],
   "source": [
    "# extract 'from node id' and its geometry (line segment)\n",
    "gdf_shst_from_node = gdf_shst_segment_filtered[['fromIntersectionId','geometry']]"
   ]
  },
  {
   "cell_type": "code",
   "execution_count": 7,
   "metadata": {},
   "outputs": [
    {
     "name": "stderr",
     "output_type": "stream",
     "text": [
      "<ipython-input-7-6b974926cccf>:1: SettingWithCopyWarning: \n",
      "A value is trying to be set on a copy of a slice from a DataFrame.\n",
      "Try using .loc[row_indexer,col_indexer] = value instead\n",
      "\n",
      "See the caveats in the documentation: https://pandas.pydata.org/pandas-docs/stable/user_guide/indexing.html#returning-a-view-versus-a-copy\n",
      "  gdf_shst_from_node['fromIntersectionGeometry']= gdf_shst_from_node['geometry'].apply(lambda x: Point(x.coords[0]))\n"
     ]
    }
   ],
   "source": [
    "# from the line segment, extract the first point\n",
    "gdf_shst_from_node['fromIntersectionGeometry']= gdf_shst_from_node['geometry'].apply(lambda x: Point(x.coords[0]))"
   ]
  },
  {
   "cell_type": "code",
   "execution_count": 8,
   "metadata": {},
   "outputs": [],
   "source": [
    "# drop the geometry (segement)\n",
    "gdf_shst_from_node = gdf_shst_from_node.drop('geometry', axis=1)"
   ]
  },
  {
   "cell_type": "code",
   "execution_count": 9,
   "metadata": {},
   "outputs": [],
   "source": [
    "# drop duplicates\n",
    "gdf_shst_from_node = gdf_shst_from_node.drop_duplicates()"
   ]
  },
  {
   "cell_type": "markdown",
   "metadata": {},
   "source": [
    "#### 1.2 to_node "
   ]
  },
  {
   "cell_type": "code",
   "execution_count": 10,
   "metadata": {},
   "outputs": [],
   "source": [
    "# extract 'to node id' and its geometry (line segment)\n",
    "gdf_shst_to_node = gdf_shst_segment_filtered[['toIntersectionId','geometry']]"
   ]
  },
  {
   "cell_type": "code",
   "execution_count": 11,
   "metadata": {},
   "outputs": [
    {
     "name": "stderr",
     "output_type": "stream",
     "text": [
      "<ipython-input-11-72d883ff5dbf>:1: SettingWithCopyWarning: \n",
      "A value is trying to be set on a copy of a slice from a DataFrame.\n",
      "Try using .loc[row_indexer,col_indexer] = value instead\n",
      "\n",
      "See the caveats in the documentation: https://pandas.pydata.org/pandas-docs/stable/user_guide/indexing.html#returning-a-view-versus-a-copy\n",
      "  gdf_shst_to_node['toIntersectionGeometry'] = gdf_shst_to_node['geometry'].apply(lambda x: Point(x.coords[-1]))\n"
     ]
    }
   ],
   "source": [
    "# from the line segment, extract the last point\n",
    "gdf_shst_to_node['toIntersectionGeometry'] = gdf_shst_to_node['geometry'].apply(lambda x: Point(x.coords[-1]))"
   ]
  },
  {
   "cell_type": "code",
   "execution_count": 12,
   "metadata": {},
   "outputs": [],
   "source": [
    "# drop the geometry (segement)\n",
    "gdf_shst_to_node = gdf_shst_to_node.drop('geometry', axis=1)"
   ]
  },
  {
   "cell_type": "code",
   "execution_count": 13,
   "metadata": {},
   "outputs": [],
   "source": [
    "# drop duplicates\n",
    "gdf_shst_to_node = gdf_shst_to_node.drop_duplicates()"
   ]
  },
  {
   "cell_type": "markdown",
   "metadata": {},
   "source": [
    "#### Merge dataset\n",
    "\n",
    "Here, we will merge from and to node dataset, drop duplicates, and export that as a shst_node dataset"
   ]
  },
  {
   "cell_type": "code",
   "execution_count": 14,
   "metadata": {},
   "outputs": [],
   "source": [
    "# change the column names \n",
    "gdf_shst_from_node = gdf_shst_from_node.rename(columns={'fromIntersectionId':'node_id',\n",
    "                                                'fromIntersectionGeometry':'geometry'})  \n",
    "\n",
    "gdf_shst_to_node = gdf_shst_to_node.rename(columns={'toIntersectionId':'node_id',\n",
    "                                                'toIntersectionGeometry':'geometry'})"
   ]
  },
  {
   "cell_type": "code",
   "execution_count": 16,
   "metadata": {},
   "outputs": [],
   "source": [
    "# merge (concatenate) the datasets\n",
    "gdf_shst_node = pd.concat([gdf_shst_from_node,gdf_shst_to_node], axis=0, ignore_index=True)"
   ]
  },
  {
   "cell_type": "code",
   "execution_count": 17,
   "metadata": {},
   "outputs": [],
   "source": [
    "# drop duplicates\n",
    "gdf_shst_node = gdf_shst_node.drop_duplicates()"
   ]
  },
  {
   "cell_type": "code",
   "execution_count": 18,
   "metadata": {},
   "outputs": [],
   "source": [
    "# set the dataset type as geodataframe\n",
    "gdf_shst_node = gpd.GeoDataFrame(gdf_shst_node, geometry='geometry')"
   ]
  },
  {
   "cell_type": "code",
   "execution_count": 19,
   "metadata": {},
   "outputs": [],
   "source": [
    "# reset the index\n",
    "gdf_shst_node = gdf_shst_node.reset_index().drop('index', axis=1)"
   ]
  },
  {
   "cell_type": "code",
   "execution_count": 20,
   "metadata": {},
   "outputs": [
    {
     "data": {
      "text/html": [
       "<div>\n",
       "<style scoped>\n",
       "    .dataframe tbody tr th:only-of-type {\n",
       "        vertical-align: middle;\n",
       "    }\n",
       "\n",
       "    .dataframe tbody tr th {\n",
       "        vertical-align: top;\n",
       "    }\n",
       "\n",
       "    .dataframe thead th {\n",
       "        text-align: right;\n",
       "    }\n",
       "</style>\n",
       "<table border=\"1\" class=\"dataframe\">\n",
       "  <thead>\n",
       "    <tr style=\"text-align: right;\">\n",
       "      <th></th>\n",
       "      <th>node_id</th>\n",
       "      <th>geometry</th>\n",
       "    </tr>\n",
       "  </thead>\n",
       "  <tbody>\n",
       "    <tr>\n",
       "      <th>0</th>\n",
       "      <td>374b01a56e64379b8d7198962eaede90</td>\n",
       "      <td>POINT (-73.91694 40.64668)</td>\n",
       "    </tr>\n",
       "    <tr>\n",
       "      <th>1</th>\n",
       "      <td>37db438d57f16f92e5ba91f1ad1793bb</td>\n",
       "      <td>POINT (-73.91765 40.64623)</td>\n",
       "    </tr>\n",
       "    <tr>\n",
       "      <th>2</th>\n",
       "      <td>5b6e4972c82ad4eb6d24c17b94b33b59</td>\n",
       "      <td>POINT (-73.91621 40.64715)</td>\n",
       "    </tr>\n",
       "    <tr>\n",
       "      <th>3</th>\n",
       "      <td>c8dd8ecf9b57214609ecead610eef9cb</td>\n",
       "      <td>POINT (-73.91715 40.64387)</td>\n",
       "    </tr>\n",
       "    <tr>\n",
       "      <th>4</th>\n",
       "      <td>a19ad445993732ebd6b49a61801b9547</td>\n",
       "      <td>POINT (-73.91665 40.64342)</td>\n",
       "    </tr>\n",
       "  </tbody>\n",
       "</table>\n",
       "</div>"
      ],
      "text/plain": [
       "                            node_id                    geometry\n",
       "0  374b01a56e64379b8d7198962eaede90  POINT (-73.91694 40.64668)\n",
       "1  37db438d57f16f92e5ba91f1ad1793bb  POINT (-73.91765 40.64623)\n",
       "2  5b6e4972c82ad4eb6d24c17b94b33b59  POINT (-73.91621 40.64715)\n",
       "3  c8dd8ecf9b57214609ecead610eef9cb  POINT (-73.91715 40.64387)\n",
       "4  a19ad445993732ebd6b49a61801b9547  POINT (-73.91665 40.64342)"
      ]
     },
     "execution_count": 20,
     "metadata": {},
     "output_type": "execute_result"
    }
   ],
   "source": [
    "gdf_shst_node.head()"
   ]
  },
  {
   "cell_type": "markdown",
   "metadata": {},
   "source": [
    "Export node point geometries as geojson and shapefile"
   ]
  },
  {
   "cell_type": "code",
   "execution_count": 21,
   "metadata": {},
   "outputs": [],
   "source": [
    "gdf_shst_node.to_file('../data/sharedstreets_geometry/node/shst_node.shp')"
   ]
  },
  {
   "cell_type": "code",
   "execution_count": 22,
   "metadata": {},
   "outputs": [],
   "source": [
    "gdf_shst_node.to_file('../data/sharedstreets_geometry/node/shst_node.geojson', driver='GeoJSON')"
   ]
  },
  {
   "cell_type": "markdown",
   "metadata": {},
   "source": [
    "## 2. Drop duplicated segments & Calculate length of each segments (unit: feet)"
   ]
  },
  {
   "cell_type": "code",
   "execution_count": 23,
   "metadata": {},
   "outputs": [
    {
     "data": {
      "text/html": [
       "<div>\n",
       "<style scoped>\n",
       "    .dataframe tbody tr th:only-of-type {\n",
       "        vertical-align: middle;\n",
       "    }\n",
       "\n",
       "    .dataframe tbody tr th {\n",
       "        vertical-align: top;\n",
       "    }\n",
       "\n",
       "    .dataframe thead th {\n",
       "        text-align: right;\n",
       "    }\n",
       "</style>\n",
       "<table border=\"1\" class=\"dataframe\">\n",
       "  <thead>\n",
       "    <tr style=\"text-align: right;\">\n",
       "      <th></th>\n",
       "      <th>id</th>\n",
       "      <th>fromIntersectionId</th>\n",
       "      <th>toIntersectionId</th>\n",
       "      <th>forwardReferenceId</th>\n",
       "      <th>backReferenceId</th>\n",
       "      <th>roadClass</th>\n",
       "      <th>geometry</th>\n",
       "    </tr>\n",
       "  </thead>\n",
       "  <tbody>\n",
       "    <tr>\n",
       "      <th>0</th>\n",
       "      <td>db6792075ebbddc84479fda26174ca30</td>\n",
       "      <td>374b01a56e64379b8d7198962eaede90</td>\n",
       "      <td>2922a5babc5f921116a9fed4131a5bb1</td>\n",
       "      <td>48b7ab8e4cbafb2c1893cd682ded6704</td>\n",
       "      <td>a8475c8bd67f9e0ec8ce6a404aae41c1</td>\n",
       "      <td>Residential</td>\n",
       "      <td>LINESTRING (-73.91694 40.64668, -73.91625 40.6...</td>\n",
       "    </tr>\n",
       "    <tr>\n",
       "      <th>1</th>\n",
       "      <td>42ccdc2b9ebc38f98c22bb0035045628</td>\n",
       "      <td>37db438d57f16f92e5ba91f1ad1793bb</td>\n",
       "      <td>374b01a56e64379b8d7198962eaede90</td>\n",
       "      <td>febaf06db79d8a16588d1c387a62fdb2</td>\n",
       "      <td>9db38906c3d8ae5df463e297be4e2b9b</td>\n",
       "      <td>Residential</td>\n",
       "      <td>LINESTRING (-73.91765 40.64623, -73.91732 40.6...</td>\n",
       "    </tr>\n",
       "    <tr>\n",
       "      <th>2</th>\n",
       "      <td>84afb6627019b793945a7aab1feefe77</td>\n",
       "      <td>374b01a56e64379b8d7198962eaede90</td>\n",
       "      <td>5b6e4972c82ad4eb6d24c17b94b33b59</td>\n",
       "      <td>3f53ec240fc39c6b6810243b5b6fc830</td>\n",
       "      <td>fbbb71d35b794421e030d3ec9e1dcede</td>\n",
       "      <td>Residential</td>\n",
       "      <td>LINESTRING (-73.91694 40.64668, -73.91662 40.6...</td>\n",
       "    </tr>\n",
       "  </tbody>\n",
       "</table>\n",
       "</div>"
      ],
      "text/plain": [
       "                                 id                fromIntersectionId  \\\n",
       "0  db6792075ebbddc84479fda26174ca30  374b01a56e64379b8d7198962eaede90   \n",
       "1  42ccdc2b9ebc38f98c22bb0035045628  37db438d57f16f92e5ba91f1ad1793bb   \n",
       "2  84afb6627019b793945a7aab1feefe77  374b01a56e64379b8d7198962eaede90   \n",
       "\n",
       "                   toIntersectionId                forwardReferenceId  \\\n",
       "0  2922a5babc5f921116a9fed4131a5bb1  48b7ab8e4cbafb2c1893cd682ded6704   \n",
       "1  374b01a56e64379b8d7198962eaede90  febaf06db79d8a16588d1c387a62fdb2   \n",
       "2  5b6e4972c82ad4eb6d24c17b94b33b59  3f53ec240fc39c6b6810243b5b6fc830   \n",
       "\n",
       "                    backReferenceId    roadClass  \\\n",
       "0  a8475c8bd67f9e0ec8ce6a404aae41c1  Residential   \n",
       "1  9db38906c3d8ae5df463e297be4e2b9b  Residential   \n",
       "2  fbbb71d35b794421e030d3ec9e1dcede  Residential   \n",
       "\n",
       "                                            geometry  \n",
       "0  LINESTRING (-73.91694 40.64668, -73.91625 40.6...  \n",
       "1  LINESTRING (-73.91765 40.64623, -73.91732 40.6...  \n",
       "2  LINESTRING (-73.91694 40.64668, -73.91662 40.6...  "
      ]
     },
     "execution_count": 23,
     "metadata": {},
     "output_type": "execute_result"
    }
   ],
   "source": [
    "gdf_shst_segment_filtered.head(3)"
   ]
  },
  {
   "cell_type": "code",
   "execution_count": 25,
   "metadata": {},
   "outputs": [],
   "source": [
    "gdf_shst_segment_filtered = gdf_shst_segment_filtered.drop_duplicates(subset='id')"
   ]
  },
  {
   "cell_type": "code",
   "execution_count": 27,
   "metadata": {},
   "outputs": [
    {
     "name": "stderr",
     "output_type": "stream",
     "text": [
      "C:\\Users\\hsg82\\AppData\\Local\\Continuum\\anaconda3\\envs\\capstone2020\\lib\\site-packages\\pyproj\\crs\\crs.py:53: FutureWarning: '+init=<authority>:<code>' syntax is deprecated. '<authority>:<code>' is the preferred initialization method. When making the change, be mindful of axis order changes: https://pyproj4.github.io/pyproj/stable/gotchas.html#axis-order-changes-in-proj-6\n",
      "  return _prepare_from_string(\" \".join(pjargs))\n"
     ]
    }
   ],
   "source": [
    "# to calculate length, we have to change the coordinate system\n",
    "gdf_shst_segment_filtered_2263 = gdf_shst_segment_filtered.copy()\n",
    "\n",
    "\n",
    "# change coordinate system from epsg4326 to epsg2263\n",
    "# epsg2263 is based on us-ft.\n",
    "gdf_shst_segment_filtered_2263.crs = from_epsg(4326)\n",
    "gdf_shst_segment_filtered_2263 = gdf_shst_segment_filtered_2263.to_crs(epsg=2263)  "
   ]
  },
  {
   "cell_type": "code",
   "execution_count": 28,
   "metadata": {},
   "outputs": [],
   "source": [
    "# calculate length\n",
    "gdf_shst_segment_filtered_2263['length'] = gdf_shst_segment_filtered_2263['geometry'].length"
   ]
  },
  {
   "cell_type": "code",
   "execution_count": 29,
   "metadata": {},
   "outputs": [],
   "source": [
    "# add length into the gdf_shst_segment_filtered dataframe\n",
    "gdf_shst_segment_filtered = gdf_shst_segment_filtered.merge(gdf_shst_segment_filtered_2263[['id','length']], on='id')"
   ]
  },
  {
   "cell_type": "code",
   "execution_count": 30,
   "metadata": {},
   "outputs": [],
   "source": [
    "# export dataset\n",
    "gdf_shst_segment_filtered.to_file('../data/sharedstreets_geometry/segment/shst_segment.shp')"
   ]
  },
  {
   "cell_type": "code",
   "execution_count": 31,
   "metadata": {},
   "outputs": [],
   "source": [
    "# export dataset\n",
    "gdf_shst_segment_filtered.to_file('../data/sharedstreets_geometry/segment/shst_segment.geojson', driver='GeoJSON')"
   ]
  },
  {
   "cell_type": "code",
   "execution_count": 32,
   "metadata": {},
   "outputs": [],
   "source": [
    "# export dataset (this is simplified dataset that contain only id and geometry columns)\n",
    "gdf_shst_segment_filtered[['id','geometry']].to_file('../data/sharedstreets_geometry/segment/shst_segment_simplified.geojson', driver='GeoJSON')"
   ]
  }
 ],
 "metadata": {
  "kernelspec": {
   "display_name": "Python 3",
   "language": "python",
   "name": "python3"
  },
  "language_info": {
   "codemirror_mode": {
    "name": "ipython",
    "version": 3
   },
   "file_extension": ".py",
   "mimetype": "text/x-python",
   "name": "python",
   "nbconvert_exporter": "python",
   "pygments_lexer": "ipython3",
   "version": "3.8.2"
  }
 },
 "nbformat": 4,
 "nbformat_minor": 4
}
