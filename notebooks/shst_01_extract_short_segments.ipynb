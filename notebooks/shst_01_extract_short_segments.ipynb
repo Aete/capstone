{
 "cells": [
  {
   "cell_type": "markdown",
   "metadata": {},
   "source": [
    "# shst_01_extract_short_segments"
   ]
  },
  {
   "cell_type": "markdown",
   "metadata": {},
   "source": [
    "A quirk of the SharedStreets referencing system that had to be addressed was that intersections between two adjacent roadbeds were represented as a short segment line instead of an intersection point. <br>\n",
    "For this reason, in this notebook, segment where were less than 100ft and lion node points were mapped on was identified as node points (we named this as 'short segment')"
   ]
  },
  {
   "cell_type": "markdown",
   "metadata": {},
   "source": [
    "**Before running this notebook, mapping the lion node points into Sharedstreet geometry with 'SharedStreets API' is required.**"
   ]
  },
  {
   "cell_type": "markdown",
   "metadata": {},
   "source": [
    "## 1. Extract Short segment"
   ]
  },
  {
   "cell_type": "code",
   "execution_count": 1,
   "metadata": {},
   "outputs": [],
   "source": [
    "import pandas as pd\n",
    "import geopandas as gpd"
   ]
  },
  {
   "cell_type": "code",
   "execution_count": 2,
   "metadata": {},
   "outputs": [],
   "source": [
    "# make sure that you mapped the lion node points using Sharedstreet API\n",
    "# import the lion node point dataset that mapped on the sharedstreets api\n",
    "gdf_lion_matched = gpd.read_file('../data/sharedstreets_results/lion_node/lion_node.matched.geojson')"
   ]
  },
  {
   "cell_type": "code",
   "execution_count": 3,
   "metadata": {},
   "outputs": [
    {
     "data": {
      "text/html": [
       "<div>\n",
       "<style scoped>\n",
       "    .dataframe tbody tr th:only-of-type {\n",
       "        vertical-align: middle;\n",
       "    }\n",
       "\n",
       "    .dataframe tbody tr th {\n",
       "        vertical-align: top;\n",
       "    }\n",
       "\n",
       "    .dataframe thead th {\n",
       "        text-align: right;\n",
       "    }\n",
       "</style>\n",
       "<table border=\"1\" class=\"dataframe\">\n",
       "  <thead>\n",
       "    <tr style=\"text-align: right;\">\n",
       "      <th></th>\n",
       "      <th>score</th>\n",
       "      <th>location</th>\n",
       "      <th>referenceLength</th>\n",
       "      <th>geometryId</th>\n",
       "      <th>referenceId</th>\n",
       "      <th>direction</th>\n",
       "      <th>bearing</th>\n",
       "      <th>sideOfStreet</th>\n",
       "      <th>interceptAngle</th>\n",
       "      <th>geometry</th>\n",
       "    </tr>\n",
       "  </thead>\n",
       "  <tbody>\n",
       "    <tr>\n",
       "      <th>0</th>\n",
       "      <td>0.052116</td>\n",
       "      <td>96.843546</td>\n",
       "      <td>96.91</td>\n",
       "      <td>04e535b2594119b4e9d4cfc368ba127c</td>\n",
       "      <td>b4b87ba043856810117dabd942a28dfa</td>\n",
       "      <td>backward</td>\n",
       "      <td>261.200149</td>\n",
       "      <td>right</td>\n",
       "      <td>90.208016</td>\n",
       "      <td>POINT (-74.25422 40.50617)</td>\n",
       "    </tr>\n",
       "    <tr>\n",
       "      <th>1</th>\n",
       "      <td>2.137940</td>\n",
       "      <td>0.154738</td>\n",
       "      <td>40.88</td>\n",
       "      <td>9b44f18a30f0dc2131f392909ee36a0e</td>\n",
       "      <td>daaf02da8f37d979848cdbd49f127ba7</td>\n",
       "      <td>forward</td>\n",
       "      <td>347.958348</td>\n",
       "      <td>right</td>\n",
       "      <td>89.996935</td>\n",
       "      <td>POINT (-74.25412 40.50581)</td>\n",
       "    </tr>\n",
       "    <tr>\n",
       "      <th>2</th>\n",
       "      <td>2.764782</td>\n",
       "      <td>246.372624</td>\n",
       "      <td>329.59</td>\n",
       "      <td>6c754d6c85315a5a2398c0c8964e9998</td>\n",
       "      <td>b9a7a78847e272d1a83dfd7aa6b2b428</td>\n",
       "      <td>forward</td>\n",
       "      <td>349.994421</td>\n",
       "      <td>left</td>\n",
       "      <td>270.001425</td>\n",
       "      <td>POINT (-74.25314 40.50477)</td>\n",
       "    </tr>\n",
       "  </tbody>\n",
       "</table>\n",
       "</div>"
      ],
      "text/plain": [
       "      score    location  referenceLength                        geometryId  \\\n",
       "0  0.052116   96.843546            96.91  04e535b2594119b4e9d4cfc368ba127c   \n",
       "1  2.137940    0.154738            40.88  9b44f18a30f0dc2131f392909ee36a0e   \n",
       "2  2.764782  246.372624           329.59  6c754d6c85315a5a2398c0c8964e9998   \n",
       "\n",
       "                        referenceId direction     bearing sideOfStreet  \\\n",
       "0  b4b87ba043856810117dabd942a28dfa  backward  261.200149        right   \n",
       "1  daaf02da8f37d979848cdbd49f127ba7   forward  347.958348        right   \n",
       "2  b9a7a78847e272d1a83dfd7aa6b2b428   forward  349.994421         left   \n",
       "\n",
       "   interceptAngle                    geometry  \n",
       "0       90.208016  POINT (-74.25422 40.50617)  \n",
       "1       89.996935  POINT (-74.25412 40.50581)  \n",
       "2      270.001425  POINT (-74.25314 40.50477)  "
      ]
     },
     "execution_count": 3,
     "metadata": {},
     "output_type": "execute_result"
    }
   ],
   "source": [
    "gdf_lion_matched.head(3)"
   ]
  },
  {
   "cell_type": "code",
   "execution_count": 4,
   "metadata": {},
   "outputs": [],
   "source": [
    "# make sure that you run the 'shst_00_processing_sharedstreets_geometry' notebook to get the 'shst_segment.shp'\n",
    "# import the sharedstreet segments\n",
    "gdf_shst_segment = gpd.read_file('../data/sharedstreets_geometry/segment/shst_segment.shp')"
   ]
  },
  {
   "cell_type": "code",
   "execution_count": 5,
   "metadata": {},
   "outputs": [
    {
     "data": {
      "text/html": [
       "<div>\n",
       "<style scoped>\n",
       "    .dataframe tbody tr th:only-of-type {\n",
       "        vertical-align: middle;\n",
       "    }\n",
       "\n",
       "    .dataframe tbody tr th {\n",
       "        vertical-align: top;\n",
       "    }\n",
       "\n",
       "    .dataframe thead th {\n",
       "        text-align: right;\n",
       "    }\n",
       "</style>\n",
       "<table border=\"1\" class=\"dataframe\">\n",
       "  <thead>\n",
       "    <tr style=\"text-align: right;\">\n",
       "      <th></th>\n",
       "      <th>id</th>\n",
       "      <th>fromInters</th>\n",
       "      <th>toIntersec</th>\n",
       "      <th>forwardRef</th>\n",
       "      <th>backRefere</th>\n",
       "      <th>roadClass</th>\n",
       "      <th>length</th>\n",
       "      <th>geometry</th>\n",
       "    </tr>\n",
       "  </thead>\n",
       "  <tbody>\n",
       "    <tr>\n",
       "      <th>0</th>\n",
       "      <td>db6792075ebbddc84479fda26174ca30</td>\n",
       "      <td>374b01a56e64379b8d7198962eaede90</td>\n",
       "      <td>2922a5babc5f921116a9fed4131a5bb1</td>\n",
       "      <td>48b7ab8e4cbafb2c1893cd682ded6704</td>\n",
       "      <td>a8475c8bd67f9e0ec8ce6a404aae41c1</td>\n",
       "      <td>Residential</td>\n",
       "      <td>299.421958</td>\n",
       "      <td>LINESTRING (-73.91694 40.64668, -73.91625 40.6...</td>\n",
       "    </tr>\n",
       "    <tr>\n",
       "      <th>1</th>\n",
       "      <td>42ccdc2b9ebc38f98c22bb0035045628</td>\n",
       "      <td>37db438d57f16f92e5ba91f1ad1793bb</td>\n",
       "      <td>374b01a56e64379b8d7198962eaede90</td>\n",
       "      <td>febaf06db79d8a16588d1c387a62fdb2</td>\n",
       "      <td>9db38906c3d8ae5df463e297be4e2b9b</td>\n",
       "      <td>Residential</td>\n",
       "      <td>256.577253</td>\n",
       "      <td>LINESTRING (-73.91765 40.64623, -73.91732 40.6...</td>\n",
       "    </tr>\n",
       "    <tr>\n",
       "      <th>2</th>\n",
       "      <td>84afb6627019b793945a7aab1feefe77</td>\n",
       "      <td>374b01a56e64379b8d7198962eaede90</td>\n",
       "      <td>5b6e4972c82ad4eb6d24c17b94b33b59</td>\n",
       "      <td>3f53ec240fc39c6b6810243b5b6fc830</td>\n",
       "      <td>fbbb71d35b794421e030d3ec9e1dcede</td>\n",
       "      <td>Residential</td>\n",
       "      <td>264.356932</td>\n",
       "      <td>LINESTRING (-73.91694 40.64668, -73.91662 40.6...</td>\n",
       "    </tr>\n",
       "  </tbody>\n",
       "</table>\n",
       "</div>"
      ],
      "text/plain": [
       "                                 id                        fromInters  \\\n",
       "0  db6792075ebbddc84479fda26174ca30  374b01a56e64379b8d7198962eaede90   \n",
       "1  42ccdc2b9ebc38f98c22bb0035045628  37db438d57f16f92e5ba91f1ad1793bb   \n",
       "2  84afb6627019b793945a7aab1feefe77  374b01a56e64379b8d7198962eaede90   \n",
       "\n",
       "                         toIntersec                        forwardRef  \\\n",
       "0  2922a5babc5f921116a9fed4131a5bb1  48b7ab8e4cbafb2c1893cd682ded6704   \n",
       "1  374b01a56e64379b8d7198962eaede90  febaf06db79d8a16588d1c387a62fdb2   \n",
       "2  5b6e4972c82ad4eb6d24c17b94b33b59  3f53ec240fc39c6b6810243b5b6fc830   \n",
       "\n",
       "                         backRefere    roadClass      length  \\\n",
       "0  a8475c8bd67f9e0ec8ce6a404aae41c1  Residential  299.421958   \n",
       "1  9db38906c3d8ae5df463e297be4e2b9b  Residential  256.577253   \n",
       "2  fbbb71d35b794421e030d3ec9e1dcede  Residential  264.356932   \n",
       "\n",
       "                                            geometry  \n",
       "0  LINESTRING (-73.91694 40.64668, -73.91625 40.6...  \n",
       "1  LINESTRING (-73.91765 40.64623, -73.91732 40.6...  \n",
       "2  LINESTRING (-73.91694 40.64668, -73.91662 40.6...  "
      ]
     },
     "execution_count": 5,
     "metadata": {},
     "output_type": "execute_result"
    }
   ],
   "source": [
    "gdf_shst_segment.head(3)"
   ]
  },
  {
   "cell_type": "code",
   "execution_count": 6,
   "metadata": {},
   "outputs": [],
   "source": [
    "# extracted id of sharedstreets segments that matched with lion node points\n",
    "list_lion_matched_shst_id = gdf_lion_matched['geometryId'].unique().tolist()"
   ]
  },
  {
   "cell_type": "code",
   "execution_count": 7,
   "metadata": {},
   "outputs": [],
   "source": [
    "# I found one segment that was missed\n",
    "list_lion_matched_shst_id.append('29bf447ea077f90a45ae92eadc8fac05') "
   ]
  },
  {
   "cell_type": "code",
   "execution_count": 8,
   "metadata": {},
   "outputs": [],
   "source": [
    "# filter the segment that were matched with lion node points\n",
    "gdf_shst_short_segment = gdf_shst_segment.loc[gdf_shst_segment['id'].isin(list_lion_matched_shst_id)]"
   ]
  },
  {
   "cell_type": "code",
   "execution_count": 9,
   "metadata": {},
   "outputs": [],
   "source": [
    "# filter the segment that were less than 100ft\n",
    "gdf_shst_short_segment = gdf_shst_short_segment.loc[gdf_shst_short_segment['length']<100]"
   ]
  },
  {
   "cell_type": "code",
   "execution_count": 10,
   "metadata": {},
   "outputs": [],
   "source": [
    "# export the dataset\n",
    "gdf_shst_short_segment.to_file('../data/sharedstreets_geometry/short_segment/shst_short_segment.shp')"
   ]
  },
  {
   "cell_type": "code",
   "execution_count": 11,
   "metadata": {},
   "outputs": [],
   "source": [
    "# export the dataset\n",
    "gdf_shst_short_segment.to_file('../data/sharedstreets_geometry/short_segment/shst_short_segment.geojson', driver='GeoJSON')"
   ]
  },
  {
   "cell_type": "markdown",
   "metadata": {},
   "source": [
    "Here, we will calculate the centroid of the 'short segment'. This is needed to draw a map in the dashboard"
   ]
  },
  {
   "cell_type": "code",
   "execution_count": 12,
   "metadata": {},
   "outputs": [],
   "source": [
    "# calculate centroid of the short segments\n",
    "gdf_shst_short_segment['centroid'] = gdf_shst_short_segment['geometry'].centroid"
   ]
  },
  {
   "cell_type": "code",
   "execution_count": 14,
   "metadata": {},
   "outputs": [],
   "source": [
    "# set the geometry as 'centroid'\n",
    "gdf_shst_short_segment = gdf_shst_short_segment.drop('geometry', axis=1)\n",
    "gdf_shst_short_segment['geometry'] = gdf_shst_short_segment['centroid']\n",
    "gdf_shst_short_segment = gdf_shst_short_segment.drop('centroid', axis=1)"
   ]
  },
  {
   "cell_type": "code",
   "execution_count": 16,
   "metadata": {},
   "outputs": [],
   "source": [
    "# export the dataset\n",
    "gdf_shst_short_segment.to_file('../data/sharedstreets_geometry/short_segment/shst_short_segment_centroid.shp')"
   ]
  },
  {
   "cell_type": "code",
   "execution_count": 17,
   "metadata": {},
   "outputs": [],
   "source": [
    "# export the dataset\n",
    "gdf_shst_short_segment.to_file('../data/sharedstreets_geometry/short_segment/shst_short_segment_centroid.geojson', driver='GeoJSON')"
   ]
  },
  {
   "cell_type": "markdown",
   "metadata": {},
   "source": [
    "## 2. Identify sharedstreets segments which are not assigned as 'short segment'"
   ]
  },
  {
   "cell_type": "markdown",
   "metadata": {},
   "source": [
    "This part for identifying the segments which are not identified as the 'Short segment'."
   ]
  },
  {
   "cell_type": "code",
   "execution_count": 23,
   "metadata": {},
   "outputs": [],
   "source": [
    "# get segments which is not the short segments\n",
    "list_short_segment = gdf_shst_short_segment['id'].unique().tolist()\n",
    "gdf_shst_segment_filtered = gdf_shst_segment.loc[~gdf_shst_segment['id'].isin(list_short_segment)]"
   ]
  },
  {
   "cell_type": "code",
   "execution_count": 27,
   "metadata": {},
   "outputs": [],
   "source": [
    "gdf_shst_segment_filtered.to_file('../data/sharedstreets_geometry/segment_filtered/shst_segment_filtered.shp')"
   ]
  },
  {
   "cell_type": "code",
   "execution_count": 26,
   "metadata": {},
   "outputs": [],
   "source": [
    "gdf_shst_segment_filtered.to_file('../data/sharedstreets_geometry/segment_filtered/shst_segment_filtered.geojson', driver='GeoJSON')"
   ]
  },
  {
   "cell_type": "code",
   "execution_count": 28,
   "metadata": {},
   "outputs": [],
   "source": [
    "gdf_shst_segment_filtered[['id','geometry']].to_file('../data/sharedstreets_geometry/segment_filtered/shst_segment_filtered_simplified.geojson', driver='GeoJSON')"
   ]
  },
  {
   "cell_type": "markdown",
   "metadata": {},
   "source": [
    "## 3. Identify sharedstreets nodes that are not linked with the short segments"
   ]
  },
  {
   "cell_type": "markdown",
   "metadata": {},
   "source": [
    "This part for identifying the node points which are not connected as the 'Short segment'. It is important to avoid duplicates when we count the number of crashes per node point and short segment"
   ]
  },
  {
   "cell_type": "code",
   "execution_count": 29,
   "metadata": {},
   "outputs": [],
   "source": [
    "# extract the list of node points that are linked with the short segments\n",
    "list_from_intersection = gdf_shst_short_segment['fromInters'].unique().tolist()\n",
    "list_to_intersection = gdf_shst_short_segment['toIntersec'].unique().tolist()"
   ]
  },
  {
   "cell_type": "code",
   "execution_count": 30,
   "metadata": {},
   "outputs": [],
   "source": [
    "# make sure that you run the 'shst_00_processing_sharedstreets_geometry' notebook to get the 'shst_node.shp'\n",
    "# import the sharedstreet nodes\n",
    "gdf_shst_node = gpd.read_file('../data/sharedstreets_geometry/node/shst_node.shp')"
   ]
  },
  {
   "cell_type": "code",
   "execution_count": 31,
   "metadata": {},
   "outputs": [],
   "source": [
    "# get nodes that are not linked with the short segments\n",
    "gdf_shst_node_filtered = gdf_shst_node.loc[~gdf_shst_node['node_id'].isin(list_from_intersection)]\n",
    "gdf_shst_node_filtered = gdf_shst_node_filtered.loc[~gdf_shst_node_filtered ['node_id'].isin(list_to_intersection)]"
   ]
  },
  {
   "cell_type": "code",
   "execution_count": 32,
   "metadata": {},
   "outputs": [],
   "source": [
    "gdf_shst_node_filtered.to_file('../data/sharedstreets_geometry/node_filtered/shst_node_filtered.shp')"
   ]
  },
  {
   "cell_type": "code",
   "execution_count": 33,
   "metadata": {},
   "outputs": [],
   "source": [
    "gdf_shst_node_filtered.to_file('../data/sharedstreets_geometry/node_filtered/shst_node_filtered.geojson', driver='GeoJSON')"
   ]
  }
 ],
 "metadata": {
  "kernelspec": {
   "display_name": "Python 3",
   "language": "python",
   "name": "python3"
  },
  "language_info": {
   "codemirror_mode": {
    "name": "ipython",
    "version": 3
   },
   "file_extension": ".py",
   "mimetype": "text/x-python",
   "name": "python",
   "nbconvert_exporter": "python",
   "pygments_lexer": "ipython3",
   "version": "3.8.2"
  }
 },
 "nbformat": 4,
 "nbformat_minor": 4
}
